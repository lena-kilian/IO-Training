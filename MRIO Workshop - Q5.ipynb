{
 "cells": [
  {
   "cell_type": "markdown",
   "metadata": {},
   "source": [
    "# MRIO Workshop"
   ]
  },
  {
   "cell_type": "code",
   "execution_count": 1,
   "metadata": {},
   "outputs": [],
   "source": [
    "import pandas as pd\n",
    "import numpy as np\n",
    "import matplotlib.pyplot as plt"
   ]
  },
  {
   "cell_type": "markdown",
   "metadata": {},
   "source": [
    "# Load Data"
   ]
  },
  {
   "cell_type": "code",
   "execution_count": 23,
   "metadata": {},
   "outputs": [],
   "source": [
    "var_list = ['Z', 'V', 'Y', 'F_NRG', 'F_NRG_hh', 'F_GHG', 'F_GHG_hh']\n",
    "Z, V, Y, F_NRG, F_NRG_hh, F_GHG, F_GHG_hh, year_list = [], [], [], [], [], [], [], []\n",
    "\n",
    "for var in var_list:\n",
    "    for year in range(1995, 2010):\n",
    "        if year not in year_list:\n",
    "            year_list.append(year)\n",
    "        if var.split('_')[0] == 'F' and var.split('_')[-1] != 'hh':\n",
    "            my_col = 0\n",
    "        else:\n",
    "             my_col = [0, 1]\n",
    "        if var.split('_')[-1] == 'hh':\n",
    "            my_header = 0\n",
    "        else:\n",
    "            my_header = [0, 1]\n",
    "            \n",
    "        df = pd.read_csv('Data/clean_data/' + var + '_' + str(year) + '.csv', header=my_header, index_col=my_col).dropna(how='all', axis=0)\n",
    "        eval(var).append(df)"
   ]
  },
  {
   "cell_type": "markdown",
   "metadata": {},
   "source": [
    "# 5. Calculating energy and emissions consumption-based accounts\n",
    "\n",
    "For reference, use:  \n",
    "http://www.see.leeds.ac.uk/teaching-resources/exercise-pages/l4-input-output-tutorial-201617/  \n",
    "http://mathesaurus.sourceforge.net/matlab-numpy.html "
   ]
  },
  {
   "cell_type": "markdown",
   "metadata": {},
   "source": [
    "### 5.1. The UK's production and conumption based GHG emissions from 1995-2009"
   ]
  },
  {
   "cell_type": "code",
   "execution_count": 13,
   "metadata": {},
   "outputs": [],
   "source": [
    "UK_consumption = []\n",
    "UK_production = []\n",
    "for i in range(len(year_list)):\n",
    "    # territorial emissions\n",
    "    UK_prod = float(F_GHG[i]['GBR'].sum(axis=1)) + float(F_GHG_hh[i]['GBR'])\n",
    "    UK_production.append(UK_prod)\n",
    "\n",
    "    # consumption based emissions\n",
    "    x = np.array(Y[i].sum(axis=1) + Z[i].sum(axis=1))\n",
    "    for j in range(len(x)):\n",
    "        if x[j]==0:\n",
    "            x[j]=0.000000001 # do this to avoid trying to divide my zero later\n",
    "        else:\n",
    "            pass\n",
    "    x = x.reshape(1435,1)\n",
    "    big_x = x.repeat(len(x), axis=1)\n",
    "    x_t = np.matrix.transpose(big_x)\n",
    "    \n",
    "    A = np.array(Z[i]) / x_t\n",
    "    I = np.identity(len(Z[i]))\n",
    "    L = np.linalg.inv(I-A)\n",
    "    F_GHGx = np.array(F_GHG[i]) / (x.reshape(1, 1435))\n",
    "    \n",
    "    #Y_t = np.matrix.transpose(np.array(Y[i]))\n",
    "    Y_UK = np.array(Y[i].swaplevel(axis=1)[['GBR']]).sum(axis=1).reshape(1435, 1)\n",
    "\n",
    "    temp = np.matmul(F_GHGx, L)\n",
    "    temp = np.matmul(temp, Y_UK)\n",
    "    UK_cons = temp + float(F_GHG_hh[i]['GBR'])\n",
    "    UK_consumption.append(UK_cons[0][0])"
   ]
  },
  {
   "cell_type": "code",
   "execution_count": 14,
   "metadata": {},
   "outputs": [],
   "source": [
    "UK_co2e = pd.DataFrame()\n",
    "UK_co2e['Consumption'] = UK_consumption\n",
    "UK_co2e['Production'] = UK_production\n",
    "UK_co2e['Year'] = year_list"
   ]
  },
  {
   "cell_type": "code",
   "execution_count": 15,
   "metadata": {},
   "outputs": [
    {
     "data": {
      "text/plain": [
       "Text(0.5,1,'UK')"
      ]
     },
     "execution_count": 15,
     "metadata": {},
     "output_type": "execute_result"
    },
    {
     "data": {
      "image/png": "[encoded data removed]",
      "text/plain": [
       "<Figure size 720x360 with 1 Axes>"
      ]
     },
     "metadata": {
      "needs_background": "light"
     },
     "output_type": "display_data"
    }
   ],
   "source": [
    "fig, ax = plt.subplots(ncols=1, nrows=1, figsize=(10, 5))\n",
    "\n",
    "UK_co2e.plot(ax=ax, x='Year', y='Production')\n",
    "UK_co2e.plot(ax=ax, x='Year', y='Consumption')\n",
    "ax.set_xlabel('Year', fontsize=12)\n",
    "ax.set_ylabel('CO2e', fontsize=12)\n",
    "ax.set_ylim([0,1200000])\n",
    "ax.set_title('UK')"
   ]
  },
  {
   "cell_type": "markdown",
   "metadata": {},
   "source": [
    "### 5.2. The UK's production and conumption based GHG emissions from 1995-2009"
   ]
  },
  {
   "cell_type": "code",
   "execution_count": 55,
   "metadata": {},
   "outputs": [],
   "source": [
    "BRIC_countries = ['BRA', 'RUS', 'IND', 'CHN']\n",
    "country_list = F_NRG_hh[0].columns.tolist()\n",
    "\n",
    "BRIC_consumption = []\n",
    "BRIC_production = []\n",
    "for i in range(len(year_list)):\n",
    "    # territorial emissions\n",
    "    BRIC_prod = float(F_NRG[i][BRIC_countries].sum(axis=1)) + float(F_NRG_hh[i][BRIC_countries].sum(axis=1))\n",
    "    global_prod = float(F_NRG[i].sum(axis=1)) + float(F_NRG_hh[i].sum(axis=1))\n",
    "    BRIC_production.append(BRIC_prod/global_prod * 100)\n",
    "\n",
    "    # consumption based emissions\n",
    "    x = np.array(Y[i].sum(axis=1) + Z[i].sum(axis=1))\n",
    "    for j in range(len(x)):\n",
    "        if x[j]==0:\n",
    "            x[j]=0.000000001 # do this to avoid trying to divide my zero later\n",
    "        else:\n",
    "            pass\n",
    "    x = x.reshape(1435,1)\n",
    "    big_x = x.repeat(len(x), axis=1)\n",
    "    x_t = np.matrix.transpose(big_x)\n",
    "    \n",
    "    A = np.array(Z[i]) / x_t\n",
    "    I = np.identity(len(Z[i]))\n",
    "    L = np.linalg.inv(I-A)\n",
    "    F_NRGx = np.array(F_NRG[i]) / (x.reshape(1, 1435))\n",
    "    \n",
    "    temp_1 = np.matmul(F_NRGx, L)\n",
    "    \n",
    "    BRIC_cons = 0\n",
    "    global_cons = 0\n",
    "    for c in country_list:\n",
    "        Y_temp = np.array(Y[i].rename(columns={'ROM':'ROU', 'RoW':'ROW'}).swaplevel(axis=1)[[c]]).sum(axis=1).reshape(1435, 1)\n",
    "        temp_2 = np.matmul(temp_1, Y_temp)\n",
    "        cons = temp_2 + float(F_NRG_hh[i][[c]].sum(axis=1))\n",
    "        global_cons += cons[0][0]\n",
    "        if c in BRIC_countries:\n",
    "            BRIC_cons += cons[0][0]\n",
    "        \n",
    "    BRIC_consumption.append(BRIC_cons/global_cons * 100)"
   ]
  },
  {
   "cell_type": "code",
   "execution_count": 56,
   "metadata": {},
   "outputs": [],
   "source": [
    "BRIC_energy = pd.DataFrame()\n",
    "BRIC_energy['Consumption'] = BRIC_consumption\n",
    "BRIC_energy['Production'] = BRIC_production\n",
    "BRIC_energy['Year'] = year_list"
   ]
  },
  {
   "cell_type": "code",
   "execution_count": 59,
   "metadata": {},
   "outputs": [
    {
     "data": {
      "text/plain": [
       "Text(0.5,1,'BRIC Countries')"
      ]
     },
     "execution_count": 59,
     "metadata": {},
     "output_type": "execute_result"
    },
    {
     "data": {
      "image/png": "[encoded data removed]",
      "text/plain": [
       "<Figure size 720x360 with 1 Axes>"
      ]
     },
     "metadata": {
      "needs_background": "light"
     },
     "output_type": "display_data"
    }
   ],
   "source": [
    "fig, ax = plt.subplots(ncols=1, nrows=1, figsize=(10, 5))\n",
    "\n",
    "BRIC_energy.plot(ax=ax, x='Year', y='Production')\n",
    "BRIC_energy.plot(ax=ax, x='Year', y='Consumption')\n",
    "ax.set_xlabel('Year', fontsize=12)\n",
    "ax.set_ylabel('%', fontsize=12)\n",
    "ax.set_ylim([0,35])\n",
    "ax.set_title('BRIC Countries')"
   ]
  },
  {
   "cell_type": "markdown",
   "metadata": {},
   "source": [
    "### 5.3. What proportion of the UK’s GHG footprint is sourced from BRIC nations?"
   ]
  },
  {
   "cell_type": "code",
   "execution_count": 161,
   "metadata": {},
   "outputs": [],
   "source": [
    "BRIC_countries = ['BRA', 'RUS', 'IND', 'CHN']\n",
    "UK_BRIC = []\n",
    "sectors = 35\n",
    "\n",
    "for i in range(len(year_list)):\n",
    "    x = np.array(Y[i].sum(axis=1) + Z[i].sum(axis=1))\n",
    "    for j in range(len(x)):\n",
    "        if x[j]==0:\n",
    "            x[j]=0.000000001 # do this to avoid trying to divide my zero later\n",
    "        else:\n",
    "            pass\n",
    "    x = x.reshape(1435,1)\n",
    "    big_x = x.repeat(len(x), axis=1)\n",
    "    x_t = np.matrix.transpose(big_x)\n",
    "    \n",
    "    A = np.array(Z[i]) / x_t\n",
    "    I = np.identity(len(Z[i]))\n",
    "    L = np.linalg.inv(I-A)\n",
    "    F_GHGx = np.array(F_GHG[i]) / (x.reshape(1, 1435))\n",
    "    \n",
    "    Y_UK = np.array(Y[i].swaplevel(axis=1)[['GBR']]).sum(axis=1).reshape(1435, 1)\n",
    "\n",
    "    temp = np.matmul(np.diag(F_GHGx[0]), L)\n",
    "    temp = np.matmul(temp, np.diag(Y_UK.reshape(1, 1435)[0]))\n",
    "    temp = pd.DataFrame(temp, index=Z[0].index, columns=Z[0].columns) # change back into df to more easily extract the countries\n",
    "    \n",
    "    BRIC_value = 0\n",
    "    for c in BRIC_countries:\n",
    "        temp_1 = temp.T[c].sum().sum()\n",
    "        BRIC_value += temp_1\n",
    "    \n",
    "    UK_BRIC.append(BRIC_value/UK_consumption[i] * 100)   "
   ]
  },
  {
   "cell_type": "code",
   "execution_count": 162,
   "metadata": {},
   "outputs": [],
   "source": [
    "UK_BRIC_ghg = pd.DataFrame()\n",
    "UK_BRIC_ghg['BRIC_prop'] = UK_BRIC\n",
    "UK_BRIC_ghg['Year'] = year_list"
   ]
  },
  {
   "cell_type": "code",
   "execution_count": 163,
   "metadata": {},
   "outputs": [
    {
     "data": {
      "text/plain": [
       "Text(0.5,1,'UK GHG - BRIC Proportion')"
      ]
     },
     "execution_count": 163,
     "metadata": {},
     "output_type": "execute_result"
    },
    {
     "data": {
      "image/png": "[encoded data removed]",
      "text/plain": [
       "<Figure size 720x360 with 1 Axes>"
      ]
     },
     "metadata": {
      "needs_background": "light"
     },
     "output_type": "display_data"
    }
   ],
   "source": [
    "fig, ax = plt.subplots(ncols=1, nrows=1, figsize=(10, 5))\n",
    "\n",
    "UK_BRIC_ghg.plot(ax=ax, x='Year', y='BRIC_prop')\n",
    "ax.set_xlabel('Year', fontsize=12)\n",
    "ax.set_ylabel('%', fontsize=12)\n",
    "ax.set_ylim([0,20])\n",
    "ax.set_title('UK GHG - BRIC Proportion')"
   ]
  },
  {
   "cell_type": "markdown",
   "metadata": {},
   "source": [
    "### 5.4. What proportion of UK’s GHG footprint can be shown to originate from the agricultural industry?"
   ]
  },
  {
   "cell_type": "code",
   "execution_count": 180,
   "metadata": {},
   "outputs": [],
   "source": [
    "UK_agriculture = []\n",
    "\n",
    "for i in range(len(year_list)):\n",
    "    x = np.array(Y[i].sum(axis=1) + Z[i].sum(axis=1))\n",
    "    for j in range(len(x)):\n",
    "        if x[j]==0:\n",
    "            x[j]=0.000000001 # do this to avoid trying to divide my zero later\n",
    "        else:\n",
    "            pass\n",
    "    x = x.reshape(1435,1)\n",
    "    big_x = x.repeat(len(x), axis=1)\n",
    "    x_t = np.matrix.transpose(big_x)\n",
    "    \n",
    "    A = np.array(Z[i]) / x_t\n",
    "    I = np.identity(len(Z[i]))\n",
    "    L = np.linalg.inv(I-A)\n",
    "    F_GHGx = np.array(F_GHG[i]) / (x.reshape(1, 1435))\n",
    "    \n",
    "    Y_UK = np.array(Y[i].swaplevel(axis=1)[['GBR']]).sum(axis=1).reshape(1435, 1)\n",
    "\n",
    "    temp = np.matmul(np.diag(F_GHGx[0]), L)\n",
    "    temp = np.matmul(temp, np.diag(Y_UK.reshape(1, 1435)[0]))\n",
    "    temp = pd.DataFrame(temp, index=Z[0].index, columns=Z[0].columns) # change back into df to more easily extract the countries\n",
    "    \n",
    "    agri_value = temp.T.swaplevel(axis=1)['c1'].sum().sum()\n",
    "    \n",
    "    UK_agriculture.append(agri_value/UK_consumption[i] * 100)   "
   ]
  },
  {
   "cell_type": "code",
   "execution_count": 181,
   "metadata": {},
   "outputs": [],
   "source": [
    "UK_agri_ghg = pd.DataFrame()\n",
    "UK_agri_ghg['agri_prop'] = UK_agriculture\n",
    "UK_agri_ghg['Year'] = year_list"
   ]
  },
  {
   "cell_type": "code",
   "execution_count": 182,
   "metadata": {},
   "outputs": [
    {
     "data": {
      "text/plain": [
       "Text(0.5,1,'UK GHG - Agriculture Proportion')"
      ]
     },
     "execution_count": 182,
     "metadata": {},
     "output_type": "execute_result"
    },
    {
     "data": {
      "image/png": "[encoded data removed]",
      "text/plain": [
       "<Figure size 720x360 with 1 Axes>"
      ]
     },
     "metadata": {
      "needs_background": "light"
     },
     "output_type": "display_data"
    }
   ],
   "source": [
    "fig, ax = plt.subplots(ncols=1, nrows=1, figsize=(10, 5))\n",
    "\n",
    "UK_agri_ghg.plot(ax=ax, x='Year', y='agri_prop')\n",
    "ax.set_xlabel('Year', fontsize=12)\n",
    "ax.set_ylabel('%', fontsize=12)\n",
    "ax.set_ylim([0,16])\n",
    "ax.set_title('UK GHG - Agriculture Proportion')"
   ]
  },
  {
   "cell_type": "code",
   "execution_count": 183,
   "metadata": {},
   "outputs": [],
   "source": [
    "# above answer is off by about 1% for each year .. "
   ]
  },
  {
   "cell_type": "markdown",
   "metadata": {},
   "source": [
    "### 6.1. Make Y_G8 a ‘1 x 1435’ vector showing the final demand of the G8 nations and use this to find the total energy footprint of G8 nations \n",
    "--> not using aggregate matrices, because can use panda index"
   ]
  },
  {
   "cell_type": "code",
   "execution_count": 203,
   "metadata": {},
   "outputs": [],
   "source": [
    "G8 = ['CAN','DEU','FRA','GBR','ITA','JPN','RUS','USA']\n",
    "country = ['AUS','AUT','BEL','BGR','BRA','CAN','CHN','CYP','CZE','DEU','DNK','ESP','EST','FIN','FRA','GBR','GRC','HUN','IDN','IND','IRL','ITA','JPN','KOR',\n",
    "           'LTU','LUX','LVA','MEX','MLT','NLD','POL','PRT','ROU','RUS','SVK','SVN','SWE','TUR','TWN','USA','ROW']"
   ]
  },
  {
   "cell_type": "code",
   "execution_count": 234,
   "metadata": {},
   "outputs": [],
   "source": [
    "regions = len(country)\n",
    "final_demand = 5\n",
    "G8_Y_agg = np.zeros((regions*final_demand, 1))\n",
    "G8_lookup = np.zeros((regions,1))\n",
    "\n",
    "for i in range(len(country)):\n",
    "    if country[i] in G8:\n",
    "        G8_lookup[i] = 1\n",
    "        \n",
    "for i in range(len(G8_lookup)):\n",
    "    j = i+1 # because indexing starts at 0 in python\n",
    "    if G8_lookup[i] == 1:\n",
    "        G8_Y_agg[(j*final_demand)-final_demand:j*final_demand] = np.ones((final_demand,1))"
   ]
  },
  {
   "cell_type": "code",
   "execution_count": 257,
   "metadata": {},
   "outputs": [],
   "source": [
    "G8_energy_cons = []\n",
    "\n",
    "for i in range(len(year_list)):\n",
    "    x = np.array(Y[i].sum(axis=1) + Z[i].sum(axis=1))\n",
    "    for j in range(len(x)):\n",
    "        if x[j]==0:\n",
    "            x[j]=0.000000001 # do this to avoid trying to divide my zero later\n",
    "        else:\n",
    "            pass\n",
    "    x = x.reshape(1435,1)\n",
    "    big_x = x.repeat(len(x), axis=1)\n",
    "    x_t = np.matrix.transpose(big_x)\n",
    "    \n",
    "    A = np.array(Z[i]) / x_t\n",
    "    I = np.identity(len(Z[i]))\n",
    "    L = np.linalg.inv(I-A)\n",
    "    F_NRGx = np.array(F_NRG[i]) / (x.reshape(1, 1435))\n",
    "    \n",
    "    Y_G8 = np.matmul(np.array(Y[i]),  G8_Y_agg)\n",
    "    \n",
    "    temp = np.matmul(F_GHGx, L)\n",
    "    temp = np.matmul(temp, Y_G8)\n",
    "    \n",
    "    temp_1 = np.matmul(np.array(F_NRG_hh[i]), G8_lookup)\n",
    "    \n",
    "    G8_cons = temp[0][0] + temp_1[0][0]\n",
    "    \n",
    "    G8_energy_cons.append(G8_cons)"
   ]
  },
  {
   "cell_type": "code",
   "execution_count": 277,
   "metadata": {},
   "outputs": [
    {
     "data": {
      "text/plain": [
       "array([[0.],\n",
       "       [0.],\n",
       "       [0.],\n",
       "       [0.],\n",
       "       [0.],\n",
       "       [0.],\n",
       "       [0.],\n",
       "       [0.],\n",
       "       [0.],\n",
       "       [0.],\n",
       "       [0.],\n",
       "       [0.],\n",
       "       [0.],\n",
       "       [0.],\n",
       "       [0.],\n",
       "       [0.],\n",
       "       [0.],\n",
       "       [0.],\n",
       "       [0.],\n",
       "       [0.],\n",
       "       [0.],\n",
       "       [0.],\n",
       "       [0.],\n",
       "       [0.],\n",
       "       [0.],\n",
       "       [1.],\n",
       "       [1.],\n",
       "       [1.],\n",
       "       [1.],\n",
       "       [1.],\n",
       "       [0.],\n",
       "       [0.],\n",
       "       [0.],\n",
       "       [0.],\n",
       "       [0.],\n",
       "       [0.],\n",
       "       [0.],\n",
       "       [0.],\n",
       "       [0.],\n",
       "       [0.],\n",
       "       [0.],\n",
       "       [0.],\n",
       "       [0.],\n",
       "       [0.],\n",
       "       [0.],\n",
       "       [1.],\n",
       "       [1.],\n",
       "       [1.],\n",
       "       [1.],\n",
       "       [1.],\n",
       "       [0.],\n",
       "       [0.],\n",
       "       [0.],\n",
       "       [0.],\n",
       "       [0.],\n",
       "       [0.],\n",
       "       [0.],\n",
       "       [0.],\n",
       "       [0.],\n",
       "       [0.],\n",
       "       [0.],\n",
       "       [0.],\n",
       "       [0.],\n",
       "       [0.],\n",
       "       [0.],\n",
       "       [0.],\n",
       "       [0.],\n",
       "       [0.],\n",
       "       [0.],\n",
       "       [0.],\n",
       "       [1.],\n",
       "       [1.],\n",
       "       [1.],\n",
       "       [1.],\n",
       "       [1.],\n",
       "       [1.],\n",
       "       [1.],\n",
       "       [1.],\n",
       "       [1.],\n",
       "       [1.],\n",
       "       [0.],\n",
       "       [0.],\n",
       "       [0.],\n",
       "       [0.],\n",
       "       [0.],\n",
       "       [0.],\n",
       "       [0.],\n",
       "       [0.],\n",
       "       [0.],\n",
       "       [0.],\n",
       "       [0.],\n",
       "       [0.],\n",
       "       [0.],\n",
       "       [0.],\n",
       "       [0.],\n",
       "       [0.],\n",
       "       [0.],\n",
       "       [0.],\n",
       "       [0.],\n",
       "       [0.],\n",
       "       [0.],\n",
       "       [0.],\n",
       "       [0.],\n",
       "       [0.],\n",
       "       [0.],\n",
       "       [1.],\n",
       "       [1.],\n",
       "       [1.],\n",
       "       [1.],\n",
       "       [1.],\n",
       "       [1.],\n",
       "       [1.],\n",
       "       [1.],\n",
       "       [1.],\n",
       "       [1.],\n",
       "       [0.],\n",
       "       [0.],\n",
       "       [0.],\n",
       "       [0.],\n",
       "       [0.],\n",
       "       [0.],\n",
       "       [0.],\n",
       "       [0.],\n",
       "       [0.],\n",
       "       [0.],\n",
       "       [0.],\n",
       "       [0.],\n",
       "       [0.],\n",
       "       [0.],\n",
       "       [0.],\n",
       "       [0.],\n",
       "       [0.],\n",
       "       [0.],\n",
       "       [0.],\n",
       "       [0.],\n",
       "       [0.],\n",
       "       [0.],\n",
       "       [0.],\n",
       "       [0.],\n",
       "       [0.],\n",
       "       [0.],\n",
       "       [0.],\n",
       "       [0.],\n",
       "       [0.],\n",
       "       [0.],\n",
       "       [0.],\n",
       "       [0.],\n",
       "       [0.],\n",
       "       [0.],\n",
       "       [0.],\n",
       "       [0.],\n",
       "       [0.],\n",
       "       [0.],\n",
       "       [0.],\n",
       "       [0.],\n",
       "       [0.],\n",
       "       [0.],\n",
       "       [0.],\n",
       "       [0.],\n",
       "       [0.],\n",
       "       [0.],\n",
       "       [0.],\n",
       "       [0.],\n",
       "       [0.],\n",
       "       [0.],\n",
       "       [1.],\n",
       "       [1.],\n",
       "       [1.],\n",
       "       [1.],\n",
       "       [1.],\n",
       "       [0.],\n",
       "       [0.],\n",
       "       [0.],\n",
       "       [0.],\n",
       "       [0.],\n",
       "       [0.],\n",
       "       [0.],\n",
       "       [0.],\n",
       "       [0.],\n",
       "       [0.],\n",
       "       [0.],\n",
       "       [0.],\n",
       "       [0.],\n",
       "       [0.],\n",
       "       [0.],\n",
       "       [0.],\n",
       "       [0.],\n",
       "       [0.],\n",
       "       [0.],\n",
       "       [0.],\n",
       "       [0.],\n",
       "       [0.],\n",
       "       [0.],\n",
       "       [0.],\n",
       "       [0.],\n",
       "       [1.],\n",
       "       [1.],\n",
       "       [1.],\n",
       "       [1.],\n",
       "       [1.],\n",
       "       [0.],\n",
       "       [0.],\n",
       "       [0.],\n",
       "       [0.],\n",
       "       [0.]])"
      ]
     },
     "execution_count": 277,
     "metadata": {},
     "output_type": "execute_result"
    }
   ],
   "source": [
    "G8_Y_agg"
   ]
  },
  {
   "cell_type": "code",
   "execution_count": 276,
   "metadata": {},
   "outputs": [
    {
     "data": {
      "text/plain": [
       "(1435, 1)"
      ]
     },
     "execution_count": 276,
     "metadata": {},
     "output_type": "execute_result"
    }
   ],
   "source": [
    "Y_G8.shape"
   ]
  },
  {
   "cell_type": "code",
   "execution_count": 259,
   "metadata": {},
   "outputs": [],
   "source": [
    "G8_cons_nrg = pd.DataFrame()\n",
    "G8_cons_nrg['nrg_cons'] = G8_energy_cons\n",
    "G8_cons_nrg['Year'] = year_list"
   ]
  },
  {
   "cell_type": "code",
   "execution_count": 263,
   "metadata": {},
   "outputs": [
    {
     "data": {
      "text/plain": [
       "[2927859849.1245613,\n",
       " 3310628697.5205264,\n",
       " 3767254001.1166553,\n",
       " 2827097782.398698,\n",
       " 6490756210.128167,\n",
       " 7338090607.734676,\n",
       " 11549322520.481619,\n",
       " 6558436589.909387,\n",
       " 11936172126.709026,\n",
       " 10850202107.608538,\n",
       " 43247749.66732584,\n",
       " 43058148.422035344,\n",
       " 43503175.136090204,\n",
       " 1411393275.2775035,\n",
       " 42365470.07185404]"
      ]
     },
     "execution_count": 263,
     "metadata": {},
     "output_type": "execute_result"
    }
   ],
   "source": [
    "G8_energy_cons"
   ]
  },
  {
   "cell_type": "code",
   "execution_count": 262,
   "metadata": {},
   "outputs": [
    {
     "data": {
      "text/plain": [
       "Text(0.5,1,'G8')"
      ]
     },
     "execution_count": 262,
     "metadata": {},
     "output_type": "execute_result"
    },
    {
     "data": {
      "image/png": "[encoded data removed]",
      "text/plain": [
       "<Figure size 720x360 with 1 Axes>"
      ]
     },
     "metadata": {
      "needs_background": "light"
     },
     "output_type": "display_data"
    }
   ],
   "source": [
    "fig, ax = plt.subplots(ncols=1, nrows=1, figsize=(10, 5))\n",
    "\n",
    "G8_cons_nrg.plot(ax=ax, x='Year', y='nrg_cons')\n",
    "ax.set_xlabel('Year', fontsize=12)\n",
    "ax.set_ylabel('Energy', fontsize=12)\n",
    "#ax.set_ylim([50000000, 400000000])\n",
    "ax.set_title('G8')"
   ]
  },
  {
   "cell_type": "code",
   "execution_count": null,
   "metadata": {},
   "outputs": [],
   "source": [
    "\n",
    "for year = 1995:2009\n",
    "    x = sum(Z(:,:,year-1994),2)+sum(Y(:,:,year-1994),2);\n",
    "    x(x==0) = 0.000000001;\n",
    "    A = Z(:,:,year-1994)./repmat(x',regions*sectors,1);\n",
    "    L = inv(eye(regions*sectors)-A);  \n",
    "    F_NRGx = F_NRG(:,:,year-1994)./x';\n",
    "    Y_G8 = Y(:,:,year-1994)*G8_Y_agg;\n",
    "    G8consNRG(:,year-1994) = F_NRGx*L*Y_G8 +F_NRG_hh(:,:,year-1994)*G8lookup;\n",
    "end\n"
   ]
  },
  {
   "cell_type": "code",
   "execution_count": 214,
   "metadata": {},
   "outputs": [
    {
     "data": {
      "text/plain": [
       "array([[1., 1., 1., 1., 1.],\n",
       "       [1., 1., 1., 1., 1.],\n",
       "       [1., 1., 1., 1., 1.]])"
      ]
     },
     "execution_count": 214,
     "metadata": {},
     "output_type": "execute_result"
    }
   ],
   "source": [
    "np.ones((3,5))"
   ]
  },
  {
   "cell_type": "code",
   "execution_count": null,
   "metadata": {},
   "outputs": [],
   "source": []
  }
 ],
 "metadata": {
  "kernelspec": {
   "display_name": "Python 3",
   "language": "python",
   "name": "python3"
  },
  "language_info": {
   "codemirror_mode": {
    "name": "ipython",
    "version": 3
   },
   "file_extension": ".py",
   "mimetype": "text/x-python",
   "name": "python",
   "nbconvert_exporter": "python",
   "pygments_lexer": "ipython3",
   "version": "3.6.6"
  }
 },
 "nbformat": 4,
 "nbformat_minor": 2
}
