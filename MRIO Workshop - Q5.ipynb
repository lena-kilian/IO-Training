{
 "cells": [
  {
   "cell_type": "markdown",
   "metadata": {},
   "source": [
    "# MRIO Workshop"
   ]
  },
  {
   "cell_type": "code",
   "execution_count": 3,
   "metadata": {},
   "outputs": [],
   "source": [
    "import pandas as pd\n",
    "import numpy as np\n",
    "import matplotlib.pyplot as plt"
   ]
  },
  {
   "cell_type": "markdown",
   "metadata": {},
   "source": [
    "# Load Data"
   ]
  },
  {
   "cell_type": "code",
   "execution_count": 4,
   "metadata": {},
   "outputs": [],
   "source": [
    "var_list = ['Z', 'V', 'Y', 'F_NRG', 'F_NRG_hh', 'F_GHG', 'F_GHG_hh']\n",
    "Z, V, Y, F_NRG, F_NRG_hh, F_GHG, F_GHG_hh, year_list = [], [], [], [], [], [], [], []\n",
    "\n",
    "for var in var_list:\n",
    "    for year in range(1995, 2010):\n",
    "        if year not in year_list:\n",
    "            year_list.append(year)\n",
    "        if var.split('_')[0] == 'F' and var.split('_')[-1] != 'hh':\n",
    "            my_col = 0\n",
    "        else:\n",
    "             my_col = [0, 1]\n",
    "        if var.split('_')[-1] == 'hh':\n",
    "            my_header = 0\n",
    "        else:\n",
    "            my_header = [0, 1]\n",
    "            \n",
    "        df = pd.read_csv('Data/clean_data/' + var + '_' + str(year) + '.csv', header=my_header, index_col=my_col).dropna(how='all', axis=0)\n",
    "        eval(var).append(df)\n",
    "        \n",
    "# ensure that indecies match up\n",
    "\n",
    "new_names = {'ROM':'ROU', 'RoW':'ROW', 'c1':'c01', 'c2':'c02', 'c3':'c03', 'c4':'c04', 'c5':'c05', 'c6':'c06', 'c7':'c07', 'c8':'c08', 'c9':'c09'}\n",
    "for i in range(len(year_list)):\n",
    "    Y[i] = Y[i].rename(columns=new_names, index=new_names).swaplevel(axis=1)\n",
    "    Y[i] = Y[i].reindex(sorted(Y[i].columns), axis=1).reindex(sorted(Y[i].index), axis=0)\n",
    "    \n",
    "    Z[i] = Z[i].rename(columns=new_names, index=new_names)\n",
    "    Z[i] = Z[i].reindex(sorted(Z[i].columns), axis=1).reindex(sorted(Z[i].index), axis=0)\n",
    "    \n",
    "    V[i] = V[i].rename(columns=new_names, index=new_names)\n",
    "    V[i] = V[i].reindex(sorted(V[i].columns), axis=1).reindex(sorted(V[i].index), axis=0)\n",
    "    \n",
    "    F_NRG[i] = F_NRG[i].rename(columns=new_names, index=new_names)\n",
    "    F_NRG[i] = F_NRG[i].reindex(sorted(F_NRG[i].columns), axis=1)\n",
    "    F_GHG[i] = F_GHG[i].rename(columns=new_names, index=new_names)\n",
    "    F_GHG[i] = F_GHG[i].reindex(sorted(F_GHG[i].columns), axis=1)\n",
    "    \n",
    "    F_NRG_hh[i] = F_NRG_hh[i].reindex(Y[i].index.levels[0], axis=1)\n",
    "    F_GHG_hh[i] = F_GHG_hh[i].reindex(Y[i].index.levels[0], axis=1)"
   ]
  },
  {
   "cell_type": "markdown",
   "metadata": {},
   "source": [
    "# 5. Calculating energy and emissions consumption-based accounts\n",
    "\n",
    "For reference, use:  \n",
    "http://www.see.leeds.ac.uk/teaching-resources/exercise-pages/l4-input-output-tutorial-201617/  \n",
    "http://mathesaurus.sourceforge.net/matlab-numpy.html "
   ]
  },
  {
   "cell_type": "markdown",
   "metadata": {},
   "source": [
    "### 5.1. The UK's production and consumption based GHG emissions from 1995-2009"
   ]
  },
  {
   "cell_type": "code",
   "execution_count": 5,
   "metadata": {},
   "outputs": [],
   "source": [
    "UK_consumption = []\n",
    "UK_production = []\n",
    "for i in range(len(year_list)):\n",
    "    # territorial emissions\n",
    "    UK_prod = float(F_GHG[i]['GBR'].sum(axis=1)) + float(F_GHG_hh[i]['GBR'])\n",
    "    UK_production.append(UK_prod)\n",
    "\n",
    "    # consumption based emissions\n",
    "    x = np.array(Y[i].sum(axis=1) + Z[i].sum(axis=1))\n",
    "    for j in range(len(x)):\n",
    "        if x[j]==0:\n",
    "            x[j]=0.000000001 # do this to avoid trying to divide my zero later\n",
    "        else:\n",
    "            pass\n",
    "    x = x.reshape(1435,1)\n",
    "    big_x = x.repeat(len(x), axis=1)\n",
    "    x_t = np.matrix.transpose(big_x)\n",
    "    \n",
    "    A = np.array(Z[i]) / x_t\n",
    "    I = np.identity(len(Z[i]))\n",
    "    L = np.linalg.inv(I-A)\n",
    "    F_GHGx = np.array(F_GHG[i]) / (x.reshape(1, 1435))\n",
    "    \n",
    "    Y_UK = np.array(Y[i][['GBR']]).sum(axis=1).reshape(1435, 1)\n",
    "\n",
    "    temp = np.matmul(F_GHGx, L)\n",
    "    temp = np.matmul(temp, Y_UK)\n",
    "    \n",
    "    UK_cons = temp + float(F_GHG_hh[i]['GBR'])\n",
    "    UK_consumption.append(UK_cons[0][0])"
   ]
  },
  {
   "cell_type": "code",
   "execution_count": 6,
   "metadata": {},
   "outputs": [],
   "source": [
    "UK_co2e = pd.DataFrame()\n",
    "UK_co2e['Consumption'] = UK_consumption\n",
    "UK_co2e['Production'] = UK_production\n",
    "UK_co2e['Year'] = year_list"
   ]
  },
  {
   "cell_type": "code",
   "execution_count": 7,
   "metadata": {},
   "outputs": [
    {
     "data": {
      "text/plain": [
       "Text(0.5,1,'UK')"
      ]
     },
     "execution_count": 7,
     "metadata": {},
     "output_type": "execute_result"
    },
    {
     "data": {
      "image/png": "[encoded data removed]",
      "text/plain": [
       "<Figure size 720x360 with 1 Axes>"
      ]
     },
     "metadata": {
      "needs_background": "light"
     },
     "output_type": "display_data"
    }
   ],
   "source": [
    "fig, ax = plt.subplots(ncols=1, nrows=1, figsize=(10, 5))\n",
    "\n",
    "UK_co2e.plot(ax=ax, x='Year', y='Production')\n",
    "UK_co2e.plot(ax=ax, x='Year', y='Consumption')\n",
    "ax.set_xlabel('Year', fontsize=12)\n",
    "ax.set_ylabel('CO2e', fontsize=12)\n",
    "ax.set_ylim([0,1200000])\n",
    "ax.set_title('UK')"
   ]
  },
  {
   "cell_type": "markdown",
   "metadata": {},
   "source": [
    "### 5.2. What proportion of the Global total is the production and consumption energy account of the BRIC countries (Brazil, Russia, India & China) for the years 1995-2009?"
   ]
  },
  {
   "cell_type": "code",
   "execution_count": 8,
   "metadata": {},
   "outputs": [],
   "source": [
    "BRIC_countries = ['BRA', 'RUS', 'IND', 'CHN']\n",
    "country_list = F_NRG_hh[0].columns.tolist()\n",
    "\n",
    "BRIC_consumption = []\n",
    "BRIC_production = []\n",
    "for i in range(len(year_list)):\n",
    "    # territorial emissions\n",
    "    BRIC_prod = float(F_NRG[i][BRIC_countries].sum(axis=1)) + float(F_NRG_hh[i][BRIC_countries].sum(axis=1))\n",
    "    global_prod = float(F_NRG[i].sum(axis=1)) + float(F_NRG_hh[i].sum(axis=1))\n",
    "    BRIC_production.append(BRIC_prod/global_prod * 100)\n",
    "\n",
    "    # consumption based emissions\n",
    "    x = np.array(Y[i].sum(axis=1) + Z[i].sum(axis=1))\n",
    "    for j in range(len(x)):\n",
    "        if x[j]==0:\n",
    "            x[j]=0.000000001 # do this to avoid trying to divide my zero later\n",
    "        else:\n",
    "            pass\n",
    "    x = x.reshape(1435,1)\n",
    "    big_x = x.repeat(len(x), axis=1)\n",
    "    x_t = np.matrix.transpose(big_x)\n",
    "    \n",
    "    A = np.array(Z[i]) / x_t\n",
    "    I = np.identity(len(Z[i]))\n",
    "    L = np.linalg.inv(I-A)\n",
    "    F_NRGx = np.array(F_NRG[i]) / (x.reshape(1, 1435))\n",
    "    \n",
    "    temp_1 = np.matmul(F_NRGx, L)\n",
    "    \n",
    "    BRIC_cons = 0\n",
    "    global_cons = 0\n",
    "    for c in country_list:\n",
    "        Y_temp = np.array(Y[i][[c]]).sum(axis=1).reshape(1435, 1)\n",
    "        temp_2 = np.matmul(temp_1, Y_temp)\n",
    "        cons = temp_2 + float(F_NRG_hh[i][[c]].sum(axis=1))\n",
    "        global_cons += cons[0][0]\n",
    "        if c in BRIC_countries:\n",
    "            BRIC_cons += cons[0][0]\n",
    "        \n",
    "    BRIC_consumption.append(BRIC_cons/global_cons * 100)"
   ]
  },
  {
   "cell_type": "code",
   "execution_count": 9,
   "metadata": {},
   "outputs": [],
   "source": [
    "BRIC_energy = pd.DataFrame()\n",
    "BRIC_energy['Consumption'] = BRIC_consumption\n",
    "BRIC_energy['Production'] = BRIC_production\n",
    "BRIC_energy['Year'] = year_list"
   ]
  },
  {
   "cell_type": "code",
   "execution_count": 10,
   "metadata": {},
   "outputs": [
    {
     "data": {
      "text/plain": [
       "Text(0.5,1,'BRIC Countries')"
      ]
     },
     "execution_count": 10,
     "metadata": {},
     "output_type": "execute_result"
    },
    {
     "data": {
      "image/png": "[encoded data removed]",
      "text/plain": [
       "<Figure size 720x360 with 1 Axes>"
      ]
     },
     "metadata": {
      "needs_background": "light"
     },
     "output_type": "display_data"
    }
   ],
   "source": [
    "fig, ax = plt.subplots(ncols=1, nrows=1, figsize=(10, 5))\n",
    "\n",
    "BRIC_energy.plot(ax=ax, x='Year', y='Production')\n",
    "BRIC_energy.plot(ax=ax, x='Year', y='Consumption')\n",
    "ax.set_xlabel('Year', fontsize=12)\n",
    "ax.set_ylabel('%', fontsize=12)\n",
    "ax.set_ylim([0,35])\n",
    "ax.set_title('BRIC Countries')"
   ]
  },
  {
   "cell_type": "markdown",
   "metadata": {},
   "source": [
    "### 5.3. What proportion of the UK’s GHG footprint is sourced from BRIC nations?"
   ]
  },
  {
   "cell_type": "code",
   "execution_count": 11,
   "metadata": {},
   "outputs": [],
   "source": [
    "BRIC_countries = ['BRA', 'RUS', 'IND', 'CHN']\n",
    "UK_BRIC = []\n",
    "sectors = 35\n",
    "\n",
    "for i in range(len(year_list)):\n",
    "    x = np.array(Z[i].sum(axis=1) + Y[i].sum(axis=1))\n",
    "    for j in range(len(x)):\n",
    "        if x[j]==0:\n",
    "            x[j]=0.000000001 # do this to avoid trying to divide my zero later\n",
    "        else:\n",
    "            pass\n",
    "    x = x.reshape(1435,1)\n",
    "    big_x = x.repeat(len(x), axis=1)\n",
    "    x_t = np.matrix.transpose(big_x)\n",
    "    \n",
    "    A = np.array(Z[i]) / x_t\n",
    "    I = np.identity(len(Z[i]))\n",
    "    L = np.linalg.inv(I-A)\n",
    "    F_GHGx = np.array(F_GHG[i]) / (x.reshape(1, 1435))\n",
    "    \n",
    "    Y_UK = np.array(Y[i][['GBR']]).sum(axis=1).reshape(1435, 1)\n",
    "\n",
    "    temp = np.matmul(np.diag(F_GHGx[0]), L)\n",
    "    temp = np.matmul(temp, np.diag(Y_UK.reshape(1, 1435)[0]))\n",
    "    temp = pd.DataFrame(temp, index=Z[0].index, columns=Z[0].columns) # change back into df to more easily extract the countries\n",
    "    \n",
    "    BRIC_value = 0\n",
    "    for c in BRIC_countries:\n",
    "        temp_1 = temp.T[c].sum().sum()\n",
    "        BRIC_value += temp_1\n",
    "    \n",
    "    UK_BRIC.append(BRIC_value/UK_consumption[i] * 100)   "
   ]
  },
  {
   "cell_type": "code",
   "execution_count": 12,
   "metadata": {},
   "outputs": [],
   "source": [
    "UK_BRIC_ghg = pd.DataFrame()\n",
    "UK_BRIC_ghg['BRIC_prop'] = UK_BRIC\n",
    "UK_BRIC_ghg['Year'] = year_list"
   ]
  },
  {
   "cell_type": "code",
   "execution_count": 13,
   "metadata": {},
   "outputs": [
    {
     "data": {
      "text/plain": [
       "Text(0.5,1,'UK GHG - BRIC Proportion')"
      ]
     },
     "execution_count": 13,
     "metadata": {},
     "output_type": "execute_result"
    },
    {
     "data": {
      "image/png": "[encoded data removed]",
      "text/plain": [
       "<Figure size 720x360 with 1 Axes>"
      ]
     },
     "metadata": {
      "needs_background": "light"
     },
     "output_type": "display_data"
    }
   ],
   "source": [
    "fig, ax = plt.subplots(ncols=1, nrows=1, figsize=(10, 5))\n",
    "\n",
    "UK_BRIC_ghg.plot(ax=ax, x='Year', y='BRIC_prop')\n",
    "ax.set_xlabel('Year', fontsize=12)\n",
    "ax.set_ylabel('%', fontsize=12)\n",
    "ax.set_ylim([0,18])\n",
    "ax.set_title('UK GHG - BRIC Proportion')"
   ]
  },
  {
   "cell_type": "markdown",
   "metadata": {},
   "source": [
    "### 5.4. What proportion of UK’s GHG footprint can be shown to originate from the agricultural industry?"
   ]
  },
  {
   "cell_type": "code",
   "execution_count": 14,
   "metadata": {},
   "outputs": [],
   "source": [
    "UK_agriculture = []\n",
    "\n",
    "for i in range(len(year_list)):\n",
    "    x = np.array(Y[i].sum(axis=1) + Z[i].sum(axis=1))\n",
    "    for j in range(len(x)):\n",
    "        if x[j]==0:\n",
    "            x[j]=0.000000001 # do this to avoid trying to divide my zero later\n",
    "        else:\n",
    "            pass\n",
    "    x = x.reshape(1435,1)\n",
    "    big_x = x.repeat(len(x), axis=1)\n",
    "    x_t = np.matrix.transpose(big_x)\n",
    "    \n",
    "    A = np.array(Z[i]) / x_t\n",
    "    I = np.identity(len(Z[i]))\n",
    "    L = np.linalg.inv(I-A)\n",
    "    F_GHGx = np.array(F_GHG[i]) / (x.reshape(1, 1435))\n",
    "    \n",
    "    Y_UK = np.array(Y[i][['GBR']]).sum(axis=1).reshape(1435, 1)\n",
    "\n",
    "    temp = np.matmul(np.diag(F_GHGx[0]), L)\n",
    "    temp = np.matmul(temp, np.diag(Y_UK.reshape(1, 1435)[0]))\n",
    "    temp = pd.DataFrame(temp, index=Z[0].index, columns=Z[0].columns) # change back into df to more easily extract the countries\n",
    "    \n",
    "    agri_value = temp.T.swaplevel(axis=1)['c01'].sum().sum()\n",
    "    \n",
    "    UK_agriculture.append(agri_value/UK_consumption[i] * 100)   "
   ]
  },
  {
   "cell_type": "code",
   "execution_count": 15,
   "metadata": {},
   "outputs": [],
   "source": [
    "UK_agri_ghg = pd.DataFrame()\n",
    "UK_agri_ghg['agri_prop'] = UK_agriculture\n",
    "UK_agri_ghg['Year'] = year_list"
   ]
  },
  {
   "cell_type": "code",
   "execution_count": 16,
   "metadata": {},
   "outputs": [
    {
     "data": {
      "text/plain": [
       "Text(0.5,1,'UK GHG - Agriculture Proportion')"
      ]
     },
     "execution_count": 16,
     "metadata": {},
     "output_type": "execute_result"
    },
    {
     "data": {
      "image/png": "[encoded data removed]",
      "text/plain": [
       "<Figure size 720x360 with 1 Axes>"
      ]
     },
     "metadata": {
      "needs_background": "light"
     },
     "output_type": "display_data"
    }
   ],
   "source": [
    "fig, ax = plt.subplots(ncols=1, nrows=1, figsize=(10, 5))\n",
    "\n",
    "UK_agri_ghg.plot(ax=ax, x='Year', y='agri_prop')\n",
    "ax.set_xlabel('Year', fontsize=12)\n",
    "ax.set_ylabel('%', fontsize=12)\n",
    "ax.set_ylim([0,16])\n",
    "ax.set_title('UK GHG - Agriculture Proportion')"
   ]
  },
  {
   "cell_type": "code",
   "execution_count": 17,
   "metadata": {},
   "outputs": [],
   "source": [
    "# above answer is off by about 1% for each year .. "
   ]
  },
  {
   "cell_type": "markdown",
   "metadata": {},
   "source": [
    "### 6.1. Make Y_G8 a ‘1 x 1435’ vector showing the final demand of the G8 nations and use this to find the total energy footprint of G8 nations "
   ]
  },
  {
   "cell_type": "code",
   "execution_count": 18,
   "metadata": {},
   "outputs": [],
   "source": [
    "G8 = ['CAN','DEU','FRA','GBR','ITA','JPN','RUS','USA']\n",
    "country = Y[0].columns.levels[0].tolist()\n",
    "regions = len(country)\n",
    "final_demand = len(Y[0].columns.levels[1].tolist())\n",
    "G8_Y_agg = np.zeros((regions*final_demand, 1))\n",
    "G8_lookup = np.zeros((regions,1))\n",
    "\n",
    "for i in range(len(country)):\n",
    "    if country[i] in G8:\n",
    "        G8_lookup[i] = 1\n",
    "        \n",
    "for i in range(len(G8_lookup)):\n",
    "    j = i+1 # because indexing starts at 0 in python\n",
    "    if G8_lookup[i] == 1:\n",
    "        G8_Y_agg[(j*final_demand)-final_demand:j*final_demand] = np.ones((final_demand,1))"
   ]
  },
  {
   "cell_type": "code",
   "execution_count": 19,
   "metadata": {},
   "outputs": [],
   "source": [
    "G8_energy_cons = []\n",
    "\n",
    "for i in range(len(year_list)):\n",
    "    x = np.array(Y[i].sum(axis=1) + Z[i].sum(axis=1))\n",
    "    for j in range(len(x)):\n",
    "        if x[j]==0:\n",
    "            x[j]=0.000000001 # do this to avoid trying to divide my zero later\n",
    "        else:\n",
    "            pass\n",
    "    x = x.reshape(1435,1)\n",
    "    big_x = x.repeat(len(x), axis=1)\n",
    "    x_t = np.matrix.transpose(big_x)\n",
    "    \n",
    "    A = np.array(Z[i]) / x_t\n",
    "    I = np.identity(len(Z[i]))\n",
    "    L = np.linalg.inv(I-A)\n",
    "    F_NRGx = np.array(F_NRG[i]) / (x.reshape(1, 1435))\n",
    "    \n",
    "    Y_G8 = np.matmul(np.array(Y[i]),  G8_Y_agg)\n",
    "    \n",
    "    temp = np.matmul(F_NRGx, L)\n",
    "    temp = np.matmul(temp, Y_G8)\n",
    "    \n",
    "    temp_1 = np.matmul(np.array(F_NRG_hh[i]), G8_lookup)\n",
    "    \n",
    "    G8_cons = temp[0][0] + temp_1[0][0]\n",
    "    \n",
    "    G8_energy_cons.append(G8_cons)"
   ]
  },
  {
   "cell_type": "code",
   "execution_count": 20,
   "metadata": {},
   "outputs": [],
   "source": [
    "G8_cons_nrg = pd.DataFrame()\n",
    "G8_cons_nrg['G8'] = G8_energy_cons\n",
    "G8_cons_nrg['Year'] = year_list"
   ]
  },
  {
   "cell_type": "code",
   "execution_count": 21,
   "metadata": {},
   "outputs": [
    {
     "data": {
      "text/plain": [
       "Text(0.5,1,'G8')"
      ]
     },
     "execution_count": 21,
     "metadata": {},
     "output_type": "execute_result"
    },
    {
     "data": {
      "image/png": "[encoded data removed]",
      "text/plain": [
       "<Figure size 720x360 with 1 Axes>"
      ]
     },
     "metadata": {
      "needs_background": "light"
     },
     "output_type": "display_data"
    }
   ],
   "source": [
    "fig, ax = plt.subplots(ncols=1, nrows=1, figsize=(10, 5))\n",
    "\n",
    "G8_cons_nrg.plot(ax=ax, x='Year', y='G8')\n",
    "ax.set_xlabel('Year', fontsize=12)\n",
    "ax.set_ylabel('Energy', fontsize=12)\n",
    "ax.set_ylim([50000000, 400000000])\n",
    "ax.set_title('G8')"
   ]
  },
  {
   "cell_type": "markdown",
   "metadata": {},
   "source": [
    "### 6.2. What proportion of the UK energy footprint is sourced from G8 nations?\n",
    "\n",
    "Using aggregate matrices"
   ]
  },
  {
   "cell_type": "code",
   "execution_count": 22,
   "metadata": {},
   "outputs": [],
   "source": [
    "G8 = ['CAN','DEU','FRA','GBR','ITA','JPN','RUS','USA']\n",
    "country = Y[0].columns.levels[0].tolist()\n",
    "regions = len(country)\n",
    "sectors = len(Z[0].columns.levels[1].tolist())\n",
    "\n",
    "G8_lookup = np.zeros((regions,1))\n",
    "G8_F_agg = np.zeros((1,regions*sectors))\n",
    "\n",
    "for i in range(len(country)):\n",
    "    if country[i] in G8:\n",
    "        G8_lookup[i] = 1\n",
    "        \n",
    "for i in range(len(G8_lookup)):\n",
    "    j = i+1 # because indexing starts at 0 in python\n",
    "    if G8_lookup[i] == 1:\n",
    "        G8_F_agg[0][(j*sectors)-sectors:j*sectors] = np.ones((sectors,1)).reshape(1, sectors)[0]"
   ]
  },
  {
   "cell_type": "code",
   "execution_count": 23,
   "metadata": {},
   "outputs": [],
   "source": [
    "UK_G8_prop = []\n",
    "\n",
    "for i in range(len(year_list)):\n",
    "    x = np.array(Y[i].sum(axis=1) + Z[i].sum(axis=1))\n",
    "    for j in range(len(x)):\n",
    "        if x[j]==0:\n",
    "            x[j]=0.000000001 # do this to avoid trying to divide my zero later\n",
    "        else:\n",
    "            pass\n",
    "    x = x.reshape(1435,1)\n",
    "    big_x = x.repeat(len(x), axis=1)\n",
    "    x_t = np.matrix.transpose(big_x)\n",
    "    \n",
    "    A = np.array(Z[i]) / x_t\n",
    "    I = np.identity(len(Z[i]))\n",
    "    L = np.linalg.inv(I-A)\n",
    "    \n",
    "    Y_UK = np.array(Y[i][['GBR']]).sum(axis=1).reshape(1435, 1)\n",
    "    \n",
    "    # UK energy footprint\n",
    "    F_NRGx = np.array(F_NRG[i]) / (x.reshape(1, 1435))  \n",
    "    temp = np.matmul(F_NRGx, L)\n",
    "    temp = np.matmul(temp, Y_UK)\n",
    "    UK_cons = temp + float(F_NRG_hh[i]['GBR'])\n",
    "    \n",
    "    # from G8\n",
    "    F_G8 = G8_F_agg * np.array(F_NRG[i])\n",
    "    F_G8x = F_G8 / (x.reshape(1, 1435))\n",
    "    temp = np.matmul(F_G8x, L)\n",
    "    temp = np.matmul(temp, Y_UK)\n",
    "    \n",
    "    a = temp[0][0] / UK_cons[0][0] * 100\n",
    "    \n",
    "    UK_G8_prop.append(a)"
   ]
  },
  {
   "cell_type": "code",
   "execution_count": 24,
   "metadata": {},
   "outputs": [
    {
     "data": {
      "text/plain": [
       "Text(0.5,1,'UK NRG - G8 Proportion')"
      ]
     },
     "execution_count": 24,
     "metadata": {},
     "output_type": "execute_result"
    },
    {
     "data": {
      "image/png": "[encoded data removed]",
      "text/plain": [
       "<Figure size 720x360 with 1 Axes>"
      ]
     },
     "metadata": {
      "needs_background": "light"
     },
     "output_type": "display_data"
    }
   ],
   "source": [
    "UK_G8_prop_df = pd.DataFrame()\n",
    "UK_G8_prop_df['G8_prop'] = UK_G8_prop\n",
    "UK_G8_prop_df['Year'] = year_list\n",
    "\n",
    "fig, ax = plt.subplots(ncols=1, nrows=1, figsize=(10, 5))\n",
    "\n",
    "UK_G8_prop_df.plot(ax=ax, x='Year', y='G8_prop')\n",
    "ax.set_xlabel('Year', fontsize=12)\n",
    "ax.set_ylabel('%', fontsize=12)\n",
    "ax.set_ylim([0,70])\n",
    "ax.set_title('UK NRG - G8 Proportion')"
   ]
  },
  {
   "cell_type": "markdown",
   "metadata": {},
   "source": [
    "### 6.3. Making a smaller version of the WIOD matrix using aggregation matrices"
   ]
  },
  {
   "cell_type": "code",
   "execution_count": 25,
   "metadata": {},
   "outputs": [],
   "source": [
    "G8 = ['CAN','DEU','FRA','GBR','ITA','JPN','RUS','USA']\n",
    "country = Y[0].columns.levels[0].tolist()\n",
    "regions = len(country)\n",
    "sectors = len(Z[0].columns.levels[1].tolist())\n",
    "final_demand = len(Y[1].columns.levels[1].tolist())\n",
    "\n",
    "G8_lookup = np.zeros((regions, 1))\n",
    "G8_agg = np.zeros((2*sectors, regions*sectors))\n",
    "G8_Y_agg = np.zeros((2*final_demand, final_demand*regions))\n",
    "    \n",
    "for i in range(len(country)):\n",
    "    if country[i] in G8:\n",
    "        G8_lookup[i] = 1\n",
    "        \n",
    "for i in range(len(G8_lookup)):\n",
    "    j = i+1 # because indexing starts at 0 in python\n",
    "    if G8_lookup[i] == 1:\n",
    "        G8_agg[0:sectors, j*sectors-(sectors):j*sectors] = np.identity(sectors)\n",
    "        G8_Y_agg[0:final_demand, j*final_demand-(final_demand):j*final_demand] = np.identity(final_demand)\n",
    "        \n",
    "    else:\n",
    "        G8_agg[sectors:2*sectors, j*sectors-(sectors):j*sectors] = np.identity(sectors)\n",
    "        G8_Y_agg[final_demand:2*final_demand, j*final_demand-(final_demand):j*final_demand] = np.identity(final_demand)\n",
    "        \n",
    "G8_Y_agg = np.matrix.transpose(G8_Y_agg)"
   ]
  },
  {
   "cell_type": "code",
   "execution_count": 26,
   "metadata": {},
   "outputs": [],
   "source": [
    "G8_energy_cons_agg = []\n",
    "new_Z_list = []\n",
    "new_F_list = []\n",
    "new_Y_list = []\n",
    "\n",
    "for i in range(len(year_list)):\n",
    "    C_t = np.matrix.transpose(G8_agg)\n",
    "    new_Z = np.matmul(np.matmul(G8_agg, Z[i]), C_t)\n",
    "    new_F = np.matmul(np.array(F_NRG[i]), C_t)\n",
    "    new_Y = np.matmul(np.matmul(G8_agg, Y[i]), G8_Y_agg)\n",
    "    \n",
    "    new_Z_list.append(new_Z)\n",
    "    new_F_list.append(new_F)\n",
    "    new_Y_list.append(new_Y)\n",
    "    \n",
    "    x = np.array(new_Y.sum(axis=1) + new_Z.sum(axis=1))\n",
    "    for j in range(len(x)):\n",
    "        if x[j]==0:\n",
    "            x[j]=0.000000001 # do this to avoid trying to divide my zero later\n",
    "        else:\n",
    "            pass\n",
    "    x = x.reshape(70, 1)\n",
    "    big_x = x.repeat(len(x), axis=1)\n",
    "    x_t = np.matrix.transpose(big_x)\n",
    "    \n",
    "    A = np.array(new_Z) / x_t\n",
    "    I = np.identity(len(new_Z))\n",
    "    L = np.linalg.inv(I-A)\n",
    "    \n",
    "    Y_G8 = np.array(new_Y[:, :5]).sum(axis=1)\n",
    "    Y_G8 = Y_G8.reshape(Y_G8.shape[0], 1)\n",
    "    \n",
    "    # G8 energy footprint\n",
    "    F_NRGx = new_F / np.matrix.transpose(x)\n",
    "    temp = np.matmul(F_NRGx, L)\n",
    "    temp = np.matmul(temp, Y_G8)\n",
    "    G8_cons = temp + float(F_NRG_hh[i][G8].sum(axis=1))\n",
    "    \n",
    "    G8_energy_cons_agg.append(G8_cons[0][0])"
   ]
  },
  {
   "cell_type": "code",
   "execution_count": 27,
   "metadata": {},
   "outputs": [
    {
     "data": {
      "text/plain": [
       "Text(0.5,1,'UK NRG - G8 Proportion')"
      ]
     },
     "execution_count": 27,
     "metadata": {},
     "output_type": "execute_result"
    },
    {
     "data": {
      "image/png": "[encoded data removed]",
      "text/plain": [
       "<Figure size 720x360 with 1 Axes>"
      ]
     },
     "metadata": {
      "needs_background": "light"
     },
     "output_type": "display_data"
    }
   ],
   "source": [
    "G8_cons_nrg['G8_agg'] = G8_energy_cons_agg\n",
    "\n",
    "fig, ax = plt.subplots(ncols=1, nrows=1, figsize=(10, 5))\n",
    "\n",
    "G8_cons_nrg.plot(ax=ax, x='Year', y='G8')\n",
    "G8_cons_nrg.plot(ax=ax, x='Year', y='G8_agg')\n",
    "ax.set_xlabel('Year', fontsize=12)\n",
    "ax.set_ylabel('Energy', fontsize=12)\n",
    "ax.set_ylim([0, 400000000])\n",
    "ax.set_title('UK NRG - G8 Proportion')"
   ]
  },
  {
   "cell_type": "markdown",
   "metadata": {},
   "source": [
    "### 6.4. Making an even smaller version of the WIOD matrix"
   ]
  },
  {
   "cell_type": "code",
   "execution_count": 28,
   "metadata": {},
   "outputs": [],
   "source": [
    "file_loc = 'Data/WIOT/wiot' + str(1995)[2:] + '_row_apr12.xlsx'\n",
    "    \n",
    "# import data\n",
    "df = pd.read_excel(file_loc, index_col=None, header=None).iloc[2:6].T\n",
    "df = df.loc[df[4] == 'AUS']\n",
    "df[4] = df[5]\n",
    "df.loc[df[5].map(str).apply(len) == 2, 4] = 'c0' + df[5].str[-1]\n",
    "df[2] = df[2].astype(str)"
   ]
  },
  {
   "cell_type": "code",
   "execution_count": 29,
   "metadata": {},
   "outputs": [],
   "source": [
    "extraction_from_nature = ['AtB', 'C']\n",
    "manufacturing = ['15t16', '17t18', '19', '20', '21t22', '23', '24', '25', '26', '27t28', '29', '30t33', '34t35', '36t37']\n",
    "fuel = ['E']\n",
    "construction = ['F']\n",
    "trade = ['50', '51', '52', 'H']\n",
    "transport = ['60', '61', '62']\n",
    "private_services = ['J', '70', '71t74']\n",
    "public_services_other = ['L', 'M', 'N', 'O', 'P']\n",
    "\n",
    "new_sectors = [extraction_from_nature, manufacturing, fuel, construction, trade, transport, private_services, public_services_other]"
   ]
  },
  {
   "cell_type": "code",
   "execution_count": 30,
   "metadata": {},
   "outputs": [],
   "source": [
    "dictionary = dict(zip(df[2].tolist(), df[4].tolist()))   \n",
    "\n",
    "for sector in new_sectors:\n",
    "    for i in range(len(sector)):\n",
    "        sector[i] = dictionary[sector[i]]"
   ]
  },
  {
   "cell_type": "code",
   "execution_count": 31,
   "metadata": {},
   "outputs": [],
   "source": [
    "#### make aggreagtion matrix for new secotrs\n",
    "\n",
    "region_names = ['G8', 'ROW']\n",
    "regions = len(region_names)\n",
    "old_sector_no = int(new_Z_list[0].shape[0] / regions)\n",
    "new_sector_no = len(new_sectors)\n",
    "sectors = df[5].tolist()\n",
    "\n",
    "sector_agg = np.zeros((new_sector_no * regions, old_sector_no * regions))\n",
    "sector_lookup = np.zeros((new_sector_no, old_sector_no))\n",
    "\n",
    "k=0\n",
    "for i in range(len(new_sectors)):\n",
    "    sector_lookup[i, k:k+len(new_sectors[i])] = np.ones((1, len(new_sectors[i])))\n",
    "    k += len(new_sectors[i])\n",
    "\n",
    "sector_agg[:sector_lookup.shape[0], :sector_lookup.shape[1]] = sector_lookup\n",
    "sector_agg[sector_lookup.shape[0]:, sector_lookup.shape[1]:] = sector_lookup"
   ]
  },
  {
   "cell_type": "code",
   "execution_count": 37,
   "metadata": {},
   "outputs": [
    {
     "data": {
      "text/plain": [
       "Text(0.5,1,'UK NRG - G8 Proportion')"
      ]
     },
     "execution_count": 37,
     "metadata": {},
     "output_type": "execute_result"
    },
    {
     "data": {
      "image/png": "[encoded data removed]",
      "text/plain": [
       "<Figure size 720x360 with 1 Axes>"
      ]
     },
     "metadata": {
      "needs_background": "light"
     },
     "output_type": "display_data"
    }
   ],
   "source": [
    "# using previous answer\n",
    "G8_energy_cons_agg2 = []\n",
    "\n",
    "for i in range(len(year_list)):\n",
    "    C_t = np.matrix.transpose(sector_agg)\n",
    "    new_Z = np.matmul(np.matmul(sector_agg, new_Z_list[i]), C_t)\n",
    "    new_F = np.matmul(new_F_list[i], C_t)\n",
    "    new_Y = np.matmul(sector_agg, new_Y_list[i])\n",
    "    \n",
    "    x = np.array(new_Y.sum(axis=1) + new_Z.sum(axis=1))\n",
    "    for j in range(len(x)):\n",
    "        if x[j]==0:\n",
    "            x[j]=0.000000001 # do this to avoid trying to divide my zero later\n",
    "        else:\n",
    "            pass\n",
    "    x = x.reshape(x.shape[0], 1)\n",
    "    big_x = x.repeat(len(x), axis=1)\n",
    "    x_t = np.matrix.transpose(big_x)\n",
    "    \n",
    "    A = np.array(new_Z) / x_t\n",
    "    I = np.identity(len(new_Z))\n",
    "    L = np.linalg.inv(I-A)\n",
    "    \n",
    "    Y_G8 = np.array(new_Y[:, :5]).sum(axis=1)\n",
    "    Y_G8 = Y_G8.reshape(Y_G8.shape[0], 1)\n",
    "    \n",
    "    # G8 energy footprint\n",
    "    F_NRGx = new_F / np.matrix.transpose(x)  \n",
    "    temp = np.matmul(F_NRGx, L)\n",
    "    temp = np.matmul(temp, Y_G8)\n",
    "    G8_cons = temp + float(F_NRG_hh[i][G8].sum(axis=1))\n",
    "    \n",
    "    G8_energy_cons_agg2.append(G8_cons[0][0])\n",
    "\n",
    "# plot answer\n",
    "G8_cons_nrg['G8_agg2'] = G8_energy_cons_agg2\n",
    "\n",
    "fig, ax = plt.subplots(ncols=1, nrows=1, figsize=(10, 5))\n",
    "\n",
    "G8_cons_nrg.plot(ax=ax, x='Year', y='G8')\n",
    "G8_cons_nrg.plot(ax=ax, x='Year', y='G8_agg')\n",
    "G8_cons_nrg.plot(ax=ax, x='Year', y='G8_agg2')\n",
    "ax.set_xlabel('Year', fontsize=12)\n",
    "ax.set_ylabel('Energy', fontsize=12)\n",
    "ax.set_ylim([0, 400000000])\n",
    "ax.set_title('UK NRG - G8 Proportion')"
   ]
  },
  {
   "cell_type": "code",
   "execution_count": 38,
   "metadata": {},
   "outputs": [],
   "source": [
    "# starting from original Z, Y and F \n",
    "\n",
    "# make aggregate matrices\n",
    "G8 = ['CAN','DEU','FRA','GBR','ITA','JPN','RUS','USA']\n",
    "country = Y[0].columns.levels[0].tolist()\n",
    "regions = len(country)\n",
    "sectors = len(Z[0].columns.levels[1].tolist())\n",
    "final_demand = len(Y[1].columns.levels[1].tolist())\n",
    "\n",
    "sectoragg = np.matrix.transpose(sector_lookup)\n",
    "\n",
    "G8_agg = np.zeros((2*8, regions*sectors))\n",
    "G8_reg_agg = np.zeros((regions*final_demand, 2))\n",
    "\n",
    "for m in range(regions):\n",
    "    j = m+1\n",
    "    if G8_lookup[m][0] == 1:\n",
    "        G8_agg[:8, j*sectors-sectors:j*sectors] = sector_lookup\n",
    "        G8_reg_agg[j*final_demand-final_demand:j*final_demand, :1] = np.ones((final_demand, 1))\n",
    "    else:\n",
    "        G8_agg[8:, j*sectors-sectors:j*sectors] = sector_lookup\n",
    "        G8_reg_agg[j*final_demand-final_demand:j*final_demand, 1:] = np.ones((final_demand, 1))\n",
    "        \n",
    "#Run analysis\n",
    "G8_nrg_cons_agg3 = []\n",
    "\n",
    "G8_agg_t = np.matrix.transpose(G8_agg)\n",
    "for i in range(len(year_list)):\n",
    "    Zagg = np.matmul(np.matmul(G8_agg, Z[i]), G8_agg_t)\n",
    "    Yagg = np.matmul(np.matmul(G8_agg, Y[i]), G8_reg_agg)\n",
    "    F_NRGagg = np.matmul(F_NRG[i], G8_agg_t)\n",
    "    \n",
    "    x = Zagg.sum(axis=1) + Yagg.sum(axis=1)\n",
    "    for j in range(len(x)):\n",
    "        if x[j]==0:\n",
    "            x[j]=0.000000001 # do this to avoid trying to divide my zero later\n",
    "        else:\n",
    "            pass\n",
    "    x = x.reshape(x.shape[0], 1)\n",
    "    big_x = x.repeat(len(x), axis=1)\n",
    "    x_t = np.matrix.transpose(big_x) \n",
    "    \n",
    "    A = np.array(Zagg) / x_t\n",
    "    I = np.identity(Zagg.shape[0])\n",
    "    L = np.linalg.inv(I-A)\n",
    "    \n",
    "    # G8 energy footprint   \n",
    "    F_NRGx = F_NRGagg / np.matrix.transpose(x)\n",
    "    G8_cons = np.matmul(np.matmul(F_NRGx, L), Yagg[:, :1]) + float(F_NRG_hh[i][G8].sum(axis=1))\n",
    "    \n",
    "    G8_nrg_cons_agg3.append(G8_cons[0][0])"
   ]
  },
  {
   "cell_type": "code",
   "execution_count": 39,
   "metadata": {},
   "outputs": [
    {
     "data": {
      "text/plain": [
       "Text(0.5,1,'UK NRG - G8 Proportion')"
      ]
     },
     "execution_count": 39,
     "metadata": {},
     "output_type": "execute_result"
    },
    {
     "data": {
      "image/png": "[encoded data removed]",
      "text/plain": [
       "<Figure size 720x360 with 1 Axes>"
      ]
     },
     "metadata": {
      "needs_background": "light"
     },
     "output_type": "display_data"
    }
   ],
   "source": [
    "G8_cons_nrg['G8_agg3'] = G8_nrg_cons_agg3\n",
    "\n",
    "fig, ax = plt.subplots(ncols=1, nrows=1, figsize=(10, 5))\n",
    "\n",
    "G8_cons_nrg.plot(ax=ax, x='Year', y='G8')\n",
    "G8_cons_nrg.plot(ax=ax, x='Year', y='G8_agg')\n",
    "G8_cons_nrg.plot(ax=ax, x='Year', y='G8_agg2')\n",
    "G8_cons_nrg.plot(ax=ax, x='Year', y='G8_agg3')\n",
    "ax.set_xlabel('Year', fontsize=12)\n",
    "ax.set_ylabel('Energy', fontsize=12)\n",
    "ax.set_ylim([0, 400000000])\n",
    "ax.set_title('UK NRG - G8 Proportion')"
   ]
  },
  {
   "cell_type": "markdown",
   "metadata": {},
   "source": [
    "## 7. Working with expenditure survey data\n",
    "### 7.1. The GHG footprint of men and women in the UK"
   ]
  },
  {
   "cell_type": "code",
   "execution_count": 84,
   "metadata": {},
   "outputs": [
    {
     "data": {
      "text/html": [
       "<div>\n",
       "<style scoped>\n",
       "    .dataframe tbody tr th:only-of-type {\n",
       "        vertical-align: middle;\n",
       "    }\n",
       "\n",
       "    .dataframe tbody tr th {\n",
       "        vertical-align: top;\n",
       "    }\n",
       "\n",
       "    .dataframe thead th {\n",
       "        text-align: right;\n",
       "    }\n",
       "</style>\n",
       "<table border=\"1\" class=\"dataframe\">\n",
       "  <thead>\n",
       "    <tr style=\"text-align: right;\">\n",
       "      <th></th>\n",
       "      <th>Average yearly spend by a man (USD)</th>\n",
       "      <th>Average yearly spend by a woman (USD)</th>\n",
       "    </tr>\n",
       "    <tr>\n",
       "      <th>Unnamed: 0</th>\n",
       "      <th></th>\n",
       "      <th></th>\n",
       "    </tr>\n",
       "  </thead>\n",
       "  <tbody>\n",
       "    <tr>\n",
       "      <th>Agriculture, Hunting, Forestry and Fishing</th>\n",
       "      <td>400</td>\n",
       "      <td>430</td>\n",
       "    </tr>\n",
       "    <tr>\n",
       "      <th>Mining and Quarrying</th>\n",
       "      <td>30</td>\n",
       "      <td>25</td>\n",
       "    </tr>\n",
       "    <tr>\n",
       "      <th>Food, Beverages and Tobacco</th>\n",
       "      <td>1000</td>\n",
       "      <td>1300</td>\n",
       "    </tr>\n",
       "    <tr>\n",
       "      <th>Textiles and Textile Products</th>\n",
       "      <td>400</td>\n",
       "      <td>350</td>\n",
       "    </tr>\n",
       "    <tr>\n",
       "      <th>Leather, Leather and Footwear</th>\n",
       "      <td>60</td>\n",
       "      <td>100</td>\n",
       "    </tr>\n",
       "  </tbody>\n",
       "</table>\n",
       "</div>"
      ],
      "text/plain": [
       "                                            Average yearly spend by a man (USD)  \\\n",
       "Unnamed: 0                                                                        \n",
       "Agriculture, Hunting, Forestry and Fishing                                  400   \n",
       "Mining and Quarrying                                                         30   \n",
       "Food, Beverages and Tobacco                                                1000   \n",
       "Textiles and Textile Products                                               400   \n",
       "Leather, Leather and Footwear                                                60   \n",
       "\n",
       "                                            Average yearly spend by a woman (USD)  \n",
       "Unnamed: 0                                                                         \n",
       "Agriculture, Hunting, Forestry and Fishing                                    430  \n",
       "Mining and Quarrying                                                           25  \n",
       "Food, Beverages and Tobacco                                                  1300  \n",
       "Textiles and Textile Products                                                 350  \n",
       "Leather, Leather and Footwear                                                 100  "
      ]
     },
     "execution_count": 84,
     "metadata": {},
     "output_type": "execute_result"
    }
   ],
   "source": [
    "expenditure = pd.read_csv('Data/Q7.csv').set_index('Unnamed: 0')\n",
    "expenditure.head()"
   ]
  },
  {
   "cell_type": "markdown",
   "metadata": {},
   "source": [
    "### How can you use this (expenditure infromation from 2009) to find the share of the UK’s household GHG footprint by men and women?"
   ]
  },
  {
   "cell_type": "code",
   "execution_count": 199,
   "metadata": {},
   "outputs": [
    {
     "data": {
      "text/html": [
       "<div>\n",
       "<style scoped>\n",
       "    .dataframe tbody tr th:only-of-type {\n",
       "        vertical-align: middle;\n",
       "    }\n",
       "\n",
       "    .dataframe tbody tr th {\n",
       "        vertical-align: top;\n",
       "    }\n",
       "\n",
       "    .dataframe thead th {\n",
       "        text-align: right;\n",
       "    }\n",
       "</style>\n",
       "<table border=\"1\" class=\"dataframe\">\n",
       "  <thead>\n",
       "    <tr style=\"text-align: right;\">\n",
       "      <th></th>\n",
       "      <th>Total_All</th>\n",
       "      <th>WIOT</th>\n",
       "      <th>Difference</th>\n",
       "    </tr>\n",
       "    <tr>\n",
       "      <th>(nan, 'sector')</th>\n",
       "      <th></th>\n",
       "      <th></th>\n",
       "      <th></th>\n",
       "    </tr>\n",
       "  </thead>\n",
       "  <tbody>\n",
       "    <tr>\n",
       "      <th>c01</th>\n",
       "      <td>26190</td>\n",
       "      <td>25942.298041</td>\n",
       "      <td>247.701959</td>\n",
       "    </tr>\n",
       "    <tr>\n",
       "      <th>c02</th>\n",
       "      <td>1725</td>\n",
       "      <td>1576.326374</td>\n",
       "      <td>148.673626</td>\n",
       "    </tr>\n",
       "    <tr>\n",
       "      <th>c03</th>\n",
       "      <td>72900</td>\n",
       "      <td>69832.031753</td>\n",
       "      <td>3067.968247</td>\n",
       "    </tr>\n",
       "    <tr>\n",
       "      <th>c04</th>\n",
       "      <td>23550</td>\n",
       "      <td>24807.434198</td>\n",
       "      <td>-1257.434198</td>\n",
       "    </tr>\n",
       "    <tr>\n",
       "      <th>c05</th>\n",
       "      <td>5100</td>\n",
       "      <td>4066.328518</td>\n",
       "      <td>1033.671482</td>\n",
       "    </tr>\n",
       "  </tbody>\n",
       "</table>\n",
       "</div>"
      ],
      "text/plain": [
       "                 Total_All          WIOT   Difference\n",
       "(nan, 'sector')                                      \n",
       "c01                  26190  25942.298041   247.701959\n",
       "c02                   1725   1576.326374   148.673626\n",
       "c03                  72900  69832.031753  3067.968247\n",
       "c04                  23550  24807.434198 -1257.434198\n",
       "c05                   5100   4066.328518  1033.671482"
      ]
     },
     "execution_count": 199,
     "metadata": {},
     "output_type": "execute_result"
    }
   ],
   "source": [
    "# 1. Check whether the spend for all men plus the spend for all women is equal to the data held in WIOD. Do this by calculating the spend by sector by UK households regardless of where the goods are from.\n",
    "# In the UK in 2009 there were 30 million men and 33 million women\n",
    "\n",
    "expenditure['Total_Men'] = expenditure['Average yearly spend by a man (USD)'] * 30\n",
    "expenditure['Total_Women'] = expenditure['Average yearly spend by a woman (USD)'] * 33\n",
    "\n",
    "# difference \n",
    "expenditure['Total_All'] = expenditure[['Total_Men', 'Total_Women']].sum(axis=1).tolist()\n",
    "expenditure['WIOT'] = Y[-1][[('GBR', 'c37')]].unstack().T.sum(axis=1).tolist()\n",
    "\n",
    "expenditure['Difference'] = expenditure['Total_All'] - expenditure['WIOT']\n",
    "\n",
    "expenditure.index = Y[-1].index.levels[1]\n",
    "expenditure[['Total_All', 'WIOT', 'Difference']].head() # can see individual sector differences here (all in million USD)"
   ]
  },
  {
   "cell_type": "code",
   "execution_count": 102,
   "metadata": {},
   "outputs": [
    {
     "data": {
      "text/plain": [
       "Total_All     1.318395e+06\n",
       "WIOT          1.262979e+06\n",
       "Difference    5.541642e+04\n",
       "dtype: float64"
      ]
     },
     "execution_count": 102,
     "metadata": {},
     "output_type": "execute_result"
    }
   ],
   "source": [
    "expenditure[['Total_All', 'WIOT', 'Difference']].sum(axis=0)"
   ]
  },
  {
   "cell_type": "code",
   "execution_count": 200,
   "metadata": {},
   "outputs": [
    {
     "data": {
      "text/html": [
       "<div>\n",
       "<style scoped>\n",
       "    .dataframe tbody tr th:only-of-type {\n",
       "        vertical-align: middle;\n",
       "    }\n",
       "\n",
       "    .dataframe tbody tr th {\n",
       "        vertical-align: top;\n",
       "    }\n",
       "\n",
       "    .dataframe thead th {\n",
       "        text-align: right;\n",
       "    }\n",
       "</style>\n",
       "<table border=\"1\" class=\"dataframe\">\n",
       "  <thead>\n",
       "    <tr style=\"text-align: right;\">\n",
       "      <th></th>\n",
       "      <th>Average yearly spend by a man (USD)</th>\n",
       "      <th>Average yearly spend by a woman (USD)</th>\n",
       "      <th>Total_Men</th>\n",
       "      <th>Total_Women</th>\n",
       "      <th>Total_All</th>\n",
       "      <th>WIOT</th>\n",
       "      <th>Difference</th>\n",
       "      <th>Prop_Men</th>\n",
       "      <th>Prop_Women</th>\n",
       "    </tr>\n",
       "    <tr>\n",
       "      <th>(nan, 'sector')</th>\n",
       "      <th></th>\n",
       "      <th></th>\n",
       "      <th></th>\n",
       "      <th></th>\n",
       "      <th></th>\n",
       "      <th></th>\n",
       "      <th></th>\n",
       "      <th></th>\n",
       "      <th></th>\n",
       "    </tr>\n",
       "  </thead>\n",
       "  <tbody>\n",
       "    <tr>\n",
       "      <th>c01</th>\n",
       "      <td>400</td>\n",
       "      <td>430</td>\n",
       "      <td>12000</td>\n",
       "      <td>14190</td>\n",
       "      <td>26190</td>\n",
       "      <td>25942.298041</td>\n",
       "      <td>247.701959</td>\n",
       "      <td>0.458190</td>\n",
       "      <td>0.541810</td>\n",
       "    </tr>\n",
       "    <tr>\n",
       "      <th>c02</th>\n",
       "      <td>30</td>\n",
       "      <td>25</td>\n",
       "      <td>900</td>\n",
       "      <td>825</td>\n",
       "      <td>1725</td>\n",
       "      <td>1576.326374</td>\n",
       "      <td>148.673626</td>\n",
       "      <td>0.521739</td>\n",
       "      <td>0.478261</td>\n",
       "    </tr>\n",
       "    <tr>\n",
       "      <th>c03</th>\n",
       "      <td>1000</td>\n",
       "      <td>1300</td>\n",
       "      <td>30000</td>\n",
       "      <td>42900</td>\n",
       "      <td>72900</td>\n",
       "      <td>69832.031753</td>\n",
       "      <td>3067.968247</td>\n",
       "      <td>0.411523</td>\n",
       "      <td>0.588477</td>\n",
       "    </tr>\n",
       "    <tr>\n",
       "      <th>c04</th>\n",
       "      <td>400</td>\n",
       "      <td>350</td>\n",
       "      <td>12000</td>\n",
       "      <td>11550</td>\n",
       "      <td>23550</td>\n",
       "      <td>24807.434198</td>\n",
       "      <td>-1257.434198</td>\n",
       "      <td>0.509554</td>\n",
       "      <td>0.490446</td>\n",
       "    </tr>\n",
       "    <tr>\n",
       "      <th>c05</th>\n",
       "      <td>60</td>\n",
       "      <td>100</td>\n",
       "      <td>1800</td>\n",
       "      <td>3300</td>\n",
       "      <td>5100</td>\n",
       "      <td>4066.328518</td>\n",
       "      <td>1033.671482</td>\n",
       "      <td>0.352941</td>\n",
       "      <td>0.647059</td>\n",
       "    </tr>\n",
       "  </tbody>\n",
       "</table>\n",
       "</div>"
      ],
      "text/plain": [
       "                 Average yearly spend by a man (USD)  \\\n",
       "(nan, 'sector')                                        \n",
       "c01                                              400   \n",
       "c02                                               30   \n",
       "c03                                             1000   \n",
       "c04                                              400   \n",
       "c05                                               60   \n",
       "\n",
       "                 Average yearly spend by a woman (USD)  Total_Men  \\\n",
       "(nan, 'sector')                                                     \n",
       "c01                                                430      12000   \n",
       "c02                                                 25        900   \n",
       "c03                                               1300      30000   \n",
       "c04                                                350      12000   \n",
       "c05                                                100       1800   \n",
       "\n",
       "                 Total_Women  Total_All          WIOT   Difference  Prop_Men  \\\n",
       "(nan, 'sector')                                                                \n",
       "c01                    14190      26190  25942.298041   247.701959  0.458190   \n",
       "c02                      825       1725   1576.326374   148.673626  0.521739   \n",
       "c03                    42900      72900  69832.031753  3067.968247  0.411523   \n",
       "c04                    11550      23550  24807.434198 -1257.434198  0.509554   \n",
       "c05                     3300       5100   4066.328518  1033.671482  0.352941   \n",
       "\n",
       "                 Prop_Women  \n",
       "(nan, 'sector')              \n",
       "c01                0.541810  \n",
       "c02                0.478261  \n",
       "c03                0.588477  \n",
       "c04                0.490446  \n",
       "c05                0.647059  "
      ]
     },
     "execution_count": 200,
     "metadata": {},
     "output_type": "execute_result"
    }
   ],
   "source": [
    "# 2. What are you going to do if the spends are different? Which data do you trust? We want the footprint of men + women to be equal to the footprint of UK households calculated in WIOD so it \n",
    "# makes sense to trust the WIOD totals.\n",
    "\n",
    "# go around this by splitting WIOT into men and women --> calculate spend proportion\n",
    "expenditure['Prop_Men'] = expenditure['Total_Men'] / expenditure['Total_All']\n",
    "expenditure['Prop_Women'] = expenditure['Total_Women'] / expenditure['Total_All']\n",
    "\n",
    "expenditure.head()"
   ]
  },
  {
   "cell_type": "code",
   "execution_count": 201,
   "metadata": {},
   "outputs": [],
   "source": [
    "i=0\n",
    "women_list = []\n",
    "men_list = []\n",
    "while i < len(country):\n",
    "    women_list += expenditure['Prop_Women'].tolist()\n",
    "    men_list += expenditure['Prop_Men'].tolist()\n",
    "    i+=1"
   ]
  },
  {
   "cell_type": "code",
   "execution_count": 202,
   "metadata": {},
   "outputs": [
    {
     "name": "stderr",
     "output_type": "stream",
     "text": [
      "c:\\Program Files\\Anaconda3\\lib\\site-packages\\ipykernel_launcher.py:7: SettingWithCopyWarning: \n",
      "A value is trying to be set on a copy of a slice from a DataFrame.\n",
      "Try using .loc[row_indexer,col_indexer] = value instead\n",
      "\n",
      "See the caveats in the documentation: http://pandas.pydata.org/pandas-docs/stable/indexing.html#indexing-view-versus-copy\n",
      "  import sys\n",
      "c:\\Program Files\\Anaconda3\\lib\\site-packages\\ipykernel_launcher.py:8: SettingWithCopyWarning: \n",
      "A value is trying to be set on a copy of a slice from a DataFrame.\n",
      "Try using .loc[row_indexer,col_indexer] = value instead\n",
      "\n",
      "See the caveats in the documentation: http://pandas.pydata.org/pandas-docs/stable/indexing.html#indexing-view-versus-copy\n",
      "  \n"
     ]
    },
    {
     "data": {
      "text/html": [
       "<div>\n",
       "<style scoped>\n",
       "    .dataframe tbody tr th:only-of-type {\n",
       "        vertical-align: middle;\n",
       "    }\n",
       "\n",
       "    .dataframe tbody tr th {\n",
       "        vertical-align: top;\n",
       "    }\n",
       "\n",
       "    .dataframe thead tr th {\n",
       "        text-align: left;\n",
       "    }\n",
       "\n",
       "    .dataframe thead tr:last-of-type th {\n",
       "        text-align: right;\n",
       "    }\n",
       "</style>\n",
       "<table border=\"1\" class=\"dataframe\">\n",
       "  <thead>\n",
       "    <tr>\n",
       "      <th></th>\n",
       "      <th></th>\n",
       "      <th>Prop_Women</th>\n",
       "      <th>Prop_Men</th>\n",
       "    </tr>\n",
       "    <tr>\n",
       "      <th></th>\n",
       "      <th></th>\n",
       "      <th></th>\n",
       "      <th></th>\n",
       "    </tr>\n",
       "    <tr>\n",
       "      <th>('country', 'TOT')</th>\n",
       "      <th>(nan, 'sector')</th>\n",
       "      <th></th>\n",
       "      <th></th>\n",
       "    </tr>\n",
       "  </thead>\n",
       "  <tbody>\n",
       "    <tr>\n",
       "      <th rowspan=\"5\" valign=\"top\">AUS</th>\n",
       "      <th>c01</th>\n",
       "      <td>8.929644</td>\n",
       "      <td>7.551496</td>\n",
       "    </tr>\n",
       "    <tr>\n",
       "      <th>c02</th>\n",
       "      <td>0.239062</td>\n",
       "      <td>0.260795</td>\n",
       "    </tr>\n",
       "    <tr>\n",
       "      <th>c03</th>\n",
       "      <td>339.356696</td>\n",
       "      <td>237.312375</td>\n",
       "    </tr>\n",
       "    <tr>\n",
       "      <th>c04</th>\n",
       "      <td>37.472666</td>\n",
       "      <td>38.932640</td>\n",
       "    </tr>\n",
       "    <tr>\n",
       "      <th>c05</th>\n",
       "      <td>15.234198</td>\n",
       "      <td>8.309562</td>\n",
       "    </tr>\n",
       "  </tbody>\n",
       "</table>\n",
       "</div>"
      ],
      "text/plain": [
       "                                    Prop_Women    Prop_Men\n",
       "                                                          \n",
       "('country', 'TOT') (nan, 'sector')                        \n",
       "AUS                c01                8.929644    7.551496\n",
       "                   c02                0.239062    0.260795\n",
       "                   c03              339.356696  237.312375\n",
       "                   c04               37.472666   38.932640\n",
       "                   c05               15.234198    8.309562"
      ]
     },
     "execution_count": 202,
     "metadata": {},
     "output_type": "execute_result"
    }
   ],
   "source": [
    "# 3. Make a new final demand matrix with two columns for UK men and UK women to find the footprint of each. The matrix needs to be 1435 x 2 in dimension. What assumptions will you make \n",
    "# as to where men and women buy items from?\n",
    "\n",
    "# --> assume that proportions by sector are equal across regions\n",
    "\n",
    "new_Y = Y[-1][[('GBR', 'c37')]] \n",
    "new_Y['Prop_Women'], new_Y['Prop_Men'] = women_list, men_list\n",
    "new_Y['Prop_Women'], new_Y['Prop_Men'] = new_Y['Prop_Women']*new_Y[('GBR', 'c37')], new_Y['Prop_Men']*new_Y[('GBR', 'c37')]\n",
    "new_Y[['Prop_Women', 'Prop_Men']].head()"
   ]
  },
  {
   "cell_type": "code",
   "execution_count": 229,
   "metadata": {},
   "outputs": [],
   "source": [
    "# 4. How are you going to share out the direct emissions?\n",
    "\n",
    "x = np.array(Y[-1].sum(axis=1) + Z[-1].sum(axis=1))\n",
    "for j in range(len(x)):\n",
    "    if x[j]==0:\n",
    "        x[j]=0.000000001 # do this to avoid trying to divide my zero later\n",
    "x = x.reshape(1435,1)\n",
    "big_x = x.repeat(len(x), axis=1)\n",
    "x_t = np.matrix.transpose(big_x)\n",
    "    \n",
    "A = np.array(Z[-1]) / x_t\n",
    "I = np.identity(len(Z[-1]))\n",
    "L = np.linalg.inv(I-A)\n",
    "F_GHGx = np.array(F_GHG[-1]) / (x.reshape(1, 1435))\n",
    "    \n",
    "Y_women = np.array(new_Y['Prop_Women']).reshape(1435, 1)\n",
    "Y_men = np.array(new_Y['Prop_Men']).reshape(1435, 1)\n",
    "\n",
    "F_hh_women = ((expenditure.loc['c17', 'Average yearly spend by a woman (USD)'] + \n",
    "               expenditure.loc['c19', 'Average yearly spend by a woman (USD)']) * 33) / (\n",
    "    (expenditure.loc['c17', ['Average yearly spend by a man (USD)', 'Average yearly spend by a woman (USD)']].sum() +\n",
    "     expenditure.loc['c19', ['Average yearly spend by a man (USD)', 'Average yearly spend by a woman (USD)']].sum()) * 33)\n",
    "F_hh_men = 1- F_hh_women\n",
    "\n",
    "women_2009 = np.matmul(np.matmul(F_GHGx, L), Y_women)[0][0] + (float(F_GHG_hh[-1]['GBR']) * F_hh_women)\n",
    "    \n",
    "men_2009 = np.matmul(np.matmul(F_GHGx, L), Y_men)[0][0] + (float(F_GHG_hh[-1]['GBR']) * F_hh_men)"
   ]
  },
  {
   "cell_type": "code",
   "execution_count": 264,
   "metadata": {},
   "outputs": [
    {
     "data": {
      "text/plain": [
       "Text(0.5,1,'UK 2009 GHG Emissions Split by Gender')"
      ]
     },
     "execution_count": 264,
     "metadata": {},
     "output_type": "execute_result"
    },
    {
     "data": {
      "image/png": "[encoded data removed]",
      "text/plain": [
       "<Figure size 720x360 with 1 Axes>"
      ]
     },
     "metadata": {
      "needs_background": "light"
     },
     "output_type": "display_data"
    }
   ],
   "source": [
    "fig, ax = plt.subplots(ncols=1, nrows=1, figsize=(10, 5))\n",
    "\n",
    "pd.DataFrame([women_2009, men_2009], ['women', 'men']).plot.bar(ax=ax, legend=False)\n",
    "ax.set_ylabel('GHG', fontsize=12)\n",
    "ax.set_ylim([0, 400000])\n",
    "ax.set_title('UK 2009 GHG Emissions Split by Gender')"
   ]
  },
  {
   "cell_type": "markdown",
   "metadata": {},
   "source": [
    "### 7.2. The GHG footprint of devolved nations in the UK\n",
    "For this exercise try to disaggregate the spends – what could you use to split the spends out into the full categories?\n",
    "If the populations are:  \n",
    "•\tEngland 47 million  \n",
    "•\tWales 3 million  \n",
    "•\tNorthern Ireland 3 million  \n",
    "•\tScotland 10 million \n",
    "  \n",
    "Which country has the largest per capita footprint?"
   ]
  },
  {
   "cell_type": "code",
   "execution_count": 476,
   "metadata": {},
   "outputs": [
    {
     "data": {
      "text/html": [
       "<div>\n",
       "<style scoped>\n",
       "    .dataframe tbody tr th:only-of-type {\n",
       "        vertical-align: middle;\n",
       "    }\n",
       "\n",
       "    .dataframe tbody tr th {\n",
       "        vertical-align: top;\n",
       "    }\n",
       "\n",
       "    .dataframe thead th {\n",
       "        text-align: right;\n",
       "    }\n",
       "</style>\n",
       "<table border=\"1\" class=\"dataframe\">\n",
       "  <thead>\n",
       "    <tr style=\"text-align: right;\">\n",
       "      <th></th>\n",
       "      <th>England total spend (millions USD)</th>\n",
       "      <th>Wales total spend (millions USD)</th>\n",
       "      <th>Northern Ireland total spend (millions USD)</th>\n",
       "      <th>Scotland total spend (millions USD)</th>\n",
       "      <th>England_percap</th>\n",
       "      <th>Wales_percap</th>\n",
       "      <th>Northern Ireland_percap</th>\n",
       "      <th>Scotland_percap</th>\n",
       "    </tr>\n",
       "  </thead>\n",
       "  <tbody>\n",
       "    <tr>\n",
       "      <th>extraction_from_nature</th>\n",
       "      <td>20000000</td>\n",
       "      <td>1000000</td>\n",
       "      <td>2000000</td>\n",
       "      <td>7000000</td>\n",
       "      <td>4.255319e+05</td>\n",
       "      <td>3.333333e+05</td>\n",
       "      <td>6.666667e+05</td>\n",
       "      <td>700000.0</td>\n",
       "    </tr>\n",
       "    <tr>\n",
       "      <th>manufacturing</th>\n",
       "      <td>290000000</td>\n",
       "      <td>4000000</td>\n",
       "      <td>5000000</td>\n",
       "      <td>30000000</td>\n",
       "      <td>6.170213e+06</td>\n",
       "      <td>1.333333e+06</td>\n",
       "      <td>1.666667e+06</td>\n",
       "      <td>3000000.0</td>\n",
       "    </tr>\n",
       "    <tr>\n",
       "      <th>fuel</th>\n",
       "      <td>40000000</td>\n",
       "      <td>2000000</td>\n",
       "      <td>3000000</td>\n",
       "      <td>10000000</td>\n",
       "      <td>8.510638e+05</td>\n",
       "      <td>6.666667e+05</td>\n",
       "      <td>1.000000e+06</td>\n",
       "      <td>1000000.0</td>\n",
       "    </tr>\n",
       "    <tr>\n",
       "      <th>construction</th>\n",
       "      <td>120000000</td>\n",
       "      <td>5000000</td>\n",
       "      <td>5000000</td>\n",
       "      <td>40000000</td>\n",
       "      <td>2.553191e+06</td>\n",
       "      <td>1.666667e+06</td>\n",
       "      <td>1.666667e+06</td>\n",
       "      <td>4000000.0</td>\n",
       "    </tr>\n",
       "    <tr>\n",
       "      <th>trade</th>\n",
       "      <td>290000000</td>\n",
       "      <td>10000000</td>\n",
       "      <td>8000000</td>\n",
       "      <td>50000000</td>\n",
       "      <td>6.170213e+06</td>\n",
       "      <td>3.333333e+06</td>\n",
       "      <td>2.666667e+06</td>\n",
       "      <td>5000000.0</td>\n",
       "    </tr>\n",
       "    <tr>\n",
       "      <th>transport</th>\n",
       "      <td>70000000</td>\n",
       "      <td>5000000</td>\n",
       "      <td>4000000</td>\n",
       "      <td>10000000</td>\n",
       "      <td>1.489362e+06</td>\n",
       "      <td>1.666667e+06</td>\n",
       "      <td>1.333333e+06</td>\n",
       "      <td>1000000.0</td>\n",
       "    </tr>\n",
       "    <tr>\n",
       "      <th>private_services</th>\n",
       "      <td>300000000</td>\n",
       "      <td>20000000</td>\n",
       "      <td>15000000</td>\n",
       "      <td>60000000</td>\n",
       "      <td>6.382979e+06</td>\n",
       "      <td>6.666667e+06</td>\n",
       "      <td>5.000000e+06</td>\n",
       "      <td>6000000.0</td>\n",
       "    </tr>\n",
       "    <tr>\n",
       "      <th>public_services_other</th>\n",
       "      <td>650000000</td>\n",
       "      <td>30000000</td>\n",
       "      <td>25000000</td>\n",
       "      <td>40000000</td>\n",
       "      <td>1.382979e+07</td>\n",
       "      <td>1.000000e+07</td>\n",
       "      <td>8.333333e+06</td>\n",
       "      <td>4000000.0</td>\n",
       "    </tr>\n",
       "  </tbody>\n",
       "</table>\n",
       "</div>"
      ],
      "text/plain": [
       "                        England total spend (millions USD)  \\\n",
       "extraction_from_nature                            20000000   \n",
       "manufacturing                                    290000000   \n",
       "fuel                                              40000000   \n",
       "construction                                     120000000   \n",
       "trade                                            290000000   \n",
       "transport                                         70000000   \n",
       "private_services                                 300000000   \n",
       "public_services_other                            650000000   \n",
       "\n",
       "                        Wales total spend (millions USD)  \\\n",
       "extraction_from_nature                           1000000   \n",
       "manufacturing                                    4000000   \n",
       "fuel                                             2000000   \n",
       "construction                                     5000000   \n",
       "trade                                           10000000   \n",
       "transport                                        5000000   \n",
       "private_services                                20000000   \n",
       "public_services_other                           30000000   \n",
       "\n",
       "                        Northern Ireland total spend (millions USD)  \\\n",
       "extraction_from_nature                                      2000000   \n",
       "manufacturing                                               5000000   \n",
       "fuel                                                        3000000   \n",
       "construction                                                5000000   \n",
       "trade                                                       8000000   \n",
       "transport                                                   4000000   \n",
       "private_services                                           15000000   \n",
       "public_services_other                                      25000000   \n",
       "\n",
       "                        Scotland total spend (millions USD)  England_percap  \\\n",
       "extraction_from_nature                              7000000    4.255319e+05   \n",
       "manufacturing                                      30000000    6.170213e+06   \n",
       "fuel                                               10000000    8.510638e+05   \n",
       "construction                                       40000000    2.553191e+06   \n",
       "trade                                              50000000    6.170213e+06   \n",
       "transport                                          10000000    1.489362e+06   \n",
       "private_services                                   60000000    6.382979e+06   \n",
       "public_services_other                              40000000    1.382979e+07   \n",
       "\n",
       "                        Wales_percap  Northern Ireland_percap  Scotland_percap  \n",
       "extraction_from_nature  3.333333e+05             6.666667e+05         700000.0  \n",
       "manufacturing           1.333333e+06             1.666667e+06        3000000.0  \n",
       "fuel                    6.666667e+05             1.000000e+06        1000000.0  \n",
       "construction            1.666667e+06             1.666667e+06        4000000.0  \n",
       "trade                   3.333333e+06             2.666667e+06        5000000.0  \n",
       "transport               1.666667e+06             1.333333e+06        1000000.0  \n",
       "private_services        6.666667e+06             5.000000e+06        6000000.0  \n",
       "public_services_other   1.000000e+07             8.333333e+06        4000000.0  "
      ]
     },
     "execution_count": 476,
     "metadata": {},
     "output_type": "execute_result"
    }
   ],
   "source": [
    "UK_countries = ['England', 'Wales', 'Northern Ireland', 'Scotland']\n",
    "populations = [47, 3, 3, 10]\n",
    "new_sectors_2 = ['extraction_from_nature', 'manufacturing', 'fuel', 'construction', 'trade', 'transport', 'private_services', 'public_services_other']\n",
    "\n",
    "nations = pd.read_csv('Data/Q7-2.csv').set_index('Unnamed: 0')\n",
    "\n",
    "for i in range(len(UK_countries)):\n",
    "    nations[str(UK_countries[i]) + ' total spend (millions USD)'] = nations[str(UK_countries[i]) + ' total spend (millions USD)'].str.replace(',', '').astype(int)\n",
    "    nations[str(UK_countries[i]) + '_percap'] = nations[str(UK_countries[i]) + ' total spend (millions USD)'] / populations[i]\n",
    "\n",
    "nations.index = new_sectors_2\n",
    "\n",
    "nations\n",
    "\n",
    "# These spends include the government, capital, etc expenditures"
   ]
  },
  {
   "cell_type": "code",
   "execution_count": 499,
   "metadata": {},
   "outputs": [
    {
     "data": {
      "text/html": [
       "<div>\n",
       "<style scoped>\n",
       "    .dataframe tbody tr th:only-of-type {\n",
       "        vertical-align: middle;\n",
       "    }\n",
       "\n",
       "    .dataframe tbody tr th {\n",
       "        vertical-align: top;\n",
       "    }\n",
       "\n",
       "    .dataframe thead th {\n",
       "        text-align: right;\n",
       "    }\n",
       "</style>\n",
       "<table border=\"1\" class=\"dataframe\">\n",
       "  <thead>\n",
       "    <tr style=\"text-align: right;\">\n",
       "      <th></th>\n",
       "      <th></th>\n",
       "      <th>England_c39</th>\n",
       "      <th>Wales_c39</th>\n",
       "      <th>Northern Ireland_c39</th>\n",
       "      <th>Scotland_c39</th>\n",
       "    </tr>\n",
       "    <tr>\n",
       "      <th>0</th>\n",
       "      <th>(nan, 'sector')</th>\n",
       "      <th></th>\n",
       "      <th></th>\n",
       "      <th></th>\n",
       "      <th></th>\n",
       "    </tr>\n",
       "  </thead>\n",
       "  <tbody>\n",
       "    <tr>\n",
       "      <th rowspan=\"2\" valign=\"top\">extraction_from_nature</th>\n",
       "      <th>c01</th>\n",
       "      <td>1.999954e+07</td>\n",
       "      <td>999977.190391</td>\n",
       "      <td>1.999954e+06</td>\n",
       "      <td>6.999840e+06</td>\n",
       "    </tr>\n",
       "    <tr>\n",
       "      <th>c02</th>\n",
       "      <td>4.561922e+02</td>\n",
       "      <td>22.809609</td>\n",
       "      <td>4.561922e+01</td>\n",
       "      <td>1.596673e+02</td>\n",
       "    </tr>\n",
       "    <tr>\n",
       "      <th rowspan=\"3\" valign=\"top\">manufacturing</th>\n",
       "      <th>c03</th>\n",
       "      <td>3.171189e+06</td>\n",
       "      <td>43740.533982</td>\n",
       "      <td>5.467567e+04</td>\n",
       "      <td>3.280540e+05</td>\n",
       "    </tr>\n",
       "    <tr>\n",
       "      <th>c04</th>\n",
       "      <td>1.969158e+06</td>\n",
       "      <td>27160.800423</td>\n",
       "      <td>3.395100e+04</td>\n",
       "      <td>2.037060e+05</td>\n",
       "    </tr>\n",
       "    <tr>\n",
       "      <th>c05</th>\n",
       "      <td>8.084784e+03</td>\n",
       "      <td>111.514268</td>\n",
       "      <td>1.393928e+02</td>\n",
       "      <td>8.363570e+02</td>\n",
       "    </tr>\n",
       "  </tbody>\n",
       "</table>\n",
       "</div>"
      ],
      "text/plain": [
       "                                         England_c39      Wales_c39  \\\n",
       "0                      (nan, 'sector')                                \n",
       "extraction_from_nature c01              1.999954e+07  999977.190391   \n",
       "                       c02              4.561922e+02      22.809609   \n",
       "manufacturing          c03              3.171189e+06   43740.533982   \n",
       "                       c04              1.969158e+06   27160.800423   \n",
       "                       c05              8.084784e+03     111.514268   \n",
       "\n",
       "                                        Northern Ireland_c39  Scotland_c39  \n",
       "0                      (nan, 'sector')                                      \n",
       "extraction_from_nature c01                      1.999954e+06  6.999840e+06  \n",
       "                       c02                      4.561922e+01  1.596673e+02  \n",
       "manufacturing          c03                      5.467567e+04  3.280540e+05  \n",
       "                       c04                      3.395100e+04  2.037060e+05  \n",
       "                       c05                      1.393928e+02  8.363570e+02  "
      ]
     },
     "execution_count": 499,
     "metadata": {},
     "output_type": "execute_result"
    }
   ],
   "source": [
    "UK_countries = ['England', 'Wales', 'Northern Ireland', 'Scotland']\n",
    "populations = [47, 3, 3, 10]\n",
    "new_sectors_2 = ['extraction_from_nature', 'manufacturing', 'fuel', 'construction', 'trade', 'transport', 'private_services', 'public_services_other']\n",
    "\n",
    "nations = pd.read_csv('Data/Q7-2.csv').set_index('Unnamed: 0')\n",
    "\n",
    "for i in range(len(UK_countries)):\n",
    "    nations[str(UK_countries[i]) + ' total spend (millions USD)'] = nations[str(UK_countries[i]) + ' total spend (millions USD)'].str.replace(',', '').astype(int)\n",
    "    nations[str(UK_countries[i]) + '_percap'] = nations[str(UK_countries[i]) + ' total spend (millions USD)'] / populations[i]\n",
    "\n",
    "nations.index = new_sectors_2\n",
    "\n",
    "sector_big = []\n",
    "sector_small = []\n",
    "\n",
    "for i in range(len(new_sectors)):\n",
    "    sector_small += new_sectors[i]\n",
    "    for j in range(len(new_sectors[i])):\n",
    "        a = new_sectors_2[i]\n",
    "        sector_big.append(a)\n",
    "sector_big += ['c26', 'c27']\n",
    "sector_small += ['c26', 'c27']\n",
    "\n",
    "new_Y = Y[-1]['GBR'].reset_index().groupby(\"(nan, 'sector')\").sum(axis=1).drop(\"('country', 'TOT')\", axis=1)\n",
    "c_save = new_Y.loc['c26':'c27', 'c39']\n",
    "\n",
    "new_Y = new_Y.join(pd.DataFrame(sector_big, sector_small))\n",
    "\n",
    "new_Y = new_Y.reset_index().merge(new_Y.groupby(0).sum(axis=1).reset_index(), on=0, how='left')\n",
    " \n",
    "for i in [37, 38, 39, 41, 42]:\n",
    "    new_Y['c'+str(i)+'_prop'] = new_Y['c'+str(i)+'_x'] / new_Y['c'+str(i)+'_y']\n",
    "\n",
    "    \n",
    "new_Y = new_Y[[0, \"(nan, 'sector')\", 'c37_prop', 'c38_prop', 'c39_prop', 'c41_prop', 'c42_prop']]\n",
    "\n",
    "cols = [] \n",
    "nations = nations.reset_index().rename(columns={'index':0})\n",
    "final = new_Y.merge(nations, on=0, how='left').set_index([0, \"(nan, 'sector')\"])\n",
    "for country in UK_countries:\n",
    "    for i in [39]:  # [37, 38, 39, 41, 42]\n",
    "        new_col = country + '_c' + str(i)\n",
    "        final[new_col] = final[country + ' total spend (millions USD)'] * final['c'+str(i)+'_prop']\n",
    "        cols.append(new_col)\n",
    "        \n",
    "final = final[cols]\n",
    "final.head()"
   ]
  },
  {
   "cell_type": "code",
   "execution_count": 501,
   "metadata": {},
   "outputs": [
    {
     "data": {
      "text/html": [
       "<div>\n",
       "<style scoped>\n",
       "    .dataframe tbody tr th:only-of-type {\n",
       "        vertical-align: middle;\n",
       "    }\n",
       "\n",
       "    .dataframe tbody tr th {\n",
       "        vertical-align: top;\n",
       "    }\n",
       "\n",
       "    .dataframe thead th {\n",
       "        text-align: right;\n",
       "    }\n",
       "</style>\n",
       "<table border=\"1\" class=\"dataframe\">\n",
       "  <thead>\n",
       "    <tr style=\"text-align: right;\">\n",
       "      <th></th>\n",
       "      <th>0</th>\n",
       "      <th>England total spend (millions USD)</th>\n",
       "      <th>Wales total spend (millions USD)</th>\n",
       "      <th>Northern Ireland total spend (millions USD)</th>\n",
       "      <th>Scotland total spend (millions USD)</th>\n",
       "      <th>England_percap</th>\n",
       "      <th>Wales_percap</th>\n",
       "      <th>Northern Ireland_percap</th>\n",
       "      <th>Scotland_percap</th>\n",
       "    </tr>\n",
       "  </thead>\n",
       "  <tbody>\n",
       "    <tr>\n",
       "      <th>0</th>\n",
       "      <td>extraction_from_nature</td>\n",
       "      <td>20000000</td>\n",
       "      <td>1000000</td>\n",
       "      <td>2000000</td>\n",
       "      <td>7000000</td>\n",
       "      <td>4.255319e+05</td>\n",
       "      <td>3.333333e+05</td>\n",
       "      <td>6.666667e+05</td>\n",
       "      <td>700000.0</td>\n",
       "    </tr>\n",
       "    <tr>\n",
       "      <th>1</th>\n",
       "      <td>manufacturing</td>\n",
       "      <td>290000000</td>\n",
       "      <td>4000000</td>\n",
       "      <td>5000000</td>\n",
       "      <td>30000000</td>\n",
       "      <td>6.170213e+06</td>\n",
       "      <td>1.333333e+06</td>\n",
       "      <td>1.666667e+06</td>\n",
       "      <td>3000000.0</td>\n",
       "    </tr>\n",
       "    <tr>\n",
       "      <th>2</th>\n",
       "      <td>fuel</td>\n",
       "      <td>40000000</td>\n",
       "      <td>2000000</td>\n",
       "      <td>3000000</td>\n",
       "      <td>10000000</td>\n",
       "      <td>8.510638e+05</td>\n",
       "      <td>6.666667e+05</td>\n",
       "      <td>1.000000e+06</td>\n",
       "      <td>1000000.0</td>\n",
       "    </tr>\n",
       "    <tr>\n",
       "      <th>3</th>\n",
       "      <td>construction</td>\n",
       "      <td>120000000</td>\n",
       "      <td>5000000</td>\n",
       "      <td>5000000</td>\n",
       "      <td>40000000</td>\n",
       "      <td>2.553191e+06</td>\n",
       "      <td>1.666667e+06</td>\n",
       "      <td>1.666667e+06</td>\n",
       "      <td>4000000.0</td>\n",
       "    </tr>\n",
       "    <tr>\n",
       "      <th>4</th>\n",
       "      <td>trade</td>\n",
       "      <td>290000000</td>\n",
       "      <td>10000000</td>\n",
       "      <td>8000000</td>\n",
       "      <td>50000000</td>\n",
       "      <td>6.170213e+06</td>\n",
       "      <td>3.333333e+06</td>\n",
       "      <td>2.666667e+06</td>\n",
       "      <td>5000000.0</td>\n",
       "    </tr>\n",
       "    <tr>\n",
       "      <th>5</th>\n",
       "      <td>transport</td>\n",
       "      <td>70000000</td>\n",
       "      <td>5000000</td>\n",
       "      <td>4000000</td>\n",
       "      <td>10000000</td>\n",
       "      <td>1.489362e+06</td>\n",
       "      <td>1.666667e+06</td>\n",
       "      <td>1.333333e+06</td>\n",
       "      <td>1000000.0</td>\n",
       "    </tr>\n",
       "    <tr>\n",
       "      <th>6</th>\n",
       "      <td>private_services</td>\n",
       "      <td>300000000</td>\n",
       "      <td>20000000</td>\n",
       "      <td>15000000</td>\n",
       "      <td>60000000</td>\n",
       "      <td>6.382979e+06</td>\n",
       "      <td>6.666667e+06</td>\n",
       "      <td>5.000000e+06</td>\n",
       "      <td>6000000.0</td>\n",
       "    </tr>\n",
       "    <tr>\n",
       "      <th>7</th>\n",
       "      <td>public_services_other</td>\n",
       "      <td>650000000</td>\n",
       "      <td>30000000</td>\n",
       "      <td>25000000</td>\n",
       "      <td>40000000</td>\n",
       "      <td>1.382979e+07</td>\n",
       "      <td>1.000000e+07</td>\n",
       "      <td>8.333333e+06</td>\n",
       "      <td>4000000.0</td>\n",
       "    </tr>\n",
       "  </tbody>\n",
       "</table>\n",
       "</div>"
      ],
      "text/plain": [
       "                        0  England total spend (millions USD)  \\\n",
       "0  extraction_from_nature                            20000000   \n",
       "1           manufacturing                           290000000   \n",
       "2                    fuel                            40000000   \n",
       "3            construction                           120000000   \n",
       "4                   trade                           290000000   \n",
       "5               transport                            70000000   \n",
       "6        private_services                           300000000   \n",
       "7   public_services_other                           650000000   \n",
       "\n",
       "   Wales total spend (millions USD)  \\\n",
       "0                           1000000   \n",
       "1                           4000000   \n",
       "2                           2000000   \n",
       "3                           5000000   \n",
       "4                          10000000   \n",
       "5                           5000000   \n",
       "6                          20000000   \n",
       "7                          30000000   \n",
       "\n",
       "   Northern Ireland total spend (millions USD)  \\\n",
       "0                                      2000000   \n",
       "1                                      5000000   \n",
       "2                                      3000000   \n",
       "3                                      5000000   \n",
       "4                                      8000000   \n",
       "5                                      4000000   \n",
       "6                                     15000000   \n",
       "7                                     25000000   \n",
       "\n",
       "   Scotland total spend (millions USD)  England_percap  Wales_percap  \\\n",
       "0                              7000000    4.255319e+05  3.333333e+05   \n",
       "1                             30000000    6.170213e+06  1.333333e+06   \n",
       "2                             10000000    8.510638e+05  6.666667e+05   \n",
       "3                             40000000    2.553191e+06  1.666667e+06   \n",
       "4                             50000000    6.170213e+06  3.333333e+06   \n",
       "5                             10000000    1.489362e+06  1.666667e+06   \n",
       "6                             60000000    6.382979e+06  6.666667e+06   \n",
       "7                             40000000    1.382979e+07  1.000000e+07   \n",
       "\n",
       "   Northern Ireland_percap  Scotland_percap  \n",
       "0             6.666667e+05         700000.0  \n",
       "1             1.666667e+06        3000000.0  \n",
       "2             1.000000e+06        1000000.0  \n",
       "3             1.666667e+06        4000000.0  \n",
       "4             2.666667e+06        5000000.0  \n",
       "5             1.333333e+06        1000000.0  \n",
       "6             5.000000e+06        6000000.0  \n",
       "7             8.333333e+06        4000000.0  "
      ]
     },
     "execution_count": 501,
     "metadata": {},
     "output_type": "execute_result"
    }
   ],
   "source": [
    "nations"
   ]
  },
  {
   "cell_type": "code",
   "execution_count": 541,
   "metadata": {},
   "outputs": [
    {
     "data": {
      "text/html": [
       "<div>\n",
       "<style scoped>\n",
       "    .dataframe tbody tr th:only-of-type {\n",
       "        vertical-align: middle;\n",
       "    }\n",
       "\n",
       "    .dataframe tbody tr th {\n",
       "        vertical-align: top;\n",
       "    }\n",
       "\n",
       "    .dataframe thead th {\n",
       "        text-align: right;\n",
       "    }\n",
       "</style>\n",
       "<table border=\"1\" class=\"dataframe\">\n",
       "  <thead>\n",
       "    <tr style=\"text-align: right;\">\n",
       "      <th></th>\n",
       "      <th>England total spend (millions USD)</th>\n",
       "      <th>Wales total spend (millions USD)</th>\n",
       "      <th>Northern Ireland total spend (millions USD)</th>\n",
       "      <th>Scotland total spend (millions USD)</th>\n",
       "      <th>total</th>\n",
       "    </tr>\n",
       "    <tr>\n",
       "      <th>Unnamed: 0</th>\n",
       "      <th></th>\n",
       "      <th></th>\n",
       "      <th></th>\n",
       "      <th></th>\n",
       "      <th></th>\n",
       "    </tr>\n",
       "  </thead>\n",
       "  <tbody>\n",
       "    <tr>\n",
       "      <th>Extraction from nature</th>\n",
       "      <td>20000000</td>\n",
       "      <td>1000000</td>\n",
       "      <td>2000000</td>\n",
       "      <td>7000000</td>\n",
       "      <td>30000000</td>\n",
       "    </tr>\n",
       "    <tr>\n",
       "      <th>Manufacturing</th>\n",
       "      <td>290000000</td>\n",
       "      <td>4000000</td>\n",
       "      <td>5000000</td>\n",
       "      <td>30000000</td>\n",
       "      <td>329000000</td>\n",
       "    </tr>\n",
       "    <tr>\n",
       "      <th>Fuel</th>\n",
       "      <td>40000000</td>\n",
       "      <td>2000000</td>\n",
       "      <td>3000000</td>\n",
       "      <td>10000000</td>\n",
       "      <td>55000000</td>\n",
       "    </tr>\n",
       "    <tr>\n",
       "      <th>Construction</th>\n",
       "      <td>120000000</td>\n",
       "      <td>5000000</td>\n",
       "      <td>5000000</td>\n",
       "      <td>40000000</td>\n",
       "      <td>170000000</td>\n",
       "    </tr>\n",
       "    <tr>\n",
       "      <th>Trade</th>\n",
       "      <td>290000000</td>\n",
       "      <td>10000000</td>\n",
       "      <td>8000000</td>\n",
       "      <td>50000000</td>\n",
       "      <td>358000000</td>\n",
       "    </tr>\n",
       "    <tr>\n",
       "      <th>Transport</th>\n",
       "      <td>70000000</td>\n",
       "      <td>5000000</td>\n",
       "      <td>4000000</td>\n",
       "      <td>10000000</td>\n",
       "      <td>89000000</td>\n",
       "    </tr>\n",
       "    <tr>\n",
       "      <th>Private services</th>\n",
       "      <td>300000000</td>\n",
       "      <td>20000000</td>\n",
       "      <td>15000000</td>\n",
       "      <td>60000000</td>\n",
       "      <td>395000000</td>\n",
       "    </tr>\n",
       "    <tr>\n",
       "      <th>Public services &amp; other</th>\n",
       "      <td>650000000</td>\n",
       "      <td>30000000</td>\n",
       "      <td>25000000</td>\n",
       "      <td>40000000</td>\n",
       "      <td>745000000</td>\n",
       "    </tr>\n",
       "  </tbody>\n",
       "</table>\n",
       "</div>"
      ],
      "text/plain": [
       "                         England total spend (millions USD)  \\\n",
       "Unnamed: 0                                                    \n",
       "Extraction from nature                             20000000   \n",
       "Manufacturing                                     290000000   \n",
       "Fuel                                               40000000   \n",
       "Construction                                      120000000   \n",
       "Trade                                             290000000   \n",
       "Transport                                          70000000   \n",
       "Private services                                  300000000   \n",
       "Public services & other                           650000000   \n",
       "\n",
       "                         Wales total spend (millions USD)  \\\n",
       "Unnamed: 0                                                  \n",
       "Extraction from nature                            1000000   \n",
       "Manufacturing                                     4000000   \n",
       "Fuel                                              2000000   \n",
       "Construction                                      5000000   \n",
       "Trade                                            10000000   \n",
       "Transport                                         5000000   \n",
       "Private services                                 20000000   \n",
       "Public services & other                          30000000   \n",
       "\n",
       "                         Northern Ireland total spend (millions USD)  \\\n",
       "Unnamed: 0                                                             \n",
       "Extraction from nature                                       2000000   \n",
       "Manufacturing                                                5000000   \n",
       "Fuel                                                         3000000   \n",
       "Construction                                                 5000000   \n",
       "Trade                                                        8000000   \n",
       "Transport                                                    4000000   \n",
       "Private services                                            15000000   \n",
       "Public services & other                                     25000000   \n",
       "\n",
       "                         Scotland total spend (millions USD)      total  \n",
       "Unnamed: 0                                                               \n",
       "Extraction from nature                               7000000   30000000  \n",
       "Manufacturing                                       30000000  329000000  \n",
       "Fuel                                                10000000   55000000  \n",
       "Construction                                        40000000  170000000  \n",
       "Trade                                               50000000  358000000  \n",
       "Transport                                           10000000   89000000  \n",
       "Private services                                    60000000  395000000  \n",
       "Public services & other                             40000000  745000000  "
      ]
     },
     "execution_count": 541,
     "metadata": {},
     "output_type": "execute_result"
    }
   ],
   "source": [
    "# from Matlab\n",
    "\n",
    "spend = pd.read_csv('Data/Q7-2.csv').set_index('Unnamed: 0')\n",
    "for i in range(len(UK_countries)):\n",
    "    spend[str(UK_countries[i]) + ' total spend (millions USD)'] = spend[str(UK_countries[i]) + ' total spend (millions USD)'].str.replace(',', '').astype(int)\n",
    "\n",
    "spend['total'] = spend.sum(axis=1)\n",
    "spend.iloc[:,:-1].div(spend.total, axis=0)\n",
    "\n",
    "spend"
   ]
  },
  {
   "cell_type": "code",
   "execution_count": 617,
   "metadata": {},
   "outputs": [],
   "source": [
    "UKspendbysector = np.zeros((sectors,1))\n",
    "UKspendbyregprop = np.zeros((sectors*regions,1))\n",
    "\n",
    "for i in range(regions):\n",
    "    a=i+1\n",
    "    temp = np.array(Y[-1]['GBR'])[a*sectors-35:a*sectors].sum(1)\n",
    "    temp = temp.reshape(temp.shape[0], 1)\n",
    "    UKspendbysector[:,:] += temp\n",
    "    \n",
    "for i in range(regions):\n",
    "    a=i+1\n",
    "    temp = np.array(Y[-1]['GBR'])[a*sectors-35:a*sectors].sum(1)\n",
    "    temp = temp.reshape(temp.shape[0], 1)\n",
    "    UKspendbyregprop[a*sectors-35:a*sectors,:] = temp / UKspendbysector"
   ]
  },
  {
   "cell_type": "code",
   "execution_count": null,
   "metadata": {},
   "outputs": [],
   "source": [
    "# do this tomorrow!!!!\n",
    "\n",
    "UKspendbydev_short = sectoragg*spendprop.*repmat(UKspendbysector,1,4);\n",
    "\n",
    "UKspendbydev_long = repmat(UKspendbydev_short,regions,1).*repmat(UKhhspendbyregprop,1,4);"
   ]
  },
  {
   "cell_type": "code",
   "execution_count": null,
   "metadata": {},
   "outputs": [],
   "source": [
    "spend = xlsread('WIOD_Exercises_Data.xlsx','Additional data','C39:F46');\n",
    "spendprop = spend./repmat(sum(spend,2),1,4); \n",
    "\n",
    "UKspendbysector = zeros(sectors,1);\n",
    "UKspendbyregprop = zeros(sectors*regions,1);\n",
    "\n",
    "for a = 1:regions\n",
    "    temp = sum(Y(a*sectors-34:a*sectors,(UK*final_demand)-4:UK*final_demand,15),2);\n",
    "    UKspendbysector(1:sectors,:) = UKspendbysector(1:sectors)+temp;\n",
    "end\n",
    "for a = 1:regions\n",
    "    UKspendbyregprop(a*sectors-34:a*sectors,1)=sum(Y(a*sectors-34:a*sectors,(UK*final_demand)-4:UK*final_demand,15),2)./UKspendbysector;\n",
    "end\n",
    "UKspendbydev_short = sectoragg*spendprop.*repmat(UKspendbysector,1,4);\n",
    "\n",
    "UKspendbydev_long = repmat(UKspendbydev_short,regions,1).*repmat(UKhhspendbyregprop,1,4);\n",
    "\n",
    "UKconsGHG_dev(1,1) = (F_GHGx*L*UKspendbydev_long(:,1))+(F_GHG_hh(:,UK,15)*(spend(3,1))/(sum(spend(3,:),2))); \n",
    "UKconsGHG_dev(1,2) = (F_GHGx*L*UKspendbydev_long(:,2))+(F_GHG_hh(:,UK,15)*(spend(3,2))/(sum(spend(3,:),2))); \n",
    "UKconsGHG_dev(1,3) = (F_GHGx*L*UKspendbydev_long(:,3))+(F_GHG_hh(:,UK,15)*(spend(3,3))/(sum(spend(3,:),2))); \n",
    "UKconsGHG_dev(1,4) = (F_GHGx*L*UKspendbydev_long(:,4))+(F_GHG_hh(:,UK,15)*(spend(3,4))/(sum(spend(3,:),2))); \n"
   ]
  }
 ],
 "metadata": {
  "kernelspec": {
   "display_name": "Python 3",
   "language": "python",
   "name": "python3"
  },
  "language_info": {
   "codemirror_mode": {
    "name": "ipython",
    "version": 3
   },
   "file_extension": ".py",
   "mimetype": "text/x-python",
   "name": "python",
   "nbconvert_exporter": "python",
   "pygments_lexer": "ipython3",
   "version": "3.6.6"
  }
 },
 "nbformat": 4,
 "nbformat_minor": 2
}
