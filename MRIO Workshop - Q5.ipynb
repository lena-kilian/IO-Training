{
 "cells": [
  {
   "cell_type": "markdown",
   "metadata": {},
   "source": [
    "# MRIO Workshop"
   ]
  },
  {
   "cell_type": "code",
   "execution_count": 1,
   "metadata": {},
   "outputs": [],
   "source": [
    "import pandas as pd\n",
    "import numpy as np\n",
    "import matplotlib.pyplot as plt\n",
    "import copy as cp"
   ]
  },
  {
   "cell_type": "markdown",
   "metadata": {},
   "source": [
    "# Load Data"
   ]
  },
  {
   "cell_type": "code",
   "execution_count": 225,
   "metadata": {},
   "outputs": [],
   "source": [
    "var_list = ['Z', 'V', 'Y', 'F_NRG', 'F_NRG_hh', 'F_GHG', 'F_GHG_hh']\n",
    "Z, V, Y, F_NRG, F_NRG_hh, F_GHG, F_GHG_hh, year_list = [], [], [], [], [], [], [], []\n",
    "\n",
    "for var in var_list:\n",
    "    for year in range(1995, 2010):\n",
    "        if year not in year_list:\n",
    "            year_list.append(year)\n",
    "        if var.split('_')[0] == 'F' and var.split('_')[-1] != 'hh':\n",
    "            my_col = 0\n",
    "        else:\n",
    "             my_col = [0, 1]\n",
    "        if var.split('_')[-1] == 'hh':\n",
    "            my_header = 0\n",
    "        else:\n",
    "            my_header = [0, 1]\n",
    "            \n",
    "        df = pd.read_csv('Data/clean_data/' + var + '_' + str(year) + '.csv', header=my_header, index_col=my_col).dropna(how='all', axis=0)\n",
    "        eval(var).append(df)\n",
    "        \n",
    "# ensure that indecies match up\n",
    "\n",
    "new_names = {'ROM':'ROU', 'RoW':'ROW', 'c1':'c01', 'c2':'c02', 'c3':'c03', 'c4':'c04', 'c5':'c05', 'c6':'c06', 'c7':'c07', 'c8':'c08', 'c9':'c09'}\n",
    "for i in range(len(year_list)):\n",
    "    Y[i] = Y[i].rename(columns=new_names, index=new_names).swaplevel(axis=1)\n",
    "    Y[i] = Y[i].reindex(sorted(Y[i].columns), axis=1).reindex(sorted(Y[i].index), axis=0)\n",
    "    \n",
    "    Z[i] = Z[i].rename(columns=new_names, index=new_names)\n",
    "    Z[i] = Z[i].reindex(sorted(Z[i].columns), axis=1).reindex(sorted(Z[i].index), axis=0)\n",
    "    \n",
    "    V[i] = V[i].rename(columns=new_names, index=new_names)\n",
    "    V[i] = V[i].reindex(sorted(V[i].columns), axis=1).reindex(sorted(V[i].index), axis=0)\n",
    "    \n",
    "    F_NRG[i] = F_NRG[i].rename(columns=new_names, index=new_names)\n",
    "    F_NRG[i] = F_NRG[i].reindex(sorted(F_NRG[i].columns), axis=1)\n",
    "    F_GHG[i] = F_GHG[i].rename(columns=new_names, index=new_names)\n",
    "    F_GHG[i] = F_GHG[i].reindex(sorted(F_GHG[i].columns), axis=1)\n",
    "    \n",
    "    F_NRG_hh[i] = F_NRG_hh[i].reindex(Y[i].index.levels[0], axis=1)\n",
    "    F_GHG_hh[i] = F_GHG_hh[i].reindex(Y[i].index.levels[0], axis=1)"
   ]
  },
  {
   "cell_type": "markdown",
   "metadata": {},
   "source": [
    "# 5. Calculating energy and emissions consumption-based accounts\n",
    "\n",
    "For reference, use:  \n",
    "http://www.see.leeds.ac.uk/teaching-resources/exercise-pages/l4-input-output-tutorial-201617/  \n",
    "http://mathesaurus.sourceforge.net/matlab-numpy.html "
   ]
  },
  {
   "cell_type": "markdown",
   "metadata": {},
   "source": [
    "### 5.1. The UK's production and consumption based GHG emissions from 1995-2009"
   ]
  },
  {
   "cell_type": "code",
   "execution_count": 260,
   "metadata": {},
   "outputs": [],
   "source": [
    "UK_consumption = []\n",
    "UK_production = []\n",
    "for i in range(len(year_list)):\n",
    "    # territorial emissions\n",
    "    UK_prod = float(F_GHG[i]['GBR'].sum(axis=1)) + float(F_GHG_hh[i]['GBR'])\n",
    "    UK_production.append(UK_prod)\n",
    "\n",
    "    # consumption based emissions\n",
    "    x = np.array(Y[i].sum(axis=1) + Z[i].sum(axis=1))\n",
    "    for j in range(len(x)):\n",
    "        if x[j]==0:\n",
    "            x[j]=0.000000001 # do this to avoid trying to divide my zero later\n",
    "        else:\n",
    "            pass\n",
    "    x = x.reshape(1435,1)\n",
    "    x_t = np.matrix.transpose(x)\n",
    "    big_x = x_t.repeat(x_t.shape[1], axis=0)\n",
    "    \n",
    "    A = np.array(Z[i]) / big_x\n",
    "    I = np.identity(len(Z[i]))\n",
    "    L = np.linalg.inv(I-A)\n",
    "    F_GHGx = np.array(F_GHG[i]) / (x.reshape(1, 1435))\n",
    "    \n",
    "    Y_UK = np.array(Y[i][['GBR']]).sum(axis=1).reshape(1435, 1)\n",
    "\n",
    "    temp = np.matmul(F_GHGx, L)\n",
    "    temp = np.matmul(temp, Y_UK)\n",
    "    \n",
    "    UK_cons = temp + float(F_GHG_hh[i]['GBR'])\n",
    "    UK_consumption.append(UK_cons[0][0])"
   ]
  },
  {
   "cell_type": "code",
   "execution_count": 261,
   "metadata": {},
   "outputs": [],
   "source": [
    "UK_co2e = pd.DataFrame()\n",
    "UK_co2e['Consumption'] = UK_consumption\n",
    "UK_co2e['Production'] = UK_production\n",
    "UK_co2e['Year'] = year_list"
   ]
  },
  {
   "cell_type": "code",
   "execution_count": 262,
   "metadata": {},
   "outputs": [
    {
     "data": {
      "text/plain": [
       "Text(0.5,1,'UK')"
      ]
     },
     "execution_count": 262,
     "metadata": {},
     "output_type": "execute_result"
    },
    {
     "data": {
      "image/png": "[encoded data removed]",
      "text/plain": [
       "<Figure size 720x360 with 1 Axes>"
      ]
     },
     "metadata": {
      "needs_background": "light"
     },
     "output_type": "display_data"
    }
   ],
   "source": [
    "fig, ax = plt.subplots(ncols=1, nrows=1, figsize=(10, 5))\n",
    "\n",
    "UK_co2e.plot(ax=ax, x='Year', y='Production')\n",
    "UK_co2e.plot(ax=ax, x='Year', y='Consumption')\n",
    "ax.set_xlabel('Year', fontsize=12)\n",
    "ax.set_ylabel('CO2e', fontsize=12)\n",
    "ax.set_ylim([0,1200000])\n",
    "ax.set_title('UK')"
   ]
  },
  {
   "cell_type": "markdown",
   "metadata": {},
   "source": [
    "### 5.2. What proportion of the Global total is the production and consumption energy account of the BRIC countries (Brazil, Russia, India & China) for the years 1995-2009?"
   ]
  },
  {
   "cell_type": "code",
   "execution_count": 263,
   "metadata": {},
   "outputs": [],
   "source": [
    "BRIC_countries = ['BRA', 'RUS', 'IND', 'CHN']\n",
    "country_list = F_NRG_hh[0].columns.tolist()\n",
    "\n",
    "BRIC_consumption = []\n",
    "BRIC_production = []\n",
    "for i in range(len(year_list)):\n",
    "    # territorial emissions\n",
    "    BRIC_prod = float(F_NRG[i][BRIC_countries].sum(axis=1)) + float(F_NRG_hh[i][BRIC_countries].sum(axis=1))\n",
    "    global_prod = float(F_NRG[i].sum(axis=1)) + float(F_NRG_hh[i].sum(axis=1))\n",
    "    BRIC_production.append(BRIC_prod/global_prod * 100)\n",
    "\n",
    "    # consumption based emissions\n",
    "    x = np.array(Y[i].sum(axis=1) + Z[i].sum(axis=1))\n",
    "    for j in range(len(x)):\n",
    "        if x[j]==0:\n",
    "            x[j]=0.000000001 # do this to avoid trying to divide my zero later\n",
    "        else:\n",
    "            pass\n",
    "    x = x.reshape(1435,1)\n",
    "    x_t = np.matrix.transpose(x)\n",
    "    big_x = x_t.repeat(x_t.shape[1], axis=0)\n",
    "    \n",
    "    A = np.array(Z[i]) / big_x\n",
    "    I = np.identity(len(Z[i]))\n",
    "    L = np.linalg.inv(I-A)\n",
    "    F_NRGx = np.array(F_NRG[i]) / (x.reshape(1, 1435))\n",
    "    \n",
    "    temp_1 = np.matmul(F_NRGx, L)\n",
    "    \n",
    "    BRIC_cons = 0\n",
    "    global_cons = 0\n",
    "    for c in country_list:\n",
    "        Y_temp = np.array(Y[i][[c]]).sum(axis=1).reshape(1435, 1)\n",
    "        temp_2 = np.matmul(temp_1, Y_temp)\n",
    "        cons = temp_2 + float(F_NRG_hh[i][[c]].sum(axis=1))\n",
    "        global_cons += cons[0][0]\n",
    "        if c in BRIC_countries:\n",
    "            BRIC_cons += cons[0][0]\n",
    "        \n",
    "    BRIC_consumption.append(BRIC_cons/global_cons * 100)"
   ]
  },
  {
   "cell_type": "code",
   "execution_count": 264,
   "metadata": {},
   "outputs": [],
   "source": [
    "BRIC_energy = pd.DataFrame()\n",
    "BRIC_energy['Consumption'] = BRIC_consumption\n",
    "BRIC_energy['Production'] = BRIC_production\n",
    "BRIC_energy['Year'] = year_list"
   ]
  },
  {
   "cell_type": "code",
   "execution_count": 265,
   "metadata": {},
   "outputs": [
    {
     "data": {
      "text/plain": [
       "Text(0.5,1,'BRIC Countries')"
      ]
     },
     "execution_count": 265,
     "metadata": {},
     "output_type": "execute_result"
    },
    {
     "data": {
      "image/png": "[encoded data removed]",
      "text/plain": [
       "<Figure size 720x360 with 1 Axes>"
      ]
     },
     "metadata": {
      "needs_background": "light"
     },
     "output_type": "display_data"
    }
   ],
   "source": [
    "fig, ax = plt.subplots(ncols=1, nrows=1, figsize=(10, 5))\n",
    "\n",
    "BRIC_energy.plot(ax=ax, x='Year', y='Production')\n",
    "BRIC_energy.plot(ax=ax, x='Year', y='Consumption')\n",
    "ax.set_xlabel('Year', fontsize=12)\n",
    "ax.set_ylabel('%', fontsize=12)\n",
    "ax.set_ylim([0,35])\n",
    "ax.set_title('BRIC Countries')"
   ]
  },
  {
   "cell_type": "markdown",
   "metadata": {},
   "source": [
    "### 5.3. What proportion of the UK’s GHG footprint is sourced from BRIC nations?"
   ]
  },
  {
   "cell_type": "code",
   "execution_count": 266,
   "metadata": {},
   "outputs": [],
   "source": [
    "BRIC_countries = ['BRA', 'RUS', 'IND', 'CHN']\n",
    "UK_BRIC = []\n",
    "sectors = 35\n",
    "\n",
    "for i in range(len(year_list)):\n",
    "    x = np.array(Z[i].sum(axis=1) + Y[i].sum(axis=1))\n",
    "    for j in range(len(x)):\n",
    "        if x[j]==0:\n",
    "            x[j]=0.000000001 # do this to avoid trying to divide my zero later\n",
    "        else:\n",
    "            pass\n",
    "    x = x.reshape(1435,1)\n",
    "    x_t = np.matrix.transpose(x)\n",
    "    big_x = x_t.repeat(x_t.shape[1], axis=0)\n",
    "    \n",
    "    A = np.array(Z[i]) / big_x\n",
    "    I = np.identity(len(Z[i]))\n",
    "    L = np.linalg.inv(I-A)\n",
    "    F_GHGx = np.array(F_GHG[i]) / (x.reshape(1, 1435))\n",
    "    \n",
    "    Y_UK = np.array(Y[i][['GBR']]).sum(axis=1).reshape(1435, 1)\n",
    "\n",
    "    temp = np.matmul(np.diag(F_GHGx[0]), L)\n",
    "    temp = np.matmul(temp, np.diag(Y_UK.reshape(1, 1435)[0]))\n",
    "    temp = pd.DataFrame(temp, index=Z[0].index, columns=Z[0].columns) # change back into df to more easily extract the countries\n",
    "    \n",
    "    BRIC_value = 0\n",
    "    for c in BRIC_countries:\n",
    "        temp_1 = temp.T[c].sum().sum()\n",
    "        BRIC_value += temp_1\n",
    "    \n",
    "    UK_BRIC.append(BRIC_value/UK_consumption[i] * 100)   "
   ]
  },
  {
   "cell_type": "code",
   "execution_count": 267,
   "metadata": {},
   "outputs": [],
   "source": [
    "UK_BRIC_ghg = pd.DataFrame()\n",
    "UK_BRIC_ghg['BRIC_prop'] = UK_BRIC\n",
    "UK_BRIC_ghg['Year'] = year_list"
   ]
  },
  {
   "cell_type": "code",
   "execution_count": 268,
   "metadata": {},
   "outputs": [
    {
     "data": {
      "text/plain": [
       "Text(0.5,1,'UK GHG - BRIC Proportion')"
      ]
     },
     "execution_count": 268,
     "metadata": {},
     "output_type": "execute_result"
    },
    {
     "data": {
      "image/png": "[encoded data removed]",
      "text/plain": [
       "<Figure size 720x360 with 1 Axes>"
      ]
     },
     "metadata": {
      "needs_background": "light"
     },
     "output_type": "display_data"
    }
   ],
   "source": [
    "fig, ax = plt.subplots(ncols=1, nrows=1, figsize=(10, 5))\n",
    "\n",
    "UK_BRIC_ghg.plot(ax=ax, x='Year', y='BRIC_prop')\n",
    "ax.set_xlabel('Year', fontsize=12)\n",
    "ax.set_ylabel('%', fontsize=12)\n",
    "ax.set_ylim([0,18])\n",
    "ax.set_title('UK GHG - BRIC Proportion')"
   ]
  },
  {
   "cell_type": "markdown",
   "metadata": {},
   "source": [
    "### 5.4. What proportion of UK’s GHG footprint can be shown to originate from the agricultural industry?"
   ]
  },
  {
   "cell_type": "code",
   "execution_count": 269,
   "metadata": {},
   "outputs": [],
   "source": [
    "UK_agriculture = []\n",
    "\n",
    "for i in range(len(year_list)):\n",
    "    x = np.array(Y[i].sum(axis=1) + Z[i].sum(axis=1))\n",
    "    for j in range(len(x)):\n",
    "        if x[j]==0:\n",
    "            x[j]=0.000000001 # do this to avoid trying to divide my zero later\n",
    "        else:\n",
    "            pass\n",
    "    x = x.reshape(1435,1)\n",
    "    x_t = np.matrix.transpose(x)\n",
    "    big_x = x_t.repeat(x_t.shape[1], axis=0)\n",
    "    \n",
    "    A = np.array(Z[i]) / big_x\n",
    "    I = np.identity(len(Z[i]))\n",
    "    L = np.linalg.inv(I-A)\n",
    "    F_GHGx = np.array(F_GHG[i]) / (x.reshape(1, 1435))\n",
    "    \n",
    "    Y_UK = np.array(Y[i][['GBR']]).sum(axis=1).reshape(1435, 1)\n",
    "\n",
    "    temp = np.matmul(np.diag(F_GHGx[0]), L)\n",
    "    temp = np.matmul(temp, np.diag(Y_UK.reshape(1, 1435)[0]))\n",
    "    temp = pd.DataFrame(temp, index=Z[0].index, columns=Z[0].columns) # change back into df to more easily extract the countries\n",
    "    \n",
    "    agri_value = temp.T.swaplevel(axis=1)['c01'].sum().sum()\n",
    "    \n",
    "    UK_agriculture.append(agri_value/UK_consumption[i] * 100)   "
   ]
  },
  {
   "cell_type": "code",
   "execution_count": 270,
   "metadata": {},
   "outputs": [],
   "source": [
    "UK_agri_ghg = pd.DataFrame()\n",
    "UK_agri_ghg['agri_prop'] = UK_agriculture\n",
    "UK_agri_ghg['Year'] = year_list"
   ]
  },
  {
   "cell_type": "code",
   "execution_count": 271,
   "metadata": {},
   "outputs": [
    {
     "data": {
      "text/plain": [
       "Text(0.5,1,'UK GHG - Agriculture Proportion')"
      ]
     },
     "execution_count": 271,
     "metadata": {},
     "output_type": "execute_result"
    },
    {
     "data": {
      "image/png": "[encoded data removed]",
      "text/plain": [
       "<Figure size 720x360 with 1 Axes>"
      ]
     },
     "metadata": {
      "needs_background": "light"
     },
     "output_type": "display_data"
    }
   ],
   "source": [
    "fig, ax = plt.subplots(ncols=1, nrows=1, figsize=(10, 5))\n",
    "\n",
    "UK_agri_ghg.plot(ax=ax, x='Year', y='agri_prop')\n",
    "ax.set_xlabel('Year', fontsize=12)\n",
    "ax.set_ylabel('%', fontsize=12)\n",
    "ax.set_ylim([0,16])\n",
    "ax.set_title('UK GHG - Agriculture Proportion')"
   ]
  },
  {
   "cell_type": "markdown",
   "metadata": {},
   "source": [
    "### 6.1. Make Y_G8 a ‘1 x 1435’ vector showing the final demand of the G8 nations and use this to find the total energy footprint of G8 nations "
   ]
  },
  {
   "cell_type": "code",
   "execution_count": 272,
   "metadata": {},
   "outputs": [],
   "source": [
    "G8 = ['CAN','DEU','FRA','GBR','ITA','JPN','RUS','USA']\n",
    "country = Y[0].columns.levels[0].tolist()\n",
    "regions = len(country)\n",
    "final_demand = len(Y[0].columns.levels[1].tolist())\n",
    "G8_Y_agg = np.zeros((regions*final_demand, 1))\n",
    "G8_lookup = np.zeros((regions,1))\n",
    "\n",
    "for i in range(len(country)):\n",
    "    if country[i] in G8:\n",
    "        G8_lookup[i] = 1\n",
    "        \n",
    "for i in range(len(G8_lookup)):\n",
    "    j = i+1 # because indexing starts at 0 in python\n",
    "    if G8_lookup[i] == 1:\n",
    "        G8_Y_agg[(j*final_demand)-final_demand:j*final_demand] = np.ones((final_demand,1))"
   ]
  },
  {
   "cell_type": "code",
   "execution_count": 273,
   "metadata": {},
   "outputs": [],
   "source": [
    "G8_energy_cons = []\n",
    "\n",
    "for i in range(len(year_list)):\n",
    "    x = np.array(Y[i].sum(axis=1) + Z[i].sum(axis=1))\n",
    "    for j in range(len(x)):\n",
    "        if x[j]==0:\n",
    "            x[j]=0.000000001 # do this to avoid trying to divide my zero later\n",
    "        else:\n",
    "            pass\n",
    "    x = x.reshape(1435,1)\n",
    "    x_t = np.matrix.transpose(x)\n",
    "    big_x = x_t.repeat(x_t.shape[1], axis=0)\n",
    "    \n",
    "    A = np.array(Z[i]) / big_x\n",
    "    I = np.identity(len(Z[i]))\n",
    "    L = np.linalg.inv(I-A)\n",
    "    F_NRGx = np.array(F_NRG[i]) / (x.reshape(1, 1435))\n",
    "    \n",
    "    Y_G8 = np.matmul(np.array(Y[i]),  G8_Y_agg)\n",
    "    \n",
    "    temp = np.matmul(F_NRGx, L)\n",
    "    temp = np.matmul(temp, Y_G8)\n",
    "    \n",
    "    temp_1 = np.matmul(np.array(F_NRG_hh[i]), G8_lookup)\n",
    "    \n",
    "    G8_cons = temp[0][0] + temp_1[0][0]\n",
    "    \n",
    "    G8_energy_cons.append(G8_cons)"
   ]
  },
  {
   "cell_type": "code",
   "execution_count": 274,
   "metadata": {},
   "outputs": [],
   "source": [
    "G8_cons_nrg = pd.DataFrame()\n",
    "G8_cons_nrg['G8'] = G8_energy_cons\n",
    "G8_cons_nrg['Year'] = year_list"
   ]
  },
  {
   "cell_type": "code",
   "execution_count": 275,
   "metadata": {},
   "outputs": [
    {
     "data": {
      "text/plain": [
       "Text(0.5,1,'G8')"
      ]
     },
     "execution_count": 275,
     "metadata": {},
     "output_type": "execute_result"
    },
    {
     "data": {
      "image/png": "[encoded data removed]",
      "text/plain": [
       "<Figure size 720x360 with 1 Axes>"
      ]
     },
     "metadata": {
      "needs_background": "light"
     },
     "output_type": "display_data"
    }
   ],
   "source": [
    "fig, ax = plt.subplots(ncols=1, nrows=1, figsize=(10, 5))\n",
    "\n",
    "G8_cons_nrg.plot(ax=ax, x='Year', y='G8')\n",
    "ax.set_xlabel('Year', fontsize=12)\n",
    "ax.set_ylabel('Energy', fontsize=12)\n",
    "ax.set_ylim([50000000, 400000000])\n",
    "ax.set_title('G8')"
   ]
  },
  {
   "cell_type": "markdown",
   "metadata": {},
   "source": [
    "### 6.2. What proportion of the UK energy footprint is sourced from G8 nations?\n",
    "\n",
    "Using aggregate matrices"
   ]
  },
  {
   "cell_type": "code",
   "execution_count": 276,
   "metadata": {},
   "outputs": [],
   "source": [
    "G8 = ['CAN','DEU','FRA','GBR','ITA','JPN','RUS','USA']\n",
    "country = Y[0].columns.levels[0].tolist()\n",
    "regions = len(country)\n",
    "sectors = len(Z[0].columns.levels[1].tolist())\n",
    "\n",
    "G8_lookup = np.zeros((regions,1))\n",
    "G8_F_agg = np.zeros((1,regions*sectors))\n",
    "\n",
    "for i in range(len(country)):\n",
    "    if country[i] in G8:\n",
    "        G8_lookup[i] = 1\n",
    "        \n",
    "for i in range(len(G8_lookup)):\n",
    "    j = i+1 # because indexing starts at 0 in python\n",
    "    if G8_lookup[i] == 1:\n",
    "        G8_F_agg[0][(j*sectors)-sectors:j*sectors] = np.ones((sectors,1)).reshape(1, sectors)[0]"
   ]
  },
  {
   "cell_type": "code",
   "execution_count": 277,
   "metadata": {},
   "outputs": [],
   "source": [
    "UK_G8_prop = []\n",
    "\n",
    "for i in range(len(year_list)):\n",
    "    x = np.array(Y[i].sum(axis=1) + Z[i].sum(axis=1))\n",
    "    for j in range(len(x)):\n",
    "        if x[j]==0:\n",
    "            x[j]=0.000000001 # do this to avoid trying to divide my zero later\n",
    "        else:\n",
    "            pass\n",
    "    x = x.reshape(1435,1)\n",
    "    x_t = np.matrix.transpose(x)\n",
    "    big_x = x_t.repeat(x_t.shape[1], axis=0)\n",
    "    \n",
    "    A = np.array(Z[i]) / big_x\n",
    "    I = np.identity(len(Z[i]))\n",
    "    L = np.linalg.inv(I-A)\n",
    "    \n",
    "    Y_UK = np.array(Y[i][['GBR']]).sum(axis=1).reshape(1435, 1)\n",
    "    \n",
    "    # UK energy footprint\n",
    "    F_NRGx = np.array(F_NRG[i]) / (x.reshape(1, 1435))  \n",
    "    temp = np.matmul(F_NRGx, L)\n",
    "    temp = np.matmul(temp, Y_UK)\n",
    "    UK_cons = temp + float(F_NRG_hh[i]['GBR'])\n",
    "    \n",
    "    # from G8\n",
    "    F_G8 = G8_F_agg * np.array(F_NRG[i])\n",
    "    F_G8x = F_G8 / (x.reshape(1, 1435))\n",
    "    temp = np.matmul(F_G8x, L)\n",
    "    temp = np.matmul(temp, Y_UK)\n",
    "    \n",
    "    a = temp[0][0] / UK_cons[0][0] * 100\n",
    "    \n",
    "    UK_G8_prop.append(a)"
   ]
  },
  {
   "cell_type": "code",
   "execution_count": 278,
   "metadata": {},
   "outputs": [
    {
     "data": {
      "text/plain": [
       "Text(0.5,1,'UK NRG - G8 Proportion')"
      ]
     },
     "execution_count": 278,
     "metadata": {},
     "output_type": "execute_result"
    },
    {
     "data": {
      "image/png": "[encoded data removed]",
      "text/plain": [
       "<Figure size 720x360 with 1 Axes>"
      ]
     },
     "metadata": {
      "needs_background": "light"
     },
     "output_type": "display_data"
    }
   ],
   "source": [
    "UK_G8_prop_df = pd.DataFrame()\n",
    "UK_G8_prop_df['G8_prop'] = UK_G8_prop\n",
    "UK_G8_prop_df['Year'] = year_list\n",
    "\n",
    "fig, ax = plt.subplots(ncols=1, nrows=1, figsize=(10, 5))\n",
    "\n",
    "UK_G8_prop_df.plot(ax=ax, x='Year', y='G8_prop')\n",
    "ax.set_xlabel('Year', fontsize=12)\n",
    "ax.set_ylabel('%', fontsize=12)\n",
    "ax.set_ylim([0,70])\n",
    "ax.set_title('UK NRG - G8 Proportion')"
   ]
  },
  {
   "cell_type": "markdown",
   "metadata": {},
   "source": [
    "### 6.3. Making a smaller version of the WIOD matrix using aggregation matrices"
   ]
  },
  {
   "cell_type": "code",
   "execution_count": 279,
   "metadata": {},
   "outputs": [],
   "source": [
    "G8 = ['CAN','DEU','FRA','GBR','ITA','JPN','RUS','USA']\n",
    "country = Y[0].columns.levels[0].tolist()\n",
    "regions = len(country)\n",
    "sectors = len(Z[0].columns.levels[1].tolist())\n",
    "final_demand = len(Y[1].columns.levels[1].tolist())\n",
    "\n",
    "G8_lookup = np.zeros((regions, 1))\n",
    "G8_agg = np.zeros((2*sectors, regions*sectors))\n",
    "G8_Y_agg = np.zeros((2*final_demand, final_demand*regions))\n",
    "    \n",
    "for i in range(len(country)):\n",
    "    if country[i] in G8:\n",
    "        G8_lookup[i] = 1\n",
    "        \n",
    "for i in range(len(G8_lookup)):\n",
    "    j = i+1 # because indexing starts at 0 in python\n",
    "    if G8_lookup[i] == 1:\n",
    "        G8_agg[0:sectors, j*sectors-(sectors):j*sectors] = np.identity(sectors)\n",
    "        G8_Y_agg[0:final_demand, j*final_demand-(final_demand):j*final_demand] = np.identity(final_demand)\n",
    "        \n",
    "    else:\n",
    "        G8_agg[sectors:2*sectors, j*sectors-(sectors):j*sectors] = np.identity(sectors)\n",
    "        G8_Y_agg[final_demand:2*final_demand, j*final_demand-(final_demand):j*final_demand] = np.identity(final_demand)\n",
    "        \n",
    "G8_Y_agg = np.matrix.transpose(G8_Y_agg)"
   ]
  },
  {
   "cell_type": "code",
   "execution_count": 280,
   "metadata": {},
   "outputs": [],
   "source": [
    "G8_energy_cons_agg = []\n",
    "new_Z_list = []\n",
    "new_F_list = []\n",
    "new_Y_list = []\n",
    "\n",
    "for i in range(len(year_list)):\n",
    "    C_t = np.matrix.transpose(G8_agg)\n",
    "    new_Z = np.matmul(np.matmul(G8_agg, Z[i]), C_t)\n",
    "    new_F = np.matmul(np.array(F_NRG[i]), C_t)\n",
    "    new_Y = np.matmul(np.matmul(G8_agg, Y[i]), G8_Y_agg)\n",
    "    \n",
    "    new_Z_list.append(new_Z)\n",
    "    new_F_list.append(new_F)\n",
    "    new_Y_list.append(new_Y)\n",
    "    \n",
    "    x = np.array(new_Y.sum(axis=1) + new_Z.sum(axis=1))\n",
    "    for j in range(len(x)):\n",
    "        if x[j]==0:\n",
    "            x[j]=0.000000001 # do this to avoid trying to divide my zero later\n",
    "        else:\n",
    "            pass\n",
    "    x = x.reshape(70, 1)\n",
    "    x_t = np.matrix.transpose(x)\n",
    "    big_x = x_t.repeat(x_t.shape[1], axis=0)\n",
    "    \n",
    "    A = np.array(new_Z) / big_x\n",
    "    I = np.identity(len(new_Z))\n",
    "    L = np.linalg.inv(I-A)\n",
    "    \n",
    "    Y_G8 = np.array(new_Y[:, :5]).sum(axis=1)\n",
    "    Y_G8 = Y_G8.reshape(Y_G8.shape[0], 1)\n",
    "    \n",
    "    # G8 energy footprint\n",
    "    F_NRGx = new_F / np.matrix.transpose(x)\n",
    "    temp = np.matmul(F_NRGx, L)\n",
    "    temp = np.matmul(temp, Y_G8)\n",
    "    G8_cons = temp + float(F_NRG_hh[i][G8].sum(axis=1))\n",
    "    \n",
    "    G8_energy_cons_agg.append(G8_cons[0][0])"
   ]
  },
  {
   "cell_type": "code",
   "execution_count": 281,
   "metadata": {},
   "outputs": [
    {
     "data": {
      "text/plain": [
       "Text(0.5,1,'UK NRG - G8 Proportion')"
      ]
     },
     "execution_count": 281,
     "metadata": {},
     "output_type": "execute_result"
    },
    {
     "data": {
      "image/png": "[encoded data removed]",
      "text/plain": [
       "<Figure size 720x360 with 1 Axes>"
      ]
     },
     "metadata": {
      "needs_background": "light"
     },
     "output_type": "display_data"
    }
   ],
   "source": [
    "G8_cons_nrg['G8_agg'] = G8_energy_cons_agg\n",
    "\n",
    "fig, ax = plt.subplots(ncols=1, nrows=1, figsize=(10, 5))\n",
    "\n",
    "G8_cons_nrg.plot(ax=ax, x='Year', y='G8')\n",
    "G8_cons_nrg.plot(ax=ax, x='Year', y='G8_agg')\n",
    "ax.set_xlabel('Year', fontsize=12)\n",
    "ax.set_ylabel('Energy', fontsize=12)\n",
    "ax.set_ylim([0, 400000000])\n",
    "ax.set_title('UK NRG - G8 Proportion')"
   ]
  },
  {
   "cell_type": "markdown",
   "metadata": {},
   "source": [
    "### 6.4. Making an even smaller version of the WIOD matrix"
   ]
  },
  {
   "cell_type": "code",
   "execution_count": 282,
   "metadata": {},
   "outputs": [],
   "source": [
    "file_loc = 'Data/WIOT/wiot' + str(1995)[2:] + '_row_apr12.xlsx'\n",
    "    \n",
    "# import data\n",
    "df = pd.read_excel(file_loc, index_col=None, header=None).iloc[2:6].T\n",
    "df = df.loc[df[4] == 'AUS']\n",
    "df[4] = df[5]\n",
    "df.loc[df[5].map(str).apply(len) == 2, 4] = 'c0' + df[5].str[-1]\n",
    "df[2] = df[2].astype(str)"
   ]
  },
  {
   "cell_type": "code",
   "execution_count": 283,
   "metadata": {},
   "outputs": [],
   "source": [
    "extraction_from_nature = ['AtB', 'C']\n",
    "manufacturing = ['15t16', '17t18', '19', '20', '21t22', '23', '24', '25', '26', '27t28', '29', '30t33', '34t35', '36t37']\n",
    "fuel = ['E']\n",
    "construction = ['F']\n",
    "trade = ['50', '51', '52', 'H']\n",
    "transport = ['60', '61', '62', '63', '64']\n",
    "private_services = ['J', '70', '71t74']\n",
    "public_services_other = ['L', 'M', 'N', 'O', 'P']\n",
    "\n",
    "new_sectors = [extraction_from_nature, manufacturing, fuel, construction, trade, transport, private_services, public_services_other]"
   ]
  },
  {
   "cell_type": "code",
   "execution_count": 284,
   "metadata": {},
   "outputs": [],
   "source": [
    "dictionary = dict(zip(df[2].tolist(), df[4].tolist()))   \n",
    "\n",
    "for sector in new_sectors:\n",
    "    for i in range(len(sector)):\n",
    "        sector[i] = dictionary[sector[i]]"
   ]
  },
  {
   "cell_type": "code",
   "execution_count": 285,
   "metadata": {},
   "outputs": [],
   "source": [
    "#### make aggreagtion matrix for new secotrs\n",
    "\n",
    "region_names = ['G8', 'ROW']\n",
    "regions = len(region_names)\n",
    "old_sector_no = int(new_Z_list[0].shape[0] / regions)\n",
    "new_sector_no = len(new_sectors)\n",
    "sectors = df[5].tolist()\n",
    "\n",
    "sector_agg = np.zeros((new_sector_no * regions, old_sector_no * regions))\n",
    "sector_lookup = np.zeros((new_sector_no, old_sector_no))\n",
    "\n",
    "k=0\n",
    "for i in range(len(new_sectors)):\n",
    "    sector_lookup[i, k:k+len(new_sectors[i])] = np.ones((1, len(new_sectors[i])))\n",
    "    k += len(new_sectors[i])\n",
    "\n",
    "sector_agg[:sector_lookup.shape[0], :sector_lookup.shape[1]] = sector_lookup\n",
    "sector_agg[sector_lookup.shape[0]:, sector_lookup.shape[1]:] = sector_lookup"
   ]
  },
  {
   "cell_type": "code",
   "execution_count": 286,
   "metadata": {},
   "outputs": [
    {
     "data": {
      "text/plain": [
       "Text(0.5,1,'UK NRG - G8 Proportion')"
      ]
     },
     "execution_count": 286,
     "metadata": {},
     "output_type": "execute_result"
    },
    {
     "data": {
      "image/png": "[encoded data removed]",
      "text/plain": [
       "<Figure size 720x360 with 1 Axes>"
      ]
     },
     "metadata": {
      "needs_background": "light"
     },
     "output_type": "display_data"
    }
   ],
   "source": [
    "# using previous answer\n",
    "G8_energy_cons_agg2 = []\n",
    "\n",
    "for i in range(len(year_list)):\n",
    "    C_t = np.matrix.transpose(sector_agg)\n",
    "    new_Z = np.matmul(np.matmul(sector_agg, new_Z_list[i]), C_t)\n",
    "    new_F = np.matmul(new_F_list[i], C_t)\n",
    "    new_Y = np.matmul(sector_agg, new_Y_list[i])\n",
    "    \n",
    "    x = np.array(new_Y.sum(axis=1) + new_Z.sum(axis=1))\n",
    "    for j in range(len(x)):\n",
    "        if x[j]==0:\n",
    "            x[j]=0.000000001 # do this to avoid trying to divide my zero later\n",
    "        else:\n",
    "            pass\n",
    "    x = x.reshape(x.shape[0], 1)\n",
    "    x_t = np.matrix.transpose(x)\n",
    "    big_x = x_t.repeat(x_t.shape[1], axis=0)\n",
    "    \n",
    "    A = np.array(new_Z) / big_x\n",
    "    I = np.identity(len(new_Z))\n",
    "    L = np.linalg.inv(I-A)\n",
    "    \n",
    "    Y_G8 = np.array(new_Y[:, :5]).sum(axis=1)\n",
    "    Y_G8 = Y_G8.reshape(Y_G8.shape[0], 1)\n",
    "    \n",
    "    # G8 energy footprint\n",
    "    F_NRGx = new_F / np.matrix.transpose(x)  \n",
    "    temp = np.matmul(F_NRGx, L)\n",
    "    temp = np.matmul(temp, Y_G8)\n",
    "    G8_cons = temp + float(F_NRG_hh[i][G8].sum(axis=1))\n",
    "    \n",
    "    G8_energy_cons_agg2.append(G8_cons[0][0])\n",
    "\n",
    "# plot answer\n",
    "G8_cons_nrg['G8_agg2'] = G8_energy_cons_agg2\n",
    "\n",
    "fig, ax = plt.subplots(ncols=1, nrows=1, figsize=(10, 5))\n",
    "\n",
    "G8_cons_nrg.plot(ax=ax, x='Year', y='G8')\n",
    "G8_cons_nrg.plot(ax=ax, x='Year', y='G8_agg')\n",
    "G8_cons_nrg.plot(ax=ax, x='Year', y='G8_agg2')\n",
    "ax.set_xlabel('Year', fontsize=12)\n",
    "ax.set_ylabel('Energy', fontsize=12)\n",
    "ax.set_ylim([0, 400000000])\n",
    "ax.set_title('UK NRG - G8 Proportion')"
   ]
  },
  {
   "cell_type": "code",
   "execution_count": 287,
   "metadata": {},
   "outputs": [],
   "source": [
    "# starting from original Z, Y and F \n",
    "\n",
    "# make aggregate matrices\n",
    "G8 = ['CAN','DEU','FRA','GBR','ITA','JPN','RUS','USA']\n",
    "country = Y[0].columns.levels[0].tolist()\n",
    "regions = len(country)\n",
    "sectors = len(Z[0].columns.levels[1].tolist())\n",
    "final_demand = len(Y[1].columns.levels[1].tolist())\n",
    "\n",
    "sectoragg = np.matrix.transpose(sector_lookup)\n",
    "\n",
    "G8_agg = np.zeros((2*8, regions*sectors))\n",
    "G8_reg_agg = np.zeros((regions*final_demand, 2))\n",
    "\n",
    "for m in range(regions):\n",
    "    j = m+1\n",
    "    if G8_lookup[m][0] == 1:\n",
    "        G8_agg[:8, j*sectors-sectors:j*sectors] = sector_lookup\n",
    "        G8_reg_agg[j*final_demand-final_demand:j*final_demand, :1] = np.ones((final_demand, 1))\n",
    "    else:\n",
    "        G8_agg[8:, j*sectors-sectors:j*sectors] = sector_lookup\n",
    "        G8_reg_agg[j*final_demand-final_demand:j*final_demand, 1:] = np.ones((final_demand, 1))\n",
    "        \n",
    "#Run analysis\n",
    "G8_nrg_cons_agg3 = []\n",
    "\n",
    "G8_agg_t = np.matrix.transpose(G8_agg)\n",
    "for i in range(len(year_list)):\n",
    "    Zagg = np.matmul(np.matmul(G8_agg, Z[i]), G8_agg_t)\n",
    "    Yagg = np.matmul(np.matmul(G8_agg, Y[i]), G8_reg_agg)\n",
    "    F_NRGagg = np.matmul(F_NRG[i], G8_agg_t)\n",
    "    \n",
    "    x = Zagg.sum(axis=1) + Yagg.sum(axis=1)\n",
    "    for j in range(len(x)):\n",
    "        if x[j]==0:\n",
    "            x[j]=0.000000001 # do this to avoid trying to divide my zero later\n",
    "        else:\n",
    "            pass\n",
    "    x = x.reshape(x.shape[0], 1)\n",
    "    x_t = np.matrix.transpose(x)\n",
    "    big_x = x_t.repeat(x_t.shape[1], axis=0)\n",
    "    \n",
    "    A = np.array(Zagg) / big_x\n",
    "    I = np.identity(Zagg.shape[0])\n",
    "    L = np.linalg.inv(I-A)\n",
    "    \n",
    "    # G8 energy footprint   \n",
    "    F_NRGx = F_NRGagg / np.matrix.transpose(x)\n",
    "    G8_cons = np.matmul(np.matmul(F_NRGx, L), Yagg[:, :1]) + float(F_NRG_hh[i][G8].sum(axis=1))\n",
    "    \n",
    "    G8_nrg_cons_agg3.append(G8_cons[0][0])"
   ]
  },
  {
   "cell_type": "code",
   "execution_count": 288,
   "metadata": {},
   "outputs": [
    {
     "data": {
      "text/plain": [
       "Text(0.5,1,'UK NRG - G8 Proportion')"
      ]
     },
     "execution_count": 288,
     "metadata": {},
     "output_type": "execute_result"
    },
    {
     "data": {
      "image/png": "[encoded data removed]",
      "text/plain": [
       "<Figure size 720x360 with 1 Axes>"
      ]
     },
     "metadata": {
      "needs_background": "light"
     },
     "output_type": "display_data"
    }
   ],
   "source": [
    "G8_cons_nrg['G8_agg3'] = G8_nrg_cons_agg3\n",
    "\n",
    "fig, ax = plt.subplots(ncols=1, nrows=1, figsize=(10, 5))\n",
    "\n",
    "G8_cons_nrg.plot(ax=ax, x='Year', y='G8')\n",
    "G8_cons_nrg.plot(ax=ax, x='Year', y='G8_agg')\n",
    "G8_cons_nrg.plot(ax=ax, x='Year', y='G8_agg2')\n",
    "G8_cons_nrg.plot(ax=ax, x='Year', y='G8_agg3')\n",
    "ax.set_xlabel('Year', fontsize=12)\n",
    "ax.set_ylabel('Energy', fontsize=12)\n",
    "ax.set_ylim([0, 400000000])\n",
    "ax.set_title('UK NRG - G8 Proportion')"
   ]
  },
  {
   "cell_type": "markdown",
   "metadata": {},
   "source": [
    "## 7. Working with expenditure survey data\n",
    "### 7.1. The GHG footprint of men and women in the UK"
   ]
  },
  {
   "cell_type": "code",
   "execution_count": 339,
   "metadata": {},
   "outputs": [
    {
     "data": {
      "text/html": [
       "<div>\n",
       "<style scoped>\n",
       "    .dataframe tbody tr th:only-of-type {\n",
       "        vertical-align: middle;\n",
       "    }\n",
       "\n",
       "    .dataframe tbody tr th {\n",
       "        vertical-align: top;\n",
       "    }\n",
       "\n",
       "    .dataframe thead th {\n",
       "        text-align: right;\n",
       "    }\n",
       "</style>\n",
       "<table border=\"1\" class=\"dataframe\">\n",
       "  <thead>\n",
       "    <tr style=\"text-align: right;\">\n",
       "      <th></th>\n",
       "      <th>Average yearly spend by a man (USD)</th>\n",
       "      <th>Average yearly spend by a woman (USD)</th>\n",
       "    </tr>\n",
       "    <tr>\n",
       "      <th>Unnamed: 0</th>\n",
       "      <th></th>\n",
       "      <th></th>\n",
       "    </tr>\n",
       "  </thead>\n",
       "  <tbody>\n",
       "    <tr>\n",
       "      <th>Agriculture, Hunting, Forestry and Fishing</th>\n",
       "      <td>400</td>\n",
       "      <td>430</td>\n",
       "    </tr>\n",
       "    <tr>\n",
       "      <th>Mining and Quarrying</th>\n",
       "      <td>30</td>\n",
       "      <td>25</td>\n",
       "    </tr>\n",
       "    <tr>\n",
       "      <th>Food, Beverages and Tobacco</th>\n",
       "      <td>1000</td>\n",
       "      <td>1300</td>\n",
       "    </tr>\n",
       "    <tr>\n",
       "      <th>Textiles and Textile Products</th>\n",
       "      <td>400</td>\n",
       "      <td>350</td>\n",
       "    </tr>\n",
       "    <tr>\n",
       "      <th>Leather, Leather and Footwear</th>\n",
       "      <td>60</td>\n",
       "      <td>100</td>\n",
       "    </tr>\n",
       "  </tbody>\n",
       "</table>\n",
       "</div>"
      ],
      "text/plain": [
       "                                            Average yearly spend by a man (USD)  \\\n",
       "Unnamed: 0                                                                        \n",
       "Agriculture, Hunting, Forestry and Fishing                                  400   \n",
       "Mining and Quarrying                                                         30   \n",
       "Food, Beverages and Tobacco                                                1000   \n",
       "Textiles and Textile Products                                               400   \n",
       "Leather, Leather and Footwear                                                60   \n",
       "\n",
       "                                            Average yearly spend by a woman (USD)  \n",
       "Unnamed: 0                                                                         \n",
       "Agriculture, Hunting, Forestry and Fishing                                    430  \n",
       "Mining and Quarrying                                                           25  \n",
       "Food, Beverages and Tobacco                                                  1300  \n",
       "Textiles and Textile Products                                                 350  \n",
       "Leather, Leather and Footwear                                                 100  "
      ]
     },
     "execution_count": 339,
     "metadata": {},
     "output_type": "execute_result"
    }
   ],
   "source": [
    "expenditure = pd.read_csv('Data/Q7.csv').set_index('Unnamed: 0')\n",
    "expenditure.head()"
   ]
  },
  {
   "cell_type": "markdown",
   "metadata": {},
   "source": [
    "### How can you use this (expenditure infromation from 2009) to find the share of the UK’s household GHG footprint by men and women?"
   ]
  },
  {
   "cell_type": "code",
   "execution_count": 340,
   "metadata": {},
   "outputs": [
    {
     "data": {
      "text/html": [
       "<div>\n",
       "<style scoped>\n",
       "    .dataframe tbody tr th:only-of-type {\n",
       "        vertical-align: middle;\n",
       "    }\n",
       "\n",
       "    .dataframe tbody tr th {\n",
       "        vertical-align: top;\n",
       "    }\n",
       "\n",
       "    .dataframe thead th {\n",
       "        text-align: right;\n",
       "    }\n",
       "</style>\n",
       "<table border=\"1\" class=\"dataframe\">\n",
       "  <thead>\n",
       "    <tr style=\"text-align: right;\">\n",
       "      <th></th>\n",
       "      <th>Total_All</th>\n",
       "      <th>WIOT</th>\n",
       "      <th>Difference</th>\n",
       "    </tr>\n",
       "    <tr>\n",
       "      <th>(nan, 'sector')</th>\n",
       "      <th></th>\n",
       "      <th></th>\n",
       "      <th></th>\n",
       "    </tr>\n",
       "  </thead>\n",
       "  <tbody>\n",
       "    <tr>\n",
       "      <th>c01</th>\n",
       "      <td>26190</td>\n",
       "      <td>25942.298041</td>\n",
       "      <td>247.701959</td>\n",
       "    </tr>\n",
       "    <tr>\n",
       "      <th>c02</th>\n",
       "      <td>1725</td>\n",
       "      <td>1576.326374</td>\n",
       "      <td>148.673626</td>\n",
       "    </tr>\n",
       "    <tr>\n",
       "      <th>c03</th>\n",
       "      <td>72900</td>\n",
       "      <td>69832.031753</td>\n",
       "      <td>3067.968247</td>\n",
       "    </tr>\n",
       "    <tr>\n",
       "      <th>c04</th>\n",
       "      <td>23550</td>\n",
       "      <td>24807.434198</td>\n",
       "      <td>-1257.434198</td>\n",
       "    </tr>\n",
       "    <tr>\n",
       "      <th>c05</th>\n",
       "      <td>5100</td>\n",
       "      <td>4066.328518</td>\n",
       "      <td>1033.671482</td>\n",
       "    </tr>\n",
       "  </tbody>\n",
       "</table>\n",
       "</div>"
      ],
      "text/plain": [
       "                 Total_All          WIOT   Difference\n",
       "(nan, 'sector')                                      \n",
       "c01                  26190  25942.298041   247.701959\n",
       "c02                   1725   1576.326374   148.673626\n",
       "c03                  72900  69832.031753  3067.968247\n",
       "c04                  23550  24807.434198 -1257.434198\n",
       "c05                   5100   4066.328518  1033.671482"
      ]
     },
     "execution_count": 340,
     "metadata": {},
     "output_type": "execute_result"
    }
   ],
   "source": [
    "# 1. Check whether the spend for all men plus the spend for all women is equal to the data held in WIOD. Do this by calculating the spend by sector by UK households regardless of where the goods are from.\n",
    "# In the UK in 2009 there were 30 million men and 33 million women\n",
    "\n",
    "expenditure['Total_Men'] = expenditure['Average yearly spend by a man (USD)'] * 30\n",
    "expenditure['Total_Women'] = expenditure['Average yearly spend by a woman (USD)'] * 33\n",
    "\n",
    "# difference \n",
    "expenditure['Total_All'] = expenditure[['Total_Men', 'Total_Women']].sum(axis=1).tolist()\n",
    "expenditure['WIOT'] = Y[-1][[('GBR', 'c37')]].unstack().T.sum(axis=1).tolist()\n",
    "\n",
    "expenditure['Difference'] = expenditure['Total_All'] - expenditure['WIOT']\n",
    "\n",
    "expenditure.index = Y[-1].index.levels[1]\n",
    "expenditure[['Total_All', 'WIOT', 'Difference']].head() # can see individual sector differences here (all in million USD)"
   ]
  },
  {
   "cell_type": "code",
   "execution_count": 341,
   "metadata": {},
   "outputs": [
    {
     "data": {
      "text/plain": [
       "Total_All     1.318395e+06\n",
       "WIOT          1.262979e+06\n",
       "Difference    5.541642e+04\n",
       "dtype: float64"
      ]
     },
     "execution_count": 341,
     "metadata": {},
     "output_type": "execute_result"
    }
   ],
   "source": [
    "expenditure[['Total_All', 'WIOT', 'Difference']].sum(axis=0)"
   ]
  },
  {
   "cell_type": "code",
   "execution_count": 342,
   "metadata": {},
   "outputs": [
    {
     "data": {
      "text/html": [
       "<div>\n",
       "<style scoped>\n",
       "    .dataframe tbody tr th:only-of-type {\n",
       "        vertical-align: middle;\n",
       "    }\n",
       "\n",
       "    .dataframe tbody tr th {\n",
       "        vertical-align: top;\n",
       "    }\n",
       "\n",
       "    .dataframe thead th {\n",
       "        text-align: right;\n",
       "    }\n",
       "</style>\n",
       "<table border=\"1\" class=\"dataframe\">\n",
       "  <thead>\n",
       "    <tr style=\"text-align: right;\">\n",
       "      <th></th>\n",
       "      <th>Average yearly spend by a man (USD)</th>\n",
       "      <th>Average yearly spend by a woman (USD)</th>\n",
       "      <th>Total_Men</th>\n",
       "      <th>Total_Women</th>\n",
       "      <th>Total_All</th>\n",
       "      <th>WIOT</th>\n",
       "      <th>Difference</th>\n",
       "      <th>Prop_Men</th>\n",
       "      <th>Prop_Women</th>\n",
       "    </tr>\n",
       "    <tr>\n",
       "      <th>(nan, 'sector')</th>\n",
       "      <th></th>\n",
       "      <th></th>\n",
       "      <th></th>\n",
       "      <th></th>\n",
       "      <th></th>\n",
       "      <th></th>\n",
       "      <th></th>\n",
       "      <th></th>\n",
       "      <th></th>\n",
       "    </tr>\n",
       "  </thead>\n",
       "  <tbody>\n",
       "    <tr>\n",
       "      <th>c01</th>\n",
       "      <td>400</td>\n",
       "      <td>430</td>\n",
       "      <td>12000</td>\n",
       "      <td>14190</td>\n",
       "      <td>26190</td>\n",
       "      <td>25942.298041</td>\n",
       "      <td>247.701959</td>\n",
       "      <td>0.458190</td>\n",
       "      <td>0.541810</td>\n",
       "    </tr>\n",
       "    <tr>\n",
       "      <th>c02</th>\n",
       "      <td>30</td>\n",
       "      <td>25</td>\n",
       "      <td>900</td>\n",
       "      <td>825</td>\n",
       "      <td>1725</td>\n",
       "      <td>1576.326374</td>\n",
       "      <td>148.673626</td>\n",
       "      <td>0.521739</td>\n",
       "      <td>0.478261</td>\n",
       "    </tr>\n",
       "    <tr>\n",
       "      <th>c03</th>\n",
       "      <td>1000</td>\n",
       "      <td>1300</td>\n",
       "      <td>30000</td>\n",
       "      <td>42900</td>\n",
       "      <td>72900</td>\n",
       "      <td>69832.031753</td>\n",
       "      <td>3067.968247</td>\n",
       "      <td>0.411523</td>\n",
       "      <td>0.588477</td>\n",
       "    </tr>\n",
       "    <tr>\n",
       "      <th>c04</th>\n",
       "      <td>400</td>\n",
       "      <td>350</td>\n",
       "      <td>12000</td>\n",
       "      <td>11550</td>\n",
       "      <td>23550</td>\n",
       "      <td>24807.434198</td>\n",
       "      <td>-1257.434198</td>\n",
       "      <td>0.509554</td>\n",
       "      <td>0.490446</td>\n",
       "    </tr>\n",
       "    <tr>\n",
       "      <th>c05</th>\n",
       "      <td>60</td>\n",
       "      <td>100</td>\n",
       "      <td>1800</td>\n",
       "      <td>3300</td>\n",
       "      <td>5100</td>\n",
       "      <td>4066.328518</td>\n",
       "      <td>1033.671482</td>\n",
       "      <td>0.352941</td>\n",
       "      <td>0.647059</td>\n",
       "    </tr>\n",
       "  </tbody>\n",
       "</table>\n",
       "</div>"
      ],
      "text/plain": [
       "                 Average yearly spend by a man (USD)  \\\n",
       "(nan, 'sector')                                        \n",
       "c01                                              400   \n",
       "c02                                               30   \n",
       "c03                                             1000   \n",
       "c04                                              400   \n",
       "c05                                               60   \n",
       "\n",
       "                 Average yearly spend by a woman (USD)  Total_Men  \\\n",
       "(nan, 'sector')                                                     \n",
       "c01                                                430      12000   \n",
       "c02                                                 25        900   \n",
       "c03                                               1300      30000   \n",
       "c04                                                350      12000   \n",
       "c05                                                100       1800   \n",
       "\n",
       "                 Total_Women  Total_All          WIOT   Difference  Prop_Men  \\\n",
       "(nan, 'sector')                                                                \n",
       "c01                    14190      26190  25942.298041   247.701959  0.458190   \n",
       "c02                      825       1725   1576.326374   148.673626  0.521739   \n",
       "c03                    42900      72900  69832.031753  3067.968247  0.411523   \n",
       "c04                    11550      23550  24807.434198 -1257.434198  0.509554   \n",
       "c05                     3300       5100   4066.328518  1033.671482  0.352941   \n",
       "\n",
       "                 Prop_Women  \n",
       "(nan, 'sector')              \n",
       "c01                0.541810  \n",
       "c02                0.478261  \n",
       "c03                0.588477  \n",
       "c04                0.490446  \n",
       "c05                0.647059  "
      ]
     },
     "execution_count": 342,
     "metadata": {},
     "output_type": "execute_result"
    }
   ],
   "source": [
    "# 2. What are you going to do if the spends are different? Which data do you trust? We want the footprint of men + women to be equal to the footprint of UK households calculated in WIOD so it \n",
    "# makes sense to trust the WIOD totals.\n",
    "\n",
    "# go around this by splitting WIOT into men and women --> calculate spend proportion\n",
    "expenditure['Prop_Men'] = expenditure['Total_Men'] / expenditure['Total_All']\n",
    "expenditure['Prop_Women'] = expenditure['Total_Women'] / expenditure['Total_All']\n",
    "\n",
    "expenditure.head()"
   ]
  },
  {
   "cell_type": "code",
   "execution_count": 343,
   "metadata": {},
   "outputs": [],
   "source": [
    "# 4. How are you going to share out the direct emissions?\n",
    "\n",
    "UKhhspendbysector = np.zeros((sectors,1))\n",
    "UKhhspendbyregprop = np.zeros((sectors*regions,1))\n",
    "\n",
    "for i in range(regions):\n",
    "    a=i+1   \n",
    "    temp = np.array(Y[-1][('GBR', 'c37')])[a*sectors-35:a*sectors]\n",
    "    temp = temp.reshape(temp.shape[0], 1)\n",
    "    UKhhspendbysector[:,:] += temp\n",
    "    \n",
    "for i in range(regions):\n",
    "    a=i+1\n",
    "    temp = np.array(Y[-1][('GBR', 'c37')])[a*sectors-35:a*sectors]\n",
    "    temp = temp.reshape(temp.shape[0], 1)\n",
    "    UKhhspendbyregprop[a*sectors-35:a*sectors,:] = temp / UKhhspendbysector\n",
    "\n",
    "x = np.array(Y[-1].sum(axis=1) + Z[-1].sum(axis=1))\n",
    "for j in range(len(x)):\n",
    "    if x[j]==0:\n",
    "        x[j]=0.000000001 # do this to avoid trying to divide my zero later\n",
    "x = x.reshape(1435,1)\n",
    "x_t = np.matrix.transpose(x)\n",
    "big_x = x_t.repeat(x_t.shape[1], axis=0)\n",
    "    \n",
    "A = np.array(Z[-1]) / big_x\n",
    "I = np.identity(len(Z[-1]))\n",
    "L = np.linalg.inv(I-A)\n",
    "F_GHGx = np.array(F_GHG[-1]) / (x.reshape(1, 1435))\n",
    "    \n",
    "Y_women = (np.array(expenditure['Prop_Women']).reshape(UKhhspendbysector.shape) * UKhhspendbysector).repeat(regions, axis=0) * UKhhspendbyregprop\n",
    "Y_men = (np.array(expenditure['Prop_Men']).reshape(UKhhspendbysector.shape) * UKhhspendbysector).repeat(regions, axis=0) * UKhhspendbyregprop\n",
    "\n",
    "F_hh_women = ((expenditure.loc['c17', 'Average yearly spend by a woman (USD)'] + \n",
    "               expenditure.loc['c19', 'Average yearly spend by a woman (USD)']) * 33) / (\n",
    "    (expenditure.loc['c17', ['Average yearly spend by a man (USD)', 'Average yearly spend by a woman (USD)']].sum() +\n",
    "     expenditure.loc['c19', ['Average yearly spend by a man (USD)', 'Average yearly spend by a woman (USD)']].sum()) * 33)\n",
    "F_hh_men = 1- F_hh_women\n",
    "\n",
    "women_2009 = np.matmul(np.matmul(F_GHGx, L), Y_women)[0][0] + (float(F_GHG_hh[-1]['GBR']) * F_hh_women)\n",
    "    \n",
    "men_2009 = np.matmul(np.matmul(F_GHGx, L), Y_men)[0][0] + (float(F_GHG_hh[-1]['GBR']) * F_hh_men)"
   ]
  },
  {
   "cell_type": "code",
   "execution_count": 344,
   "metadata": {},
   "outputs": [
    {
     "data": {
      "text/plain": [
       "(433941.7748328876, 439963.06584188837)"
      ]
     },
     "execution_count": 344,
     "metadata": {},
     "output_type": "execute_result"
    }
   ],
   "source": [
    "women_2009, men_2009"
   ]
  },
  {
   "cell_type": "code",
   "execution_count": 345,
   "metadata": {},
   "outputs": [
    {
     "data": {
      "text/plain": [
       "Text(0.5,1,'UK 2009 GHG Emissions Split by Gender')"
      ]
     },
     "execution_count": 345,
     "metadata": {},
     "output_type": "execute_result"
    },
    {
     "data": {
      "image/png": "[encoded data removed]",
      "text/plain": [
       "<Figure size 720x360 with 1 Axes>"
      ]
     },
     "metadata": {
      "needs_background": "light"
     },
     "output_type": "display_data"
    }
   ],
   "source": [
    "fig, ax = plt.subplots(ncols=1, nrows=1, figsize=(10, 5))\n",
    "\n",
    "pd.DataFrame([women_2009, men_2009], ['women', 'men']).plot.bar(ax=ax, legend=False)\n",
    "ax.set_ylabel('GHG', fontsize=12)\n",
    "ax.set_ylim([0, 500000])\n",
    "ax.set_title('UK 2009 GHG Emissions Split by Gender')"
   ]
  },
  {
   "cell_type": "code",
   "execution_count": 346,
   "metadata": {},
   "outputs": [],
   "source": [
    "# from Matlab\n",
    "spend = pd.read_csv('Data/Q7.csv').set_index('Unnamed: 0')\n",
    "\n",
    "spendprop = cp.copy(spend)\n",
    "spendprop['Average yearly spend by a man (USD)'] = (spendprop['Average yearly spend by a man (USD)'] * 30)\n",
    "spendprop['Average yearly spend by a woman (USD)'] = (spendprop['Average yearly spend by a woman (USD)'] * 33)\n",
    "spendprop['total'] = spendprop.sum(axis=1)\n",
    "\n",
    "spendprop = spendprop.iloc[:,:-1].div(spendprop.total, axis=0)"
   ]
  },
  {
   "cell_type": "code",
   "execution_count": 347,
   "metadata": {},
   "outputs": [
    {
     "data": {
      "text/plain": [
       "(433941.7748328876, 439963.06584188837)"
      ]
     },
     "execution_count": 347,
     "metadata": {},
     "output_type": "execute_result"
    }
   ],
   "source": [
    "UKhhspendbysector = np.zeros((sectors,1))\n",
    "UKhhspendbyregprop = np.zeros((sectors*regions,1))\n",
    "\n",
    "for i in range(regions):\n",
    "    a=i+1   \n",
    "    temp = np.array(Y[-1][('GBR', 'c37')])[a*sectors-35:a*sectors]\n",
    "    temp = temp.reshape(temp.shape[0], 1)\n",
    "    UKhhspendbysector[:,:] += temp\n",
    "    \n",
    "for i in range(regions):\n",
    "    a=i+1\n",
    "    temp = np.array(Y[-1][('GBR', 'c37')])[a*sectors-35:a*sectors]\n",
    "    temp = temp.reshape(temp.shape[0], 1)\n",
    "    UKhhspendbyregprop[a*sectors-35:a*sectors,:] = temp / UKhhspendbysector\n",
    "    \n",
    "Y_UK_men_women = []\n",
    "\n",
    "for gender in ['man', 'woman']:\n",
    "    Y_temp = ((np.array(spendprop['Average yearly spend by a ' + gender + ' (USD)']).reshape(UKhhspendbysector.shape) * UKhhspendbysector).repeat(regions, axis=0) * UKhhspendbyregprop)\n",
    "    Y_UK_men_women.append(Y_temp)\n",
    "\n",
    "x = np.array(Y[-1].sum(axis=1) + Z[-1].sum(axis=1))\n",
    "for j in range(len(x)):\n",
    "    if x[j]==0:\n",
    "        x[j]=0.000000001 # do this to avoid trying to divide my zero later\n",
    "x = x.reshape(x.shape[0],1)\n",
    "x_t = np.matrix.transpose(x)\n",
    "big_x = x_t.repeat(x_t.shape[1], axis=0)\n",
    "\n",
    "A = np.array(Z[-1]) / big_x\n",
    "I = np.identity(len(Z[-1]))\n",
    "L = np.linalg.inv(I-A)\n",
    "F_GHGx = np.array(F_GHG[-1]) / x_t\n",
    "\n",
    "women_2009 = np.matmul(np.matmul(F_GHGx, L), Y_UK_men_women[1])[0][0] + (float(F_GHG_hh[-1]['GBR']) * F_hh_women)\n",
    "men_2009 = np.matmul(np.matmul(F_GHGx, L), Y_UK_men_women[0])[0][0] + (float(F_GHG_hh[-1]['GBR']) * F_hh_men)\n",
    "\n",
    "women_2009, men_2009"
   ]
  },
  {
   "cell_type": "code",
   "execution_count": 348,
   "metadata": {},
   "outputs": [
    {
     "data": {
      "text/plain": [
       "Text(0.5,1,'UK 2009 GHG Emissions Split by Gender')"
      ]
     },
     "execution_count": 348,
     "metadata": {},
     "output_type": "execute_result"
    },
    {
     "data": {
      "image/png": "[encoded data removed]",
      "text/plain": [
       "<Figure size 720x360 with 1 Axes>"
      ]
     },
     "metadata": {
      "needs_background": "light"
     },
     "output_type": "display_data"
    }
   ],
   "source": [
    "fig, ax = plt.subplots(ncols=1, nrows=1, figsize=(10, 5))\n",
    "\n",
    "pd.DataFrame([women_2009, men_2009], ['women', 'men']).plot.bar(ax=ax, legend=False)\n",
    "ax.set_ylabel('GHG', fontsize=12)\n",
    "ax.set_ylim([0, 500000])\n",
    "ax.set_title('UK 2009 GHG Emissions Split by Gender')"
   ]
  },
  {
   "cell_type": "markdown",
   "metadata": {},
   "source": [
    "### 7.2. The GHG footprint of devolved nations in the UK\n",
    "For this exercise try to disaggregate the spends – what could you use to split the spends out into the full categories?\n",
    "If the populations are:  \n",
    "•\tEngland 47 million  \n",
    "•\tWales 3 million  \n",
    "•\tNorthern Ireland 3 million  \n",
    "•\tScotland 10 million \n",
    "  \n",
    "Which country has the largest per capita footprint?"
   ]
  },
  {
   "cell_type": "code",
   "execution_count": 349,
   "metadata": {},
   "outputs": [
    {
     "data": {
      "text/html": [
       "<div>\n",
       "<style scoped>\n",
       "    .dataframe tbody tr th:only-of-type {\n",
       "        vertical-align: middle;\n",
       "    }\n",
       "\n",
       "    .dataframe tbody tr th {\n",
       "        vertical-align: top;\n",
       "    }\n",
       "\n",
       "    .dataframe thead th {\n",
       "        text-align: right;\n",
       "    }\n",
       "</style>\n",
       "<table border=\"1\" class=\"dataframe\">\n",
       "  <thead>\n",
       "    <tr style=\"text-align: right;\">\n",
       "      <th></th>\n",
       "      <th>England total spend (millions USD)</th>\n",
       "      <th>Wales total spend (millions USD)</th>\n",
       "      <th>Northern Ireland total spend (millions USD)</th>\n",
       "      <th>Scotland total spend (millions USD)</th>\n",
       "    </tr>\n",
       "    <tr>\n",
       "      <th>Unnamed: 0</th>\n",
       "      <th></th>\n",
       "      <th></th>\n",
       "      <th></th>\n",
       "      <th></th>\n",
       "    </tr>\n",
       "  </thead>\n",
       "  <tbody>\n",
       "    <tr>\n",
       "      <th>Extraction from nature</th>\n",
       "      <td>0.666667</td>\n",
       "      <td>0.033333</td>\n",
       "      <td>0.066667</td>\n",
       "      <td>0.233333</td>\n",
       "    </tr>\n",
       "    <tr>\n",
       "      <th>Manufacturing</th>\n",
       "      <td>0.881459</td>\n",
       "      <td>0.012158</td>\n",
       "      <td>0.015198</td>\n",
       "      <td>0.091185</td>\n",
       "    </tr>\n",
       "    <tr>\n",
       "      <th>Fuel</th>\n",
       "      <td>0.727273</td>\n",
       "      <td>0.036364</td>\n",
       "      <td>0.054545</td>\n",
       "      <td>0.181818</td>\n",
       "    </tr>\n",
       "    <tr>\n",
       "      <th>Construction</th>\n",
       "      <td>0.705882</td>\n",
       "      <td>0.029412</td>\n",
       "      <td>0.029412</td>\n",
       "      <td>0.235294</td>\n",
       "    </tr>\n",
       "    <tr>\n",
       "      <th>Trade</th>\n",
       "      <td>0.810056</td>\n",
       "      <td>0.027933</td>\n",
       "      <td>0.022346</td>\n",
       "      <td>0.139665</td>\n",
       "    </tr>\n",
       "    <tr>\n",
       "      <th>Transport</th>\n",
       "      <td>0.786517</td>\n",
       "      <td>0.056180</td>\n",
       "      <td>0.044944</td>\n",
       "      <td>0.112360</td>\n",
       "    </tr>\n",
       "    <tr>\n",
       "      <th>Private services</th>\n",
       "      <td>0.759494</td>\n",
       "      <td>0.050633</td>\n",
       "      <td>0.037975</td>\n",
       "      <td>0.151899</td>\n",
       "    </tr>\n",
       "    <tr>\n",
       "      <th>Public services &amp; other</th>\n",
       "      <td>0.872483</td>\n",
       "      <td>0.040268</td>\n",
       "      <td>0.033557</td>\n",
       "      <td>0.053691</td>\n",
       "    </tr>\n",
       "  </tbody>\n",
       "</table>\n",
       "</div>"
      ],
      "text/plain": [
       "                         England total spend (millions USD)  \\\n",
       "Unnamed: 0                                                    \n",
       "Extraction from nature                             0.666667   \n",
       "Manufacturing                                      0.881459   \n",
       "Fuel                                               0.727273   \n",
       "Construction                                       0.705882   \n",
       "Trade                                              0.810056   \n",
       "Transport                                          0.786517   \n",
       "Private services                                   0.759494   \n",
       "Public services & other                            0.872483   \n",
       "\n",
       "                         Wales total spend (millions USD)  \\\n",
       "Unnamed: 0                                                  \n",
       "Extraction from nature                           0.033333   \n",
       "Manufacturing                                    0.012158   \n",
       "Fuel                                             0.036364   \n",
       "Construction                                     0.029412   \n",
       "Trade                                            0.027933   \n",
       "Transport                                        0.056180   \n",
       "Private services                                 0.050633   \n",
       "Public services & other                          0.040268   \n",
       "\n",
       "                         Northern Ireland total spend (millions USD)  \\\n",
       "Unnamed: 0                                                             \n",
       "Extraction from nature                                      0.066667   \n",
       "Manufacturing                                               0.015198   \n",
       "Fuel                                                        0.054545   \n",
       "Construction                                                0.029412   \n",
       "Trade                                                       0.022346   \n",
       "Transport                                                   0.044944   \n",
       "Private services                                            0.037975   \n",
       "Public services & other                                     0.033557   \n",
       "\n",
       "                         Scotland total spend (millions USD)  \n",
       "Unnamed: 0                                                    \n",
       "Extraction from nature                              0.233333  \n",
       "Manufacturing                                       0.091185  \n",
       "Fuel                                                0.181818  \n",
       "Construction                                        0.235294  \n",
       "Trade                                               0.139665  \n",
       "Transport                                           0.112360  \n",
       "Private services                                    0.151899  \n",
       "Public services & other                             0.053691  "
      ]
     },
     "execution_count": 349,
     "metadata": {},
     "output_type": "execute_result"
    }
   ],
   "source": [
    "# from Matlab\n",
    "UK_countries = ['England', 'Wales', 'Northern Ireland', 'Scotland']\n",
    "populations = [47, 3, 3, 10]\n",
    "\n",
    "spend = pd.read_csv('Data/Q7-2.csv').set_index('Unnamed: 0')\n",
    "for i in range(len(UK_countries)):\n",
    "    spend[str(UK_countries[i]) + ' total spend (millions USD)'] = spend[str(UK_countries[i]) + ' total spend (millions USD)'].str.replace(',', '').astype(int)\n",
    "\n",
    "spend['total'] = spend.sum(axis=1)\n",
    "spendprop = spend.iloc[:,:-1].div(spend.total, axis=0)\n",
    "\n",
    "spendprop"
   ]
  },
  {
   "cell_type": "code",
   "execution_count": 350,
   "metadata": {},
   "outputs": [],
   "source": [
    "UKspendbysector = np.zeros((sectors,1))\n",
    "UKhhspendbysector = np.zeros((sectors,1))\n",
    "\n",
    "UKspendbyregprop = np.zeros((sectors*regions,1))\n",
    "UKhhspendbyregprop = np.zeros((sectors*regions,1))\n",
    "\n",
    "for i in range(regions):\n",
    "    a=i+1\n",
    "    temp = np.array(Y[-1]['GBR'])[a*sectors-35:a*sectors].sum(1)\n",
    "    temp = temp.reshape(temp.shape[0], 1)\n",
    "    UKspendbysector[:,:] += temp\n",
    "    \n",
    "    temp = np.array(Y[-1][('GBR', 'c37')])[a*sectors-35:a*sectors]\n",
    "    temp = temp.reshape(temp.shape[0], 1)\n",
    "    UKhhspendbysector[:,:] += temp\n",
    "    \n",
    "for i in range(regions):\n",
    "    a=i+1\n",
    "    temp = np.array(Y[-1]['GBR'])[a*sectors-35:a*sectors].sum(1)\n",
    "    temp = temp.reshape(temp.shape[0], 1)\n",
    "    UKspendbyregprop[a*sectors-35:a*sectors,:] = temp / UKspendbysector\n",
    "    \n",
    "    temp = np.array(Y[-1][('GBR', 'c37')])[a*sectors-35:a*sectors]\n",
    "    temp = temp.reshape(temp.shape[0], 1)\n",
    "    UKhhspendbyregprop[a*sectors-35:a*sectors,:] = temp / UKhhspendbysector"
   ]
  },
  {
   "cell_type": "code",
   "execution_count": 351,
   "metadata": {},
   "outputs": [],
   "source": [
    "UKspendbydev_short = np.matmul(sectoragg, spendprop) * UKspendbysector.repeat(len(UK_countries), axis=1)\n",
    "\n",
    "UKspendbydev_long = UKspendbydev_short.repeat(regions, axis=0) * UKhhspendbyregprop.repeat(len(UK_countries), axis=1)"
   ]
  },
  {
   "cell_type": "code",
   "execution_count": 352,
   "metadata": {},
   "outputs": [],
   "source": [
    "UKconsGHG_dev = []\n",
    "\n",
    "for country in UK_countries:\n",
    "    country_GHG = (\n",
    "        (np.matmul(np.matmul(F_GHGx, L), UKspendbydev_long[:,0])[0]) +\n",
    "        (float(F_GHG_hh[-1]['GBR']) * spend.loc['Fuel', country + ' total spend (millions USD)']) /\n",
    "        (spend.loc['Fuel', 'total'])\n",
    "    )\n",
    "    UKconsGHG_dev.append(country_GHG)"
   ]
  },
  {
   "cell_type": "code",
   "execution_count": 353,
   "metadata": {},
   "outputs": [
    {
     "data": {
      "text/html": [
       "<div>\n",
       "<style scoped>\n",
       "    .dataframe tbody tr th:only-of-type {\n",
       "        vertical-align: middle;\n",
       "    }\n",
       "\n",
       "    .dataframe tbody tr th {\n",
       "        vertical-align: top;\n",
       "    }\n",
       "\n",
       "    .dataframe thead th {\n",
       "        text-align: right;\n",
       "    }\n",
       "</style>\n",
       "<table border=\"1\" class=\"dataframe\">\n",
       "  <thead>\n",
       "    <tr style=\"text-align: right;\">\n",
       "      <th></th>\n",
       "      <th>0</th>\n",
       "      <th>1</th>\n",
       "      <th>2</th>\n",
       "      <th>GHG_percap</th>\n",
       "    </tr>\n",
       "  </thead>\n",
       "  <tbody>\n",
       "    <tr>\n",
       "      <th>0</th>\n",
       "      <td>England</td>\n",
       "      <td>47</td>\n",
       "      <td>920851</td>\n",
       "      <td>19592.6</td>\n",
       "    </tr>\n",
       "    <tr>\n",
       "      <th>1</th>\n",
       "      <td>Wales</td>\n",
       "      <td>3</td>\n",
       "      <td>825828</td>\n",
       "      <td>275276</td>\n",
       "    </tr>\n",
       "    <tr>\n",
       "      <th>2</th>\n",
       "      <td>Northern Ireland</td>\n",
       "      <td>3</td>\n",
       "      <td>828328</td>\n",
       "      <td>276109</td>\n",
       "    </tr>\n",
       "    <tr>\n",
       "      <th>3</th>\n",
       "      <td>Scotland</td>\n",
       "      <td>10</td>\n",
       "      <td>845832</td>\n",
       "      <td>84583.2</td>\n",
       "    </tr>\n",
       "  </tbody>\n",
       "</table>\n",
       "</div>"
      ],
      "text/plain": [
       "                  0   1       2 GHG_percap\n",
       "0           England  47  920851    19592.6\n",
       "1             Wales   3  825828     275276\n",
       "2  Northern Ireland   3  828328     276109\n",
       "3          Scotland  10  845832    84583.2"
      ]
     },
     "execution_count": 353,
     "metadata": {},
     "output_type": "execute_result"
    }
   ],
   "source": [
    "UKconsGHG_dev_df = pd.DataFrame([UK_countries, populations, UKconsGHG_dev]).T\n",
    "UKconsGHG_dev_df['GHG_percap'] = UKconsGHG_dev_df[2] / UKconsGHG_dev_df[1]\n",
    "UKconsGHG_dev_df"
   ]
  },
  {
   "cell_type": "code",
   "execution_count": 354,
   "metadata": {},
   "outputs": [
    {
     "data": {
      "text/plain": [
       "Text(0.5,1,'UK 2009 GHG Emissions Split by Gender')"
      ]
     },
     "execution_count": 354,
     "metadata": {},
     "output_type": "execute_result"
    },
    {
     "data": {
      "image/png": "[encoded data removed]",
      "text/plain": [
       "<Figure size 720x360 with 1 Axes>"
      ]
     },
     "metadata": {
      "needs_background": "light"
     },
     "output_type": "display_data"
    }
   ],
   "source": [
    "fig, ax = plt.subplots(ncols=1, nrows=1, figsize=(10, 5))\n",
    "\n",
    "UKconsGHG_dev_df.plot.bar(ax=ax, legend=False, y=2, x=0)\n",
    "ax.set_ylabel('GHG', fontsize=12)\n",
    "#ax.set_ylim([0, 400000])\n",
    "ax.set_title('UK 2009 GHG Emissions Split by Gender')"
   ]
  },
  {
   "cell_type": "code",
   "execution_count": 355,
   "metadata": {},
   "outputs": [
    {
     "data": {
      "text/html": [
       "<div>\n",
       "<style scoped>\n",
       "    .dataframe tbody tr th:only-of-type {\n",
       "        vertical-align: middle;\n",
       "    }\n",
       "\n",
       "    .dataframe tbody tr th {\n",
       "        vertical-align: top;\n",
       "    }\n",
       "\n",
       "    .dataframe thead th {\n",
       "        text-align: right;\n",
       "    }\n",
       "</style>\n",
       "<table border=\"1\" class=\"dataframe\">\n",
       "  <thead>\n",
       "    <tr style=\"text-align: right;\">\n",
       "      <th></th>\n",
       "      <th>('country', 'TOT')</th>\n",
       "      <th>AUS</th>\n",
       "      <th>AUT</th>\n",
       "      <th>BEL</th>\n",
       "      <th>BGR</th>\n",
       "      <th>BRA</th>\n",
       "      <th>CAN</th>\n",
       "      <th>CHN</th>\n",
       "      <th>CYP</th>\n",
       "      <th>CZE</th>\n",
       "      <th>DEU</th>\n",
       "      <th>...</th>\n",
       "      <th>PRT</th>\n",
       "      <th>ROU</th>\n",
       "      <th>ROW</th>\n",
       "      <th>RUS</th>\n",
       "      <th>SVK</th>\n",
       "      <th>SVN</th>\n",
       "      <th>SWE</th>\n",
       "      <th>TUR</th>\n",
       "      <th>TWN</th>\n",
       "      <th>USA</th>\n",
       "    </tr>\n",
       "    <tr>\n",
       "      <th></th>\n",
       "      <th>Unnamed: 1</th>\n",
       "      <th></th>\n",
       "      <th></th>\n",
       "      <th></th>\n",
       "      <th></th>\n",
       "      <th></th>\n",
       "      <th></th>\n",
       "      <th></th>\n",
       "      <th></th>\n",
       "      <th></th>\n",
       "      <th></th>\n",
       "      <th></th>\n",
       "      <th></th>\n",
       "      <th></th>\n",
       "      <th></th>\n",
       "      <th></th>\n",
       "      <th></th>\n",
       "      <th></th>\n",
       "      <th></th>\n",
       "      <th></th>\n",
       "      <th></th>\n",
       "      <th></th>\n",
       "    </tr>\n",
       "  </thead>\n",
       "  <tbody>\n",
       "    <tr>\n",
       "      <th>Final consumption expenditure by households</th>\n",
       "      <th>FC_HH</th>\n",
       "      <td>43333.049138</td>\n",
       "      <td>16733.518381</td>\n",
       "      <td>30001.191024</td>\n",
       "      <td>5216.86753</td>\n",
       "      <td>75407.003642</td>\n",
       "      <td>94827.858611</td>\n",
       "      <td>571998.772634</td>\n",
       "      <td>1658.196551</td>\n",
       "      <td>12755.791387</td>\n",
       "      <td>183260.087726</td>\n",
       "      <td>...</td>\n",
       "      <td>10480.004039</td>\n",
       "      <td>16159.915423</td>\n",
       "      <td>952231.416924</td>\n",
       "      <td>194918.835388</td>\n",
       "      <td>3122.504942</td>\n",
       "      <td>4843.982095</td>\n",
       "      <td>11094.344944</td>\n",
       "      <td>61966.317126</td>\n",
       "      <td>23666.182303</td>\n",
       "      <td>851815.476604</td>\n",
       "    </tr>\n",
       "  </tbody>\n",
       "</table>\n",
       "<p>1 rows × 41 columns</p>\n",
       "</div>"
      ],
      "text/plain": [
       "('country', 'TOT')                                               AUS  \\\n",
       "                                            Unnamed: 1                 \n",
       "Final consumption expenditure by households FC_HH       43333.049138   \n",
       "\n",
       "('country', 'TOT')                                               AUT  \\\n",
       "                                            Unnamed: 1                 \n",
       "Final consumption expenditure by households FC_HH       16733.518381   \n",
       "\n",
       "('country', 'TOT')                                               BEL  \\\n",
       "                                            Unnamed: 1                 \n",
       "Final consumption expenditure by households FC_HH       30001.191024   \n",
       "\n",
       "('country', 'TOT')                                             BGR  \\\n",
       "                                            Unnamed: 1               \n",
       "Final consumption expenditure by households FC_HH       5216.86753   \n",
       "\n",
       "('country', 'TOT')                                               BRA  \\\n",
       "                                            Unnamed: 1                 \n",
       "Final consumption expenditure by households FC_HH       75407.003642   \n",
       "\n",
       "('country', 'TOT')                                               CAN  \\\n",
       "                                            Unnamed: 1                 \n",
       "Final consumption expenditure by households FC_HH       94827.858611   \n",
       "\n",
       "('country', 'TOT')                                                CHN  \\\n",
       "                                            Unnamed: 1                  \n",
       "Final consumption expenditure by households FC_HH       571998.772634   \n",
       "\n",
       "('country', 'TOT')                                              CYP  \\\n",
       "                                            Unnamed: 1                \n",
       "Final consumption expenditure by households FC_HH       1658.196551   \n",
       "\n",
       "('country', 'TOT')                                               CZE  \\\n",
       "                                            Unnamed: 1                 \n",
       "Final consumption expenditure by households FC_HH       12755.791387   \n",
       "\n",
       "('country', 'TOT')                                                DEU  \\\n",
       "                                            Unnamed: 1                  \n",
       "Final consumption expenditure by households FC_HH       183260.087726   \n",
       "\n",
       "('country', 'TOT')                                          ...        \\\n",
       "                                            Unnamed: 1      ...         \n",
       "Final consumption expenditure by households FC_HH           ...         \n",
       "\n",
       "('country', 'TOT')                                               PRT  \\\n",
       "                                            Unnamed: 1                 \n",
       "Final consumption expenditure by households FC_HH       10480.004039   \n",
       "\n",
       "('country', 'TOT')                                               ROU  \\\n",
       "                                            Unnamed: 1                 \n",
       "Final consumption expenditure by households FC_HH       16159.915423   \n",
       "\n",
       "('country', 'TOT')                                                ROW  \\\n",
       "                                            Unnamed: 1                  \n",
       "Final consumption expenditure by households FC_HH       952231.416924   \n",
       "\n",
       "('country', 'TOT')                                                RUS  \\\n",
       "                                            Unnamed: 1                  \n",
       "Final consumption expenditure by households FC_HH       194918.835388   \n",
       "\n",
       "('country', 'TOT')                                              SVK  \\\n",
       "                                            Unnamed: 1                \n",
       "Final consumption expenditure by households FC_HH       3122.504942   \n",
       "\n",
       "('country', 'TOT')                                              SVN  \\\n",
       "                                            Unnamed: 1                \n",
       "Final consumption expenditure by households FC_HH       4843.982095   \n",
       "\n",
       "('country', 'TOT')                                               SWE  \\\n",
       "                                            Unnamed: 1                 \n",
       "Final consumption expenditure by households FC_HH       11094.344944   \n",
       "\n",
       "('country', 'TOT')                                               TUR  \\\n",
       "                                            Unnamed: 1                 \n",
       "Final consumption expenditure by households FC_HH       61966.317126   \n",
       "\n",
       "('country', 'TOT')                                               TWN  \\\n",
       "                                            Unnamed: 1                 \n",
       "Final consumption expenditure by households FC_HH       23666.182303   \n",
       "\n",
       "('country', 'TOT')                                                USA  \n",
       "                                            Unnamed: 1                 \n",
       "Final consumption expenditure by households FC_HH       851815.476604  \n",
       "\n",
       "[1 rows x 41 columns]"
      ]
     },
     "execution_count": 355,
     "metadata": {},
     "output_type": "execute_result"
    }
   ],
   "source": [
    "F_GHG_hh[-1]"
   ]
  },
  {
   "cell_type": "code",
   "execution_count": null,
   "metadata": {},
   "outputs": [],
   "source": []
  }
 ],
 "metadata": {
  "kernelspec": {
   "display_name": "Python 3",
   "language": "python",
   "name": "python3"
  },
  "language_info": {
   "codemirror_mode": {
    "name": "ipython",
    "version": 3
   },
   "file_extension": ".py",
   "mimetype": "text/x-python",
   "name": "python",
   "nbconvert_exporter": "python",
   "pygments_lexer": "ipython3",
   "version": "3.6.6"
  }
 },
 "nbformat": 4,
 "nbformat_minor": 2
}
