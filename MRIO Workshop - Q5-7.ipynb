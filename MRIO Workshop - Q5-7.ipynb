{
 "cells": [
  {
   "cell_type": "markdown",
   "metadata": {},
   "source": [
    "# MRIO Workshop"
   ]
  },
  {
   "cell_type": "code",
   "execution_count": 1,
   "metadata": {},
   "outputs": [],
   "source": [
    "import pandas as pd\n",
    "import numpy as np\n",
    "import matplotlib.pyplot as plt\n",
    "import copy as cp"
   ]
  },
  {
   "cell_type": "markdown",
   "metadata": {},
   "source": [
    "# Load Data"
   ]
  },
  {
   "cell_type": "code",
   "execution_count": 2,
   "metadata": {},
   "outputs": [],
   "source": [
    "var_list = ['Z', 'V', 'Y', 'F_NRG', 'F_NRG_hh', 'F_GHG', 'F_GHG_hh']\n",
    "Z, V, Y, F_NRG, F_NRG_hh, F_GHG, F_GHG_hh, year_list = [], [], [], [], [], [], [], []\n",
    "\n",
    "for var in var_list:\n",
    "    for year in range(1995, 2010):\n",
    "        if year not in year_list:\n",
    "            year_list.append(year)\n",
    "        if var.split('_')[0] == 'F' and var.split('_')[-1] != 'hh':\n",
    "            my_col = 0\n",
    "        else:\n",
    "             my_col = [0, 1]\n",
    "        if var.split('_')[-1] == 'hh':\n",
    "            my_header = 0\n",
    "        else:\n",
    "            my_header = [0, 1]\n",
    "            \n",
    "        df = pd.read_csv('Data/clean_data/' + var + '_' + str(year) + '.csv', header=my_header, index_col=my_col).dropna(how='all', axis=0)\n",
    "        eval(var).append(df)\n",
    "\n",
    "# ensure that indecies match up\n",
    "\n",
    "new_names = {'ROM':'ROU', 'RoW':'ROW'}\n",
    "\n",
    "myindex = F_GHG[0].columns\n",
    "Y_cols = pd.MultiIndex.from_product([F_NRG_hh[0].columns, Y[0].rename(columns=new_names).columns.levels[0]], names=['country', 'sector'])\n",
    "\n",
    "for i in range(len(year_list)):\n",
    "    Y[i] = Y[i].rename(columns=new_names, index=new_names).swaplevel(axis=1).reindex(Y_cols, axis=1).reindex(myindex, axis=0)\n",
    "    Z[i] = Z[i].rename(columns=new_names, index=new_names).reindex(myindex, axis=1).reindex(myindex, axis=0)\n",
    "    V[i] = V[i].rename(columns=new_names, index=new_names).reindex(myindex, axis=1)\n",
    "    \n",
    "    F_NRG[i] = F_NRG[i].rename(columns=new_names, index=new_names).reindex(myindex, axis=1)\n",
    "    F_GHG[i] = F_GHG[i].rename(columns=new_names, index=new_names).reindex(myindex, axis=1)\n",
    "    \n",
    "    F_NRG_hh[i] = F_NRG_hh[i].reindex(F_GHG_hh[0].columns, axis=1)"
   ]
  },
  {
   "cell_type": "markdown",
   "metadata": {},
   "source": [
    "# 5. Calculating energy and emissions consumption-based accounts\n",
    "\n",
    "For reference, use:  \n",
    "http://www.see.leeds.ac.uk/teaching-resources/exercise-pages/l4-input-output-tutorial-201617/  \n",
    "http://mathesaurus.sourceforge.net/matlab-numpy.html "
   ]
  },
  {
   "cell_type": "markdown",
   "metadata": {},
   "source": [
    "### 5.1. The UK's production and consumption based GHG emissions from 1995-2009"
   ]
  },
  {
   "cell_type": "code",
   "execution_count": 3,
   "metadata": {},
   "outputs": [],
   "source": [
    "UK_consumption = []\n",
    "UK_production = []\n",
    "for i in range(len(year_list)):\n",
    "    # territorial emissions\n",
    "    UK_prod = float(F_GHG[i]['GBR'].sum(axis=1)) + float(F_GHG_hh[i]['GBR'])\n",
    "    UK_production.append(UK_prod)\n",
    "\n",
    "    # consumption based emissions\n",
    "    x = np.array(Y[i].sum(axis=1) + Z[i].sum(axis=1))\n",
    "    for j in range(len(x)):\n",
    "        if x[j]==0:\n",
    "            x[j]=0.000000001 # do this to avoid trying to divide my zero later\n",
    "        else:\n",
    "            pass\n",
    "    x = x.reshape(1435,1)\n",
    "    x_t = np.matrix.transpose(x)\n",
    "    big_x = x_t.repeat(x_t.shape[1], axis=0)\n",
    "    \n",
    "    A = np.array(Z[i]) / big_x\n",
    "    I = np.identity(len(Z[i]))\n",
    "    L = np.linalg.inv(I-A)\n",
    "    F_GHGx = np.array(F_GHG[i]) / x_t\n",
    "    \n",
    "    Y_UK = np.array(Y[i][['GBR']]).sum(axis=1).reshape(1435, 1)\n",
    "\n",
    "    temp = np.matmul(F_GHGx, L)\n",
    "    temp = np.matmul(temp, Y_UK)\n",
    "    \n",
    "    UK_cons = temp + float(F_GHG_hh[i]['GBR'])\n",
    "    UK_consumption.append(UK_cons[0][0])"
   ]
  },
  {
   "cell_type": "code",
   "execution_count": 4,
   "metadata": {},
   "outputs": [
    {
     "data": {
      "text/plain": [
       "Text(0.5,1,'UK')"
      ]
     },
     "execution_count": 4,
     "metadata": {},
     "output_type": "execute_result"
    },
    {
     "data": {
      "image/png": "[encoded data removed]",
      "text/plain": [
       "<Figure size 720x360 with 1 Axes>"
      ]
     },
     "metadata": {
      "needs_background": "light"
     },
     "output_type": "display_data"
    }
   ],
   "source": [
    "fig, ax = plt.subplots(ncols=1, nrows=1, figsize=(10, 5))\n",
    "\n",
    "pd.DataFrame(UK_consumption, year_list).rename(columns={0:'Consumption'}).plot(ax=ax,)\n",
    "pd.DataFrame(UK_production, year_list).rename(columns={0:'Production'}).plot(ax=ax)\n",
    "ax.set_xlabel('Year', fontsize=12)\n",
    "ax.set_ylabel('CO2e', fontsize=12)\n",
    "ax.set_ylim([0,1200000])\n",
    "ax.set_title('UK')"
   ]
  },
  {
   "cell_type": "markdown",
   "metadata": {},
   "source": [
    "### 5.2. What proportion of the Global total is the production and consumption energy account of the BRIC countries (Brazil, Russia, India & China) for the years 1995-2009?"
   ]
  },
  {
   "cell_type": "code",
   "execution_count": 5,
   "metadata": {},
   "outputs": [],
   "source": [
    "BRIC_countries = ['BRA', 'RUS', 'IND', 'CHN']\n",
    "country_list = F_NRG_hh[0].columns.tolist()\n",
    "\n",
    "BRIC_consumption = []\n",
    "BRIC_production = []\n",
    "for i in range(len(year_list)):\n",
    "    # territorial emissions\n",
    "    BRIC_prod = float(F_NRG[i][BRIC_countries].sum(axis=1)) + float(F_NRG_hh[i][BRIC_countries].sum(axis=1))\n",
    "    global_prod = float(F_NRG[i].sum(axis=1)) + float(F_NRG_hh[i].sum(axis=1))\n",
    "    BRIC_production.append(BRIC_prod/global_prod * 100)\n",
    "\n",
    "    # consumption based emissions\n",
    "    x = np.array(Y[i].sum(axis=1) + Z[i].sum(axis=1))\n",
    "    for j in range(len(x)):\n",
    "        if x[j]==0:\n",
    "            x[j]=0.000000001 # do this to avoid trying to divide my zero later\n",
    "        else:\n",
    "            pass\n",
    "    x = x.reshape(1435,1)\n",
    "    x_t = np.matrix.transpose(x)\n",
    "    big_x = x_t.repeat(x_t.shape[1], axis=0)\n",
    "    \n",
    "    A = np.array(Z[i]) / big_x\n",
    "    I = np.identity(len(Z[i]))\n",
    "    L = np.linalg.inv(I-A)\n",
    "    F_NRGx = np.array(F_NRG[i]) / x_t\n",
    "    \n",
    "    temp_1 = np.matmul(F_NRGx, L)\n",
    "    \n",
    "    BRIC_cons = 0\n",
    "    global_cons = 0\n",
    "    for c in country_list:\n",
    "        Y_temp = np.array(Y[i][[c]]).sum(axis=1).reshape(1435, 1)\n",
    "        temp_2 = np.matmul(temp_1, Y_temp)\n",
    "        cons = temp_2 + float(F_NRG_hh[i][[c]].sum(axis=1))\n",
    "        global_cons += cons[0][0]\n",
    "        if c in BRIC_countries:\n",
    "            BRIC_cons += cons[0][0]\n",
    "        \n",
    "    BRIC_consumption.append(BRIC_cons/global_cons * 100)"
   ]
  },
  {
   "cell_type": "code",
   "execution_count": 6,
   "metadata": {},
   "outputs": [
    {
     "data": {
      "text/plain": [
       "Text(0.5,1,'BRIC Countries')"
      ]
     },
     "execution_count": 6,
     "metadata": {},
     "output_type": "execute_result"
    },
    {
     "data": {
      "image/png": "[encoded data removed]",
      "text/plain": [
       "<Figure size 720x360 with 1 Axes>"
      ]
     },
     "metadata": {
      "needs_background": "light"
     },
     "output_type": "display_data"
    }
   ],
   "source": [
    "fig, ax = plt.subplots(ncols=1, nrows=1, figsize=(10, 5))\n",
    "\n",
    "pd.DataFrame(BRIC_consumption, year_list).rename(columns={0:'Consumption'}).plot(ax=ax,)\n",
    "pd.DataFrame(BRIC_production, year_list).rename(columns={0:'Production'}).plot(ax=ax)\n",
    "ax.set_xlabel('Year', fontsize=12)\n",
    "ax.set_ylabel('%', fontsize=12)\n",
    "ax.set_ylim([0,35])\n",
    "ax.set_title('BRIC Countries')"
   ]
  },
  {
   "cell_type": "markdown",
   "metadata": {},
   "source": [
    "### 5.3. What proportion of the UK’s GHG footprint is sourced from BRIC nations?"
   ]
  },
  {
   "cell_type": "code",
   "execution_count": 7,
   "metadata": {},
   "outputs": [],
   "source": [
    "BRIC_countries = ['BRA', 'RUS', 'IND', 'CHN']\n",
    "UK_BRIC = []\n",
    "sectors = 35\n",
    "\n",
    "for i in range(len(year_list)):\n",
    "    x = np.array(Z[i].sum(axis=1) + Y[i].sum(axis=1))\n",
    "    for j in range(len(x)):\n",
    "        if x[j]==0:\n",
    "            x[j]=0.000000001 # do this to avoid trying to divide my zero later\n",
    "        else:\n",
    "            pass\n",
    "    x = x.reshape(1435,1)\n",
    "    x_t = np.matrix.transpose(x)\n",
    "    big_x = x_t.repeat(x_t.shape[1], axis=0)\n",
    "    \n",
    "    A = np.array(Z[i]) / big_x\n",
    "    I = np.identity(len(Z[i]))\n",
    "    L = np.linalg.inv(I-A)\n",
    "    F_GHGx = np.array(F_GHG[i]) / x_t\n",
    "    \n",
    "    Y_UK = np.array(Y[i][['GBR']]).sum(axis=1).reshape(1435, 1)\n",
    "\n",
    "    temp = np.matmul(np.diag(F_GHGx[0]), L)\n",
    "    temp = np.matmul(temp, np.diag(Y_UK.reshape(1, 1435)[0]))\n",
    "    temp = pd.DataFrame(temp, index=Z[0].index, columns=Z[0].columns) # change back into df to more easily extract the countries\n",
    "    \n",
    "    BRIC_value = 0\n",
    "    for c in BRIC_countries:\n",
    "        temp_1 = temp.T[c].sum().sum()\n",
    "        BRIC_value += temp_1\n",
    "    \n",
    "    UK_BRIC.append(BRIC_value/UK_consumption[i] * 100)   "
   ]
  },
  {
   "cell_type": "code",
   "execution_count": 8,
   "metadata": {},
   "outputs": [
    {
     "data": {
      "text/plain": [
       "Text(0.5,1,'UK GHG - BRIC Proportion')"
      ]
     },
     "execution_count": 8,
     "metadata": {},
     "output_type": "execute_result"
    },
    {
     "data": {
      "image/png": "[encoded data removed]",
      "text/plain": [
       "<Figure size 720x360 with 1 Axes>"
      ]
     },
     "metadata": {
      "needs_background": "light"
     },
     "output_type": "display_data"
    }
   ],
   "source": [
    "fig, ax = plt.subplots(ncols=1, nrows=1, figsize=(10, 5))\n",
    "\n",
    "pd.DataFrame(UK_BRIC, year_list).plot(ax=ax,legend=False)\n",
    "ax.set_xlabel('Year', fontsize=12)\n",
    "ax.set_ylabel('%', fontsize=12)\n",
    "ax.set_ylim([0,18])\n",
    "ax.set_title('UK GHG - BRIC Proportion')"
   ]
  },
  {
   "cell_type": "markdown",
   "metadata": {},
   "source": [
    "### 5.4. What proportion of UK’s GHG footprint can be shown to originate from the agricultural industry?"
   ]
  },
  {
   "cell_type": "code",
   "execution_count": 9,
   "metadata": {},
   "outputs": [],
   "source": [
    "UK_agriculture = []\n",
    "\n",
    "for i in range(len(year_list)):\n",
    "    x = np.array(Y[i].sum(axis=1) + Z[i].sum(axis=1))\n",
    "    for j in range(len(x)):\n",
    "        if x[j]==0:\n",
    "            x[j]=0.000000001 # do this to avoid trying to divide my zero later\n",
    "        else:\n",
    "            pass\n",
    "    x = x.reshape(1435,1)\n",
    "    x_t = np.matrix.transpose(x)\n",
    "    big_x = x_t.repeat(x_t.shape[1], axis=0)\n",
    "    \n",
    "    A = np.array(Z[i]) / big_x\n",
    "    I = np.identity(len(Z[i]))\n",
    "    L = np.linalg.inv(I-A)\n",
    "    F_GHGx = np.array(F_GHG[i]) / x_t\n",
    "    \n",
    "    Y_UK = np.array(Y[i][['GBR']]).sum(axis=1).reshape(1435, 1)\n",
    "\n",
    "    temp = np.matmul(np.diag(F_GHGx[0]), L)\n",
    "    temp = np.matmul(temp, np.diag(Y_UK.reshape(1, 1435)[0]))\n",
    "    temp = pd.DataFrame(temp, index=Z[0].index, columns=Z[0].columns) # change back into df to more easily extract the countries\n",
    "    \n",
    "    agri_value = temp.T.swaplevel(axis=1)['c1'].sum().sum()\n",
    "    \n",
    "    UK_agriculture.append(agri_value/UK_consumption[i] * 100)   "
   ]
  },
  {
   "cell_type": "code",
   "execution_count": 10,
   "metadata": {},
   "outputs": [
    {
     "data": {
      "text/plain": [
       "Text(0.5,1,'UK GHG - Agriculture Proportion')"
      ]
     },
     "execution_count": 10,
     "metadata": {},
     "output_type": "execute_result"
    },
    {
     "data": {
      "image/png": "[encoded data removed]",
      "text/plain": [
       "<Figure size 720x360 with 1 Axes>"
      ]
     },
     "metadata": {
      "needs_background": "light"
     },
     "output_type": "display_data"
    }
   ],
   "source": [
    "fig, ax = plt.subplots(ncols=1, nrows=1, figsize=(10, 5))\n",
    "\n",
    "pd.DataFrame(UK_agriculture, year_list).plot(ax=ax, legend=False)\n",
    "ax.set_xlabel('Year', fontsize=12)\n",
    "ax.set_ylabel('%', fontsize=12)\n",
    "ax.set_ylim([0,16])\n",
    "ax.set_title('UK GHG - Agriculture Proportion')"
   ]
  },
  {
   "cell_type": "markdown",
   "metadata": {},
   "source": [
    "## 7. Working with expenditure survey data"
   ]
  },
  {
   "cell_type": "code",
   "execution_count": 11,
   "metadata": {},
   "outputs": [],
   "source": [
    "G8 = ['CAN','DEU','FRA','GBR','ITA','JPN','RUS','USA']\n",
    "country = F_GHG_hh[0].columns.tolist()\n",
    "regions = len(country)\n",
    "final_demand = len(Y[0].columns.levels[1].tolist())\n",
    "\n",
    "G8_lookup = np.zeros((regions,1))\n",
    "\n",
    "for i in range(len(country)):\n",
    "    if country[i] in G8:\n",
    "        G8_lookup[i] = 1"
   ]
  },
  {
   "cell_type": "markdown",
   "metadata": {},
   "source": [
    "### 6.1. Make Y_G8 a ‘1 x 1435’ vector showing the final demand of the G8 nations and use this to find the total energy footprint of G8 nations "
   ]
  },
  {
   "cell_type": "code",
   "execution_count": 12,
   "metadata": {},
   "outputs": [],
   "source": [
    "# make aggregate matrix\n",
    "G8_Y_agg = np.zeros((regions*final_demand, 1))\n",
    "for i in range(len(G8_lookup)):\n",
    "    j = i+1 # because indexing starts at 0 in python\n",
    "    if G8_lookup[i] == 1:\n",
    "        G8_Y_agg[(j*final_demand)-final_demand:j*final_demand] = np.ones((final_demand,1))\n",
    "\n",
    "# run io\n",
    "G8_energy_cons = []\n",
    "\n",
    "for i in range(len(year_list)):\n",
    "    x = np.array(Y[i].sum(axis=1) + Z[i].sum(axis=1))\n",
    "    for j in range(len(x)):\n",
    "        if x[j]==0:\n",
    "            x[j]=0.000000001 # do this to avoid trying to divide my zero later\n",
    "        else:\n",
    "            pass\n",
    "    x = x.reshape(1435,1)\n",
    "    x_t = np.matrix.transpose(x)\n",
    "    big_x = x_t.repeat(x_t.shape[1], axis=0)\n",
    "    \n",
    "    A = np.array(Z[i]) / big_x\n",
    "    I = np.identity(len(Z[i]))\n",
    "    L = np.linalg.inv(I-A)\n",
    "    F_NRGx = np.array(F_NRG[i]) / x_t\n",
    "    \n",
    "    Y_G8 = np.matmul(np.array(Y[i]),  G8_Y_agg)\n",
    "    \n",
    "    temp = np.matmul(F_NRGx, L)\n",
    "    temp = np.matmul(temp, Y_G8)\n",
    "    \n",
    "    temp_1 = np.matmul(np.array(F_NRG_hh[i]), G8_lookup)\n",
    "    \n",
    "    G8_cons = temp[0][0] + temp_1[0][0]\n",
    "    \n",
    "    G8_energy_cons.append(G8_cons)"
   ]
  },
  {
   "cell_type": "code",
   "execution_count": 13,
   "metadata": {},
   "outputs": [],
   "source": [
    "G8_cons_nrg = pd.DataFrame()\n",
    "G8_cons_nrg['G8'] = G8_energy_cons\n",
    "G8_cons_nrg['Year'] = year_list"
   ]
  },
  {
   "cell_type": "code",
   "execution_count": 14,
   "metadata": {},
   "outputs": [
    {
     "data": {
      "text/plain": [
       "Text(0.5,1,'G8')"
      ]
     },
     "execution_count": 14,
     "metadata": {},
     "output_type": "execute_result"
    },
    {
     "data": {
      "image/png": "[encoded data removed]",
      "text/plain": [
       "<Figure size 720x360 with 1 Axes>"
      ]
     },
     "metadata": {
      "needs_background": "light"
     },
     "output_type": "display_data"
    }
   ],
   "source": [
    "fig, ax = plt.subplots(ncols=1, nrows=1, figsize=(10, 5))\n",
    "\n",
    "G8_cons_nrg.plot(ax=ax, x='Year', y='G8')\n",
    "ax.set_xlabel('Year', fontsize=12)\n",
    "ax.set_ylabel('Energy', fontsize=12)\n",
    "ax.set_ylim([50000000, 400000000])\n",
    "ax.set_title('G8')"
   ]
  },
  {
   "cell_type": "markdown",
   "metadata": {},
   "source": [
    "### 6.2. What proportion of the UK energy footprint is sourced from G8 nations?\n",
    "\n",
    "Using aggregate matrices"
   ]
  },
  {
   "cell_type": "code",
   "execution_count": 15,
   "metadata": {},
   "outputs": [],
   "source": [
    "# make aggregate matrix\n",
    "G8_F_agg = np.zeros((1,regions*sectors))\n",
    "        \n",
    "for i in range(len(G8_lookup)):\n",
    "    j = i+1 # because indexing starts at 0 in python\n",
    "    if G8_lookup[i] == 1:\n",
    "        G8_F_agg[0][(j*sectors)-sectors:j*sectors] = np.ones((sectors,1)).reshape(1, sectors)[0]\n",
    "\n",
    "# run io\n",
    "UK_G8_prop = []\n",
    "\n",
    "for i in range(len(year_list)):\n",
    "    x = np.array(Y[i].sum(axis=1) + Z[i].sum(axis=1))\n",
    "    for j in range(len(x)):\n",
    "        if x[j]==0:\n",
    "            x[j]=0.000000001 # do this to avoid trying to divide my zero later\n",
    "        else:\n",
    "            pass\n",
    "    x = x.reshape(1435,1)\n",
    "    x_t = np.matrix.transpose(x)\n",
    "    big_x = x_t.repeat(x_t.shape[1], axis=0)\n",
    "    \n",
    "    A = np.array(Z[i]) / big_x\n",
    "    I = np.identity(len(Z[i]))\n",
    "    L = np.linalg.inv(I-A)\n",
    "    \n",
    "    Y_UK = np.array(Y[i][['GBR']]).sum(axis=1).reshape(1435, 1)\n",
    "    \n",
    "    # UK energy footprint\n",
    "    F_NRGx = np.array(F_NRG[i]) / x_t\n",
    "    temp = np.matmul(F_NRGx, L)\n",
    "    temp = np.matmul(temp, Y_UK)\n",
    "    UK_cons = temp + float(F_NRG_hh[i]['GBR'])\n",
    "    \n",
    "    # from G8\n",
    "    F_G8 = G8_F_agg * np.array(F_NRG[i])\n",
    "    F_G8x = F_G8 / x_t\n",
    "    temp = np.matmul(F_G8x, L)\n",
    "    temp = np.matmul(temp, Y_UK)\n",
    "    \n",
    "    a = temp[0][0] / UK_cons[0][0] * 100\n",
    "    \n",
    "    UK_G8_prop.append(a)"
   ]
  },
  {
   "cell_type": "code",
   "execution_count": 16,
   "metadata": {},
   "outputs": [
    {
     "data": {
      "text/plain": [
       "Text(0.5,1,'UK NRG - G8 Proportion')"
      ]
     },
     "execution_count": 16,
     "metadata": {},
     "output_type": "execute_result"
    },
    {
     "data": {
      "image/png": "[encoded data removed]",
      "text/plain": [
       "<Figure size 720x360 with 1 Axes>"
      ]
     },
     "metadata": {
      "needs_background": "light"
     },
     "output_type": "display_data"
    }
   ],
   "source": [
    "fig, ax = plt.subplots(ncols=1, nrows=1, figsize=(10, 5))\n",
    "\n",
    "pd.DataFrame(UK_G8_prop, year_list).plot(ax=ax, legend=False)\n",
    "ax.set_xlabel('Year', fontsize=12)\n",
    "ax.set_ylabel('%', fontsize=12)\n",
    "ax.set_ylim([0,70])\n",
    "ax.set_title('UK NRG - G8 Proportion')"
   ]
  },
  {
   "cell_type": "markdown",
   "metadata": {},
   "source": [
    "### 6.3. Making a smaller version of the WIOD matrix using aggregation matrices"
   ]
  },
  {
   "cell_type": "code",
   "execution_count": 17,
   "metadata": {},
   "outputs": [],
   "source": [
    "G8 = ['CAN','DEU','FRA','GBR','ITA','JPN','RUS','USA']\n",
    "country = F_GHG_hh[0].columns.tolist()\n",
    "regions = len(country)\n",
    "sectors = len(Z[0].columns.levels[1].tolist())\n",
    "final_demand = len(Y[1].columns.levels[1].tolist())\n",
    "\n",
    "G8_lookup = np.zeros((regions, 1))\n",
    "G8_agg = np.zeros((2*sectors, regions*sectors))\n",
    "G8_Y_agg = np.zeros((2*final_demand, final_demand*regions))\n",
    "    \n",
    "for i in range(len(country)):\n",
    "    if country[i] in G8:\n",
    "        G8_lookup[i] = 1\n",
    "        \n",
    "for i in range(len(G8_lookup)):\n",
    "    j = i+1 # because indexing starts at 0 in python\n",
    "    if G8_lookup[i] == 1:\n",
    "        G8_agg[0:sectors, j*sectors-(sectors):j*sectors] = np.identity(sectors)\n",
    "        G8_Y_agg[0:final_demand, j*final_demand-(final_demand):j*final_demand] = np.identity(final_demand)\n",
    "        \n",
    "    else:\n",
    "        G8_agg[sectors:2*sectors, j*sectors-(sectors):j*sectors] = np.identity(sectors)\n",
    "        G8_Y_agg[final_demand:2*final_demand, j*final_demand-(final_demand):j*final_demand] = np.identity(final_demand)\n",
    "        \n",
    "G8_Y_agg = np.matrix.transpose(G8_Y_agg)"
   ]
  },
  {
   "cell_type": "code",
   "execution_count": 18,
   "metadata": {},
   "outputs": [],
   "source": [
    "G8_energy_cons_agg = []\n",
    "new_Z_list = []\n",
    "new_F_list = []\n",
    "new_Y_list = []\n",
    "\n",
    "for i in range(len(year_list)):\n",
    "    C_t = np.matrix.transpose(G8_agg)\n",
    "    new_Z = np.matmul(np.matmul(G8_agg, Z[i]), C_t)\n",
    "    new_F = np.matmul(np.array(F_NRG[i]), C_t)\n",
    "    new_Y = np.matmul(np.matmul(G8_agg, Y[i]), G8_Y_agg)\n",
    "    \n",
    "    new_Z_list.append(new_Z)\n",
    "    new_F_list.append(new_F)\n",
    "    new_Y_list.append(new_Y)\n",
    "    \n",
    "    x = np.array(new_Y.sum(axis=1) + new_Z.sum(axis=1))\n",
    "    for j in range(len(x)):\n",
    "        if x[j]==0:\n",
    "            x[j]=0.000000001 # do this to avoid trying to divide my zero later\n",
    "        else:\n",
    "            pass\n",
    "    x = x.reshape(70, 1)\n",
    "    x_t = np.matrix.transpose(x)\n",
    "    big_x = x_t.repeat(x_t.shape[1], axis=0)\n",
    "    \n",
    "    A = np.array(new_Z) / big_x\n",
    "    I = np.identity(len(new_Z))\n",
    "    L = np.linalg.inv(I-A)\n",
    "    \n",
    "    Y_G8 = np.array(new_Y[:, :5]).sum(axis=1)\n",
    "    Y_G8 = Y_G8.reshape(Y_G8.shape[0], 1)\n",
    "    \n",
    "    # G8 energy footprint\n",
    "    F_NRGx = new_F / np.matrix.transpose(x)\n",
    "    temp = np.matmul(F_NRGx, L)\n",
    "    temp = np.matmul(temp, Y_G8)\n",
    "    G8_cons = temp + float(F_NRG_hh[i][G8].sum(axis=1))\n",
    "    \n",
    "    G8_energy_cons_agg.append(G8_cons[0][0])"
   ]
  },
  {
   "cell_type": "code",
   "execution_count": 19,
   "metadata": {},
   "outputs": [
    {
     "data": {
      "text/plain": [
       "Text(0.5,1,'UK NRG - G8 Proportion')"
      ]
     },
     "execution_count": 19,
     "metadata": {},
     "output_type": "execute_result"
    },
    {
     "data": {
      "image/png": "[encoded data removed]",
      "text/plain": [
       "<Figure size 720x360 with 1 Axes>"
      ]
     },
     "metadata": {
      "needs_background": "light"
     },
     "output_type": "display_data"
    }
   ],
   "source": [
    "G8_cons_nrg['G8_agg'] = G8_energy_cons_agg\n",
    "\n",
    "fig, ax = plt.subplots(ncols=1, nrows=1, figsize=(10, 5))\n",
    "\n",
    "G8_cons_nrg.plot(ax=ax, x='Year', y='G8')\n",
    "G8_cons_nrg.plot(ax=ax, x='Year', y='G8_agg')\n",
    "ax.set_xlabel('Year', fontsize=12)\n",
    "ax.set_ylabel('Energy', fontsize=12)\n",
    "ax.set_ylim([0, 400000000])\n",
    "ax.set_title('UK NRG - G8 Proportion')"
   ]
  },
  {
   "cell_type": "markdown",
   "metadata": {},
   "source": [
    "### 6.4. Making an even smaller version of the WIOD matrix"
   ]
  },
  {
   "cell_type": "code",
   "execution_count": 20,
   "metadata": {},
   "outputs": [
    {
     "data": {
      "text/html": [
       "<div>\n",
       "<style scoped>\n",
       "    .dataframe tbody tr th:only-of-type {\n",
       "        vertical-align: middle;\n",
       "    }\n",
       "\n",
       "    .dataframe tbody tr th {\n",
       "        vertical-align: top;\n",
       "    }\n",
       "\n",
       "    .dataframe thead th {\n",
       "        text-align: right;\n",
       "    }\n",
       "</style>\n",
       "<table border=\"1\" class=\"dataframe\">\n",
       "  <thead>\n",
       "    <tr style=\"text-align: right;\">\n",
       "      <th></th>\n",
       "      <th>1</th>\n",
       "      <th>sector_code</th>\n",
       "      <th>sector</th>\n",
       "    </tr>\n",
       "  </thead>\n",
       "  <tbody>\n",
       "    <tr>\n",
       "      <th>0</th>\n",
       "      <td>Agriculture, Hunting, Forestry and Fishing</td>\n",
       "      <td>AtB</td>\n",
       "      <td>c1</td>\n",
       "    </tr>\n",
       "    <tr>\n",
       "      <th>1</th>\n",
       "      <td>Mining and Quarrying</td>\n",
       "      <td>C</td>\n",
       "      <td>c2</td>\n",
       "    </tr>\n",
       "    <tr>\n",
       "      <th>2</th>\n",
       "      <td>Food, Beverages and Tobacco</td>\n",
       "      <td>15t16</td>\n",
       "      <td>c3</td>\n",
       "    </tr>\n",
       "    <tr>\n",
       "      <th>3</th>\n",
       "      <td>Textiles and Textile Products</td>\n",
       "      <td>17t18</td>\n",
       "      <td>c4</td>\n",
       "    </tr>\n",
       "    <tr>\n",
       "      <th>4</th>\n",
       "      <td>Leather, Leather and Footwear</td>\n",
       "      <td>19</td>\n",
       "      <td>c5</td>\n",
       "    </tr>\n",
       "  </tbody>\n",
       "</table>\n",
       "</div>"
      ],
      "text/plain": [
       "                                            1 sector_code sector\n",
       "0  Agriculture, Hunting, Forestry and Fishing         AtB     c1\n",
       "1                        Mining and Quarrying           C     c2\n",
       "2                 Food, Beverages and Tobacco       15t16     c3\n",
       "3               Textiles and Textile Products       17t18     c4\n",
       "4               Leather, Leather and Footwear          19     c5"
      ]
     },
     "execution_count": 20,
     "metadata": {},
     "output_type": "execute_result"
    }
   ],
   "source": [
    "file_loc = 'Data/clean_data/sector_lookup.csv'\n",
    "\n",
    "# import data\n",
    "column_lookup = pd.read_csv(file_loc)\n",
    "column_lookup = column_lookup.loc[column_lookup['country'] == 'AUS'].drop('country', axis=1)\n",
    "\n",
    "column_lookup.head()"
   ]
  },
  {
   "cell_type": "code",
   "execution_count": 21,
   "metadata": {},
   "outputs": [],
   "source": [
    "extraction_from_nature = ['AtB', 'C']\n",
    "manufacturing = ['15t16', '17t18', '19', '20', '21t22', '23', '24', '25', '26', '27t28', '29', '30t33', '34t35', '36t37']\n",
    "fuel = ['E']\n",
    "construction = ['F']\n",
    "trade = ['50', '51', '52', 'H']\n",
    "transport = ['60', '61', '62', '63', '64']\n",
    "private_services = ['J', '70', '71t74']\n",
    "public_services_other = ['L', 'M', 'N', 'O', 'P']\n",
    "\n",
    "new_sectors = [extraction_from_nature, manufacturing, fuel, construction, trade, transport, private_services, public_services_other]"
   ]
  },
  {
   "cell_type": "code",
   "execution_count": 22,
   "metadata": {},
   "outputs": [],
   "source": [
    "dictionary = dict(zip(column_lookup['sector_code'].tolist(), column_lookup['sector'].tolist()))   \n",
    "\n",
    "for sector in new_sectors:\n",
    "    for i in range(len(sector)):\n",
    "        sector[i] = dictionary[sector[i]]"
   ]
  },
  {
   "cell_type": "code",
   "execution_count": 23,
   "metadata": {},
   "outputs": [],
   "source": [
    "#### make aggreagtion matrix for new secotrs\n",
    "\n",
    "region_names = ['G8', 'ROW']\n",
    "regions = len(region_names)\n",
    "old_sector_no = int(new_Z_list[0].shape[0] / regions)\n",
    "new_sector_no = len(new_sectors)\n",
    "sectors = column_lookup['sector'].tolist()\n",
    "\n",
    "sector_agg = np.zeros((new_sector_no * regions, old_sector_no * regions))\n",
    "sector_lookup = np.zeros((new_sector_no, old_sector_no))\n",
    "\n",
    "k=0\n",
    "for i in range(len(new_sectors)):\n",
    "    sector_lookup[i, k:k+len(new_sectors[i])] = np.ones((1, len(new_sectors[i])))\n",
    "    k += len(new_sectors[i])\n",
    "\n",
    "sector_agg[:sector_lookup.shape[0], :sector_lookup.shape[1]] = sector_lookup\n",
    "sector_agg[sector_lookup.shape[0]:, sector_lookup.shape[1]:] = sector_lookup"
   ]
  },
  {
   "cell_type": "code",
   "execution_count": 24,
   "metadata": {},
   "outputs": [
    {
     "data": {
      "text/plain": [
       "Text(0.5,1,'UK NRG - G8 Proportion')"
      ]
     },
     "execution_count": 24,
     "metadata": {},
     "output_type": "execute_result"
    },
    {
     "data": {
      "image/png": "[encoded data removed]",
      "text/plain": [
       "<Figure size 720x360 with 1 Axes>"
      ]
     },
     "metadata": {
      "needs_background": "light"
     },
     "output_type": "display_data"
    }
   ],
   "source": [
    "# using previous answer\n",
    "G8_energy_cons_agg2 = []\n",
    "\n",
    "for i in range(len(year_list)):\n",
    "    C_t = np.matrix.transpose(sector_agg)\n",
    "    new_Z = np.matmul(np.matmul(sector_agg, new_Z_list[i]), C_t)\n",
    "    new_F = np.matmul(new_F_list[i], C_t)\n",
    "    new_Y = np.matmul(sector_agg, new_Y_list[i])\n",
    "    \n",
    "    x = np.array(new_Y.sum(axis=1) + new_Z.sum(axis=1))\n",
    "    for j in range(len(x)):\n",
    "        if x[j]==0:\n",
    "            x[j]=0.000000001 # do this to avoid trying to divide my zero later\n",
    "        else:\n",
    "            pass\n",
    "    x = x.reshape(x.shape[0], 1)\n",
    "    x_t = np.matrix.transpose(x)\n",
    "    big_x = x_t.repeat(x_t.shape[1], axis=0)\n",
    "    \n",
    "    A = np.array(new_Z) / big_x\n",
    "    I = np.identity(len(new_Z))\n",
    "    L = np.linalg.inv(I-A)\n",
    "    \n",
    "    Y_G8 = np.array(new_Y[:, :5]).sum(axis=1)\n",
    "    Y_G8 = Y_G8.reshape(Y_G8.shape[0], 1)\n",
    "    \n",
    "    # G8 energy footprint\n",
    "    F_NRGx = new_F / np.matrix.transpose(x)  \n",
    "    temp = np.matmul(F_NRGx, L)\n",
    "    temp = np.matmul(temp, Y_G8)\n",
    "    G8_cons = temp + float(F_NRG_hh[i][G8].sum(axis=1))\n",
    "    \n",
    "    G8_energy_cons_agg2.append(G8_cons[0][0])\n",
    "\n",
    "# plot answer\n",
    "G8_cons_nrg['G8_agg2'] = G8_energy_cons_agg2\n",
    "\n",
    "fig, ax = plt.subplots(ncols=1, nrows=1, figsize=(10, 5))\n",
    "\n",
    "G8_cons_nrg.plot(ax=ax, x='Year', y='G8')\n",
    "G8_cons_nrg.plot(ax=ax, x='Year', y='G8_agg')\n",
    "G8_cons_nrg.plot(ax=ax, x='Year', y='G8_agg2')\n",
    "ax.set_xlabel('Year', fontsize=12)\n",
    "ax.set_ylabel('Energy', fontsize=12)\n",
    "ax.set_ylim([0, 400000000])\n",
    "ax.set_title('UK NRG - G8 Proportion')"
   ]
  },
  {
   "cell_type": "code",
   "execution_count": 25,
   "metadata": {},
   "outputs": [],
   "source": [
    "# starting from original Z, Y and F \n",
    "\n",
    "# make aggregate matrices\n",
    "G8 = ['CAN','DEU','FRA','GBR','ITA','JPN','RUS','USA']\n",
    "country = Y[0].columns.levels[0].tolist()\n",
    "regions = len(country)\n",
    "sectors = len(Z[0].columns.levels[1].tolist())\n",
    "final_demand = len(Y[1].columns.levels[1].tolist())\n",
    "\n",
    "sectoragg = np.matrix.transpose(sector_lookup)\n",
    "\n",
    "G8_agg = np.zeros((2*8, regions*sectors))\n",
    "G8_reg_agg = np.zeros((regions*final_demand, 2))\n",
    "\n",
    "for m in range(regions):\n",
    "    j = m+1\n",
    "    if G8_lookup[m][0] == 1:\n",
    "        G8_agg[:8, j*sectors-sectors:j*sectors] = sector_lookup\n",
    "        G8_reg_agg[j*final_demand-final_demand:j*final_demand, :1] = np.ones((final_demand, 1))\n",
    "    else:\n",
    "        G8_agg[8:, j*sectors-sectors:j*sectors] = sector_lookup\n",
    "        G8_reg_agg[j*final_demand-final_demand:j*final_demand, 1:] = np.ones((final_demand, 1))\n",
    "        \n",
    "#Run analysis\n",
    "G8_nrg_cons_agg3 = []\n",
    "\n",
    "G8_agg_t = np.matrix.transpose(G8_agg)\n",
    "for i in range(len(year_list)):\n",
    "    Zagg = np.matmul(np.matmul(G8_agg, Z[i]), G8_agg_t)\n",
    "    Yagg = np.matmul(np.matmul(G8_agg, Y[i]), G8_reg_agg)\n",
    "    F_NRGagg = np.matmul(F_NRG[i], G8_agg_t)\n",
    "    \n",
    "    x = Zagg.sum(axis=1) + Yagg.sum(axis=1)\n",
    "    for j in range(len(x)):\n",
    "        if x[j]==0:\n",
    "            x[j]=0.000000001 # do this to avoid trying to divide my zero later\n",
    "        else:\n",
    "            pass\n",
    "    x = x.reshape(x.shape[0], 1)\n",
    "    x_t = np.matrix.transpose(x)\n",
    "    big_x = x_t.repeat(x_t.shape[1], axis=0)\n",
    "    \n",
    "    A = np.array(Zagg) / big_x\n",
    "    I = np.identity(Zagg.shape[0])\n",
    "    L = np.linalg.inv(I-A)\n",
    "    \n",
    "    # G8 energy footprint   \n",
    "    F_NRGx = F_NRGagg / np.matrix.transpose(x)\n",
    "    G8_cons = np.matmul(np.matmul(F_NRGx, L), Yagg[:, :1]) + float(F_NRG_hh[i][G8].sum(axis=1))\n",
    "    \n",
    "    G8_nrg_cons_agg3.append(G8_cons[0][0])"
   ]
  },
  {
   "cell_type": "code",
   "execution_count": 26,
   "metadata": {},
   "outputs": [
    {
     "data": {
      "text/plain": [
       "Text(0.5,1,'UK NRG - G8 Proportion')"
      ]
     },
     "execution_count": 26,
     "metadata": {},
     "output_type": "execute_result"
    },
    {
     "data": {
      "image/png": "[encoded data removed]",
      "text/plain": [
       "<Figure size 720x360 with 1 Axes>"
      ]
     },
     "metadata": {
      "needs_background": "light"
     },
     "output_type": "display_data"
    }
   ],
   "source": [
    "G8_cons_nrg['G8_agg3'] = G8_nrg_cons_agg3\n",
    "\n",
    "fig, ax = plt.subplots(ncols=1, nrows=1, figsize=(10, 5))\n",
    "\n",
    "G8_cons_nrg.plot(ax=ax, x='Year', y='G8')\n",
    "G8_cons_nrg.plot(ax=ax, x='Year', y='G8_agg')\n",
    "G8_cons_nrg.plot(ax=ax, x='Year', y='G8_agg2')\n",
    "G8_cons_nrg.plot(ax=ax, x='Year', y='G8_agg3')\n",
    "ax.set_xlabel('Year', fontsize=12)\n",
    "ax.set_ylabel('Energy', fontsize=12)\n",
    "ax.set_ylim([0, 400000000])\n",
    "ax.set_title('UK NRG - G8 Proportion')"
   ]
  },
  {
   "cell_type": "markdown",
   "metadata": {},
   "source": [
    "## 7. Working with expenditure survey data\n",
    "### 7.1. The GHG footprint of men and women in the UK"
   ]
  },
  {
   "cell_type": "code",
   "execution_count": 27,
   "metadata": {},
   "outputs": [
    {
     "data": {
      "text/html": [
       "<div>\n",
       "<style scoped>\n",
       "    .dataframe tbody tr th:only-of-type {\n",
       "        vertical-align: middle;\n",
       "    }\n",
       "\n",
       "    .dataframe tbody tr th {\n",
       "        vertical-align: top;\n",
       "    }\n",
       "\n",
       "    .dataframe thead th {\n",
       "        text-align: right;\n",
       "    }\n",
       "</style>\n",
       "<table border=\"1\" class=\"dataframe\">\n",
       "  <thead>\n",
       "    <tr style=\"text-align: right;\">\n",
       "      <th></th>\n",
       "      <th>Average yearly spend by a man (USD)</th>\n",
       "      <th>Average yearly spend by a woman (USD)</th>\n",
       "    </tr>\n",
       "    <tr>\n",
       "      <th>Unnamed: 0</th>\n",
       "      <th></th>\n",
       "      <th></th>\n",
       "    </tr>\n",
       "  </thead>\n",
       "  <tbody>\n",
       "    <tr>\n",
       "      <th>Agriculture, Hunting, Forestry and Fishing</th>\n",
       "      <td>400</td>\n",
       "      <td>430</td>\n",
       "    </tr>\n",
       "    <tr>\n",
       "      <th>Mining and Quarrying</th>\n",
       "      <td>30</td>\n",
       "      <td>25</td>\n",
       "    </tr>\n",
       "    <tr>\n",
       "      <th>Food, Beverages and Tobacco</th>\n",
       "      <td>1000</td>\n",
       "      <td>1300</td>\n",
       "    </tr>\n",
       "    <tr>\n",
       "      <th>Textiles and Textile Products</th>\n",
       "      <td>400</td>\n",
       "      <td>350</td>\n",
       "    </tr>\n",
       "    <tr>\n",
       "      <th>Leather, Leather and Footwear</th>\n",
       "      <td>60</td>\n",
       "      <td>100</td>\n",
       "    </tr>\n",
       "    <tr>\n",
       "      <th>Wood and Products of Wood and Cork</th>\n",
       "      <td>50</td>\n",
       "      <td>55</td>\n",
       "    </tr>\n",
       "    <tr>\n",
       "      <th>Pulp, Paper, Paper , Printing and Publishing</th>\n",
       "      <td>400</td>\n",
       "      <td>300</td>\n",
       "    </tr>\n",
       "    <tr>\n",
       "      <th>Coke, Refined Petroleum and Nuclear Fuel</th>\n",
       "      <td>300</td>\n",
       "      <td>250</td>\n",
       "    </tr>\n",
       "    <tr>\n",
       "      <th>Chemicals and Chemical Products</th>\n",
       "      <td>300</td>\n",
       "      <td>270</td>\n",
       "    </tr>\n",
       "    <tr>\n",
       "      <th>Rubber and Plastics</th>\n",
       "      <td>130</td>\n",
       "      <td>100</td>\n",
       "    </tr>\n",
       "    <tr>\n",
       "      <th>Other Non-Metallic Mineral</th>\n",
       "      <td>80</td>\n",
       "      <td>50</td>\n",
       "    </tr>\n",
       "    <tr>\n",
       "      <th>Basic Metals and Fabricated Metal</th>\n",
       "      <td>200</td>\n",
       "      <td>150</td>\n",
       "    </tr>\n",
       "    <tr>\n",
       "      <th>Machinery, Nec</th>\n",
       "      <td>220</td>\n",
       "      <td>200</td>\n",
       "    </tr>\n",
       "    <tr>\n",
       "      <th>Electrical and Optical Equipment</th>\n",
       "      <td>400</td>\n",
       "      <td>350</td>\n",
       "    </tr>\n",
       "    <tr>\n",
       "      <th>Transport Equipment</th>\n",
       "      <td>800</td>\n",
       "      <td>700</td>\n",
       "    </tr>\n",
       "    <tr>\n",
       "      <th>Manufacturing, Nec; Recycling</th>\n",
       "      <td>360</td>\n",
       "      <td>310</td>\n",
       "    </tr>\n",
       "    <tr>\n",
       "      <th>Electricity, Gas and Water Supply</th>\n",
       "      <td>1000</td>\n",
       "      <td>900</td>\n",
       "    </tr>\n",
       "    <tr>\n",
       "      <th>Construction</th>\n",
       "      <td>300</td>\n",
       "      <td>200</td>\n",
       "    </tr>\n",
       "    <tr>\n",
       "      <th>Sale, Maintenance and Repair of Motor Vehicles and Motorcycles; Retail Sale of Fuel</th>\n",
       "      <td>700</td>\n",
       "      <td>650</td>\n",
       "    </tr>\n",
       "    <tr>\n",
       "      <th>Wholesale Trade and Commission Trade, Except of Motor Vehicles and Motorcycles</th>\n",
       "      <td>1300</td>\n",
       "      <td>990</td>\n",
       "    </tr>\n",
       "    <tr>\n",
       "      <th>Retail Trade, Except of Motor Vehicles and Motorcycles; Repair of Household Goods</th>\n",
       "      <td>1700</td>\n",
       "      <td>1900</td>\n",
       "    </tr>\n",
       "    <tr>\n",
       "      <th>Hotels and Restaurants</th>\n",
       "      <td>2000</td>\n",
       "      <td>1900</td>\n",
       "    </tr>\n",
       "    <tr>\n",
       "      <th>Inland Transport</th>\n",
       "      <td>500</td>\n",
       "      <td>450</td>\n",
       "    </tr>\n",
       "    <tr>\n",
       "      <th>Water Transport</th>\n",
       "      <td>40</td>\n",
       "      <td>45</td>\n",
       "    </tr>\n",
       "    <tr>\n",
       "      <th>Air Transport</th>\n",
       "      <td>300</td>\n",
       "      <td>250</td>\n",
       "    </tr>\n",
       "    <tr>\n",
       "      <th>Other Supporting and Auxiliary Transport Activities; Activities of Travel Agencies</th>\n",
       "      <td>70</td>\n",
       "      <td>80</td>\n",
       "    </tr>\n",
       "    <tr>\n",
       "      <th>Post and Telecommunications</th>\n",
       "      <td>550</td>\n",
       "      <td>500</td>\n",
       "    </tr>\n",
       "    <tr>\n",
       "      <th>Financial Intermediation</th>\n",
       "      <td>2300</td>\n",
       "      <td>2000</td>\n",
       "    </tr>\n",
       "    <tr>\n",
       "      <th>Real Estate Activities</th>\n",
       "      <td>3300</td>\n",
       "      <td>3000</td>\n",
       "    </tr>\n",
       "    <tr>\n",
       "      <th>Renting of M&amp;Eq and Other Business Activities</th>\n",
       "      <td>350</td>\n",
       "      <td>300</td>\n",
       "    </tr>\n",
       "    <tr>\n",
       "      <th>Public Admin and Defence; Compulsory Social Security</th>\n",
       "      <td>100</td>\n",
       "      <td>90</td>\n",
       "    </tr>\n",
       "    <tr>\n",
       "      <th>Education</th>\n",
       "      <td>260</td>\n",
       "      <td>230</td>\n",
       "    </tr>\n",
       "    <tr>\n",
       "      <th>Health and Social Work</th>\n",
       "      <td>500</td>\n",
       "      <td>490</td>\n",
       "    </tr>\n",
       "    <tr>\n",
       "      <th>Other Community, Social and Personal Services</th>\n",
       "      <td>1100</td>\n",
       "      <td>1200</td>\n",
       "    </tr>\n",
       "    <tr>\n",
       "      <th>Private Households with Employed Persons</th>\n",
       "      <td>100</td>\n",
       "      <td>200</td>\n",
       "    </tr>\n",
       "  </tbody>\n",
       "</table>\n",
       "</div>"
      ],
      "text/plain": [
       "                                                    Average yearly spend by a man (USD)  \\\n",
       "Unnamed: 0                                                                                \n",
       "Agriculture, Hunting, Forestry and Fishing                                          400   \n",
       "Mining and Quarrying                                                                 30   \n",
       "Food, Beverages and Tobacco                                                        1000   \n",
       "Textiles and Textile Products                                                       400   \n",
       "Leather, Leather and Footwear                                                        60   \n",
       "Wood and Products of Wood and Cork                                                   50   \n",
       "Pulp, Paper, Paper , Printing and Publishing                                        400   \n",
       "Coke, Refined Petroleum and Nuclear Fuel                                            300   \n",
       "Chemicals and Chemical Products                                                     300   \n",
       "Rubber and Plastics                                                                 130   \n",
       "Other Non-Metallic Mineral                                                           80   \n",
       "Basic Metals and Fabricated Metal                                                   200   \n",
       "Machinery, Nec                                                                      220   \n",
       "Electrical and Optical Equipment                                                    400   \n",
       "Transport Equipment                                                                 800   \n",
       "Manufacturing, Nec; Recycling                                                       360   \n",
       "Electricity, Gas and Water Supply                                                  1000   \n",
       "Construction                                                                        300   \n",
       "Sale, Maintenance and Repair of Motor Vehicles ...                                  700   \n",
       "Wholesale Trade and Commission Trade, Except of...                                 1300   \n",
       "Retail Trade, Except of Motor Vehicles and Moto...                                 1700   \n",
       "Hotels and Restaurants                                                             2000   \n",
       "Inland Transport                                                                    500   \n",
       "Water Transport                                                                      40   \n",
       "Air Transport                                                                       300   \n",
       "Other Supporting and Auxiliary Transport Activi...                                   70   \n",
       "Post and Telecommunications                                                         550   \n",
       "Financial Intermediation                                                           2300   \n",
       "Real Estate Activities                                                             3300   \n",
       "Renting of M&Eq and Other Business Activities                                       350   \n",
       "Public Admin and Defence; Compulsory Social Sec...                                  100   \n",
       "Education                                                                           260   \n",
       "Health and Social Work                                                              500   \n",
       "Other Community, Social and Personal Services                                      1100   \n",
       "Private Households with Employed Persons                                            100   \n",
       "\n",
       "                                                    Average yearly spend by a woman (USD)  \n",
       "Unnamed: 0                                                                                 \n",
       "Agriculture, Hunting, Forestry and Fishing                                            430  \n",
       "Mining and Quarrying                                                                   25  \n",
       "Food, Beverages and Tobacco                                                          1300  \n",
       "Textiles and Textile Products                                                         350  \n",
       "Leather, Leather and Footwear                                                         100  \n",
       "Wood and Products of Wood and Cork                                                     55  \n",
       "Pulp, Paper, Paper , Printing and Publishing                                          300  \n",
       "Coke, Refined Petroleum and Nuclear Fuel                                              250  \n",
       "Chemicals and Chemical Products                                                       270  \n",
       "Rubber and Plastics                                                                   100  \n",
       "Other Non-Metallic Mineral                                                             50  \n",
       "Basic Metals and Fabricated Metal                                                     150  \n",
       "Machinery, Nec                                                                        200  \n",
       "Electrical and Optical Equipment                                                      350  \n",
       "Transport Equipment                                                                   700  \n",
       "Manufacturing, Nec; Recycling                                                         310  \n",
       "Electricity, Gas and Water Supply                                                     900  \n",
       "Construction                                                                          200  \n",
       "Sale, Maintenance and Repair of Motor Vehicles ...                                    650  \n",
       "Wholesale Trade and Commission Trade, Except of...                                    990  \n",
       "Retail Trade, Except of Motor Vehicles and Moto...                                   1900  \n",
       "Hotels and Restaurants                                                               1900  \n",
       "Inland Transport                                                                      450  \n",
       "Water Transport                                                                        45  \n",
       "Air Transport                                                                         250  \n",
       "Other Supporting and Auxiliary Transport Activi...                                     80  \n",
       "Post and Telecommunications                                                           500  \n",
       "Financial Intermediation                                                             2000  \n",
       "Real Estate Activities                                                               3000  \n",
       "Renting of M&Eq and Other Business Activities                                         300  \n",
       "Public Admin and Defence; Compulsory Social Sec...                                     90  \n",
       "Education                                                                             230  \n",
       "Health and Social Work                                                                490  \n",
       "Other Community, Social and Personal Services                                        1200  \n",
       "Private Households with Employed Persons                                              200  "
      ]
     },
     "execution_count": 27,
     "metadata": {},
     "output_type": "execute_result"
    }
   ],
   "source": [
    "expenditure = pd.read_csv('Data/Q7.csv').set_index('Unnamed: 0')\n",
    "expenditure#.head()"
   ]
  },
  {
   "cell_type": "markdown",
   "metadata": {},
   "source": [
    "### How can you use this (expenditure infromation from 2009) to find the share of the UK’s household GHG footprint by men and women?"
   ]
  },
  {
   "cell_type": "code",
   "execution_count": 28,
   "metadata": {},
   "outputs": [
    {
     "data": {
      "text/html": [
       "<div>\n",
       "<style scoped>\n",
       "    .dataframe tbody tr th:only-of-type {\n",
       "        vertical-align: middle;\n",
       "    }\n",
       "\n",
       "    .dataframe tbody tr th {\n",
       "        vertical-align: top;\n",
       "    }\n",
       "\n",
       "    .dataframe thead th {\n",
       "        text-align: right;\n",
       "    }\n",
       "</style>\n",
       "<table border=\"1\" class=\"dataframe\">\n",
       "  <thead>\n",
       "    <tr style=\"text-align: right;\">\n",
       "      <th></th>\n",
       "      <th>Total_All</th>\n",
       "      <th>WIOT</th>\n",
       "      <th>Difference</th>\n",
       "    </tr>\n",
       "  </thead>\n",
       "  <tbody>\n",
       "    <tr>\n",
       "      <th>c1</th>\n",
       "      <td>26190</td>\n",
       "      <td>25942.298041</td>\n",
       "      <td>247.701959</td>\n",
       "    </tr>\n",
       "    <tr>\n",
       "      <th>c2</th>\n",
       "      <td>1725</td>\n",
       "      <td>6942.682668</td>\n",
       "      <td>-5217.682668</td>\n",
       "    </tr>\n",
       "    <tr>\n",
       "      <th>c3</th>\n",
       "      <td>72900</td>\n",
       "      <td>4193.163460</td>\n",
       "      <td>68706.836540</td>\n",
       "    </tr>\n",
       "    <tr>\n",
       "      <th>c4</th>\n",
       "      <td>23550</td>\n",
       "      <td>8297.484738</td>\n",
       "      <td>15252.515262</td>\n",
       "    </tr>\n",
       "    <tr>\n",
       "      <th>c5</th>\n",
       "      <td>5100</td>\n",
       "      <td>13102.017940</td>\n",
       "      <td>-8002.017940</td>\n",
       "    </tr>\n",
       "  </tbody>\n",
       "</table>\n",
       "</div>"
      ],
      "text/plain": [
       "    Total_All          WIOT    Difference\n",
       "c1      26190  25942.298041    247.701959\n",
       "c2       1725   6942.682668  -5217.682668\n",
       "c3      72900   4193.163460  68706.836540\n",
       "c4      23550   8297.484738  15252.515262\n",
       "c5       5100  13102.017940  -8002.017940"
      ]
     },
     "execution_count": 28,
     "metadata": {},
     "output_type": "execute_result"
    }
   ],
   "source": [
    "# 1. Check whether the spend for all men plus the spend for all women is equal to the data held in WIOD. Do this by calculating the spend by sector by UK households regardless of where the goods are from.\n",
    "# In the UK in 2009 there were 30 million men and 33 million women\n",
    "\n",
    "expenditure['Total_Men'] = expenditure['Average yearly spend by a man (USD)'] * 30\n",
    "expenditure['Total_Women'] = expenditure['Average yearly spend by a woman (USD)'] * 33\n",
    "\n",
    "# difference \n",
    "expenditure['Total_All'] = expenditure[['Total_Men', 'Total_Women']].sum(axis=1).tolist()\n",
    "expenditure['WIOT'] = Y[-1][[('GBR', 'c37')]].unstack().T.sum(axis=1).tolist()\n",
    "\n",
    "expenditure['Difference'] = expenditure['Total_All'] - expenditure['WIOT']\n",
    "\n",
    "sector_list = []\n",
    "for item in Y[0].index.tolist()[:sectors]:\n",
    "    a = item[1]\n",
    "    sector_list.append(a)\n",
    "\n",
    "expenditure.index = sector_list\n",
    "expenditure[['Total_All', 'WIOT', 'Difference']].head() # can see individual sector differences here (all in million USD)"
   ]
  },
  {
   "cell_type": "code",
   "execution_count": 29,
   "metadata": {},
   "outputs": [
    {
     "data": {
      "text/plain": [
       "Total_All     1.318395e+06\n",
       "WIOT          1.262979e+06\n",
       "Difference    5.541642e+04\n",
       "dtype: float64"
      ]
     },
     "execution_count": 29,
     "metadata": {},
     "output_type": "execute_result"
    }
   ],
   "source": [
    "expenditure[['Total_All', 'WIOT', 'Difference']].sum(axis=0)"
   ]
  },
  {
   "cell_type": "code",
   "execution_count": 30,
   "metadata": {},
   "outputs": [
    {
     "data": {
      "text/html": [
       "<div>\n",
       "<style scoped>\n",
       "    .dataframe tbody tr th:only-of-type {\n",
       "        vertical-align: middle;\n",
       "    }\n",
       "\n",
       "    .dataframe tbody tr th {\n",
       "        vertical-align: top;\n",
       "    }\n",
       "\n",
       "    .dataframe thead th {\n",
       "        text-align: right;\n",
       "    }\n",
       "</style>\n",
       "<table border=\"1\" class=\"dataframe\">\n",
       "  <thead>\n",
       "    <tr style=\"text-align: right;\">\n",
       "      <th></th>\n",
       "      <th>Average yearly spend by a man (USD)</th>\n",
       "      <th>Average yearly spend by a woman (USD)</th>\n",
       "      <th>Total_Men</th>\n",
       "      <th>Total_Women</th>\n",
       "      <th>Total_All</th>\n",
       "      <th>WIOT</th>\n",
       "      <th>Difference</th>\n",
       "      <th>Prop_Men</th>\n",
       "      <th>Prop_Women</th>\n",
       "    </tr>\n",
       "  </thead>\n",
       "  <tbody>\n",
       "    <tr>\n",
       "      <th>c1</th>\n",
       "      <td>400</td>\n",
       "      <td>430</td>\n",
       "      <td>12000</td>\n",
       "      <td>14190</td>\n",
       "      <td>26190</td>\n",
       "      <td>25942.298041</td>\n",
       "      <td>247.701959</td>\n",
       "      <td>0.458190</td>\n",
       "      <td>0.541810</td>\n",
       "    </tr>\n",
       "    <tr>\n",
       "      <th>c2</th>\n",
       "      <td>30</td>\n",
       "      <td>25</td>\n",
       "      <td>900</td>\n",
       "      <td>825</td>\n",
       "      <td>1725</td>\n",
       "      <td>6942.682668</td>\n",
       "      <td>-5217.682668</td>\n",
       "      <td>0.521739</td>\n",
       "      <td>0.478261</td>\n",
       "    </tr>\n",
       "    <tr>\n",
       "      <th>c3</th>\n",
       "      <td>1000</td>\n",
       "      <td>1300</td>\n",
       "      <td>30000</td>\n",
       "      <td>42900</td>\n",
       "      <td>72900</td>\n",
       "      <td>4193.163460</td>\n",
       "      <td>68706.836540</td>\n",
       "      <td>0.411523</td>\n",
       "      <td>0.588477</td>\n",
       "    </tr>\n",
       "    <tr>\n",
       "      <th>c4</th>\n",
       "      <td>400</td>\n",
       "      <td>350</td>\n",
       "      <td>12000</td>\n",
       "      <td>11550</td>\n",
       "      <td>23550</td>\n",
       "      <td>8297.484738</td>\n",
       "      <td>15252.515262</td>\n",
       "      <td>0.509554</td>\n",
       "      <td>0.490446</td>\n",
       "    </tr>\n",
       "    <tr>\n",
       "      <th>c5</th>\n",
       "      <td>60</td>\n",
       "      <td>100</td>\n",
       "      <td>1800</td>\n",
       "      <td>3300</td>\n",
       "      <td>5100</td>\n",
       "      <td>13102.017940</td>\n",
       "      <td>-8002.017940</td>\n",
       "      <td>0.352941</td>\n",
       "      <td>0.647059</td>\n",
       "    </tr>\n",
       "  </tbody>\n",
       "</table>\n",
       "</div>"
      ],
      "text/plain": [
       "    Average yearly spend by a man (USD)  \\\n",
       "c1                                  400   \n",
       "c2                                   30   \n",
       "c3                                 1000   \n",
       "c4                                  400   \n",
       "c5                                   60   \n",
       "\n",
       "    Average yearly spend by a woman (USD)  Total_Men  Total_Women  Total_All  \\\n",
       "c1                                    430      12000        14190      26190   \n",
       "c2                                     25        900          825       1725   \n",
       "c3                                   1300      30000        42900      72900   \n",
       "c4                                    350      12000        11550      23550   \n",
       "c5                                    100       1800         3300       5100   \n",
       "\n",
       "            WIOT    Difference  Prop_Men  Prop_Women  \n",
       "c1  25942.298041    247.701959  0.458190    0.541810  \n",
       "c2   6942.682668  -5217.682668  0.521739    0.478261  \n",
       "c3   4193.163460  68706.836540  0.411523    0.588477  \n",
       "c4   8297.484738  15252.515262  0.509554    0.490446  \n",
       "c5  13102.017940  -8002.017940  0.352941    0.647059  "
      ]
     },
     "execution_count": 30,
     "metadata": {},
     "output_type": "execute_result"
    }
   ],
   "source": [
    "# 2. What are you going to do if the spends are different? Which data do you trust? We want the footprint of men + women to be equal to the footprint of UK households calculated in WIOD so it \n",
    "# makes sense to trust the WIOD totals.\n",
    "\n",
    "# go around this by splitting WIOT into men and women --> calculate spend proportion\n",
    "expenditure['Prop_Men'] = expenditure['Total_Men'] / expenditure['Total_All']\n",
    "expenditure['Prop_Women'] = expenditure['Total_Women'] / expenditure['Total_All']\n",
    "\n",
    "expenditure.head()"
   ]
  },
  {
   "cell_type": "code",
   "execution_count": 31,
   "metadata": {},
   "outputs": [],
   "source": [
    "# 4. How are you going to share out the direct emissions?\n",
    "\n",
    "UKhhspendbysector = np.zeros((sectors,1))\n",
    "UKhhspendbyregprop = np.zeros((sectors*regions,1))\n",
    "\n",
    "for i in range(regions):\n",
    "    a=i+1   \n",
    "    temp = np.array(Y[-1][('GBR', 'c37')])[a*sectors-35:a*sectors]\n",
    "    temp = temp.reshape(temp.shape[0], 1)\n",
    "    UKhhspendbysector[:,:] += temp\n",
    "    \n",
    "for i in range(regions):\n",
    "    a=i+1\n",
    "    temp = np.array(Y[-1][('GBR', 'c37')])[a*sectors-35:a*sectors]\n",
    "    temp = temp.reshape(temp.shape[0], 1)\n",
    "    UKhhspendbyregprop[a*sectors-35:a*sectors,:] = temp / UKhhspendbysector\n",
    "\n",
    "x = np.array(Y[-1].sum(axis=1) + Z[-1].sum(axis=1))\n",
    "for j in range(len(x)):\n",
    "    if x[j]==0:\n",
    "        x[j]=0.000000001 # do this to avoid trying to divide my zero later\n",
    "x = x.reshape(1435,1)\n",
    "x_t = np.matrix.transpose(x)\n",
    "big_x = x_t.repeat(x_t.shape[1], axis=0)\n",
    "    \n",
    "A = np.array(Z[-1]) / big_x\n",
    "I = np.identity(len(Z[-1]))\n",
    "L = np.linalg.inv(I-A)\n",
    "F_GHGx = np.array(F_GHG[-1]) / x_t\n",
    "    \n",
    "Y_women = (np.array(expenditure['Prop_Women']).reshape(UKhhspendbysector.shape) * UKhhspendbysector).repeat(regions, axis=0) * UKhhspendbyregprop\n",
    "Y_men = (np.array(expenditure['Prop_Men']).reshape(UKhhspendbysector.shape) * UKhhspendbysector).repeat(regions, axis=0) * UKhhspendbyregprop\n",
    "\n",
    "F_hh_women = (\n",
    "    (expenditure.loc['c17', 'Average yearly spend by a woman (USD)'] + \n",
    "     expenditure.loc['c19', 'Average yearly spend by a woman (USD)']) * 33) / (\n",
    "    ((expenditure.loc['c17', 'Average yearly spend by a woman (USD)'] + expenditure.loc['c19', 'Average yearly spend by a woman (USD)']) * 33) +\n",
    "    ((expenditure.loc['c17', 'Average yearly spend by a man (USD)'] + expenditure.loc['c19', 'Average yearly spend by a man (USD)']) * 30))\n",
    "F_hh_men = 1- F_hh_women\n",
    "\n",
    "women_2009 = np.matmul(np.matmul(F_GHGx, L), Y_women)[0][0] + (float(F_GHG_hh[-1]['GBR']) * F_hh_women)\n",
    "    \n",
    "men_2009 = np.matmul(np.matmul(F_GHGx, L), Y_men)[0][0] + (float(F_GHG_hh[-1]['GBR']) * F_hh_men)"
   ]
  },
  {
   "cell_type": "code",
   "execution_count": 32,
   "metadata": {},
   "outputs": [
    {
     "data": {
      "text/html": [
       "<div>\n",
       "<style scoped>\n",
       "    .dataframe tbody tr th:only-of-type {\n",
       "        vertical-align: middle;\n",
       "    }\n",
       "\n",
       "    .dataframe tbody tr th {\n",
       "        vertical-align: top;\n",
       "    }\n",
       "\n",
       "    .dataframe thead th {\n",
       "        text-align: right;\n",
       "    }\n",
       "</style>\n",
       "<table border=\"1\" class=\"dataframe\">\n",
       "  <thead>\n",
       "    <tr style=\"text-align: right;\">\n",
       "      <th></th>\n",
       "      <th>population</th>\n",
       "      <th>myresults</th>\n",
       "      <th>GHG_percap</th>\n",
       "    </tr>\n",
       "  </thead>\n",
       "  <tbody>\n",
       "    <tr>\n",
       "      <th>women</th>\n",
       "      <td>33</td>\n",
       "      <td>277247.597141</td>\n",
       "      <td>8401.442338</td>\n",
       "    </tr>\n",
       "    <tr>\n",
       "      <th>men</th>\n",
       "      <td>30</td>\n",
       "      <td>268991.422568</td>\n",
       "      <td>8966.380752</td>\n",
       "    </tr>\n",
       "  </tbody>\n",
       "</table>\n",
       "</div>"
      ],
      "text/plain": [
       "       population      myresults   GHG_percap\n",
       "women          33  277247.597141  8401.442338\n",
       "men            30  268991.422568  8966.380752"
      ]
     },
     "execution_count": 32,
     "metadata": {},
     "output_type": "execute_result"
    }
   ],
   "source": [
    "gender_GHG = pd.DataFrame({'population' : [33, 30], 'myresults' : [women_2009, men_2009]}, index=['women', 'men'])\n",
    "gender_GHG['GHG_percap'] = gender_GHG['myresults'] / gender_GHG['population']\n",
    "gender_GHG"
   ]
  },
  {
   "cell_type": "code",
   "execution_count": 33,
   "metadata": {},
   "outputs": [
    {
     "data": {
      "text/plain": [
       "Text(0.5,1,'Per Capita UK 2009 GHG Emissions Split by Gender')"
      ]
     },
     "execution_count": 33,
     "metadata": {},
     "output_type": "execute_result"
    },
    {
     "data": {
      "image/png": "[encoded data removed]",
      "text/plain": [
       "<Figure size 1440x360 with 2 Axes>"
      ]
     },
     "metadata": {
      "needs_background": "light"
     },
     "output_type": "display_data"
    }
   ],
   "source": [
    "fig, axs = plt.subplots(ncols=2, nrows=1, figsize=(20, 5))\n",
    "\n",
    "gender_GHG.plot.bar(ax=axs[0], legend=False, y='myresults')\n",
    "axs[0].set_ylabel('GHG (kg)', fontsize=12)\n",
    "axs[0].set_ylim([0, 400000])\n",
    "axs[0].set_title('UK 2009 GHG Emissions Split by Gender')\n",
    "\n",
    "gender_GHG.plot.bar(ax=axs[1], legend=False, y='GHG_percap')\n",
    "axs[1].set_ylabel('GHG (kg/capita)', fontsize=12)\n",
    "axs[1].set_ylim([0, 18000])\n",
    "axs[1].set_title('Per Capita UK 2009 GHG Emissions Split by Gender')"
   ]
  },
  {
   "cell_type": "code",
   "execution_count": 34,
   "metadata": {},
   "outputs": [],
   "source": [
    "# from Matlab\n",
    "spend = pd.read_csv('Data/Q7.csv').set_index('Unnamed: 0')\n",
    "\n",
    "spendprop = cp.copy(spend)\n",
    "spendprop['Average yearly spend by a man (USD)'] = (spendprop['Average yearly spend by a man (USD)'] * 30)\n",
    "spendprop['Average yearly spend by a woman (USD)'] = (spendprop['Average yearly spend by a woman (USD)'] * 33)\n",
    "spendprop['total'] = spendprop.sum(axis=1)\n",
    "\n",
    "spendprop = spendprop.iloc[:,:-1].div(spendprop.total, axis=0)"
   ]
  },
  {
   "cell_type": "code",
   "execution_count": 35,
   "metadata": {},
   "outputs": [
    {
     "data": {
      "text/plain": [
       "(273972.7709675273, 272266.2487413107)"
      ]
     },
     "execution_count": 35,
     "metadata": {},
     "output_type": "execute_result"
    }
   ],
   "source": [
    "UKhhspendbysector = np.zeros((sectors,1))\n",
    "UKhhspendbyregprop = np.zeros((sectors*regions,1))\n",
    "\n",
    "for i in range(regions):\n",
    "    a=i+1   \n",
    "    temp = np.array(Y[-1][('GBR', 'c37')])[a*sectors-35:a*sectors]\n",
    "    temp = temp.reshape(temp.shape[0], 1)\n",
    "    UKhhspendbysector[:,:] += temp\n",
    "    \n",
    "for i in range(regions):\n",
    "    a=i+1\n",
    "    temp = np.array(Y[-1][('GBR', 'c37')])[a*sectors-35:a*sectors]\n",
    "    temp = temp.reshape(temp.shape[0], 1)\n",
    "    UKhhspendbyregprop[a*sectors-35:a*sectors,:] = temp / UKhhspendbysector\n",
    "    \n",
    "Y_UK_men_women = []\n",
    "\n",
    "for gender in ['man', 'woman']:\n",
    "    Y_temp = ((np.array(spendprop['Average yearly spend by a ' + gender + ' (USD)']).reshape(UKhhspendbysector.shape) * UKhhspendbysector).repeat(regions, axis=0) * UKhhspendbyregprop)\n",
    "    Y_UK_men_women.append(Y_temp)\n",
    "\n",
    "x = np.array(Y[-1].sum(axis=1) + Z[-1].sum(axis=1))\n",
    "for j in range(len(x)):\n",
    "    if x[j]==0:\n",
    "        x[j]=0.000000001 # do this to avoid trying to divide my zero later\n",
    "x = x.reshape(x.shape[0],1)\n",
    "x_t = np.matrix.transpose(x)\n",
    "big_x = x_t.repeat(x_t.shape[1], axis=0)\n",
    "\n",
    "A = np.array(Z[-1]) / big_x\n",
    "I = np.identity(len(Z[-1]))\n",
    "L = np.linalg.inv(I-A)\n",
    "F_GHGx = np.array(F_GHG[-1]) / x_t\n",
    "\n",
    "F_hh_women = ((expenditure.loc['c17', 'Average yearly spend by a woman (USD)'] + \n",
    "               expenditure.loc['c19', 'Average yearly spend by a woman (USD)']) * 33) / (\n",
    "    (expenditure.loc['c17', ['Average yearly spend by a man (USD)', 'Average yearly spend by a woman (USD)']].sum() +\n",
    "     expenditure.loc['c19', ['Average yearly spend by a man (USD)', 'Average yearly spend by a woman (USD)']].sum()) * 33)\n",
    "F_hh_men = 1- F_hh_women\n",
    "\n",
    "women_2009 = np.matmul(np.matmul(F_GHGx, L), Y_UK_men_women[1])[0][0] + (float(F_GHG_hh[-1]['GBR']) * F_hh_women)\n",
    "men_2009 = np.matmul(np.matmul(F_GHGx, L), Y_UK_men_women[0])[0][0] + (float(F_GHG_hh[-1]['GBR']) * F_hh_men)\n",
    "\n",
    "women_2009, men_2009"
   ]
  },
  {
   "cell_type": "code",
   "execution_count": 36,
   "metadata": {},
   "outputs": [
    {
     "data": {
      "text/html": [
       "<div>\n",
       "<style scoped>\n",
       "    .dataframe tbody tr th:only-of-type {\n",
       "        vertical-align: middle;\n",
       "    }\n",
       "\n",
       "    .dataframe tbody tr th {\n",
       "        vertical-align: top;\n",
       "    }\n",
       "\n",
       "    .dataframe thead th {\n",
       "        text-align: right;\n",
       "    }\n",
       "</style>\n",
       "<table border=\"1\" class=\"dataframe\">\n",
       "  <thead>\n",
       "    <tr style=\"text-align: right;\">\n",
       "      <th></th>\n",
       "      <th>population</th>\n",
       "      <th>myresults</th>\n",
       "      <th>GHG_percap</th>\n",
       "      <th>answersheet</th>\n",
       "      <th>GHG_percap_as</th>\n",
       "    </tr>\n",
       "  </thead>\n",
       "  <tbody>\n",
       "    <tr>\n",
       "      <th>women</th>\n",
       "      <td>33</td>\n",
       "      <td>277247.597141</td>\n",
       "      <td>8401.442338</td>\n",
       "      <td>273972.770968</td>\n",
       "      <td>8302.205181</td>\n",
       "    </tr>\n",
       "    <tr>\n",
       "      <th>men</th>\n",
       "      <td>30</td>\n",
       "      <td>268991.422568</td>\n",
       "      <td>8966.380752</td>\n",
       "      <td>272266.248741</td>\n",
       "      <td>9075.541625</td>\n",
       "    </tr>\n",
       "  </tbody>\n",
       "</table>\n",
       "</div>"
      ],
      "text/plain": [
       "       population      myresults   GHG_percap    answersheet  GHG_percap_as\n",
       "women          33  277247.597141  8401.442338  273972.770968    8302.205181\n",
       "men            30  268991.422568  8966.380752  272266.248741    9075.541625"
      ]
     },
     "execution_count": 36,
     "metadata": {},
     "output_type": "execute_result"
    }
   ],
   "source": [
    "results2 = pd.DataFrame({'population' : [33, 30], 'answersheet':[women_2009, men_2009]}, index=['women', 'men'])\n",
    "results2['GHG_percap_as'] = results2['answersheet'] / results2['population']\n",
    "gender_GHG = gender_GHG.join(results2[['answersheet', 'GHG_percap_as']])\n",
    "\n",
    "gender_GHG"
   ]
  },
  {
   "cell_type": "code",
   "execution_count": 37,
   "metadata": {},
   "outputs": [
    {
     "data": {
      "text/plain": [
       "Text(0.5,1,'Per Capita UK 2009 GHG Emissions Split by Gender')"
      ]
     },
     "execution_count": 37,
     "metadata": {},
     "output_type": "execute_result"
    },
    {
     "data": {
      "image/png": "[encoded data removed]",
      "text/plain": [
       "<Figure size 1440x360 with 2 Axes>"
      ]
     },
     "metadata": {
      "needs_background": "light"
     },
     "output_type": "display_data"
    }
   ],
   "source": [
    "fig, axs = plt.subplots(ncols=2, nrows=1, figsize=(20, 5))\n",
    "\n",
    "gender_GHG[['myresults', 'answersheet']].plot.bar(ax=axs[0], legend=True)\n",
    "axs[0].set_ylabel('GHG', fontsize=12)\n",
    "axs[0].set_xlabel('')\n",
    "axs[0].set_ylim([0, 400000])\n",
    "axs[0].set_title('UK 2009 GHG Emissions Split by Gender')\n",
    "\n",
    "gender_GHG[['GHG_percap', 'GHG_percap_as']].plot.bar(ax=axs[1], legend=True)\n",
    "axs[1].set_ylabel('GHG (kg/capita)', fontsize=12)\n",
    "axs[1].set_xlabel('')\n",
    "axs[1].set_ylim([0, 18000])\n",
    "axs[1].set_title('Per Capita UK 2009 GHG Emissions Split by Gender')"
   ]
  },
  {
   "cell_type": "markdown",
   "metadata": {},
   "source": [
    "### 7.2. The GHG footprint of devolved nations in the UK\n",
    "For this exercise try to disaggregate the spends – what could you use to split the spends out into the full categories?\n",
    "If the populations are:  \n",
    "•\tEngland 47 million  \n",
    "•\tWales 3 million  \n",
    "•\tNorthern Ireland 3 million  \n",
    "•\tScotland 10 million \n",
    "  \n",
    "Which country has the largest per capita footprint?"
   ]
  },
  {
   "cell_type": "code",
   "execution_count": 38,
   "metadata": {},
   "outputs": [
    {
     "data": {
      "text/html": [
       "<div>\n",
       "<style scoped>\n",
       "    .dataframe tbody tr th:only-of-type {\n",
       "        vertical-align: middle;\n",
       "    }\n",
       "\n",
       "    .dataframe tbody tr th {\n",
       "        vertical-align: top;\n",
       "    }\n",
       "\n",
       "    .dataframe thead th {\n",
       "        text-align: right;\n",
       "    }\n",
       "</style>\n",
       "<table border=\"1\" class=\"dataframe\">\n",
       "  <thead>\n",
       "    <tr style=\"text-align: right;\">\n",
       "      <th></th>\n",
       "      <th>England total spend (millions USD)</th>\n",
       "      <th>Wales total spend (millions USD)</th>\n",
       "      <th>Northern Ireland total spend (millions USD)</th>\n",
       "      <th>Scotland total spend (millions USD)</th>\n",
       "    </tr>\n",
       "    <tr>\n",
       "      <th>Unnamed: 0</th>\n",
       "      <th></th>\n",
       "      <th></th>\n",
       "      <th></th>\n",
       "      <th></th>\n",
       "    </tr>\n",
       "  </thead>\n",
       "  <tbody>\n",
       "    <tr>\n",
       "      <th>Extraction from nature</th>\n",
       "      <td>0.666667</td>\n",
       "      <td>0.033333</td>\n",
       "      <td>0.066667</td>\n",
       "      <td>0.233333</td>\n",
       "    </tr>\n",
       "    <tr>\n",
       "      <th>Manufacturing</th>\n",
       "      <td>0.881459</td>\n",
       "      <td>0.012158</td>\n",
       "      <td>0.015198</td>\n",
       "      <td>0.091185</td>\n",
       "    </tr>\n",
       "    <tr>\n",
       "      <th>Fuel</th>\n",
       "      <td>0.727273</td>\n",
       "      <td>0.036364</td>\n",
       "      <td>0.054545</td>\n",
       "      <td>0.181818</td>\n",
       "    </tr>\n",
       "    <tr>\n",
       "      <th>Construction</th>\n",
       "      <td>0.705882</td>\n",
       "      <td>0.029412</td>\n",
       "      <td>0.029412</td>\n",
       "      <td>0.235294</td>\n",
       "    </tr>\n",
       "    <tr>\n",
       "      <th>Trade</th>\n",
       "      <td>0.810056</td>\n",
       "      <td>0.027933</td>\n",
       "      <td>0.022346</td>\n",
       "      <td>0.139665</td>\n",
       "    </tr>\n",
       "    <tr>\n",
       "      <th>Transport</th>\n",
       "      <td>0.786517</td>\n",
       "      <td>0.056180</td>\n",
       "      <td>0.044944</td>\n",
       "      <td>0.112360</td>\n",
       "    </tr>\n",
       "    <tr>\n",
       "      <th>Private services</th>\n",
       "      <td>0.759494</td>\n",
       "      <td>0.050633</td>\n",
       "      <td>0.037975</td>\n",
       "      <td>0.151899</td>\n",
       "    </tr>\n",
       "    <tr>\n",
       "      <th>Public services &amp; other</th>\n",
       "      <td>0.872483</td>\n",
       "      <td>0.040268</td>\n",
       "      <td>0.033557</td>\n",
       "      <td>0.053691</td>\n",
       "    </tr>\n",
       "  </tbody>\n",
       "</table>\n",
       "</div>"
      ],
      "text/plain": [
       "                         England total spend (millions USD)  \\\n",
       "Unnamed: 0                                                    \n",
       "Extraction from nature                             0.666667   \n",
       "Manufacturing                                      0.881459   \n",
       "Fuel                                               0.727273   \n",
       "Construction                                       0.705882   \n",
       "Trade                                              0.810056   \n",
       "Transport                                          0.786517   \n",
       "Private services                                   0.759494   \n",
       "Public services & other                            0.872483   \n",
       "\n",
       "                         Wales total spend (millions USD)  \\\n",
       "Unnamed: 0                                                  \n",
       "Extraction from nature                           0.033333   \n",
       "Manufacturing                                    0.012158   \n",
       "Fuel                                             0.036364   \n",
       "Construction                                     0.029412   \n",
       "Trade                                            0.027933   \n",
       "Transport                                        0.056180   \n",
       "Private services                                 0.050633   \n",
       "Public services & other                          0.040268   \n",
       "\n",
       "                         Northern Ireland total spend (millions USD)  \\\n",
       "Unnamed: 0                                                             \n",
       "Extraction from nature                                      0.066667   \n",
       "Manufacturing                                               0.015198   \n",
       "Fuel                                                        0.054545   \n",
       "Construction                                                0.029412   \n",
       "Trade                                                       0.022346   \n",
       "Transport                                                   0.044944   \n",
       "Private services                                            0.037975   \n",
       "Public services & other                                     0.033557   \n",
       "\n",
       "                         Scotland total spend (millions USD)  \n",
       "Unnamed: 0                                                    \n",
       "Extraction from nature                              0.233333  \n",
       "Manufacturing                                       0.091185  \n",
       "Fuel                                                0.181818  \n",
       "Construction                                        0.235294  \n",
       "Trade                                               0.139665  \n",
       "Transport                                           0.112360  \n",
       "Private services                                    0.151899  \n",
       "Public services & other                             0.053691  "
      ]
     },
     "execution_count": 38,
     "metadata": {},
     "output_type": "execute_result"
    }
   ],
   "source": [
    "# from Matlab\n",
    "UK_countries = ['England', 'Wales', 'Northern Ireland', 'Scotland']\n",
    "populations = [47, 3, 3, 10]\n",
    "\n",
    "spend = pd.read_csv('Data/Q7-2.csv').set_index('Unnamed: 0')\n",
    "for i in range(len(UK_countries)):\n",
    "    spend[str(UK_countries[i]) + ' total spend (millions USD)'] = spend[str(UK_countries[i]) + ' total spend (millions USD)'].str.replace(',', '').astype(int)\n",
    "\n",
    "spend['total'] = spend.sum(axis=1)\n",
    "spendprop = spend.iloc[:,:-1].div(spend.total, axis=0)\n",
    "\n",
    "spendprop"
   ]
  },
  {
   "cell_type": "code",
   "execution_count": 39,
   "metadata": {},
   "outputs": [],
   "source": [
    "UKspendbysector = np.zeros((sectors,1))\n",
    "UKhhspendbysector = np.zeros((sectors,1))\n",
    "\n",
    "UKspendbyregprop = np.zeros((sectors*regions,1))\n",
    "UKhhspendbyregprop = np.zeros((sectors*regions,1))\n",
    "\n",
    "for i in range(regions):\n",
    "    a=i+1\n",
    "    temp = np.array(Y[-1]['GBR'])[a*sectors-35:a*sectors].sum(1)\n",
    "    temp = temp.reshape(temp.shape[0], 1)\n",
    "    UKspendbysector[:,:] += temp\n",
    "    \n",
    "    temp = np.array(Y[-1][('GBR', 'c37')])[a*sectors-35:a*sectors]\n",
    "    temp = temp.reshape(temp.shape[0], 1)\n",
    "    UKhhspendbysector[:,:] += temp\n",
    "    \n",
    "for i in range(regions):\n",
    "    a=i+1\n",
    "    temp = np.array(Y[-1]['GBR'])[a*sectors-35:a*sectors].sum(1)\n",
    "    temp = temp.reshape(temp.shape[0], 1)\n",
    "    UKspendbyregprop[a*sectors-35:a*sectors,:] = temp / UKspendbysector\n",
    "    \n",
    "    temp = np.array(Y[-1][('GBR', 'c37')])[a*sectors-35:a*sectors]\n",
    "    temp = temp.reshape(temp.shape[0], 1)\n",
    "    UKhhspendbyregprop[a*sectors-35:a*sectors,:] = temp / UKhhspendbysector"
   ]
  },
  {
   "cell_type": "code",
   "execution_count": 40,
   "metadata": {},
   "outputs": [],
   "source": [
    "UKspendbydev_short = np.matmul(sectoragg, spendprop) * UKspendbysector.repeat(len(UK_countries), axis=1)\n",
    "\n",
    "UKspendbydev_long = UKspendbydev_short.repeat(regions, axis=0) * UKhhspendbyregprop.repeat(len(UK_countries), axis=1)"
   ]
  },
  {
   "cell_type": "code",
   "execution_count": 41,
   "metadata": {},
   "outputs": [],
   "source": [
    "UKconsGHG_dev = []\n",
    "\n",
    "for i in range(len(UK_countries)):\n",
    "    country_GHG = (\n",
    "        (np.matmul(np.matmul(F_GHGx, L), UKspendbydev_long[:,i])[0]) +\n",
    "        (float(F_GHG_hh[-1]['GBR']) * spend.loc['Fuel', UK_countries[i] + ' total spend (millions USD)']) /\n",
    "        (spend.loc['Fuel', 'total'])\n",
    "    )\n",
    "    UKconsGHG_dev.append(country_GHG)"
   ]
  },
  {
   "cell_type": "code",
   "execution_count": 42,
   "metadata": {},
   "outputs": [
    {
     "data": {
      "text/html": [
       "<div>\n",
       "<style scoped>\n",
       "    .dataframe tbody tr th:only-of-type {\n",
       "        vertical-align: middle;\n",
       "    }\n",
       "\n",
       "    .dataframe tbody tr th {\n",
       "        vertical-align: top;\n",
       "    }\n",
       "\n",
       "    .dataframe thead th {\n",
       "        text-align: right;\n",
       "    }\n",
       "</style>\n",
       "<table border=\"1\" class=\"dataframe\">\n",
       "  <thead>\n",
       "    <tr style=\"text-align: right;\">\n",
       "      <th></th>\n",
       "      <th>0</th>\n",
       "      <th>1</th>\n",
       "      <th>2</th>\n",
       "      <th>GHG_percap</th>\n",
       "    </tr>\n",
       "  </thead>\n",
       "  <tbody>\n",
       "    <tr>\n",
       "      <th>0</th>\n",
       "      <td>England</td>\n",
       "      <td>47</td>\n",
       "      <td>693550</td>\n",
       "      <td>14756.4</td>\n",
       "    </tr>\n",
       "    <tr>\n",
       "      <th>1</th>\n",
       "      <td>Wales</td>\n",
       "      <td>3</td>\n",
       "      <td>21299.4</td>\n",
       "      <td>7099.82</td>\n",
       "    </tr>\n",
       "    <tr>\n",
       "      <th>2</th>\n",
       "      <td>Northern Ireland</td>\n",
       "      <td>3</td>\n",
       "      <td>23996.9</td>\n",
       "      <td>7998.98</td>\n",
       "    </tr>\n",
       "    <tr>\n",
       "      <th>3</th>\n",
       "      <td>Scotland</td>\n",
       "      <td>10</td>\n",
       "      <td>93379.4</td>\n",
       "      <td>9337.94</td>\n",
       "    </tr>\n",
       "  </tbody>\n",
       "</table>\n",
       "</div>"
      ],
      "text/plain": [
       "                  0   1        2 GHG_percap\n",
       "0           England  47   693550    14756.4\n",
       "1             Wales   3  21299.4    7099.82\n",
       "2  Northern Ireland   3  23996.9    7998.98\n",
       "3          Scotland  10  93379.4    9337.94"
      ]
     },
     "execution_count": 42,
     "metadata": {},
     "output_type": "execute_result"
    }
   ],
   "source": [
    "UKconsGHG_dev_df = pd.DataFrame([UK_countries, populations, UKconsGHG_dev]).T\n",
    "UKconsGHG_dev_df['GHG_percap'] = UKconsGHG_dev_df[2] / UKconsGHG_dev_df[1]\n",
    "UKconsGHG_dev_df"
   ]
  },
  {
   "cell_type": "code",
   "execution_count": 43,
   "metadata": {},
   "outputs": [
    {
     "data": {
      "text/plain": [
       "Text(0.5,1,'Per Capita UK 2009 GHG Emissions Split by Country')"
      ]
     },
     "execution_count": 43,
     "metadata": {},
     "output_type": "execute_result"
    },
    {
     "data": {
      "image/png": "[encoded data removed]",
      "text/plain": [
       "<Figure size 720x360 with 1 Axes>"
      ]
     },
     "metadata": {
      "needs_background": "light"
     },
     "output_type": "display_data"
    }
   ],
   "source": [
    "fig, ax = plt.subplots(ncols=1, nrows=1, figsize=(10, 5))\n",
    "\n",
    "UKconsGHG_dev_df.plot.bar(ax=ax, legend=False, y='GHG_percap', x=0)\n",
    "ax.set_ylabel('GHG (kg/capita)', fontsize=12)\n",
    "ax.set_xlabel('')\n",
    "ax.set_ylim([0, 17000])\n",
    "ax.set_title('Per Capita UK 2009 GHG Emissions Split by Country')"
   ]
  }
 ],
 "metadata": {
  "kernelspec": {
   "display_name": "Python 3",
   "language": "python",
   "name": "python3"
  },
  "language_info": {
   "codemirror_mode": {
    "name": "ipython",
    "version": 3
   },
   "file_extension": ".py",
   "mimetype": "text/x-python",
   "name": "python",
   "nbconvert_exporter": "python",
   "pygments_lexer": "ipython3",
   "version": "3.6.6"
  }
 },
 "nbformat": 4,
 "nbformat_minor": 2
}
