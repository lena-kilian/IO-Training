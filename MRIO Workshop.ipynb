{
 "cells": [
  {
   "cell_type": "markdown",
   "metadata": {},
   "source": [
    "# MRIO Workshop"
   ]
  },
  {
   "cell_type": "code",
   "execution_count": 1,
   "metadata": {},
   "outputs": [],
   "source": [
    "import pandas as pd\n",
    "import numpy as np\n",
    "import matplotlib.pyplot as plt"
   ]
  },
  {
   "cell_type": "markdown",
   "metadata": {},
   "source": [
    "## 1.4 & 2 Load and clean data"
   ]
  },
  {
   "cell_type": "markdown",
   "metadata": {},
   "source": [
    "### WIOT Data"
   ]
  },
  {
   "cell_type": "code",
   "execution_count": 2,
   "metadata": {},
   "outputs": [],
   "source": [
    "lookup = pd.read_excel('Data/WIOT/wiot95_row_apr12.xlsx', index_col=None, header=None).iloc[6:,:4].set_index(1)\n",
    "lookup[2].fillna('TOT', inplace=True)\n",
    "lookup.columns = ['sector_code', 'country', 'sector']"
   ]
  },
  {
   "cell_type": "code",
   "execution_count": 3,
   "metadata": {},
   "outputs": [
    {
     "data": {
      "text/html": [
       "<div>\n",
       "<style scoped>\n",
       "    .dataframe tbody tr th:only-of-type {\n",
       "        vertical-align: middle;\n",
       "    }\n",
       "\n",
       "    .dataframe tbody tr th {\n",
       "        vertical-align: top;\n",
       "    }\n",
       "\n",
       "    .dataframe thead th {\n",
       "        text-align: right;\n",
       "    }\n",
       "</style>\n",
       "<table border=\"1\" class=\"dataframe\">\n",
       "  <thead>\n",
       "    <tr style=\"text-align: right;\">\n",
       "      <th></th>\n",
       "      <th>sector_code</th>\n",
       "      <th>country</th>\n",
       "      <th>sector</th>\n",
       "    </tr>\n",
       "    <tr>\n",
       "      <th>1</th>\n",
       "      <th></th>\n",
       "      <th></th>\n",
       "      <th></th>\n",
       "    </tr>\n",
       "  </thead>\n",
       "  <tbody>\n",
       "    <tr>\n",
       "      <th>Agriculture, Hunting, Forestry and Fishing</th>\n",
       "      <td>AtB</td>\n",
       "      <td>AUS</td>\n",
       "      <td>c1</td>\n",
       "    </tr>\n",
       "    <tr>\n",
       "      <th>Mining and Quarrying</th>\n",
       "      <td>C</td>\n",
       "      <td>AUS</td>\n",
       "      <td>c2</td>\n",
       "    </tr>\n",
       "    <tr>\n",
       "      <th>Food, Beverages and Tobacco</th>\n",
       "      <td>15t16</td>\n",
       "      <td>AUS</td>\n",
       "      <td>c3</td>\n",
       "    </tr>\n",
       "    <tr>\n",
       "      <th>Textiles and Textile Products</th>\n",
       "      <td>17t18</td>\n",
       "      <td>AUS</td>\n",
       "      <td>c4</td>\n",
       "    </tr>\n",
       "    <tr>\n",
       "      <th>Leather, Leather and Footwear</th>\n",
       "      <td>19</td>\n",
       "      <td>AUS</td>\n",
       "      <td>c5</td>\n",
       "    </tr>\n",
       "  </tbody>\n",
       "</table>\n",
       "</div>"
      ],
      "text/plain": [
       "                                           sector_code country sector\n",
       "1                                                                    \n",
       "Agriculture, Hunting, Forestry and Fishing         AtB     AUS     c1\n",
       "Mining and Quarrying                                 C     AUS     c2\n",
       "Food, Beverages and Tobacco                      15t16     AUS     c3\n",
       "Textiles and Textile Products                    17t18     AUS     c4\n",
       "Leather, Leather and Footwear                       19     AUS     c5"
      ]
     },
     "execution_count": 3,
     "metadata": {},
     "output_type": "execute_result"
    }
   ],
   "source": [
    "lookup.head()"
   ]
  },
  {
   "cell_type": "code",
   "execution_count": 4,
   "metadata": {},
   "outputs": [],
   "source": [
    "# function for WIOT Data\n",
    "\n",
    "def import_wiot(year):\n",
    "    file_loc = 'Data/WIOT/wiot' + str(year)[2:] + '_row_apr12.xlsx'\n",
    "    \n",
    "    # import data\n",
    "    df = pd.read_excel(file_loc, index_col=None, header=None).iloc[4:,2:]\n",
    "    df[1644].fillna('Total', inplace=True)\n",
    "    df[2].fillna('TOT', inplace=True)\n",
    "\n",
    "    #set columns\n",
    "    c1 = df.iloc[0].tolist()\n",
    "    c1[0] = 'country'\n",
    "    c2 = df.iloc[1].tolist()\n",
    "    c2[1] = 'sector'\n",
    "    df.columns = [c1, c2]\n",
    "\n",
    "    # set index\n",
    "    df = df.drop([4, 5], axis=0).set_index([('country', 'TOT'), (np.nan, 'sector')]).fillna(0)\n",
    "    \n",
    "    return(df)"
   ]
  },
  {
   "cell_type": "code",
   "execution_count": 5,
   "metadata": {},
   "outputs": [],
   "source": [
    "year_list = []\n",
    "for i in range(1995, 2010):\n",
    "    year = i\n",
    "    year_list.append(year)"
   ]
  },
  {
   "cell_type": "code",
   "execution_count": 6,
   "metadata": {},
   "outputs": [],
   "source": [
    "wiot_list = []\n",
    "for i in year_list:\n",
    "    df = import_wiot(i)\n",
    "    wiot_list.append(df)"
   ]
  },
  {
   "cell_type": "code",
   "execution_count": 19,
   "metadata": {},
   "outputs": [
    {
     "name": "stderr",
     "output_type": "stream",
     "text": [
      "c:\\Program Files\\Anaconda3\\lib\\site-packages\\pandas\\core\\generic.py:3111: PerformanceWarning: dropping on a non-lexsorted multi-index without a level parameter may impact performance.\n",
      "  obj = obj._drop_axis(labels, axis, level=level, errors=errors)\n"
     ]
    }
   ],
   "source": [
    "# Z, V and Y matrices\n",
    "z_list_a = []\n",
    "v_list_a = []\n",
    "y_list_a = []\n",
    "\n",
    "Z_df = []\n",
    "V_df = []\n",
    "Y_df = []\n",
    "\n",
    "col_list = []\n",
    "for i in range(1, 36):\n",
    "    c = 'c' + str(i)\n",
    "    col_list.append(c)\n",
    "    \n",
    "for i in range(len(wiot_list)):\n",
    "    z=wiot_list[i].drop('TOT', axis=0).swaplevel(axis=1).loc[:, col_list].swaplevel(axis=1)\n",
    "    z_list_a.append(np.array(z))\n",
    "    Z_df.append(z)\n",
    "    \n",
    "    v=wiot_list[i].swaplevel(axis=0).loc[['r99', 'r60', 'r61', 'r62', 'r64', 'r69']].swaplevel(axis=1).loc[:, col_list].swaplevel(axis=1)\n",
    "    v_list_a.append(np.array(v))\n",
    "    V_df.append(v)\n",
    "    \n",
    "    y=wiot_list[i].drop('TOT', axis=0).swaplevel(axis=1)[['c37', 'c38', 'c39', 'c41', 'c42']]\n",
    "    y_list_a.append(np.array(y))\n",
    "    Y_df.append(y)"
   ]
  },
  {
   "cell_type": "code",
   "execution_count": 20,
   "metadata": {},
   "outputs": [],
   "source": [
    "# Change into matrices and save as Z, V, Y\n",
    "\n",
    "Z_a = np.array(z_list_a)\n",
    "V_a = np.array(v_list_a)\n",
    "Y_a = np.array(y_list_a)"
   ]
  },
  {
   "cell_type": "code",
   "execution_count": 21,
   "metadata": {},
   "outputs": [
    {
     "name": "stdout",
     "output_type": "stream",
     "text": [
      "<class 'numpy.ndarray'> <class 'numpy.ndarray'> <class 'numpy.ndarray'>\n"
     ]
    }
   ],
   "source": [
    "print(type(Z_a), type(V_a), type(Y_a))"
   ]
  },
  {
   "cell_type": "code",
   "execution_count": 22,
   "metadata": {},
   "outputs": [
    {
     "name": "stdout",
     "output_type": "stream",
     "text": [
      "(15, 1435, 1435) (15, 6, 1435) (15, 1435, 205)\n"
     ]
    }
   ],
   "source": [
    "print(Z_a.shape, V_a.shape, Y_a.shape)"
   ]
  },
  {
   "cell_type": "markdown",
   "metadata": {},
   "source": [
    "## 3. Load the extension data"
   ]
  },
  {
   "cell_type": "code",
   "execution_count": 23,
   "metadata": {},
   "outputs": [],
   "source": [
    "# country list \n",
    "\n",
    "country_list = ['AUS','AUT','BEL','BGR','BRA','CAN','CHN','CYP','CZE','DEU','DNK','ESP','EST','FIN','FRA','GBR','GRC','HUN','IDN','IND','IRL','ITA','JPN','KOR','LTU','LUX','LVA','MEX','MLT',\n",
    "                'NLD','POL','PRT','ROU','RUS','SVK','SVN','SWE','TUR','TWN','USA','ROW']\n",
    "\n",
    "country = np.array(country_list)\n",
    "\n",
    "l1 = lookup[['sector']].drop_duplicates()\n",
    "l1 = l1.loc[l1.sector.str[0] == 'c']"
   ]
  },
  {
   "cell_type": "markdown",
   "metadata": {},
   "source": [
    "### Energy\n",
    "\n",
    "F_NRG"
   ]
  },
  {
   "cell_type": "code",
   "execution_count": 24,
   "metadata": {},
   "outputs": [],
   "source": [
    "# function for Energy Data --> make array of vecotrs containing total energy use per year per sector\n",
    "\n",
    "def import_energy(year, country_list):\n",
    "    array_list = []\n",
    "    df_list = []\n",
    "    sheet = str(year)\n",
    "    \n",
    "    country = country_list[0]\n",
    "    file_loc = 'Data/EAS-EU/' + str(country) + '_EU_May12.xls'\n",
    "    # import data\n",
    "    df = pd.read_excel(file_loc, sheet_name=sheet, index_col=None).drop([(np.nan, np.nan)], axis=0)\n",
    "    df.index = df.index.droplevel(level=1)\n",
    "    df = df.join(l1, how='right')\n",
    "    df['energy'] = df['TOTAL']\n",
    "    df['country'] = str(country)\n",
    "    df = df[['country', 'sector', 'energy']].fillna(0)\n",
    "       \n",
    "    for i in range(1, len(country_list)):\n",
    "        country = country_list[i]\n",
    "        file_loc = 'Data/EAS-EU/' + str(country) + '_EU_May12.xls'\n",
    "        # import data\n",
    "        temp = pd.read_excel(file_loc, sheet_name=sheet, index_col=None).drop([(np.nan, np.nan)], axis=0)\n",
    "        temp.index = temp.index.droplevel(level=1)\n",
    "        temp = temp.join(l1, how='right')\n",
    "        temp['energy'] = temp['TOTAL']\n",
    "        temp['country'] = str(country)\n",
    "        temp = temp[['country', 'sector', 'energy']].fillna(0)\n",
    "        \n",
    "        df = df.append(temp)\n",
    "    \n",
    "    df=df.set_index(['country', 'sector']).T      \n",
    "    return(df)"
   ]
  },
  {
   "cell_type": "code",
   "execution_count": 25,
   "metadata": {},
   "outputs": [],
   "source": [
    "array_list = []\n",
    "df_list = []\n",
    "\n",
    "for year in range(1995, 2010):\n",
    "    df_energy = import_energy(year, country_list)\n",
    "    array_list.append(np.array(df_energy))\n",
    "    df_list.append(df_energy)\n",
    "    \n",
    "F_NRG_a = np.array(array_list)\n",
    "F_NRG_df = df_list"
   ]
  },
  {
   "cell_type": "code",
   "execution_count": 26,
   "metadata": {},
   "outputs": [
    {
     "data": {
      "text/plain": [
       "(15, 1, 1435)"
      ]
     },
     "execution_count": 26,
     "metadata": {},
     "output_type": "execute_result"
    }
   ],
   "source": [
    "F_NRG_a.shape"
   ]
  },
  {
   "cell_type": "markdown",
   "metadata": {},
   "source": [
    "F_NRG_hh"
   ]
  },
  {
   "cell_type": "code",
   "execution_count": 27,
   "metadata": {},
   "outputs": [],
   "source": [
    "def import_energy_hh(year, country_list):\n",
    "    array_list = []\n",
    "    df_list = []\n",
    "    sheet = str(year)\n",
    "    \n",
    "    country = country_list[0]\n",
    "    file_loc = 'Data/EAS-EU/' + str(country) + '_EU_May12.xls'\n",
    "    # import data\n",
    "    df = pd.read_excel(file_loc, sheet_name=sheet, index_col=None).drop([(np.nan, np.nan)], axis=0).iloc[-2:-1]\n",
    "    df[str(country)] = df['TOTAL']\n",
    "    df = df[[str(country)]].fillna(0)\n",
    "    \n",
    "    for i in range(1, len(country_list)):\n",
    "        country = country_list[i]\n",
    "        file_loc = 'Data/EAS-EU/' + str(country) + '_EU_May12.xls'\n",
    "        # import data\n",
    "        temp = pd.read_excel(file_loc, sheet_name=sheet, index_col=None).drop([(np.nan, np.nan)], axis=0).iloc[-2:-1]\n",
    "        temp[str(country)] = temp['TOTAL']\n",
    "        temp = temp[[str(country)]].fillna(0)\n",
    "        df = df.join(temp)\n",
    "        \n",
    "    return(df)"
   ]
  },
  {
   "cell_type": "code",
   "execution_count": 28,
   "metadata": {},
   "outputs": [],
   "source": [
    "array_list = []\n",
    "df_list = []\n",
    "\n",
    "for year in range(1995, 2010):\n",
    "    df_energy_hh = import_energy_hh(year, country_list)\n",
    "    array_list.append(np.array(df_energy_hh))\n",
    "    df_list.append(df_energy_hh)\n",
    "    \n",
    "F_NRG_hh_a = np.array(array_list)\n",
    "F_NRG_hh_df = df_list"
   ]
  },
  {
   "cell_type": "code",
   "execution_count": 29,
   "metadata": {},
   "outputs": [
    {
     "data": {
      "text/plain": [
       "(15, 1, 41)"
      ]
     },
     "execution_count": 29,
     "metadata": {},
     "output_type": "execute_result"
    }
   ],
   "source": [
    "F_NRG_hh_a.shape"
   ]
  },
  {
   "cell_type": "markdown",
   "metadata": {},
   "source": [
    "### Air Quality\n",
    "\n",
    "F_GHG"
   ]
  },
  {
   "cell_type": "code",
   "execution_count": 30,
   "metadata": {},
   "outputs": [],
   "source": [
    "# function for Energy Data --> make array of vecotrs containing total energy use per year per sector\n",
    "\n",
    "def import_air(year, country_list):\n",
    "    array_list = []\n",
    "    df_list = []\n",
    "    sheet = str(year)\n",
    "    \n",
    "    country = country_list[0]\n",
    "    file_loc = 'Data/EAS-AIR/' + str(country) + '_AIR_May12.xls'\n",
    "    # import data\n",
    "    df = pd.read_excel(file_loc, sheet_name=sheet, index_col=None).drop([(np.nan, np.nan)], axis=0)\n",
    "    df.index = df.index.droplevel(level=1)\n",
    "    df = df.join(l1, how='right')\n",
    "    df = df[['CO2', 'CH4', 'N2O', 'sector']]\n",
    "    df['CH4'] = (df['CH4'] / 1000) * 28\n",
    "    df['N2O'] = (df['N2O'] / 1000) * 265\n",
    "    df['CO2e'] = df['CO2'] + df['CH4'] + df['N2O']\n",
    "    df['country'] = str(country)\n",
    "    df = df[['CO2e', 'country', 'sector']].fillna(0)\n",
    "    \n",
    "    for i in range(1, len(country_list)):\n",
    "        country = country_list[i]\n",
    "        file_loc = 'Data/EAS-AIR/' + str(country) + '_AIR_May12.xls'\n",
    "        # import data (only from 35 sectors, remove totals)\n",
    "        temp = pd.read_excel(file_loc, sheet_name=sheet, index_col=None).drop([(np.nan, np.nan)], axis=0)\n",
    "        temp.index = temp.index.droplevel(level=1)\n",
    "        temp = temp.join(l1, how='right')\n",
    "        temp = temp[['CO2', 'CH4', 'N2O', 'sector']]\n",
    "        # convert to kilotonnes and then construct CO2e (using 100 year GWP, AR5; https://www.ghgprotocol.org/sites/default/files/ghgp/Global-Warming-Potential-Values%20%28Feb%2016%202016%29_1.pdf)\n",
    "        temp['CH4'] = (temp['CH4'] / 1000) * 28\n",
    "        temp['N2O'] = (temp['N2O'] / 1000) * 265\n",
    "        temp['CO2e'] = temp['CO2'] + temp['CH4'] + temp['N2O']\n",
    "        temp['country'] = str(country)\n",
    "        temp = temp[['CO2e', 'country', 'sector']].fillna(0)\n",
    "    \n",
    "        df = df.append(temp)\n",
    "        \n",
    "    df = df.set_index(['country', 'sector']).T\n",
    "    return(df)"
   ]
  },
  {
   "cell_type": "code",
   "execution_count": 31,
   "metadata": {},
   "outputs": [],
   "source": [
    "array_list = []\n",
    "df_list = []\n",
    "\n",
    "for year in range(1995, 2010):\n",
    "    df_air = import_air(year, country_list)\n",
    "    array_list.append(np.array(df_air))\n",
    "    df_list.append(df_air)\n",
    "    \n",
    "F_GHG_a = np.array(array_list)\n",
    "F_GHG_df = df_list"
   ]
  },
  {
   "cell_type": "code",
   "execution_count": 32,
   "metadata": {},
   "outputs": [
    {
     "data": {
      "text/html": [
       "<div>\n",
       "<style scoped>\n",
       "    .dataframe tbody tr th:only-of-type {\n",
       "        vertical-align: middle;\n",
       "    }\n",
       "\n",
       "    .dataframe tbody tr th {\n",
       "        vertical-align: top;\n",
       "    }\n",
       "\n",
       "    .dataframe thead tr th {\n",
       "        text-align: left;\n",
       "    }\n",
       "</style>\n",
       "<table border=\"1\" class=\"dataframe\">\n",
       "  <thead>\n",
       "    <tr>\n",
       "      <th>country</th>\n",
       "      <th colspan=\"10\" halign=\"left\">AUS</th>\n",
       "      <th>...</th>\n",
       "      <th colspan=\"10\" halign=\"left\">ROW</th>\n",
       "    </tr>\n",
       "    <tr>\n",
       "      <th>sector</th>\n",
       "      <th>c1</th>\n",
       "      <th>c2</th>\n",
       "      <th>c3</th>\n",
       "      <th>c4</th>\n",
       "      <th>c5</th>\n",
       "      <th>c6</th>\n",
       "      <th>c7</th>\n",
       "      <th>c8</th>\n",
       "      <th>c9</th>\n",
       "      <th>c10</th>\n",
       "      <th>...</th>\n",
       "      <th>c26</th>\n",
       "      <th>c27</th>\n",
       "      <th>c28</th>\n",
       "      <th>c29</th>\n",
       "      <th>c30</th>\n",
       "      <th>c31</th>\n",
       "      <th>c32</th>\n",
       "      <th>c33</th>\n",
       "      <th>c34</th>\n",
       "      <th>c35</th>\n",
       "    </tr>\n",
       "  </thead>\n",
       "  <tbody>\n",
       "    <tr>\n",
       "      <th>CO2e</th>\n",
       "      <td>111142.074922</td>\n",
       "      <td>44305.816396</td>\n",
       "      <td>3631.093252</td>\n",
       "      <td>640.497279</td>\n",
       "      <td>51.445794</td>\n",
       "      <td>359.355615</td>\n",
       "      <td>2116.769447</td>\n",
       "      <td>10967.292899</td>\n",
       "      <td>6588.388059</td>\n",
       "      <td>84.731161</td>\n",
       "      <td>...</td>\n",
       "      <td>25810.080297</td>\n",
       "      <td>17767.325026</td>\n",
       "      <td>16051.804481</td>\n",
       "      <td>10681.074909</td>\n",
       "      <td>43279.861269</td>\n",
       "      <td>115062.799028</td>\n",
       "      <td>19791.94622</td>\n",
       "      <td>38123.345675</td>\n",
       "      <td>347627.906601</td>\n",
       "      <td>0.0</td>\n",
       "    </tr>\n",
       "  </tbody>\n",
       "</table>\n",
       "<p>1 rows × 1435 columns</p>\n",
       "</div>"
      ],
      "text/plain": [
       "country            AUS                                                    \\\n",
       "sector              c1            c2           c3          c4         c5   \n",
       "CO2e     111142.074922  44305.816396  3631.093252  640.497279  51.445794   \n",
       "\n",
       "country                                                                ...   \\\n",
       "sector           c6           c7            c8           c9        c10 ...    \n",
       "CO2e     359.355615  2116.769447  10967.292899  6588.388059  84.731161 ...    \n",
       "\n",
       "country           ROW                                                          \\\n",
       "sector            c26           c27           c28           c29           c30   \n",
       "CO2e     25810.080297  17767.325026  16051.804481  10681.074909  43279.861269   \n",
       "\n",
       "country                                                                \n",
       "sector             c31          c32           c33            c34  c35  \n",
       "CO2e     115062.799028  19791.94622  38123.345675  347627.906601  0.0  \n",
       "\n",
       "[1 rows x 1435 columns]"
      ]
     },
     "execution_count": 32,
     "metadata": {},
     "output_type": "execute_result"
    }
   ],
   "source": [
    "F_GHG_df[1]"
   ]
  },
  {
   "cell_type": "code",
   "execution_count": 33,
   "metadata": {},
   "outputs": [
    {
     "data": {
      "text/plain": [
       "(15, 1, 1435)"
      ]
     },
     "execution_count": 33,
     "metadata": {},
     "output_type": "execute_result"
    }
   ],
   "source": [
    "F_GHG_a.shape"
   ]
  },
  {
   "cell_type": "markdown",
   "metadata": {},
   "source": [
    "F_GHG_hh"
   ]
  },
  {
   "cell_type": "code",
   "execution_count": 34,
   "metadata": {},
   "outputs": [],
   "source": [
    "def import_air_hh(year, country_list):\n",
    "    array_list = []\n",
    "    df_list = []\n",
    "    sheet = str(year)\n",
    "    \n",
    "    country = country_list[0]\n",
    "    file_loc = 'Data/EAS-AIR/' + str(country) + '_AIR_May12.xls'\n",
    "    # import data\n",
    "    df = pd.read_excel(file_loc, sheet_name=sheet, index_col=None).drop([(np.nan, np.nan)], axis=0).iloc[-2:-1] # select only household category\n",
    "    df = df[['CO2', 'CH4', 'N2O']]\n",
    "    df['CH4'] = (df['CH4'] / 1000) * 28\n",
    "    df['N2O'] = (df['N2O'] / 1000) * 265\n",
    "    df[str(country)] = df['CO2'] + df['CH4'] + df['N2O']\n",
    "    df = df[[str(country)]].fillna(0)\n",
    "    \n",
    "    for i in range(1, len(country_list)):\n",
    "        country = country_list[i]\n",
    "        file_loc = 'Data/EAS-AIR/' + str(country) + '_AIR_May12.xls'\n",
    "        # import data (only from 35 sectors, remove totals)\n",
    "        temp = pd.read_excel(file_loc, sheet_name=sheet, index_col=None).drop([(np.nan, np.nan)], axis=0).iloc[-2:-1] # select only household category\n",
    "        temp = temp[['CO2', 'CH4', 'N2O']]\n",
    "        # convert to kilotonnes and then construct CO2e (using 100 year GWP, AR5; https://www.ghgprotocol.org/sites/default/files/ghgp/Global-Warming-Potential-Values%20%28Feb%2016%202016%29_1.pdf)\n",
    "        temp['CH4'] = (temp['CH4'] / 1000) * 28\n",
    "        temp['N2O'] = (temp['N2O'] / 1000) * 265\n",
    "        temp[str(country)] = temp['CO2'] + temp['CH4'] + temp['N2O']\n",
    "        temp = temp[[str(country)]].fillna(0)\n",
    "        df = df.join(temp)\n",
    "        \n",
    "    return(df)"
   ]
  },
  {
   "cell_type": "code",
   "execution_count": 35,
   "metadata": {},
   "outputs": [],
   "source": [
    "array_list = []\n",
    "df_list = []\n",
    "\n",
    "for year in range(1995, 2010):\n",
    "    df_air_hh = import_air_hh(year, country_list)\n",
    "    array_list.append(np.array(df_air_hh))\n",
    "    df_list.append(df_air_hh)\n",
    "    \n",
    "F_GHG_hh_a = np.array(array_list)\n",
    "F_GHG_hh_df = df_list"
   ]
  },
  {
   "cell_type": "code",
   "execution_count": 36,
   "metadata": {},
   "outputs": [
    {
     "data": {
      "text/plain": [
       "(15, 1, 41)"
      ]
     },
     "execution_count": 36,
     "metadata": {},
     "output_type": "execute_result"
    }
   ],
   "source": [
    "F_GHG_hh_a.shape"
   ]
  },
  {
   "cell_type": "code",
   "execution_count": 37,
   "metadata": {},
   "outputs": [
    {
     "data": {
      "text/html": [
       "<div>\n",
       "<style scoped>\n",
       "    .dataframe tbody tr th:only-of-type {\n",
       "        vertical-align: middle;\n",
       "    }\n",
       "\n",
       "    .dataframe tbody tr th {\n",
       "        vertical-align: top;\n",
       "    }\n",
       "\n",
       "    .dataframe thead th {\n",
       "        text-align: right;\n",
       "    }\n",
       "</style>\n",
       "<table border=\"1\" class=\"dataframe\">\n",
       "  <thead>\n",
       "    <tr style=\"text-align: right;\">\n",
       "      <th></th>\n",
       "      <th></th>\n",
       "      <th>AUS</th>\n",
       "      <th>AUT</th>\n",
       "      <th>BEL</th>\n",
       "      <th>BGR</th>\n",
       "      <th>BRA</th>\n",
       "      <th>CAN</th>\n",
       "      <th>CHN</th>\n",
       "      <th>CYP</th>\n",
       "      <th>CZE</th>\n",
       "      <th>DEU</th>\n",
       "      <th>...</th>\n",
       "      <th>PRT</th>\n",
       "      <th>ROU</th>\n",
       "      <th>RUS</th>\n",
       "      <th>SVK</th>\n",
       "      <th>SVN</th>\n",
       "      <th>SWE</th>\n",
       "      <th>TUR</th>\n",
       "      <th>TWN</th>\n",
       "      <th>USA</th>\n",
       "      <th>ROW</th>\n",
       "    </tr>\n",
       "  </thead>\n",
       "  <tbody>\n",
       "    <tr>\n",
       "      <th>Final consumption expenditure by households</th>\n",
       "      <th>FC_HH</th>\n",
       "      <td>37823.2669</td>\n",
       "      <td>19829.94475</td>\n",
       "      <td>35943.56316</td>\n",
       "      <td>5901.82963</td>\n",
       "      <td>61701.523409</td>\n",
       "      <td>77485.198142</td>\n",
       "      <td>468089.523516</td>\n",
       "      <td>1086.71842</td>\n",
       "      <td>12946.65942</td>\n",
       "      <td>242522.30175</td>\n",
       "      <td>...</td>\n",
       "      <td>9566.63</td>\n",
       "      <td>13390.36018</td>\n",
       "      <td>195776.29195</td>\n",
       "      <td>4878.95473</td>\n",
       "      <td>5138.76546</td>\n",
       "      <td>16874.76854</td>\n",
       "      <td>44680.246665</td>\n",
       "      <td>17084.272369</td>\n",
       "      <td>667880.216056</td>\n",
       "      <td>614738.576214</td>\n",
       "    </tr>\n",
       "  </tbody>\n",
       "</table>\n",
       "<p>1 rows × 41 columns</p>\n",
       "</div>"
      ],
      "text/plain": [
       "                                                          AUS          AUT  \\\n",
       "Final consumption expenditure by households FC_HH  37823.2669  19829.94475   \n",
       "\n",
       "                                                           BEL         BGR  \\\n",
       "Final consumption expenditure by households FC_HH  35943.56316  5901.82963   \n",
       "\n",
       "                                                            BRA           CAN  \\\n",
       "Final consumption expenditure by households FC_HH  61701.523409  77485.198142   \n",
       "\n",
       "                                                             CHN         CYP  \\\n",
       "Final consumption expenditure by households FC_HH  468089.523516  1086.71842   \n",
       "\n",
       "                                                           CZE           DEU  \\\n",
       "Final consumption expenditure by households FC_HH  12946.65942  242522.30175   \n",
       "\n",
       "                                                       ...            PRT  \\\n",
       "Final consumption expenditure by households FC_HH      ...        9566.63   \n",
       "\n",
       "                                                           ROU           RUS  \\\n",
       "Final consumption expenditure by households FC_HH  13390.36018  195776.29195   \n",
       "\n",
       "                                                          SVK         SVN  \\\n",
       "Final consumption expenditure by households FC_HH  4878.95473  5138.76546   \n",
       "\n",
       "                                                           SWE           TUR  \\\n",
       "Final consumption expenditure by households FC_HH  16874.76854  44680.246665   \n",
       "\n",
       "                                                            TWN  \\\n",
       "Final consumption expenditure by households FC_HH  17084.272369   \n",
       "\n",
       "                                                             USA  \\\n",
       "Final consumption expenditure by households FC_HH  667880.216056   \n",
       "\n",
       "                                                             ROW  \n",
       "Final consumption expenditure by households FC_HH  614738.576214  \n",
       "\n",
       "[1 rows x 41 columns]"
      ]
     },
     "execution_count": 37,
     "metadata": {},
     "output_type": "execute_result"
    }
   ],
   "source": [
    "F_GHG_hh_df[1]"
   ]
  },
  {
   "cell_type": "markdown",
   "metadata": {},
   "source": [
    "# 4. Save matrices as files"
   ]
  },
  {
   "cell_type": "code",
   "execution_count": 38,
   "metadata": {},
   "outputs": [],
   "source": [
    "mat_list = ['Z_a', 'V_a','Y_a', 'F_NRG_a', 'F_NRG_hh_a', 'F_GHG_a', 'F_GHG_hh_a', 'country']\n",
    "\n",
    "for mat in mat_list:\n",
    "    np.save('Data/Matrices/' + str(mat) + '_mat.npy', eval(mat))"
   ]
  },
  {
   "cell_type": "markdown",
   "metadata": {},
   "source": [
    "# 5. Calculating energy and emissions consumption-based accounts\n",
    "\n",
    "For reference, use:  \n",
    "http://www.see.leeds.ac.uk/teaching-resources/exercise-pages/l4-input-output-tutorial-201617/  \n",
    "http://mathesaurus.sourceforge.net/matlab-numpy.html "
   ]
  },
  {
   "cell_type": "markdown",
   "metadata": {},
   "source": [
    "### 5.1. The UK's production and conumption based GHG emissions from 1995-2009"
   ]
  },
  {
   "cell_type": "markdown",
   "metadata": {},
   "source": [
    "UK Production"
   ]
  },
  {
   "cell_type": "code",
   "execution_count": 39,
   "metadata": {},
   "outputs": [],
   "source": [
    "# fnd index position for UK\n",
    "UK = country_list.index('GBR')"
   ]
  },
  {
   "cell_type": "code",
   "execution_count": 40,
   "metadata": {},
   "outputs": [],
   "source": [
    "# using arrays & df\n",
    "\n",
    "UK_production_a = []\n",
    "prod_year_a = []\n",
    "\n",
    "for i in range(len(F_GHG_hh_a)):\n",
    "    ghg = F_GHG_hh_a[i][0][UK] + F_GHG_df[i][['GBR']].sum(axis=1)\n",
    "    UK_production_a.append(ghg)"
   ]
  },
  {
   "cell_type": "code",
   "execution_count": 41,
   "metadata": {},
   "outputs": [],
   "source": [
    "# array\n",
    "\n",
    "CO2e_list = []\n",
    "\n",
    "for i in range(len(UK_production_a)):\n",
    "    ghg = UK_production_a[i][0]\n",
    "    CO2e_list.append(ghg)\n",
    "\n",
    "UK_production_df = pd.DataFrame({'Year':range(1995,2010), 'Production':CO2e_list})"
   ]
  },
  {
   "cell_type": "code",
   "execution_count": 42,
   "metadata": {},
   "outputs": [
    {
     "data": {
      "text/plain": [
       "(0, 1200000)"
      ]
     },
     "execution_count": 42,
     "metadata": {},
     "output_type": "execute_result"
    },
    {
     "data": {
      "image/png": "[encoded data removed]",
      "text/plain": [
       "<Figure size 720x360 with 1 Axes>"
      ]
     },
     "metadata": {
      "needs_background": "light"
     },
     "output_type": "display_data"
    }
   ],
   "source": [
    "fig, ax = plt.subplots(figsize=(10, 5))\n",
    "\n",
    "UK_production_df.plot(ax=ax, x='Year', y='Production')\n",
    "\n",
    "ax.set_xlabel('Year', fontsize=12)\n",
    "ax.set_ylabel('Production', fontsize=12)\n",
    "\n",
    "ax.set_ylim([0,1200000])"
   ]
  },
  {
   "cell_type": "markdown",
   "metadata": {},
   "source": [
    "UK Consumption"
   ]
  },
  {
   "cell_type": "code",
   "execution_count": 84,
   "metadata": {},
   "outputs": [],
   "source": [
    "# calculate x for each year (column sum of Z plus V)\n",
    "\n",
    "x_list = []\n",
    "for i in range(len(Z_a)):\n",
    "    x_temp = Z_a[i].sum(axis=0) + V_a[i].sum(axis=0)\n",
    "    x_list.append(x_temp)\n",
    "x1 = np.array(x_list)#.reshape(15, 1435, 1)"
   ]
  },
  {
   "cell_type": "code",
   "execution_count": 85,
   "metadata": {},
   "outputs": [
    {
     "data": {
      "text/plain": [
       "array([108636.42060373, 363934.59419965, 174907.87520497, ...,\n",
       "       976780.96183253, 985004.74477264,  11384.85644956])"
      ]
     },
     "execution_count": 85,
     "metadata": {},
     "output_type": "execute_result"
    }
   ],
   "source": [
    "x1[-1]"
   ]
  },
  {
   "cell_type": "code",
   "execution_count": 91,
   "metadata": {},
   "outputs": [],
   "source": [
    "# calculate x for each year (row sum of Z plus Y)\n",
    "\n",
    "x_list = []\n",
    "x_list2 = []\n",
    "for i in range(len(Z_a)):\n",
    "    x_temp = Z_a[i].sum(axis=1) + Y_a[i].sum(axis=1)\n",
    "    for j in range(len(x_temp)):\n",
    "        if x_temp[j]==0:\n",
    "            x_temp[j]=0.000000001 # do this to avoid trying to divide my zero later\n",
    "        else:\n",
    "            pass\n",
    "    x_list.append(x_temp.reshape(1435,1))\n",
    "    x_list2.append(x_temp)\n",
    "x = np.array(x_list) # this is vertical\n",
    "x2 = np.array(x_list2) # this is needed to get diagonal matirx later"
   ]
  },
  {
   "cell_type": "code",
   "execution_count": 92,
   "metadata": {},
   "outputs": [
    {
     "data": {
      "text/plain": [
       "(15, 1435, 1)"
      ]
     },
     "execution_count": 92,
     "metadata": {},
     "output_type": "execute_result"
    }
   ],
   "source": [
    "x.shape"
   ]
  },
  {
   "cell_type": "code",
   "execution_count": 94,
   "metadata": {},
   "outputs": [
    {
     "data": {
      "text/plain": [
       "15"
      ]
     },
     "execution_count": 94,
     "metadata": {},
     "output_type": "execute_result"
    }
   ],
   "source": [
    "UK_consumption = []\n",
    "for i in range(len(year_list)):\n",
    "    x = np.array(Z_a[i].sum(axis=1) + Y_a[i].sum(axis=1))\n",
    "    if x == 0:\n",
    "        x = 0.000000001\n",
    "    else:\n",
    "        pass\n",
    "    x_t = np.linalg.inv(x)\n",
    "    big_x = x.repeat(len(x), axis=1)\n",
    "    A = Z_a[i].divide(np.linalg.inv(big_x))\n",
    "    I = np.identity(Z_a.shape[1])\n",
    "    L = np.linalg.inv(A - I)\n",
    "    F_GHGx = F_GHG_a[i].divide(x_t)\n",
    "    Y_UK = "
   ]
  },
  {
   "cell_type": "code",
   "execution_count": 79,
   "metadata": {},
   "outputs": [],
   "source": [
    "# calculate A by dot dividing Z by big_x, element-wise division in python is done by using '/', floor division by using '//'\n",
    "\n",
    "big_x = []\n",
    "for i in range(len(x)):\n",
    "    new_x = x[i].repeat(len(x[i]), axis=1)\n",
    "    big_x.append(new_x)\n",
    "\n",
    "big_x_a = np.array(big_x)\n",
    "\n",
    "# this is not needed, already in the right format\n",
    "'''\n",
    "big_x = []\n",
    "for i in range(len(big_x_a)):\n",
    "    new_x = big_x_a[i].transpose()\n",
    "    big_x.append(new_x)\n",
    "    \n",
    "big_x_a2 = np.array(big_x)\n",
    "'''\n",
    "\n",
    "A_a = Z_a/big_x_a"
   ]
  },
  {
   "cell_type": "code",
   "execution_count": 80,
   "metadata": {},
   "outputs": [
    {
     "name": "stdout",
     "output_type": "stream",
     "text": [
      "Min: -36783594329564.734 \t Max: 1270354963203233.2\n"
     ]
    }
   ],
   "source": [
    "# check that all are below 1\n",
    "\n",
    "print('Min: ' + str(A_a.min()), '\\t', 'Max: ' + str(A_a.max()))"
   ]
  },
  {
   "cell_type": "code",
   "execution_count": 60,
   "metadata": {},
   "outputs": [],
   "source": [
    "# Get the Leontief inverse\n",
    "\n",
    "# get I\n",
    "I = np.identity(Z_a.shape[1])\n",
    "\n",
    "# Lenotief inverse for all years\n",
    "L_list = []\n",
    "for i in range(len(A_a)):\n",
    "    L = np.linalg.inv(I-A_a[i])\n",
    "    L_list.append(L)\n",
    "L_a = np.array(L_list)"
   ]
  },
  {
   "cell_type": "code",
   "execution_count": 61,
   "metadata": {},
   "outputs": [],
   "source": [
    "# create diagonal matrix\n",
    "x_diag = []\n",
    "for i in range(len(x2)):\n",
    "    x_new = np.diag(x2[i])\n",
    "    x_diag.append(x_new)\n",
    "x_diag = np.array(x_diag)"
   ]
  },
  {
   "cell_type": "code",
   "execution_count": 62,
   "metadata": {},
   "outputs": [
    {
     "data": {
      "text/plain": [
       "(15, 1435, 1435)"
      ]
     },
     "execution_count": 62,
     "metadata": {},
     "output_type": "execute_result"
    }
   ],
   "source": [
    "x_diag.shape"
   ]
  },
  {
   "cell_type": "code",
   "execution_count": 63,
   "metadata": {},
   "outputs": [],
   "source": [
    "# calculate inverset of x_diag\n",
    "x_diag_inv = []\n",
    "for i in range(len(x_diag)):\n",
    "    x_new = np.linalg.inv(x_diag[i])\n",
    "    x_diag_inv.append(x_new)\n",
    "x_diag_inv = np.array(x_diag_inv)"
   ]
  },
  {
   "cell_type": "code",
   "execution_count": 64,
   "metadata": {},
   "outputs": [],
   "source": [
    "# calculate emissions intensity factor e = f * inv(x)\n",
    "# e is the 'direct impact multiplier'. It tells you how many tonnes of GHGs are emitted per $ of output in each of the industries in our world.\n",
    "\n",
    "e = []\n",
    "for i in range(len(F_GHG_a)): # uise this as the other one has 2 years less, though they both start at 1995\n",
    "    e_new = F_GHG_a[i].dot(x_diag_inv[i])\n",
    "    e_new = e_new.sum(axis=0)\n",
    "    e.append(e_new)\n",
    "e = np.array(e)"
   ]
  },
  {
   "cell_type": "code",
   "execution_count": 65,
   "metadata": {},
   "outputs": [
    {
     "data": {
      "text/plain": [
       "(15, 1435)"
      ]
     },
     "execution_count": 65,
     "metadata": {},
     "output_type": "execute_result"
    }
   ],
   "source": [
    "e.shape"
   ]
  },
  {
   "cell_type": "code",
   "execution_count": 66,
   "metadata": {},
   "outputs": [],
   "source": [
    "Y_UK = []\n",
    "for i in range(len(Y_a)):\n",
    "    Y_temp = []\n",
    "    for j in range(len(Y_a[i])):\n",
    "        y = np.array(Y_a[i][j][UK])\n",
    "        Y_temp.append(y)\n",
    "    Y_UK.append(np.array(Y_temp))\n",
    "Y_UK = np.array(Y_UK)"
   ]
  },
  {
   "cell_type": "code",
   "execution_count": 67,
   "metadata": {},
   "outputs": [
    {
     "data": {
      "text/plain": [
       "(15, 1435)"
      ]
     },
     "execution_count": 67,
     "metadata": {},
     "output_type": "execute_result"
    }
   ],
   "source": [
    "Y_UK.shape"
   ]
  },
  {
   "cell_type": "code",
   "execution_count": 68,
   "metadata": {},
   "outputs": [
    {
     "data": {
      "text/plain": [
       "(15, 1435, 1435)"
      ]
     },
     "execution_count": 68,
     "metadata": {},
     "output_type": "execute_result"
    }
   ],
   "source": [
    "L_a.shape"
   ]
  },
  {
   "cell_type": "code",
   "execution_count": 69,
   "metadata": {},
   "outputs": [],
   "source": [
    "# Q=eLy; total emissions can be calculated by multiplying emissions intensity by the Leontief inverse and final demand\n",
    "# to find emissions of specific countries use the Y and from a specific country\n",
    "\n",
    "Q_UK = []\n",
    "for i in range(len(e)): # choose e, because it is shorter (1995-2009)\n",
    "    Q = e[i].dot(L_a[i]).dot(Y_UK[i])\n",
    "    Q_UK.append(Q)"
   ]
  },
  {
   "cell_type": "code",
   "execution_count": 70,
   "metadata": {},
   "outputs": [
    {
     "data": {
      "text/plain": [
       "[nan, nan, nan, nan, nan, nan, nan, nan, nan, nan, nan, nan, nan, nan, nan]"
      ]
     },
     "execution_count": 70,
     "metadata": {},
     "output_type": "execute_result"
    }
   ],
   "source": [
    "Q_UK"
   ]
  },
  {
   "cell_type": "code",
   "execution_count": 71,
   "metadata": {},
   "outputs": [],
   "source": [
    "UK_production_df['Consumption'] = Q_UK"
   ]
  },
  {
   "cell_type": "code",
   "execution_count": 73,
   "metadata": {},
   "outputs": [
    {
     "data": {
      "text/plain": [
       "(0, 1200000)"
      ]
     },
     "execution_count": 73,
     "metadata": {},
     "output_type": "execute_result"
    },
    {
     "data": {
      "image/png": "[encoded data removed]",
      "text/plain": [
       "<Figure size 720x360 with 1 Axes>"
      ]
     },
     "metadata": {
      "needs_background": "light"
     },
     "output_type": "display_data"
    }
   ],
   "source": [
    "fig, ax = plt.subplots(figsize=(10, 5))\n",
    "\n",
    "UK_production_df.plot(ax=ax, x='Year', y='Production')\n",
    "UK_production_df.plot(ax=ax, x='Year', y='Consumption')\n",
    "\n",
    "ax.set_xlabel('Year', fontsize=12)\n",
    "ax.set_ylabel('CO2e', fontsize=12)\n",
    "\n",
    "ax.set_ylim([0,1200000])"
   ]
  },
  {
   "cell_type": "code",
   "execution_count": null,
   "metadata": {},
   "outputs": [],
   "source": [
    "UK_production_df"
   ]
  },
  {
   "cell_type": "code",
   "execution_count": 121,
   "metadata": {},
   "outputs": [
    {
     "data": {
      "text/plain": [
       "(0, 1200000)"
      ]
     },
     "execution_count": 121,
     "metadata": {},
     "output_type": "execute_result"
    },
    {
     "data": {
      "image/png": "[encoded data removed]",
      "text/plain": [
       "<Figure size 720x360 with 1 Axes>"
      ]
     },
     "metadata": {
      "needs_background": "light"
     },
     "output_type": "display_data"
    }
   ],
   "source": [
    "check = pd.read_csv('Data/final_test.csv')\n",
    "\n",
    "fig, ax = plt.subplots(figsize=(10, 5))\n",
    "\n",
    "check.plot(ax=ax, x='Year', y='Production')\n",
    "check.plot(ax=ax, x='Year', y='Consumption')\n",
    "\n",
    "ax.set_xlabel('Year', fontsize=12)\n",
    "ax.set_ylabel('CO2e', fontsize=12)\n",
    "\n",
    "ax.set_ylim([0,1200000])"
   ]
  },
  {
   "cell_type": "code",
   "execution_count": null,
   "metadata": {},
   "outputs": [],
   "source": []
  }
 ],
 "metadata": {
  "kernelspec": {
   "display_name": "Python 3",
   "language": "python",
   "name": "python3"
  },
  "language_info": {
   "codemirror_mode": {
    "name": "ipython",
    "version": 3
   },
   "file_extension": ".py",
   "mimetype": "text/x-python",
   "name": "python",
   "nbconvert_exporter": "python",
   "pygments_lexer": "ipython3",
   "version": "3.6.6"
  }
 },
 "nbformat": 4,
 "nbformat_minor": 2
}
