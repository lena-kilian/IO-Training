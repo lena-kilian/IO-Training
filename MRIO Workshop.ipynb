{
 "cells": [
  {
   "cell_type": "markdown",
   "metadata": {},
   "source": [
    "# MRIO Workshop"
   ]
  },
  {
   "cell_type": "code",
   "execution_count": 1,
   "metadata": {},
   "outputs": [],
   "source": [
    "import pandas as pd\n",
    "import numpy as np\n",
    "import matplotlib.pyplot as plt"
   ]
  },
  {
   "cell_type": "markdown",
   "metadata": {},
   "source": [
    "## 1.4 & 2 Load and clean data"
   ]
  },
  {
   "cell_type": "markdown",
   "metadata": {},
   "source": [
    "### WIOT Data"
   ]
  },
  {
   "cell_type": "code",
   "execution_count": 2,
   "metadata": {},
   "outputs": [],
   "source": [
    "lookup = pd.read_excel('Data/WIOT/wiot95_row_apr12.xlsx', index_col=None, header=None).iloc[6:,:4].set_index(1)\n",
    "lookup[2].fillna('TOT', inplace=True)\n",
    "lookup.columns = ['sector_code', 'country', 'sector']"
   ]
  },
  {
   "cell_type": "code",
   "execution_count": 3,
   "metadata": {},
   "outputs": [
    {
     "data": {
      "text/html": [
       "<div>\n",
       "<style scoped>\n",
       "    .dataframe tbody tr th:only-of-type {\n",
       "        vertical-align: middle;\n",
       "    }\n",
       "\n",
       "    .dataframe tbody tr th {\n",
       "        vertical-align: top;\n",
       "    }\n",
       "\n",
       "    .dataframe thead th {\n",
       "        text-align: right;\n",
       "    }\n",
       "</style>\n",
       "<table border=\"1\" class=\"dataframe\">\n",
       "  <thead>\n",
       "    <tr style=\"text-align: right;\">\n",
       "      <th></th>\n",
       "      <th>sector_code</th>\n",
       "      <th>country</th>\n",
       "      <th>sector</th>\n",
       "    </tr>\n",
       "    <tr>\n",
       "      <th>1</th>\n",
       "      <th></th>\n",
       "      <th></th>\n",
       "      <th></th>\n",
       "    </tr>\n",
       "  </thead>\n",
       "  <tbody>\n",
       "    <tr>\n",
       "      <th>Agriculture, Hunting, Forestry and Fishing</th>\n",
       "      <td>AtB</td>\n",
       "      <td>AUS</td>\n",
       "      <td>c1</td>\n",
       "    </tr>\n",
       "    <tr>\n",
       "      <th>Mining and Quarrying</th>\n",
       "      <td>C</td>\n",
       "      <td>AUS</td>\n",
       "      <td>c2</td>\n",
       "    </tr>\n",
       "    <tr>\n",
       "      <th>Food, Beverages and Tobacco</th>\n",
       "      <td>15t16</td>\n",
       "      <td>AUS</td>\n",
       "      <td>c3</td>\n",
       "    </tr>\n",
       "    <tr>\n",
       "      <th>Textiles and Textile Products</th>\n",
       "      <td>17t18</td>\n",
       "      <td>AUS</td>\n",
       "      <td>c4</td>\n",
       "    </tr>\n",
       "    <tr>\n",
       "      <th>Leather, Leather and Footwear</th>\n",
       "      <td>19</td>\n",
       "      <td>AUS</td>\n",
       "      <td>c5</td>\n",
       "    </tr>\n",
       "  </tbody>\n",
       "</table>\n",
       "</div>"
      ],
      "text/plain": [
       "                                           sector_code country sector\n",
       "1                                                                    \n",
       "Agriculture, Hunting, Forestry and Fishing         AtB     AUS     c1\n",
       "Mining and Quarrying                                 C     AUS     c2\n",
       "Food, Beverages and Tobacco                      15t16     AUS     c3\n",
       "Textiles and Textile Products                    17t18     AUS     c4\n",
       "Leather, Leather and Footwear                       19     AUS     c5"
      ]
     },
     "execution_count": 3,
     "metadata": {},
     "output_type": "execute_result"
    }
   ],
   "source": [
    "lookup.head()"
   ]
  },
  {
   "cell_type": "code",
   "execution_count": 4,
   "metadata": {},
   "outputs": [],
   "source": [
    "# function for WIOT Data\n",
    "\n",
    "def import_wiot(year):\n",
    "    file_loc = 'Data/WIOT/wiot' + str(year)[2:] + '_row_apr12.xlsx'\n",
    "    \n",
    "    # import data\n",
    "    df = pd.read_excel(file_loc, index_col=None, header=None).iloc[4:,2:]\n",
    "    df[1644].fillna('Total', inplace=True)\n",
    "    df[2].fillna('TOT', inplace=True)\n",
    "\n",
    "    #set columns\n",
    "    c1 = df.iloc[0].tolist()\n",
    "    c1[0] = 'country'\n",
    "    c2 = df.iloc[1].tolist()\n",
    "    c2[1] = 'sector'\n",
    "    df.columns = [c1, c2]\n",
    "\n",
    "    # set index\n",
    "    df = df.drop([4, 5], axis=0).set_index([('country', 'TOT'), (np.nan, 'sector')]).fillna(0)\n",
    "    \n",
    "    return(df)"
   ]
  },
  {
   "cell_type": "code",
   "execution_count": 5,
   "metadata": {},
   "outputs": [],
   "source": [
    "year_list = []\n",
    "for i in range(1995, 2012):\n",
    "    year = i\n",
    "    year_list.append(year)"
   ]
  },
  {
   "cell_type": "code",
   "execution_count": 6,
   "metadata": {},
   "outputs": [],
   "source": [
    "wiot_list = []\n",
    "for i in year_list:\n",
    "    df = import_wiot(i)\n",
    "    wiot_list.append(df)"
   ]
  },
  {
   "cell_type": "code",
   "execution_count": 481,
   "metadata": {},
   "outputs": [
    {
     "name": "stderr",
     "output_type": "stream",
     "text": [
      "c:\\Program Files\\Anaconda3\\lib\\site-packages\\pandas\\core\\generic.py:3111: PerformanceWarning: dropping on a non-lexsorted multi-index without a level parameter may impact performance.\n",
      "  obj = obj._drop_axis(labels, axis, level=level, errors=errors)\n"
     ]
    }
   ],
   "source": [
    "# Z, V and Y matrices\n",
    "z_list_a = []\n",
    "v_list_a = []\n",
    "y_list_a = []\n",
    "\n",
    "Z_df = []\n",
    "V_df = []\n",
    "Y_df = []\n",
    "\n",
    "col_list = []\n",
    "for i in range(1, 36):\n",
    "    c = 'c' + str(i)\n",
    "    col_list.append(c)\n",
    "    \n",
    "for i in range(len(wiot_list)):\n",
    "    z=wiot_list[i].drop('TOT', axis=0).swaplevel(axis=1).loc[:, col_list].swaplevel(axis=1)\n",
    "    z_list_a.append(np.array(z))\n",
    "    Z_df.append(z)\n",
    "    \n",
    "    v=wiot_list[i].swaplevel(axis=0).loc['r64'].swaplevel(axis=1).loc[:, col_list].swaplevel(axis=1)\n",
    "    v_list_a.append(np.array(v))\n",
    "    V_df.append(v)\n",
    "    \n",
    "    y=wiot_list[i].drop('TOT', axis=0).swaplevel(axis=1).loc[:,'c37']\n",
    "    y_list_a.append(np.array(y))\n",
    "    Y_df.append(y)"
   ]
  },
  {
   "cell_type": "code",
   "execution_count": 482,
   "metadata": {},
   "outputs": [],
   "source": [
    "# Change into matrices and save as Z, V, Y\n",
    "\n",
    "Z_a = np.array(z_list_a)\n",
    "V_a = np.array(v_list_a)\n",
    "Y_a = np.array(y_list_a)"
   ]
  },
  {
   "cell_type": "code",
   "execution_count": 9,
   "metadata": {},
   "outputs": [
    {
     "name": "stdout",
     "output_type": "stream",
     "text": [
      "<class 'numpy.ndarray'> <class 'numpy.ndarray'> <class 'numpy.ndarray'>\n"
     ]
    }
   ],
   "source": [
    "print(type(Z_a), type(V_a), type(Y_a))"
   ]
  },
  {
   "cell_type": "code",
   "execution_count": 10,
   "metadata": {},
   "outputs": [
    {
     "name": "stdout",
     "output_type": "stream",
     "text": [
      "(17, 1435, 1435) (17, 1, 1435) (17, 1435, 41)\n"
     ]
    }
   ],
   "source": [
    "print(Z_a.shape, V_a.shape, Y_a.shape)"
   ]
  },
  {
   "cell_type": "markdown",
   "metadata": {},
   "source": [
    "## 3. Load the extension data"
   ]
  },
  {
   "cell_type": "code",
   "execution_count": 570,
   "metadata": {},
   "outputs": [],
   "source": [
    "# country list \n",
    "\n",
    "country_list = ['AUS','AUT','BEL','BGR','BRA','CAN','CHN','CYP','CZE','DEU','DNK','ESP','EST','FIN','FRA','GBR','GRC','HUN','IDN','IND','IRL','ITA','JPN','KOR','LTU','LUX','LVA','MEX','MLT',\n",
    "                'NLD','POL','PRT','ROU','RUS','SVK','SVN','SWE','TUR','TWN','USA','ROW']\n",
    "\n",
    "country = np.array(country_list)\n",
    "\n",
    "l1 = lookup[['sector']].drop_duplicates()\n",
    "l1 = l1.loc[l1.sector.str[0] == 'c']"
   ]
  },
  {
   "cell_type": "markdown",
   "metadata": {},
   "source": [
    "### Energy\n",
    "\n",
    "F_NRG"
   ]
  },
  {
   "cell_type": "code",
   "execution_count": 602,
   "metadata": {},
   "outputs": [],
   "source": [
    "# function for Energy Data --> make array of vecotrs containing total energy use per year per sector\n",
    "\n",
    "def import_energy(year, country_list):\n",
    "    array_list = []\n",
    "    df_list = []\n",
    "    sheet = str(year)\n",
    "    \n",
    "    country = country_list[0]\n",
    "    file_loc = 'Data/EAS-EU/' + str(country) + '_EU_May12.xls'\n",
    "    # import data\n",
    "    df = pd.read_excel(file_loc, sheet_name=sheet, index_col=None).drop([(np.nan, np.nan)], axis=0)\n",
    "    df.index = df.index.droplevel(level=1)\n",
    "    df = df.join(l1, how='right')\n",
    "    df['energy'] = df['TOTAL']\n",
    "    df['country'] = str(country)\n",
    "    df = df[['country', 'sector', 'energy']].fillna(0)\n",
    "       \n",
    "    for i in range(1, len(country_list)):\n",
    "        country = country_list[i]\n",
    "        file_loc = 'Data/EAS-EU/' + str(country) + '_EU_May12.xls'\n",
    "        # import data\n",
    "        temp = pd.read_excel(file_loc, sheet_name=sheet, index_col=None).drop([(np.nan, np.nan)], axis=0)\n",
    "        temp.index = temp.index.droplevel(level=1)\n",
    "        temp = temp.join(l1, how='right')\n",
    "        temp['energy'] = temp['TOTAL']\n",
    "        temp['country'] = str(country)\n",
    "        temp = temp[['country', 'sector', 'energy']].fillna(0)\n",
    "        \n",
    "        df = df.append(temp)\n",
    "    \n",
    "    df=df.set_index(['country', 'sector']).T      \n",
    "    return(df)"
   ]
  },
  {
   "cell_type": "code",
   "execution_count": 603,
   "metadata": {},
   "outputs": [],
   "source": [
    "array_list = []\n",
    "df_list = []\n",
    "\n",
    "for year in range(1995, 2010):\n",
    "    df_energy = import_energy(year, country_list)\n",
    "    array_list.append(np.array(df_energy))\n",
    "    df_list.append(df_energy)\n",
    "    \n",
    "F_NRG_a = np.array(array_list)\n",
    "F_NRG_df = df_list"
   ]
  },
  {
   "cell_type": "code",
   "execution_count": 604,
   "metadata": {},
   "outputs": [
    {
     "data": {
      "text/plain": [
       "(15, 1, 1435)"
      ]
     },
     "execution_count": 604,
     "metadata": {},
     "output_type": "execute_result"
    }
   ],
   "source": [
    "F_NRG_a.shape"
   ]
  },
  {
   "cell_type": "markdown",
   "metadata": {},
   "source": [
    "F_NRG_hh"
   ]
  },
  {
   "cell_type": "code",
   "execution_count": 597,
   "metadata": {},
   "outputs": [],
   "source": [
    "def import_energy_hh(year, country_list):\n",
    "    array_list = []\n",
    "    df_list = []\n",
    "    sheet = str(year)\n",
    "    \n",
    "    country = country_list[0]\n",
    "    file_loc = 'Data/EAS-EU/' + str(country) + '_EU_May12.xls'\n",
    "    # import data\n",
    "    df = pd.read_excel(file_loc, sheet_name=sheet, index_col=None).drop([(np.nan, np.nan)], axis=0).iloc[-2:-1]\n",
    "    df[str(country)] = df['TOTAL']\n",
    "    df = df[[str(country)]].fillna(0)\n",
    "    \n",
    "    for i in range(1, len(country_list)):\n",
    "        country = country_list[i]\n",
    "        file_loc = 'Data/EAS-EU/' + str(country) + '_EU_May12.xls'\n",
    "        # import data\n",
    "        temp = pd.read_excel(file_loc, sheet_name=sheet, index_col=None).drop([(np.nan, np.nan)], axis=0).iloc[-2:-1]\n",
    "        temp[str(country)] = temp['TOTAL']\n",
    "        temp = temp[[str(country)]].fillna(0)\n",
    "        df = df.join(temp)\n",
    "        \n",
    "    return(df)"
   ]
  },
  {
   "cell_type": "code",
   "execution_count": 598,
   "metadata": {},
   "outputs": [],
   "source": [
    "array_list = []\n",
    "df_list = []\n",
    "\n",
    "for year in range(1995, 2010):\n",
    "    df_energy_hh = import_energy_hh(year, country_list)\n",
    "    array_list.append(np.array(df_energy_hh))\n",
    "    df_list.append(df_energy_hh)\n",
    "    \n",
    "F_NRG_hh_a = np.array(array_list)\n",
    "F_NRG_hh_df = df_list"
   ]
  },
  {
   "cell_type": "code",
   "execution_count": 601,
   "metadata": {},
   "outputs": [
    {
     "data": {
      "text/plain": [
       "(15, 1, 41)"
      ]
     },
     "execution_count": 601,
     "metadata": {},
     "output_type": "execute_result"
    }
   ],
   "source": [
    "F_NRG_hh_a.shape"
   ]
  },
  {
   "cell_type": "markdown",
   "metadata": {},
   "source": [
    "### Air Quality\n",
    "\n",
    "F_GHG"
   ]
  },
  {
   "cell_type": "code",
   "execution_count": 430,
   "metadata": {},
   "outputs": [],
   "source": [
    "# function for Energy Data --> make array of vecotrs containing total energy use per year per sector\n",
    "\n",
    "def import_air(year, country_list):\n",
    "    array_list = []\n",
    "    df_list = []\n",
    "    sheet = str(year)\n",
    "    \n",
    "    country = country_list[0]\n",
    "    file_loc = 'Data/EAS-AIR/' + str(country) + '_AIR_May12.xls'\n",
    "    # import data\n",
    "    df = pd.read_excel(file_loc, sheet_name=sheet, index_col=None).drop([(np.nan, np.nan)], axis=0)\n",
    "    df.index = df.index.droplevel(level=1)\n",
    "    df = df.join(l1, how='right')\n",
    "    df = df[['CO2', 'CH4', 'N2O', 'sector']]\n",
    "    df['CH4'] = (df['CH4'] / 1000) * 28\n",
    "    df['N2O'] = (df['N2O'] / 1000) * 265\n",
    "    df['CO2e'] = df['CO2'] + df['CH4'] + df['N2O']\n",
    "    df['country'] = str(country)\n",
    "    df = df[['CO2e', 'country', 'sector']].fillna(0)\n",
    "    \n",
    "    for i in range(1, len(country_list)):\n",
    "        country = country_list[i]\n",
    "        file_loc = 'Data/EAS-AIR/' + str(country) + '_AIR_May12.xls'\n",
    "        # import data (only from 35 sectors, remove totals)\n",
    "        temp = pd.read_excel(file_loc, sheet_name=sheet, index_col=None).drop([(np.nan, np.nan)], axis=0)\n",
    "        temp.index = temp.index.droplevel(level=1)\n",
    "        temp = temp.join(l1, how='right')\n",
    "        temp = temp[['CO2', 'CH4', 'N2O', 'sector']]\n",
    "        # convert to kilotonnes and then construct CO2e (using 100 year GWP, AR5; https://www.ghgprotocol.org/sites/default/files/ghgp/Global-Warming-Potential-Values%20%28Feb%2016%202016%29_1.pdf)\n",
    "        temp['CH4'] = (temp['CH4'] / 1000) * 28\n",
    "        temp['N2O'] = (temp['N2O'] / 1000) * 265\n",
    "        temp['CO2e'] = temp['CO2'] + temp['CH4'] + temp['N2O']\n",
    "        temp['country'] = str(country)\n",
    "        temp = temp[['CO2e', 'country', 'sector']].fillna(0)\n",
    "    \n",
    "        df = df.append(temp)\n",
    "        \n",
    "    df = df.set_index(['country', 'sector']).T\n",
    "    return(df)"
   ]
  },
  {
   "cell_type": "code",
   "execution_count": 431,
   "metadata": {},
   "outputs": [],
   "source": [
    "array_list = []\n",
    "df_list = []\n",
    "\n",
    "for year in range(1995, 2010):\n",
    "    df_air = import_air(year, country_list)\n",
    "    array_list.append(np.array(df_air))\n",
    "    df_list.append(df_air)\n",
    "    \n",
    "F_GHG_a = np.array(array_list)\n",
    "F_GHG_df = df_list"
   ]
  },
  {
   "cell_type": "code",
   "execution_count": 432,
   "metadata": {},
   "outputs": [
    {
     "data": {
      "text/html": [
       "<div>\n",
       "<style scoped>\n",
       "    .dataframe tbody tr th:only-of-type {\n",
       "        vertical-align: middle;\n",
       "    }\n",
       "\n",
       "    .dataframe tbody tr th {\n",
       "        vertical-align: top;\n",
       "    }\n",
       "\n",
       "    .dataframe thead tr th {\n",
       "        text-align: left;\n",
       "    }\n",
       "</style>\n",
       "<table border=\"1\" class=\"dataframe\">\n",
       "  <thead>\n",
       "    <tr>\n",
       "      <th>country</th>\n",
       "      <th colspan=\"10\" halign=\"left\">AUS</th>\n",
       "      <th>...</th>\n",
       "      <th colspan=\"10\" halign=\"left\">ROW</th>\n",
       "    </tr>\n",
       "    <tr>\n",
       "      <th>sector</th>\n",
       "      <th>c1</th>\n",
       "      <th>c2</th>\n",
       "      <th>c3</th>\n",
       "      <th>c4</th>\n",
       "      <th>c5</th>\n",
       "      <th>c6</th>\n",
       "      <th>c7</th>\n",
       "      <th>c8</th>\n",
       "      <th>c9</th>\n",
       "      <th>c10</th>\n",
       "      <th>...</th>\n",
       "      <th>c26</th>\n",
       "      <th>c27</th>\n",
       "      <th>c28</th>\n",
       "      <th>c29</th>\n",
       "      <th>c30</th>\n",
       "      <th>c31</th>\n",
       "      <th>c32</th>\n",
       "      <th>c33</th>\n",
       "      <th>c34</th>\n",
       "      <th>c35</th>\n",
       "    </tr>\n",
       "  </thead>\n",
       "  <tbody>\n",
       "    <tr>\n",
       "      <th>CO2e</th>\n",
       "      <td>111142.074922</td>\n",
       "      <td>44305.816396</td>\n",
       "      <td>3631.093252</td>\n",
       "      <td>640.497279</td>\n",
       "      <td>51.445794</td>\n",
       "      <td>359.355615</td>\n",
       "      <td>2116.769447</td>\n",
       "      <td>10967.292899</td>\n",
       "      <td>6588.388059</td>\n",
       "      <td>84.731161</td>\n",
       "      <td>...</td>\n",
       "      <td>25810.080297</td>\n",
       "      <td>17767.325026</td>\n",
       "      <td>16051.804481</td>\n",
       "      <td>10681.074909</td>\n",
       "      <td>43279.861269</td>\n",
       "      <td>115062.799028</td>\n",
       "      <td>19791.94622</td>\n",
       "      <td>38123.345675</td>\n",
       "      <td>347627.906601</td>\n",
       "      <td>0.0</td>\n",
       "    </tr>\n",
       "  </tbody>\n",
       "</table>\n",
       "<p>1 rows × 1435 columns</p>\n",
       "</div>"
      ],
      "text/plain": [
       "country            AUS                                                    \\\n",
       "sector              c1            c2           c3          c4         c5   \n",
       "CO2e     111142.074922  44305.816396  3631.093252  640.497279  51.445794   \n",
       "\n",
       "country                                                                ...   \\\n",
       "sector           c6           c7            c8           c9        c10 ...    \n",
       "CO2e     359.355615  2116.769447  10967.292899  6588.388059  84.731161 ...    \n",
       "\n",
       "country           ROW                                                          \\\n",
       "sector            c26           c27           c28           c29           c30   \n",
       "CO2e     25810.080297  17767.325026  16051.804481  10681.074909  43279.861269   \n",
       "\n",
       "country                                                                \n",
       "sector             c31          c32           c33            c34  c35  \n",
       "CO2e     115062.799028  19791.94622  38123.345675  347627.906601  0.0  \n",
       "\n",
       "[1 rows x 1435 columns]"
      ]
     },
     "execution_count": 432,
     "metadata": {},
     "output_type": "execute_result"
    }
   ],
   "source": [
    "F_GHG_df[1]"
   ]
  },
  {
   "cell_type": "code",
   "execution_count": 403,
   "metadata": {},
   "outputs": [
    {
     "data": {
      "text/plain": [
       "(15, 41, 35)"
      ]
     },
     "execution_count": 403,
     "metadata": {},
     "output_type": "execute_result"
    }
   ],
   "source": [
    "F_GHG_a.shape"
   ]
  },
  {
   "cell_type": "markdown",
   "metadata": {},
   "source": [
    "F_GHG_hh"
   ]
  },
  {
   "cell_type": "code",
   "execution_count": 361,
   "metadata": {},
   "outputs": [],
   "source": [
    "### still have to fix this!!! make it for all countries!!!!!! by year\n",
    "\n",
    "'''\n",
    "def import_air_hh(year, country_list):\n",
    "    array_list = []\n",
    "    df_list = []\n",
    "    sheet = str(year)\n",
    "    \n",
    "    country = country_list[0]\n",
    "    file_loc = 'Data/EAS-AIR/' + str(country) + '_AIR_May12.xls'\n",
    "    # import data\n",
    "    df = pd.read_excel(file_loc, sheet_name=sheet, index_col=None).drop([(np.nan, np.nan)], axis=0).iloc[-2:-1] # select only household category\n",
    "    df = df[['CO2', 'CH4', 'N2O']]\n",
    "    df['CH4'] = (df['CH4'] / 1000) * 28\n",
    "    df['N2O'] = (df['N2O'] / 1000) * 265\n",
    "    df[str(country)] = df['CO2'] + df['CH4'] + df['N2O']\n",
    "    df = df[[str(country)]].fillna(0)\n",
    "    \n",
    "    for i in range(1, len(country_list)):\n",
    "        country = country_list[i]\n",
    "        file_loc = 'Data/EAS-AIR/' + str(country) + '_AIR_May12.xls'\n",
    "        # import data (only from 35 sectors, remove totals)\n",
    "        temp = pd.read_excel(file_loc, sheet_name=sheet, index_col=None).drop([(np.nan, np.nan)], axis=0).iloc[-2:-1] # select only household category\n",
    "        temp = temp[['CO2', 'CH4', 'N2O']]\n",
    "        # convert to kilotonnes and then construct CO2e (using 100 year GWP, AR5; https://www.ghgprotocol.org/sites/default/files/ghgp/Global-Warming-Potential-Values%20%28Feb%2016%202016%29_1.pdf)\n",
    "        temp['CH4'] = (temp['CH4'] / 1000) * 28\n",
    "        temp['N2O'] = (temp['N2O'] / 1000) * 265\n",
    "        temp[str(country)] = temp['CO2'] + temp['CH4'] + temp['N2O']\n",
    "        temp = temp[[str(country)]].fillna(0)\n",
    "        df = df.join(temp)\n",
    "        \n",
    "    return(df.T)'''"
   ]
  },
  {
   "cell_type": "code",
   "execution_count": 362,
   "metadata": {},
   "outputs": [],
   "source": [
    "array_list = []\n",
    "df_list = []\n",
    "\n",
    "for year in range(1995, 2010):\n",
    "    df_air_hh = import_air_hh(year, country_list)\n",
    "    array_list.append(np.array(df_air_hh))\n",
    "    df_list.append(df_air_hh)\n",
    "    \n",
    "F_GHG_hh_a = np.array(array_list)\n",
    "F_GHG_hh_df = df_list"
   ]
  },
  {
   "cell_type": "code",
   "execution_count": 363,
   "metadata": {},
   "outputs": [
    {
     "data": {
      "text/plain": [
       "(15, 41, 1)"
      ]
     },
     "execution_count": 363,
     "metadata": {},
     "output_type": "execute_result"
    }
   ],
   "source": [
    "F_GHG_hh_a.shape"
   ]
  },
  {
   "cell_type": "markdown",
   "metadata": {},
   "source": [
    "# 4. Save matrices as files"
   ]
  },
  {
   "cell_type": "code",
   "execution_count": 404,
   "metadata": {},
   "outputs": [],
   "source": [
    "mat_list = ['Z_a', 'V_a','Y_a', 'F_NRG_a', 'F_NRG_hh_a', 'F_GHG_a', 'F_GHG_hh_a', 'country']\n",
    "\n",
    "for mat in mat_list:\n",
    "    np.save('Data/Matrices/' + str(mat) + '_mat.npy', eval(mat))"
   ]
  },
  {
   "cell_type": "markdown",
   "metadata": {},
   "source": [
    "# 5. Calculating energy and emissions consumption-based accounts\n",
    "\n",
    "For reference, use:  \n",
    "http://www.see.leeds.ac.uk/teaching-resources/exercise-pages/l4-input-output-tutorial-201617/  \n",
    "http://mathesaurus.sourceforge.net/matlab-numpy.html "
   ]
  },
  {
   "cell_type": "markdown",
   "metadata": {},
   "source": [
    "### 5.1. The UK's production and conumption based GHG emissions from 1995-2009"
   ]
  },
  {
   "cell_type": "markdown",
   "metadata": {},
   "source": [
    "UK Production"
   ]
  },
  {
   "cell_type": "code",
   "execution_count": 27,
   "metadata": {},
   "outputs": [],
   "source": [
    "# fnd index position for UK\n",
    "UK = country_list.index('GBR')"
   ]
  },
  {
   "cell_type": "code",
   "execution_count": 28,
   "metadata": {},
   "outputs": [],
   "source": [
    "# using df\n",
    "\n",
    "UK_production = []\n",
    "prod_year = []\n",
    "\n",
    "for i in range(len(F_GHG_hh_df[UK])):\n",
    "    ghg = F_GHG_hh_df[UK][i].sum(axis=1) + F_GHG_df[UK][i].sum(axis=1)\n",
    "    UK_production.append(ghg)\n",
    "    \n",
    "# using arrays\n",
    "\n",
    "UK_production_a = []\n",
    "prod_year_a = []\n",
    "\n",
    "for i in range(len(F_GHG_hh_a[UK])):\n",
    "    ghg = F_GHG_hh_a[UK][i].sum(axis=1) + F_GHG_a[UK][i].sum(axis=1)\n",
    "    UK_production_a.append(ghg)"
   ]
  },
  {
   "cell_type": "code",
   "execution_count": 29,
   "metadata": {},
   "outputs": [],
   "source": [
    "#df\n",
    "UK_production_df = pd.DataFrame(UK_production).T.fillna(0)\n",
    "years = []\n",
    "for i in UK_production_df.index.tolist():\n",
    "    year = i[-4:]\n",
    "    years.append(year)\n",
    "UK_production_df.index = years\n",
    "\n",
    "UK_production_df['Production CO2e'] = UK_production_df.sum(axis=1)\n",
    "UK_production_df = UK_production_df[['Production CO2e']]"
   ]
  },
  {
   "cell_type": "code",
   "execution_count": 30,
   "metadata": {},
   "outputs": [
    {
     "data": {
      "text/plain": [
       "(0, 1200000)"
      ]
     },
     "execution_count": 30,
     "metadata": {},
     "output_type": "execute_result"
    },
    {
     "data": {
      "image/png": "[encoded data removed]",
      "text/plain": [
       "<Figure size 720x360 with 1 Axes>"
      ]
     },
     "metadata": {
      "needs_background": "light"
     },
     "output_type": "display_data"
    }
   ],
   "source": [
    "fig, ax = plt.subplots(figsize=(10, 5))\n",
    "\n",
    "UK_production_df.plot(ax=ax)\n",
    "\n",
    "ax.set_xlabel('Year', fontsize=12)\n",
    "ax.set_ylabel('CO2e', fontsize=12)\n",
    "\n",
    "#ax.set_xticklabels(, fontsize=12)\n",
    "#ax.set_yticklabels(range(-100000, 800000, 100000), fontsize=12)\n",
    "\n",
    "ax.set_ylim([0,1200000])"
   ]
  },
  {
   "cell_type": "code",
   "execution_count": 31,
   "metadata": {},
   "outputs": [],
   "source": [
    "# array\n",
    "\n",
    "CO2e_list = []\n",
    "\n",
    "for i in range(len(UK_production_a)):\n",
    "    ghg = UK_production_a[i][0]\n",
    "    CO2e_list.append(ghg)\n",
    "\n",
    "UK_production_df = pd.DataFrame(data=[years, CO2e_list]).T\n",
    "UK_production_df.columns = ['Year', 'CO2e']"
   ]
  },
  {
   "cell_type": "code",
   "execution_count": 32,
   "metadata": {},
   "outputs": [
    {
     "data": {
      "text/plain": [
       "(0, 1200000)"
      ]
     },
     "execution_count": 32,
     "metadata": {},
     "output_type": "execute_result"
    },
    {
     "data": {
      "image/png": "[encoded data removed]",
      "text/plain": [
       "<Figure size 720x360 with 1 Axes>"
      ]
     },
     "metadata": {
      "needs_background": "light"
     },
     "output_type": "display_data"
    }
   ],
   "source": [
    "fig, ax = plt.subplots(figsize=(10, 5))\n",
    "\n",
    "UK_production_df.plot(ax=ax, x='Year', y='CO2e')\n",
    "\n",
    "ax.set_xlabel('Year', fontsize=12)\n",
    "ax.set_ylabel('CO2e', fontsize=12)\n",
    "\n",
    "ax.set_ylim([0,1200000])"
   ]
  },
  {
   "cell_type": "markdown",
   "metadata": {},
   "source": [
    "UK Consumption"
   ]
  },
  {
   "cell_type": "code",
   "execution_count": 169,
   "metadata": {},
   "outputs": [],
   "source": [
    "# calculate x for each year (column sum of Z plus V)\n",
    "\n",
    "x_list = []\n",
    "for i in range(len(Z_a)):\n",
    "    x_temp = Z_a[i].sum(axis=0) + V_a[i]\n",
    "    x_list.append(x_temp)\n",
    "x1 = np.array(x_list).reshape(17, 1435, 1)"
   ]
  },
  {
   "cell_type": "code",
   "execution_count": 170,
   "metadata": {},
   "outputs": [],
   "source": [
    "# calculate x for each year (row sum of Z plus Y)\n",
    "\n",
    "x_list = []\n",
    "x_list2 = []\n",
    "for i in range(len(Z_a)):\n",
    "    x_temp = Z_a[i].sum(axis=1) + Y_a[i].sum(axis=1)\n",
    "    x_list.append(x_temp.reshape(1435,1))\n",
    "    x_list2.append(x_temp)\n",
    "x = np.array(x_list) # this is vertical\n",
    "x2 = np.array(x_list2) # this is needed to get diagonal matirx later"
   ]
  },
  {
   "cell_type": "code",
   "execution_count": 171,
   "metadata": {},
   "outputs": [],
   "source": [
    "# calculate A by dot dividing Z by big_x, element-wise division in python is done by using '/', floor division by using '//'\n",
    "\n",
    "big_x = []\n",
    "for i in range(len(x)):\n",
    "    new_x = x[i].repeat(len(x[i]), axis=1)\n",
    "    big_x.append(new_x)\n",
    "\n",
    "big_x_a = np.array(big_x) + 0.0000000000000000000000000000000000000000000000000000000000000000000000000000000000000000000000001 # add this to avoid trying to divide by zero\n",
    "\n",
    "A_a = Z_a/big_x_a"
   ]
  },
  {
   "cell_type": "code",
   "execution_count": 172,
   "metadata": {},
   "outputs": [
    {
     "name": "stdout",
     "output_type": "stream",
     "text": [
      "Min: 0.0 \t Max: 0.8405476361287894\n"
     ]
    }
   ],
   "source": [
    "# check that all are below 1\n",
    "\n",
    "print('Min: ' + str(A_a.min()), '\\t', 'Max: ' + str(A_a.max()))"
   ]
  },
  {
   "cell_type": "code",
   "execution_count": 173,
   "metadata": {},
   "outputs": [],
   "source": [
    "# Get the Leontief inverse\n",
    "\n",
    "# get I\n",
    "I = np.identity(Z_a.shape[1])\n",
    "\n",
    "# Lenotief inverse for all years\n",
    "L_list = []\n",
    "for i in range(len(A_a)):\n",
    "    L = np.linalg.inv(I-A_a[i])\n",
    "    L_list.append(L)\n",
    "L_a = np.array(L_list)"
   ]
  },
  {
   "cell_type": "code",
   "execution_count": 174,
   "metadata": {},
   "outputs": [],
   "source": [
    "# calculate emissions intensity factor e = f * inv(x)\n",
    "\n",
    "'''# write function to get diaganol matrix\n",
    "# input must be a one dimendinal vector, v\n",
    "def diag_mat(v):\n",
    "    l = len(v)\n",
    "    mat_list = []\n",
    "    for i in range(l):\n",
    "        vec_list = []\n",
    "        for j in range(i): # add 0's before value\n",
    "            vec_list.append(0)\n",
    "        vec_list.append(v[i]) # add value\n",
    "        for j in range(l-i-1): # add 0#s after value\n",
    "            vec_list.append(0)\n",
    "        mat_list.append(np.array(vec_list))\n",
    "    return(np.array(mat_list))'''"
   ]
  },
  {
   "cell_type": "code",
   "execution_count": 182,
   "metadata": {},
   "outputs": [],
   "source": [
    "# first, remove 0's (add negligble amount) as otherwise later calculations will not work\n",
    "for j in range(len(x2)):\n",
    "    x2[j] += 0.00000000000000000000000000000000000000000000000000000001"
   ]
  },
  {
   "cell_type": "code",
   "execution_count": 183,
   "metadata": {},
   "outputs": [],
   "source": [
    "for item in x2[0]:\n",
    "    if item == 0:\n",
    "        print('yes')"
   ]
  },
  {
   "cell_type": "code",
   "execution_count": 184,
   "metadata": {},
   "outputs": [],
   "source": [
    "# create diagonal matrix\n",
    "x_diag = []\n",
    "for i in range(len(x2)):\n",
    "    x_new = np.diag(x2[i])\n",
    "    x_diag.append(x_new)"
   ]
  },
  {
   "cell_type": "code",
   "execution_count": 187,
   "metadata": {},
   "outputs": [],
   "source": [
    "# calculate inverset of x_diag\n",
    "x_diag_inv = []\n",
    "for i in range(len(x_diag)):\n",
    "    x_new = np.linalg.inv(x_diag[i])\n",
    "    x_diag_inv.append(x_new)"
   ]
  },
  {
   "cell_type": "code",
   "execution_count": 450,
   "metadata": {},
   "outputs": [
    {
     "data": {
      "text/plain": [
       "array([[111142.07492214,  44305.81639595,   3631.09325172, ...,\n",
       "         38123.34567489, 347627.90660067,      0.        ]])"
      ]
     },
     "execution_count": 450,
     "metadata": {},
     "output_type": "execute_result"
    }
   ],
   "source": [
    "F_GHG_a[1]"
   ]
  },
  {
   "cell_type": "code",
   "execution_count": 514,
   "metadata": {},
   "outputs": [],
   "source": [
    "# calculate emissions intensity factor e = f * inv(x)\n",
    "# e is the 'direct impact multiplier'. It tells you how many tonnes of GHGs are emitted per $ of output in each of the industries in our world.\n",
    "\n",
    "e = []\n",
    "for i in range(len(F_GHG_a)): # uise this as the other one has 2 years less, though they both start at 1995\n",
    "    e_new = F_GHG_a[i] * x_diag_inv[i]\n",
    "    e_new = e_new.sum(axis=0)\n",
    "    e.append(e_new)\n",
    "e = np.array(e)"
   ]
  },
  {
   "cell_type": "code",
   "execution_count": 515,
   "metadata": {},
   "outputs": [
    {
     "data": {
      "text/plain": [
       "(15, 1435)"
      ]
     },
     "execution_count": 515,
     "metadata": {},
     "output_type": "execute_result"
    }
   ],
   "source": [
    "e.shape"
   ]
  },
  {
   "cell_type": "code",
   "execution_count": 522,
   "metadata": {},
   "outputs": [],
   "source": [
    "Y_UK = []\n",
    "for i in range(len(Y_a)):\n",
    "    Y_temp = []\n",
    "    for j in range(len(Y_a[i])):\n",
    "        y = np.array(Y_a[i][j][UK])\n",
    "        Y_temp.append(y)\n",
    "    Y_UK.append(np.array(Y_temp))\n",
    "Y_UK = np.array(Y_UK)"
   ]
  },
  {
   "cell_type": "code",
   "execution_count": 523,
   "metadata": {},
   "outputs": [
    {
     "data": {
      "text/plain": [
       "(17, 1435)"
      ]
     },
     "execution_count": 523,
     "metadata": {},
     "output_type": "execute_result"
    }
   ],
   "source": [
    "Y_UK.shape"
   ]
  },
  {
   "cell_type": "code",
   "execution_count": 528,
   "metadata": {},
   "outputs": [
    {
     "data": {
      "text/plain": [
       "(17, 1435, 1435)"
      ]
     },
     "execution_count": 528,
     "metadata": {},
     "output_type": "execute_result"
    }
   ],
   "source": [
    "L_a.shape"
   ]
  },
  {
   "cell_type": "code",
   "execution_count": 530,
   "metadata": {},
   "outputs": [],
   "source": [
    "# Q=eLy; total emissions can be calculated by multiplying emissions intensity by the Leontief inverse and final demand\n",
    "# to find emissions of specific countries use the Y and from a specific country\n",
    "\n",
    "Q_UK = []\n",
    "for i in range(len(e)): # choose e, because it is shorter (1995-2009)\n",
    "    Q = e[i].dot(L_a[i]).dot(Y_UK[i])\n",
    "    Q_UK.append(Q)"
   ]
  },
  {
   "cell_type": "code",
   "execution_count": 532,
   "metadata": {},
   "outputs": [
    {
     "data": {
      "text/plain": [
       "[3013223.873491965,\n",
       " 3389258.6235626806,\n",
       " 6634461.968872246,\n",
       " 4994093.259806126,\n",
       " 3999430.507264096,\n",
       " 3473167.8913517706,\n",
       " 3447371.24937062,\n",
       " 2883691.060682498,\n",
       " 2841995.668085462,\n",
       " 3192004.096544751,\n",
       " 3324748.886375062,\n",
       " 3193810.9863601653,\n",
       " 2824862.9485675106,\n",
       " 2305558.89362933,\n",
       " 2010983.3463896553]"
      ]
     },
     "execution_count": 532,
     "metadata": {},
     "output_type": "execute_result"
    }
   ],
   "source": [
    "Q_UK"
   ]
  },
  {
   "cell_type": "code",
   "execution_count": 534,
   "metadata": {},
   "outputs": [],
   "source": [
    "UK_production_df['Consumption'] = Q_UK"
   ]
  },
  {
   "cell_type": "code",
   "execution_count": 538,
   "metadata": {},
   "outputs": [
    {
     "data": {
      "text/plain": [
       "Text(0,0.5,'CO2e')"
      ]
     },
     "execution_count": 538,
     "metadata": {},
     "output_type": "execute_result"
    },
    {
     "data": {
      "image/png": "[encoded data removed]",
      "text/plain": [
       "<Figure size 720x360 with 1 Axes>"
      ]
     },
     "metadata": {
      "needs_background": "light"
     },
     "output_type": "display_data"
    }
   ],
   "source": [
    "fig, ax = plt.subplots(figsize=(10, 5))\n",
    "\n",
    "UK_production_df.plot(ax=ax, x='Year', y='CO2e')\n",
    "UK_production_df.plot(ax=ax, x='Year', y='Consumption')\n",
    "\n",
    "ax.set_xlabel('Year', fontsize=12)\n",
    "ax.set_ylabel('CO2e', fontsize=12)\n",
    "\n",
    "#ax.set_ylim([0,1200000])"
   ]
  },
  {
   "cell_type": "code",
   "execution_count": 537,
   "metadata": {},
   "outputs": [
    {
     "data": {
      "text/html": [
       "<div>\n",
       "<style scoped>\n",
       "    .dataframe tbody tr th:only-of-type {\n",
       "        vertical-align: middle;\n",
       "    }\n",
       "\n",
       "    .dataframe tbody tr th {\n",
       "        vertical-align: top;\n",
       "    }\n",
       "\n",
       "    .dataframe thead th {\n",
       "        text-align: right;\n",
       "    }\n",
       "</style>\n",
       "<table border=\"1\" class=\"dataframe\">\n",
       "  <thead>\n",
       "    <tr style=\"text-align: right;\">\n",
       "      <th></th>\n",
       "      <th>Year</th>\n",
       "      <th>CO2e</th>\n",
       "      <th>Consumption</th>\n",
       "    </tr>\n",
       "  </thead>\n",
       "  <tbody>\n",
       "    <tr>\n",
       "      <th>0</th>\n",
       "      <td>1995</td>\n",
       "      <td>756969</td>\n",
       "      <td>3.013224e+06</td>\n",
       "    </tr>\n",
       "    <tr>\n",
       "      <th>1</th>\n",
       "      <td>1996</td>\n",
       "      <td>781313</td>\n",
       "      <td>3.389259e+06</td>\n",
       "    </tr>\n",
       "    <tr>\n",
       "      <th>2</th>\n",
       "      <td>1997</td>\n",
       "      <td>753734</td>\n",
       "      <td>6.634462e+06</td>\n",
       "    </tr>\n",
       "    <tr>\n",
       "      <th>3</th>\n",
       "      <td>1998</td>\n",
       "      <td>753453</td>\n",
       "      <td>4.994093e+06</td>\n",
       "    </tr>\n",
       "    <tr>\n",
       "      <th>4</th>\n",
       "      <td>1999</td>\n",
       "      <td>726871</td>\n",
       "      <td>3.999431e+06</td>\n",
       "    </tr>\n",
       "    <tr>\n",
       "      <th>5</th>\n",
       "      <td>2000</td>\n",
       "      <td>731285</td>\n",
       "      <td>3.473168e+06</td>\n",
       "    </tr>\n",
       "    <tr>\n",
       "      <th>6</th>\n",
       "      <td>2001</td>\n",
       "      <td>736705</td>\n",
       "      <td>3.447371e+06</td>\n",
       "    </tr>\n",
       "    <tr>\n",
       "      <th>7</th>\n",
       "      <td>2002</td>\n",
       "      <td>715108</td>\n",
       "      <td>2.883691e+06</td>\n",
       "    </tr>\n",
       "    <tr>\n",
       "      <th>8</th>\n",
       "      <td>2003</td>\n",
       "      <td>720686</td>\n",
       "      <td>2.841996e+06</td>\n",
       "    </tr>\n",
       "    <tr>\n",
       "      <th>9</th>\n",
       "      <td>2004</td>\n",
       "      <td>724321</td>\n",
       "      <td>3.192004e+06</td>\n",
       "    </tr>\n",
       "    <tr>\n",
       "      <th>10</th>\n",
       "      <td>2005</td>\n",
       "      <td>722077</td>\n",
       "      <td>3.324749e+06</td>\n",
       "    </tr>\n",
       "    <tr>\n",
       "      <th>11</th>\n",
       "      <td>2006</td>\n",
       "      <td>708840</td>\n",
       "      <td>3.193811e+06</td>\n",
       "    </tr>\n",
       "    <tr>\n",
       "      <th>12</th>\n",
       "      <td>2007</td>\n",
       "      <td>699206</td>\n",
       "      <td>2.824863e+06</td>\n",
       "    </tr>\n",
       "    <tr>\n",
       "      <th>13</th>\n",
       "      <td>2008</td>\n",
       "      <td>686595</td>\n",
       "      <td>2.305559e+06</td>\n",
       "    </tr>\n",
       "    <tr>\n",
       "      <th>14</th>\n",
       "      <td>2009</td>\n",
       "      <td>649032</td>\n",
       "      <td>2.010983e+06</td>\n",
       "    </tr>\n",
       "  </tbody>\n",
       "</table>\n",
       "</div>"
      ],
      "text/plain": [
       "    Year    CO2e   Consumption\n",
       "0   1995  756969  3.013224e+06\n",
       "1   1996  781313  3.389259e+06\n",
       "2   1997  753734  6.634462e+06\n",
       "3   1998  753453  4.994093e+06\n",
       "4   1999  726871  3.999431e+06\n",
       "5   2000  731285  3.473168e+06\n",
       "6   2001  736705  3.447371e+06\n",
       "7   2002  715108  2.883691e+06\n",
       "8   2003  720686  2.841996e+06\n",
       "9   2004  724321  3.192004e+06\n",
       "10  2005  722077  3.324749e+06\n",
       "11  2006  708840  3.193811e+06\n",
       "12  2007  699206  2.824863e+06\n",
       "13  2008  686595  2.305559e+06\n",
       "14  2009  649032  2.010983e+06"
      ]
     },
     "execution_count": 537,
     "metadata": {},
     "output_type": "execute_result"
    }
   ],
   "source": [
    "UK_production_df"
   ]
  },
  {
   "cell_type": "code",
   "execution_count": null,
   "metadata": {},
   "outputs": [],
   "source": []
  }
 ],
 "metadata": {
  "kernelspec": {
   "display_name": "Python 3",
   "language": "python",
   "name": "python3"
  },
  "language_info": {
   "codemirror_mode": {
    "name": "ipython",
    "version": 3
   },
   "file_extension": ".py",
   "mimetype": "text/x-python",
   "name": "python",
   "nbconvert_exporter": "python",
   "pygments_lexer": "ipython3",
   "version": "3.6.6"
  }
 },
 "nbformat": 4,
 "nbformat_minor": 2
}
