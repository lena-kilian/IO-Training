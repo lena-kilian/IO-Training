{
 "cells": [
  {
   "cell_type": "markdown",
   "metadata": {},
   "source": [
    "# MRIO Workshop"
   ]
  },
  {
   "cell_type": "code",
   "execution_count": 1,
   "metadata": {},
   "outputs": [],
   "source": [
    "import pandas as pd\n",
    "import numpy as np\n",
    "import matplotlib.pyplot as plt"
   ]
  },
  {
   "cell_type": "markdown",
   "metadata": {},
   "source": [
    "## 1.4 & 2 Load and clean data"
   ]
  },
  {
   "cell_type": "markdown",
   "metadata": {},
   "source": [
    "### WIOT Data"
   ]
  },
  {
   "cell_type": "code",
   "execution_count": 2,
   "metadata": {},
   "outputs": [],
   "source": [
    "lookup = pd.read_excel('Data/WIOT/wiot95_row_apr12.xlsx', index_col=None, header=None).iloc[6:,:4].set_index(1)\n",
    "lookup[2].fillna('TOT', inplace=True)\n",
    "lookup.columns = ['sector_code', 'country', 'sector']"
   ]
  },
  {
   "cell_type": "code",
   "execution_count": 3,
   "metadata": {},
   "outputs": [
    {
     "data": {
      "text/html": [
       "<div>\n",
       "<style scoped>\n",
       "    .dataframe tbody tr th:only-of-type {\n",
       "        vertical-align: middle;\n",
       "    }\n",
       "\n",
       "    .dataframe tbody tr th {\n",
       "        vertical-align: top;\n",
       "    }\n",
       "\n",
       "    .dataframe thead th {\n",
       "        text-align: right;\n",
       "    }\n",
       "</style>\n",
       "<table border=\"1\" class=\"dataframe\">\n",
       "  <thead>\n",
       "    <tr style=\"text-align: right;\">\n",
       "      <th></th>\n",
       "      <th>sector_code</th>\n",
       "      <th>country</th>\n",
       "      <th>sector</th>\n",
       "    </tr>\n",
       "    <tr>\n",
       "      <th>1</th>\n",
       "      <th></th>\n",
       "      <th></th>\n",
       "      <th></th>\n",
       "    </tr>\n",
       "  </thead>\n",
       "  <tbody>\n",
       "    <tr>\n",
       "      <th>Agriculture, Hunting, Forestry and Fishing</th>\n",
       "      <td>AtB</td>\n",
       "      <td>AUS</td>\n",
       "      <td>c1</td>\n",
       "    </tr>\n",
       "    <tr>\n",
       "      <th>Mining and Quarrying</th>\n",
       "      <td>C</td>\n",
       "      <td>AUS</td>\n",
       "      <td>c2</td>\n",
       "    </tr>\n",
       "    <tr>\n",
       "      <th>Food, Beverages and Tobacco</th>\n",
       "      <td>15t16</td>\n",
       "      <td>AUS</td>\n",
       "      <td>c3</td>\n",
       "    </tr>\n",
       "    <tr>\n",
       "      <th>Textiles and Textile Products</th>\n",
       "      <td>17t18</td>\n",
       "      <td>AUS</td>\n",
       "      <td>c4</td>\n",
       "    </tr>\n",
       "    <tr>\n",
       "      <th>Leather, Leather and Footwear</th>\n",
       "      <td>19</td>\n",
       "      <td>AUS</td>\n",
       "      <td>c5</td>\n",
       "    </tr>\n",
       "  </tbody>\n",
       "</table>\n",
       "</div>"
      ],
      "text/plain": [
       "                                           sector_code country sector\n",
       "1                                                                    \n",
       "Agriculture, Hunting, Forestry and Fishing         AtB     AUS     c1\n",
       "Mining and Quarrying                                 C     AUS     c2\n",
       "Food, Beverages and Tobacco                      15t16     AUS     c3\n",
       "Textiles and Textile Products                    17t18     AUS     c4\n",
       "Leather, Leather and Footwear                       19     AUS     c5"
      ]
     },
     "execution_count": 3,
     "metadata": {},
     "output_type": "execute_result"
    }
   ],
   "source": [
    "lookup.head()"
   ]
  },
  {
   "cell_type": "code",
   "execution_count": 4,
   "metadata": {},
   "outputs": [],
   "source": [
    "# function for WIOT Data\n",
    "\n",
    "def import_wiot(year):\n",
    "    file_loc = 'Data/WIOT/wiot' + str(year)[2:] + '_row_apr12.xlsx'\n",
    "    \n",
    "    # import data\n",
    "    df = pd.read_excel(file_loc, index_col=None, header=None).iloc[4:,2:]\n",
    "    df[1644].fillna('Total', inplace=True)\n",
    "    df[2].fillna('TOT', inplace=True)\n",
    "\n",
    "    #set columns\n",
    "    c1 = df.iloc[0].tolist()\n",
    "    c1[0] = 'country'\n",
    "    c2 = df.iloc[1].tolist()\n",
    "    c2[1] = 'sector'\n",
    "    df.columns = [c1, c2]\n",
    "\n",
    "    # set index\n",
    "    df = df.drop([4, 5], axis=0).set_index([('country', 'TOT'), (np.nan, 'sector')]).fillna(0)\n",
    "    \n",
    "    return(df)"
   ]
  },
  {
   "cell_type": "code",
   "execution_count": 5,
   "metadata": {},
   "outputs": [],
   "source": [
    "year_list = []\n",
    "for i in range(1995, 2010):\n",
    "    year = i\n",
    "    year_list.append(year)"
   ]
  },
  {
   "cell_type": "code",
   "execution_count": 6,
   "metadata": {},
   "outputs": [],
   "source": [
    "wiot_list = []\n",
    "for i in year_list:\n",
    "    df = import_wiot(i)\n",
    "    wiot_list.append(df)"
   ]
  },
  {
   "cell_type": "code",
   "execution_count": 7,
   "metadata": {},
   "outputs": [
    {
     "name": "stderr",
     "output_type": "stream",
     "text": [
      "c:\\Program Files\\Anaconda3\\lib\\site-packages\\pandas\\core\\generic.py:3111: PerformanceWarning: dropping on a non-lexsorted multi-index without a level parameter may impact performance.\n",
      "  obj = obj._drop_axis(labels, axis, level=level, errors=errors)\n"
     ]
    }
   ],
   "source": [
    "# Z, V and Y\n",
    "Z_df = []\n",
    "V_df = []\n",
    "Y_df = []\n",
    "\n",
    "col_list = []\n",
    "for i in range(1, 36):\n",
    "    c = 'c' + str(i)\n",
    "    col_list.append(c)\n",
    "    \n",
    "for i in range(len(wiot_list)):\n",
    "    z=wiot_list[i].drop('TOT', axis=0).swaplevel(axis=1).loc[:, col_list].swaplevel(axis=1)\n",
    "    Z_df.append(z)\n",
    "    \n",
    "    v=wiot_list[i].swaplevel(axis=0).loc[['r99', 'r60', 'r61', 'r62', 'r64', 'r69']].swaplevel(axis=1).loc[:, col_list].swaplevel(axis=1)\n",
    "    V_df.append(v)\n",
    "    \n",
    "    y=wiot_list[i].drop('TOT', axis=0).swaplevel(axis=1)[['c37', 'c38', 'c39', 'c41', 'c42']]\n",
    "    Y_df.append(y)"
   ]
  },
  {
   "cell_type": "markdown",
   "metadata": {},
   "source": [
    "## 3. Load the extension data"
   ]
  },
  {
   "cell_type": "code",
   "execution_count": 11,
   "metadata": {},
   "outputs": [],
   "source": [
    "# country list \n",
    "\n",
    "country_list = ['AUS','AUT','BEL','BGR','BRA','CAN','CHN','CYP','CZE','DEU','DNK','ESP','EST','FIN','FRA','GBR','GRC','HUN','IDN','IND','IRL','ITA','JPN','KOR','LTU','LUX','LVA','MEX','MLT',\n",
    "                'NLD','POL','PRT','ROU','RUS','SVK','SVN','SWE','TUR','TWN','USA','ROW']\n",
    "\n",
    "country = np.array(country_list)\n",
    "\n",
    "l1 = lookup[['sector']].drop_duplicates()\n",
    "l1 = l1.loc[l1.sector.str[0] == 'c']"
   ]
  },
  {
   "cell_type": "markdown",
   "metadata": {},
   "source": [
    "### Energy\n",
    "\n",
    "F_NRG"
   ]
  },
  {
   "cell_type": "code",
   "execution_count": 12,
   "metadata": {},
   "outputs": [],
   "source": [
    "# function for Energy Data --> make array of vecotrs containing total energy use per year per sector\n",
    "\n",
    "def import_energy(year, country_list):\n",
    "    array_list = []\n",
    "    df_list = []\n",
    "    sheet = str(year)\n",
    "    \n",
    "    country = country_list[0]\n",
    "    file_loc = 'Data/EAS-EU/' + str(country) + '_EU_May12.xls'\n",
    "    # import data\n",
    "    df = pd.read_excel(file_loc, sheet_name=sheet, index_col=None).drop([(np.nan, np.nan)], axis=0)\n",
    "    df.index = df.index.droplevel(level=1)\n",
    "    df = df.join(l1, how='right')\n",
    "    df['energy'] = df['TOTAL']\n",
    "    df['country'] = str(country)\n",
    "    df = df[['country', 'sector', 'energy']].fillna(0)\n",
    "       \n",
    "    for i in range(1, len(country_list)):\n",
    "        country = country_list[i]\n",
    "        file_loc = 'Data/EAS-EU/' + str(country) + '_EU_May12.xls'\n",
    "        # import data\n",
    "        temp = pd.read_excel(file_loc, sheet_name=sheet, index_col=None).drop([(np.nan, np.nan)], axis=0)\n",
    "        temp.index = temp.index.droplevel(level=1)\n",
    "        temp = temp.join(l1, how='right')\n",
    "        temp['energy'] = temp['TOTAL']\n",
    "        temp['country'] = str(country)\n",
    "        temp = temp[['country', 'sector', 'energy']].fillna(0)\n",
    "        \n",
    "        df = df.append(temp)\n",
    "    \n",
    "    df=df.set_index(['country', 'sector']).T      \n",
    "    return(df)"
   ]
  },
  {
   "cell_type": "code",
   "execution_count": 13,
   "metadata": {},
   "outputs": [],
   "source": [
    "#array_list = []\n",
    "F_NRG_df = []\n",
    "\n",
    "for year in range(1995, 2010):\n",
    "    df_energy = import_energy(year, country_list)\n",
    "    F_NRG_df.append(df_energy)"
   ]
  },
  {
   "cell_type": "markdown",
   "metadata": {},
   "source": [
    "F_NRG_hh"
   ]
  },
  {
   "cell_type": "code",
   "execution_count": 15,
   "metadata": {},
   "outputs": [],
   "source": [
    "def import_energy_hh(year, country_list):\n",
    "    array_list = []\n",
    "    df_list = []\n",
    "    sheet = str(year)\n",
    "    \n",
    "    country = country_list[0]\n",
    "    file_loc = 'Data/EAS-EU/' + str(country) + '_EU_May12.xls'\n",
    "    # import data\n",
    "    df = pd.read_excel(file_loc, sheet_name=sheet, index_col=None).drop([(np.nan, np.nan)], axis=0).iloc[-2:-1]\n",
    "    df[str(country)] = df['TOTAL']\n",
    "    df = df[[str(country)]].fillna(0)\n",
    "    \n",
    "    for i in range(1, len(country_list)):\n",
    "        country = country_list[i]\n",
    "        file_loc = 'Data/EAS-EU/' + str(country) + '_EU_May12.xls'\n",
    "        # import data\n",
    "        temp = pd.read_excel(file_loc, sheet_name=sheet, index_col=None).drop([(np.nan, np.nan)], axis=0).iloc[-2:-1]\n",
    "        temp[str(country)] = temp['TOTAL']\n",
    "        temp = temp[[str(country)]].fillna(0)\n",
    "        df = df.join(temp)\n",
    "        \n",
    "    return(df)"
   ]
  },
  {
   "cell_type": "code",
   "execution_count": 16,
   "metadata": {},
   "outputs": [],
   "source": [
    "F_NRG_hh_df = []\n",
    "\n",
    "for year in range(1995, 2010):\n",
    "    df_energy_hh = import_energy_hh(year, country_list)\n",
    "    F_NRG_hh_df.append(df_energy_hh)"
   ]
  },
  {
   "cell_type": "markdown",
   "metadata": {},
   "source": [
    "### Air Quality\n",
    "\n",
    "F_GHG"
   ]
  },
  {
   "cell_type": "code",
   "execution_count": 18,
   "metadata": {},
   "outputs": [],
   "source": [
    "# function for Energy Data --> make array of vecotrs containing total energy use per year per sector\n",
    "\n",
    "def import_air(year, country_list):\n",
    "    array_list = []\n",
    "    df_list = []\n",
    "    sheet = str(year)\n",
    "    \n",
    "    country = country_list[0]\n",
    "    file_loc = 'Data/EAS-AIR/' + str(country) + '_AIR_May12.xls'\n",
    "    # import data\n",
    "    df = pd.read_excel(file_loc, sheet_name=sheet, index_col=None).drop([(np.nan, np.nan)], axis=0)\n",
    "    df.index = df.index.droplevel(level=1)\n",
    "    df = df.join(l1, how='right')\n",
    "    df = df[['CO2', 'CH4', 'N2O', 'sector']]\n",
    "    df['CH4'] = (df['CH4'] / 1000) * 28\n",
    "    df['N2O'] = (df['N2O'] / 1000) * 265\n",
    "    df['CO2e'] = df['CO2'] + df['CH4'] + df['N2O']\n",
    "    df['country'] = str(country)\n",
    "    df = df[['CO2e', 'country', 'sector']].fillna(0)\n",
    "    \n",
    "    for i in range(1, len(country_list)):\n",
    "        country = country_list[i]\n",
    "        file_loc = 'Data/EAS-AIR/' + str(country) + '_AIR_May12.xls'\n",
    "        # import data (only from 35 sectors, remove totals)\n",
    "        temp = pd.read_excel(file_loc, sheet_name=sheet, index_col=None).drop([(np.nan, np.nan)], axis=0)\n",
    "        temp.index = temp.index.droplevel(level=1)\n",
    "        temp = temp.join(l1, how='right')\n",
    "        temp = temp[['CO2', 'CH4', 'N2O', 'sector']]\n",
    "        # convert to kilotonnes and then construct CO2e (using 100 year GWP, AR5; https://www.ghgprotocol.org/sites/default/files/ghgp/Global-Warming-Potential-Values%20%28Feb%2016%202016%29_1.pdf)\n",
    "        temp['CH4'] = (temp['CH4'] / 1000) * 28\n",
    "        temp['N2O'] = (temp['N2O'] / 1000) * 265\n",
    "        temp['CO2e'] = temp['CO2'] + temp['CH4'] + temp['N2O']\n",
    "        temp['country'] = str(country)\n",
    "        temp = temp[['CO2e', 'country', 'sector']].fillna(0)\n",
    "    \n",
    "        df = df.append(temp)\n",
    "        \n",
    "    df = df.set_index(['country', 'sector']).T\n",
    "    return(df)"
   ]
  },
  {
   "cell_type": "code",
   "execution_count": 19,
   "metadata": {},
   "outputs": [],
   "source": [
    "F_GHG_df = []\n",
    "\n",
    "for year in range(1995, 2010):\n",
    "    df_air = import_air(year, country_list)\n",
    "    F_GHG_df.append(df_air)"
   ]
  },
  {
   "cell_type": "markdown",
   "metadata": {},
   "source": [
    "F_GHG_hh"
   ]
  },
  {
   "cell_type": "code",
   "execution_count": 21,
   "metadata": {},
   "outputs": [],
   "source": [
    "def import_air_hh(year, country_list):\n",
    "    array_list = []\n",
    "    df_list = []\n",
    "    sheet = str(year)\n",
    "    \n",
    "    country = country_list[0]\n",
    "    file_loc = 'Data/EAS-AIR/' + str(country) + '_AIR_May12.xls'\n",
    "    # import data\n",
    "    df = pd.read_excel(file_loc, sheet_name=sheet, index_col=None).drop([(np.nan, np.nan)], axis=0).iloc[-2:-1] # select only household category\n",
    "    df = df[['CO2', 'CH4', 'N2O']]\n",
    "    df['CH4'] = (df['CH4'] / 1000) * 28\n",
    "    df['N2O'] = (df['N2O'] / 1000) * 265\n",
    "    df[str(country)] = df['CO2'] + df['CH4'] + df['N2O']\n",
    "    df = df[[str(country)]].fillna(0)\n",
    "    \n",
    "    for i in range(1, len(country_list)):\n",
    "        country = country_list[i]\n",
    "        file_loc = 'Data/EAS-AIR/' + str(country) + '_AIR_May12.xls'\n",
    "        # import data (only from 35 sectors, remove totals)\n",
    "        temp = pd.read_excel(file_loc, sheet_name=sheet, index_col=None).drop([(np.nan, np.nan)], axis=0).iloc[-2:-1] # select only household category\n",
    "        temp = temp[['CO2', 'CH4', 'N2O']]\n",
    "        # convert to kilotonnes and then construct CO2e (using 100 year GWP, AR5; https://www.ghgprotocol.org/sites/default/files/ghgp/Global-Warming-Potential-Values%20%28Feb%2016%202016%29_1.pdf)\n",
    "        temp['CH4'] = (temp['CH4'] / 1000) * 28\n",
    "        temp['N2O'] = (temp['N2O'] / 1000) * 265\n",
    "        temp[str(country)] = temp['CO2'] + temp['CH4'] + temp['N2O']\n",
    "        temp = temp[[str(country)]].fillna(0)\n",
    "        df = df.join(temp)\n",
    "        \n",
    "    return(df)"
   ]
  },
  {
   "cell_type": "code",
   "execution_count": 22,
   "metadata": {},
   "outputs": [],
   "source": [
    "F_GHG_hh_df = []\n",
    "\n",
    "for year in range(1995, 2010):\n",
    "    df_air_hh = import_air_hh(year, country_list)\n",
    "    F_GHG_hh_df.append(df_air_hh)"
   ]
  },
  {
   "cell_type": "markdown",
   "metadata": {},
   "source": [
    "# 4. Save matrices as files"
   ]
  },
  {
   "cell_type": "code",
   "execution_count": 33,
   "metadata": {},
   "outputs": [
    {
     "data": {
      "text/plain": [
       "\"df_list = ['Z_df', 'V_df','Y_df', 'F_NRG_df', 'F_NRG_hh_df', 'F_GHG_df', 'F_GHG_hh_df', 'country']\\n\\nfor df in df_list:\\n    np.save('Data/Matrices/' + str(mat) + '_csv.npy', eval(mat))\""
      ]
     },
     "execution_count": 33,
     "metadata": {},
     "output_type": "execute_result"
    }
   ],
   "source": [
    "'''df_list = ['Z_df', 'V_df','Y_df', 'F_NRG_df', 'F_NRG_hh_df', 'F_GHG_df', 'F_GHG_hh_df', 'country']\n",
    "\n",
    "for df in df_list:\n",
    "    np.save('Data/Matrices/' + str(mat) + '_csv.npy', eval(mat))'''"
   ]
  },
  {
   "cell_type": "markdown",
   "metadata": {},
   "source": [
    "# 5. Calculating energy and emissions consumption-based accounts\n",
    "\n",
    "For reference, use:  \n",
    "http://www.see.leeds.ac.uk/teaching-resources/exercise-pages/l4-input-output-tutorial-201617/  \n",
    "http://mathesaurus.sourceforge.net/matlab-numpy.html "
   ]
  },
  {
   "cell_type": "markdown",
   "metadata": {},
   "source": [
    "### 5.1. The UK's production and conumption based GHG emissions from 1995-2009"
   ]
  },
  {
   "cell_type": "code",
   "execution_count": 26,
   "metadata": {},
   "outputs": [],
   "source": [
    "## Using pandas\n",
    "\n",
    "UK=16;\n",
    "\n",
    "UK_consumption = []\n",
    "UK_production = []\n",
    "for i in range(len(year_list)):\n",
    "    # territorial emissions\n",
    "    UK_prod = float(F_GHG_df[i]['GBR'].sum(axis=1)) + float(F_GHG_hh_df[i]['GBR'])\n",
    "    UK_production.append(UK_prod)\n",
    "\n",
    "    # consumption based emissions\n",
    "    x = np.array(Y_df[i].sum(axis=1) + Z_df[i].sum(axis=1))\n",
    "    for j in range(len(x)):\n",
    "        if x[j]==0:\n",
    "            x[j]=0.000000001 # do this to avoid trying to divide my zero later\n",
    "        else:\n",
    "            pass\n",
    "    x = x.reshape(1435,1)\n",
    "    big_x = x.repeat(len(x), axis=1)\n",
    "    x_t = np.matrix.transpose(big_x)\n",
    "    \n",
    "    A = np.array(Z_df[i]) / x_t\n",
    "    I = np.identity(len(Z_df[i]))\n",
    "    L = np.linalg.inv(I-A)\n",
    "    F_GHGx = np.array(F_GHG_df[i]) / (x.reshape(1, 1435))\n",
    "    \n",
    "    Y_t = np.matrix.transpose(np.array(Y_df[i]))\n",
    "    Y_UK = np.array(Y_df[i].swaplevel(axis=1)[['GBR']]).sum(axis=1).reshape(1435, 1)\n",
    "\n",
    "    temp = np.matmul(F_GHGx, L)\n",
    "    temp = np.matmul(temp, Y_UK)\n",
    "    UK_cons = temp + float(F_GHG_hh_df[i]['GBR'])\n",
    "    UK_consumption.append(UK_cons[0][0])"
   ]
  },
  {
   "cell_type": "code",
   "execution_count": 31,
   "metadata": {},
   "outputs": [],
   "source": [
    "UK_co2e = pd.DataFrame()\n",
    "UK_co2e['Consumption'] = UK_consumption\n",
    "UK_co2e['Production'] = UK_production\n",
    "UK_co2e['Year'] = year_list"
   ]
  },
  {
   "cell_type": "code",
   "execution_count": 32,
   "metadata": {},
   "outputs": [
    {
     "data": {
      "text/plain": [
       "Text(0.5,1,'Matlab Data')"
      ]
     },
     "execution_count": 32,
     "metadata": {},
     "output_type": "execute_result"
    },
    {
     "data": {
      "image/png": "[encoded data removed]",
      "text/plain": [
       "<Figure size 1440x360 with 2 Axes>"
      ]
     },
     "metadata": {
      "needs_background": "light"
     },
     "output_type": "display_data"
    }
   ],
   "source": [
    "fig, axs = plt.subplots(ncols=2, nrows=1, figsize=(20, 5))\n",
    "\n",
    "UK_co2e.plot(ax=axs[0], x='Year', y='Production')\n",
    "UK_co2e.plot(ax=axs[0], x='Year', y='Consumption')\n",
    "axs[0].set_xlabel('Year', fontsize=12)\n",
    "axs[0].set_ylabel('CO2e', fontsize=12)\n",
    "axs[0].set_ylim([0,1200000])\n",
    "axs[0].set_title('Python Data')\n",
    "\n",
    "check = pd.read_csv('Data/final_test.csv')\n",
    "check.plot(ax=axs[1], x='Year', y='Production')\n",
    "check.plot(ax=axs[1], x='Year', y='Consumption')\n",
    "axs[1].set_xlabel('Year', fontsize=12)\n",
    "axs[1].set_ylabel('CO2e', fontsize=12)\n",
    "axs[1].set_ylim([0,1200000])\n",
    "axs[1].set_title('Matlab Data')"
   ]
  },
  {
   "cell_type": "code",
   "execution_count": null,
   "metadata": {},
   "outputs": [],
   "source": []
  }
 ],
 "metadata": {
  "kernelspec": {
   "display_name": "Python 3",
   "language": "python",
   "name": "python3"
  },
  "language_info": {
   "codemirror_mode": {
    "name": "ipython",
    "version": 3
   },
   "file_extension": ".py",
   "mimetype": "text/x-python",
   "name": "python",
   "nbconvert_exporter": "python",
   "pygments_lexer": "ipython3",
   "version": "3.6.6"
  }
 },
 "nbformat": 4,
 "nbformat_minor": 2
}
