{
 "cells": [
  {
   "cell_type": "markdown",
   "metadata": {},
   "source": [
    "# MRIO Workshop"
   ]
  },
  {
   "cell_type": "code",
   "execution_count": 1,
   "metadata": {},
   "outputs": [],
   "source": [
    "import pandas as pd\n",
    "import numpy as np\n",
    "import matplotlib.pyplot as plt"
   ]
  },
  {
   "cell_type": "markdown",
   "metadata": {},
   "source": [
    "## 1.4 & 2 Load and clean data"
   ]
  },
  {
   "cell_type": "markdown",
   "metadata": {},
   "source": [
    "### WIOT Data"
   ]
  },
  {
   "cell_type": "code",
   "execution_count": 2,
   "metadata": {},
   "outputs": [],
   "source": [
    "lookup = pd.read_excel('Data/WIOT/wiot95_row_apr12.xlsx', index_col=None, header=None).iloc[6:,:4].set_index(1)\n",
    "lookup[2].fillna('TOT', inplace=True)\n",
    "lookup.columns = ['sector_code', 'country', 'sector']"
   ]
  },
  {
   "cell_type": "code",
   "execution_count": 3,
   "metadata": {},
   "outputs": [
    {
     "data": {
      "text/html": [
       "<div>\n",
       "<style scoped>\n",
       "    .dataframe tbody tr th:only-of-type {\n",
       "        vertical-align: middle;\n",
       "    }\n",
       "\n",
       "    .dataframe tbody tr th {\n",
       "        vertical-align: top;\n",
       "    }\n",
       "\n",
       "    .dataframe thead th {\n",
       "        text-align: right;\n",
       "    }\n",
       "</style>\n",
       "<table border=\"1\" class=\"dataframe\">\n",
       "  <thead>\n",
       "    <tr style=\"text-align: right;\">\n",
       "      <th></th>\n",
       "      <th>sector_code</th>\n",
       "      <th>country</th>\n",
       "      <th>sector</th>\n",
       "    </tr>\n",
       "    <tr>\n",
       "      <th>1</th>\n",
       "      <th></th>\n",
       "      <th></th>\n",
       "      <th></th>\n",
       "    </tr>\n",
       "  </thead>\n",
       "  <tbody>\n",
       "    <tr>\n",
       "      <th>Agriculture, Hunting, Forestry and Fishing</th>\n",
       "      <td>AtB</td>\n",
       "      <td>AUS</td>\n",
       "      <td>c1</td>\n",
       "    </tr>\n",
       "    <tr>\n",
       "      <th>Mining and Quarrying</th>\n",
       "      <td>C</td>\n",
       "      <td>AUS</td>\n",
       "      <td>c2</td>\n",
       "    </tr>\n",
       "    <tr>\n",
       "      <th>Food, Beverages and Tobacco</th>\n",
       "      <td>15t16</td>\n",
       "      <td>AUS</td>\n",
       "      <td>c3</td>\n",
       "    </tr>\n",
       "    <tr>\n",
       "      <th>Textiles and Textile Products</th>\n",
       "      <td>17t18</td>\n",
       "      <td>AUS</td>\n",
       "      <td>c4</td>\n",
       "    </tr>\n",
       "    <tr>\n",
       "      <th>Leather, Leather and Footwear</th>\n",
       "      <td>19</td>\n",
       "      <td>AUS</td>\n",
       "      <td>c5</td>\n",
       "    </tr>\n",
       "  </tbody>\n",
       "</table>\n",
       "</div>"
      ],
      "text/plain": [
       "                                           sector_code country sector\n",
       "1                                                                    \n",
       "Agriculture, Hunting, Forestry and Fishing         AtB     AUS     c1\n",
       "Mining and Quarrying                                 C     AUS     c2\n",
       "Food, Beverages and Tobacco                      15t16     AUS     c3\n",
       "Textiles and Textile Products                    17t18     AUS     c4\n",
       "Leather, Leather and Footwear                       19     AUS     c5"
      ]
     },
     "execution_count": 3,
     "metadata": {},
     "output_type": "execute_result"
    }
   ],
   "source": [
    "lookup.head()"
   ]
  },
  {
   "cell_type": "code",
   "execution_count": 4,
   "metadata": {},
   "outputs": [],
   "source": [
    "# function for WIOT Data\n",
    "\n",
    "def import_wiot(year):\n",
    "    file_loc = 'Data/WIOT/wiot' + str(year)[2:] + '_row_apr12.xlsx'\n",
    "    \n",
    "    # import data\n",
    "    df = pd.read_excel(file_loc, index_col=None, header=None).iloc[4:,2:]\n",
    "    df[1644].fillna('Total', inplace=True)\n",
    "    df[2].fillna('TOT', inplace=True)\n",
    "\n",
    "    #set columns\n",
    "    c1 = df.iloc[0].tolist()\n",
    "    c1[0] = 'country'\n",
    "    c2 = df.iloc[1].tolist()\n",
    "    c2[1] = 'sector'\n",
    "    df.columns = [c1, c2]\n",
    "\n",
    "    # set index\n",
    "    df = df.drop([4, 5], axis=0).set_index([('country', 'TOT'), (np.nan, 'sector')]).fillna(0)\n",
    "    \n",
    "    return(df)"
   ]
  },
  {
   "cell_type": "code",
   "execution_count": 5,
   "metadata": {},
   "outputs": [],
   "source": [
    "year_list = []\n",
    "for i in range(1995, 2012):\n",
    "    year = i\n",
    "    year_list.append(year)"
   ]
  },
  {
   "cell_type": "code",
   "execution_count": 6,
   "metadata": {},
   "outputs": [],
   "source": [
    "wiot_list = []\n",
    "for i in year_list:\n",
    "    df = import_wiot(i)\n",
    "    wiot_list.append(df)"
   ]
  },
  {
   "cell_type": "code",
   "execution_count": 7,
   "metadata": {},
   "outputs": [
    {
     "name": "stderr",
     "output_type": "stream",
     "text": [
      "c:\\Program Files\\Anaconda3\\lib\\site-packages\\pandas\\core\\generic.py:3111: PerformanceWarning: dropping on a non-lexsorted multi-index without a level parameter may impact performance.\n",
      "  obj = obj._drop_axis(labels, axis, level=level, errors=errors)\n"
     ]
    }
   ],
   "source": [
    "# Z, V and Y matrices\n",
    "z_list_a = []\n",
    "v_list_a = []\n",
    "y_list_a = []\n",
    "\n",
    "Z_df = []\n",
    "V_df = []\n",
    "Y_df = []\n",
    "\n",
    "col_list = []\n",
    "for i in range(1, 36):\n",
    "    c = 'c' + str(i)\n",
    "    col_list.append(c)\n",
    "    \n",
    "for i in range(len(wiot_list)):\n",
    "    z=wiot_list[i].drop('TOT', axis=0).swaplevel(axis=1).loc[:, col_list].swaplevel(axis=1)\n",
    "    z_list_a.append(np.array(z))\n",
    "    Z_df.append(z)\n",
    "    \n",
    "    v=wiot_list[i].swaplevel(axis=0).loc['r64'].swaplevel(axis=1).loc[:, col_list].swaplevel(axis=1)\n",
    "    v_list_a.append(np.array(v))\n",
    "    V_df.append(v)\n",
    "    \n",
    "    y=wiot_list[i].drop('TOT', axis=0).swaplevel(axis=1).loc[:,'c37']\n",
    "    y_list_a.append(np.array(y))\n",
    "    Y_df.append(y)"
   ]
  },
  {
   "cell_type": "code",
   "execution_count": 8,
   "metadata": {},
   "outputs": [],
   "source": [
    "# Change into matrices and save as Z, V, Y\n",
    "\n",
    "Z_a = np.array(z_list_a)\n",
    "V_a = np.array(v_list_a)\n",
    "Y_a = np.array(y_list_a)"
   ]
  },
  {
   "cell_type": "code",
   "execution_count": 9,
   "metadata": {},
   "outputs": [
    {
     "name": "stdout",
     "output_type": "stream",
     "text": [
      "<class 'numpy.ndarray'> <class 'numpy.ndarray'> <class 'numpy.ndarray'>\n"
     ]
    }
   ],
   "source": [
    "print(type(Z_a), type(V_a), type(Y_a))"
   ]
  },
  {
   "cell_type": "code",
   "execution_count": 10,
   "metadata": {},
   "outputs": [
    {
     "name": "stdout",
     "output_type": "stream",
     "text": [
      "(17, 1435, 1435) (17, 1, 1435) (17, 1435, 41)\n"
     ]
    }
   ],
   "source": [
    "print(Z_a.shape, V_a.shape, Y_a.shape)"
   ]
  },
  {
   "cell_type": "markdown",
   "metadata": {},
   "source": [
    "## 3. Load the extension data"
   ]
  },
  {
   "cell_type": "code",
   "execution_count": 11,
   "metadata": {},
   "outputs": [],
   "source": [
    "# country list \n",
    "\n",
    "country_list = ['AUS','AUT','BEL','BGR','BRA','CAN','CHN','CYP','CZE','DEU','DNK','ESP','EST','FIN','FRA','GBR','GRC','HUN','IDN','IND','IRL','ITA','JPN','KOR','LTU','LUX','LVA','MEX','MLT',\n",
    "                'NLD','POL','PRT','ROU','RUS','SVK','SVN','SWE','TUR','TWN','USA','ROW']\n",
    "\n",
    "country = np.array(country_list)"
   ]
  },
  {
   "cell_type": "markdown",
   "metadata": {},
   "source": [
    "### Energy\n",
    "\n",
    "F_NRG"
   ]
  },
  {
   "cell_type": "code",
   "execution_count": 12,
   "metadata": {},
   "outputs": [],
   "source": [
    "# function for Energy Data --> make array of vecotrs containing total energy use per year per sector\n",
    "\n",
    "def import_energy(country):\n",
    "    array_list = []\n",
    "    df_list = []\n",
    "    file_loc = 'Data/EAS-EU/' + str(country) + '_EU_May12.xls'\n",
    "    for year in range(1995, 2010):\n",
    "        sheet = str(year)\n",
    "        # import data\n",
    "        df = pd.read_excel(file_loc, sheet_name=sheet, index_col=None).drop([(np.nan, np.nan)], axis=0).iloc[:36]\n",
    "        df['Y'+str(year)] = df['TOTAL']\n",
    "        df = df[['Y'+str(year)]].T.fillna(0)\n",
    "        \n",
    "        df_list.append(df)\n",
    "        array_list.append(np.array(df))\n",
    "        \n",
    "    return(df_list, array_list)"
   ]
  },
  {
   "cell_type": "code",
   "execution_count": 13,
   "metadata": {},
   "outputs": [],
   "source": [
    "array_list = []\n",
    "df_list = []\n",
    "\n",
    "for country in country_list:\n",
    "    df_energy, a_energy = import_energy(country)\n",
    "    array_list.append(a_energy)\n",
    "    df_list.append(df_energy)\n",
    "    \n",
    "F_NRG_a = np.array(array_list)\n",
    "F_NRG_df = df_list"
   ]
  },
  {
   "cell_type": "code",
   "execution_count": 14,
   "metadata": {},
   "outputs": [
    {
     "data": {
      "text/plain": [
       "numpy.ndarray"
      ]
     },
     "execution_count": 14,
     "metadata": {},
     "output_type": "execute_result"
    }
   ],
   "source": [
    "type(F_NRG_a)"
   ]
  },
  {
   "cell_type": "code",
   "execution_count": 15,
   "metadata": {},
   "outputs": [
    {
     "data": {
      "text/plain": [
       "(41, 15, 1, 36)"
      ]
     },
     "execution_count": 15,
     "metadata": {},
     "output_type": "execute_result"
    }
   ],
   "source": [
    "F_NRG_a.shape"
   ]
  },
  {
   "cell_type": "markdown",
   "metadata": {},
   "source": [
    "F_NRG_hh"
   ]
  },
  {
   "cell_type": "code",
   "execution_count": 16,
   "metadata": {},
   "outputs": [],
   "source": [
    "def import_energy_hh(country):\n",
    "    array_list = []\n",
    "    df_list = []\n",
    "    file_loc = 'Data/EAS-EU/' + str(country) + '_EU_May12.xls'\n",
    "    for year in range(1995, 2010):\n",
    "        sheet = str(year)\n",
    "        # import data\n",
    "        df = pd.read_excel(file_loc, sheet_name=sheet, index_col=None).drop([(np.nan, np.nan)], axis=0).iloc[-2:-1] # select only household category\n",
    "        df['Y'+str(year)] = df['TOTAL']\n",
    "        df = df[['Y'+str(year)]].T.fillna(0)\n",
    "        \n",
    "        df_list.append(df)\n",
    "        array_list.append(np.array(df))\n",
    "        \n",
    "    return(df_list, array_list)"
   ]
  },
  {
   "cell_type": "code",
   "execution_count": 17,
   "metadata": {},
   "outputs": [],
   "source": [
    "array_list = []\n",
    "df_list = []\n",
    "\n",
    "for country in country_list:\n",
    "    df_energy_hh, a_energy_hh = import_energy_hh(country)\n",
    "    array_list.append(a_energy_hh)\n",
    "    df_list.append(df_energy_hh)\n",
    "    \n",
    "F_NRG_hh_a = np.array(array_list)\n",
    "F_NRG_hh_df = df_list"
   ]
  },
  {
   "cell_type": "code",
   "execution_count": 18,
   "metadata": {},
   "outputs": [
    {
     "data": {
      "text/plain": [
       "(41, 15, 1, 1)"
      ]
     },
     "execution_count": 18,
     "metadata": {},
     "output_type": "execute_result"
    }
   ],
   "source": [
    "F_NRG_hh_a.shape"
   ]
  },
  {
   "cell_type": "markdown",
   "metadata": {},
   "source": [
    "### Air Quality\n",
    "\n",
    "F_GHG"
   ]
  },
  {
   "cell_type": "code",
   "execution_count": 19,
   "metadata": {},
   "outputs": [],
   "source": [
    "# function for Energy Data --> make array of vecotrs containing total energy use per year per sector\n",
    "\n",
    "def import_air(country):\n",
    "    array_list = []\n",
    "    df_list = []\n",
    "    file_loc = 'Data/EAS-AIR/' + str(country) + '_AIR_May12.xls'\n",
    "    for year in range(1995, 2010):\n",
    "        sheet = str(year)\n",
    "        # import data (only from 35 sectors, remove totals)\n",
    "        df = pd.read_excel(file_loc, sheet_name=sheet, index_col=None).drop([(np.nan, np.nan)], axis=0).iloc[:36]\n",
    "        df = df[['CO2', 'CH4', 'N2O']]\n",
    "        # convert to kilotonnes and then construct CO2e (using 100 year GWP, AR5; https://www.ghgprotocol.org/sites/default/files/ghgp/Global-Warming-Potential-Values%20%28Feb%2016%202016%29_1.pdf)\n",
    "        df['CH4'] = (df['CH4'] / 1000) * 28\n",
    "        df['N2O'] = (df['N2O'] / 1000) * 265\n",
    "        df['CO2e_' + str(year)] = df['CO2'] + df['CH4'] + df['N2O']\n",
    "        df = df[['CO2e_' + str(year)]].T.fillna(0)\n",
    "        \n",
    "        df_list.append(df)\n",
    "        array_list.append(np.array(df))\n",
    "        \n",
    "    return(df_list, array_list)"
   ]
  },
  {
   "cell_type": "code",
   "execution_count": 20,
   "metadata": {},
   "outputs": [],
   "source": [
    "array_list = []\n",
    "df_list = []\n",
    "\n",
    "for country in country_list:\n",
    "    df_air, a_air = import_air(country)\n",
    "    array_list.append(a_air)\n",
    "    df_list.append(df_air)\n",
    "    \n",
    "F_GHG_a = np.array(array_list)\n",
    "F_GHG_df = df_list"
   ]
  },
  {
   "cell_type": "code",
   "execution_count": 21,
   "metadata": {},
   "outputs": [
    {
     "data": {
      "text/plain": [
       "numpy.ndarray"
      ]
     },
     "execution_count": 21,
     "metadata": {},
     "output_type": "execute_result"
    }
   ],
   "source": [
    "type(F_GHG_a)"
   ]
  },
  {
   "cell_type": "code",
   "execution_count": 22,
   "metadata": {},
   "outputs": [
    {
     "data": {
      "text/plain": [
       "(41, 15, 1, 36)"
      ]
     },
     "execution_count": 22,
     "metadata": {},
     "output_type": "execute_result"
    }
   ],
   "source": [
    "F_GHG_a.shape"
   ]
  },
  {
   "cell_type": "markdown",
   "metadata": {},
   "source": [
    "F_GHG_hh"
   ]
  },
  {
   "cell_type": "code",
   "execution_count": 23,
   "metadata": {},
   "outputs": [],
   "source": [
    "# function for Energy Data --> make array of vecotrs containing total energy use per year per sector\n",
    "\n",
    "def import_air_hh(country):\n",
    "    array_list = []\n",
    "    df_list = []\n",
    "    file_loc = 'Data/EAS-AIR/' + str(country) + '_AIR_May12.xls'\n",
    "    for year in range(1995, 2010):\n",
    "        sheet = str(year)\n",
    "        # import data (only from 35 sectors, remove totals)\n",
    "        df = pd.read_excel(file_loc, sheet_name=sheet, index_col=None).drop([(np.nan, np.nan)], axis=0).iloc[-2:-1] # select only household category\n",
    "        df = df[['CO2', 'CH4', 'N2O']]\n",
    "        # convert to kilotonnes and then construct CO2e (using 100 year GWP, AR5; https://www.ghgprotocol.org/sites/default/files/ghgp/Global-Warming-Potential-Values%20%28Feb%2016%202016%29_1.pdf)\n",
    "        df['CH4'] = (df['CH4'] / 1000) * 28\n",
    "        df['N2O'] = (df['N2O'] / 1000) * 265\n",
    "        df['CO2e_' + str(year)] = df['CO2'] + df['CH4'] + df['N2O']\n",
    "        df = df[['CO2e_' + str(year)]].T.fillna(0)\n",
    "        \n",
    "        df_list.append(df)\n",
    "        array_list.append(np.array(df))\n",
    "        \n",
    "    return(df_list, array_list)"
   ]
  },
  {
   "cell_type": "code",
   "execution_count": 24,
   "metadata": {},
   "outputs": [],
   "source": [
    "array_list = []\n",
    "df_list = []\n",
    "\n",
    "for country in country_list:\n",
    "    df_air_hh, a_air_hh = import_air_hh(country)\n",
    "    array_list.append(a_air_hh)\n",
    "    df_list.append(df_air_hh)\n",
    "    \n",
    "F_GHG_hh_a = np.array(array_list)\n",
    "F_GHG_hh_df = df_list"
   ]
  },
  {
   "cell_type": "code",
   "execution_count": 25,
   "metadata": {},
   "outputs": [
    {
     "data": {
      "text/plain": [
       "(41, 15, 1, 1)"
      ]
     },
     "execution_count": 25,
     "metadata": {},
     "output_type": "execute_result"
    }
   ],
   "source": [
    "F_GHG_hh_a.shape"
   ]
  },
  {
   "cell_type": "markdown",
   "metadata": {},
   "source": [
    "# 4. Save matrices as files"
   ]
  },
  {
   "cell_type": "code",
   "execution_count": 26,
   "metadata": {},
   "outputs": [],
   "source": [
    "mat_list = ['Z_a', 'V_a','Y_a', 'F_NRG_a', 'F_NRG_hh_a', 'F_GHG_a', 'F_GHG_hh_a', 'country']\n",
    "\n",
    "for mat in mat_list:\n",
    "    np.save('Data/Matrices/' + str(mat) + '_mat.npy', eval(mat))"
   ]
  },
  {
   "cell_type": "markdown",
   "metadata": {},
   "source": [
    "# 5. Calculating energy and emissions consumption-based accounts\n",
    "\n",
    "use http://www.see.leeds.ac.uk/teaching-resources/exercise-pages/l4-input-output-tutorial-201617/ for reference"
   ]
  },
  {
   "cell_type": "markdown",
   "metadata": {},
   "source": [
    "### 5.1. The UK's production and conumption based GHG emissions from 1995-2009"
   ]
  },
  {
   "cell_type": "markdown",
   "metadata": {},
   "source": [
    "UK Production"
   ]
  },
  {
   "cell_type": "code",
   "execution_count": 27,
   "metadata": {},
   "outputs": [],
   "source": [
    "# fnd index position for UK\n",
    "UK = country_list.index('GBR')"
   ]
  },
  {
   "cell_type": "code",
   "execution_count": 33,
   "metadata": {},
   "outputs": [],
   "source": [
    "# using df\n",
    "\n",
    "UK_production = []\n",
    "prod_year = []\n",
    "\n",
    "for i in range(len(F_GHG_hh_df[UK])):\n",
    "    ghg = F_GHG_hh_df[UK][i].sum(axis=1) + F_GHG_df[UK][i].sum(axis=1)\n",
    "    UK_production.append(ghg)\n",
    "    \n",
    "# using arrays\n",
    "\n",
    "UK_production_a = []\n",
    "prod_year_a = []\n",
    "\n",
    "for i in range(len(F_GHG_hh_a[UK])):\n",
    "    ghg = F_GHG_hh_a[UK][i].sum(axis=1) + F_GHG_a[UK][i].sum(axis=1)\n",
    "    UK_production_a.append(ghg)"
   ]
  },
  {
   "cell_type": "code",
   "execution_count": 29,
   "metadata": {},
   "outputs": [],
   "source": [
    "#df\n",
    "UK_production_df = pd.DataFrame(UK_production).T.fillna(0)\n",
    "years = []\n",
    "for i in UK_production_df.index.tolist():\n",
    "    year = i[-4:]\n",
    "    years.append(year)\n",
    "UK_production_df.index = years\n",
    "\n",
    "UK_production_df['Production CO2e'] = UK_production_df.sum(axis=1)\n",
    "UK_production_df = UK_production_df[['Production CO2e']]"
   ]
  },
  {
   "cell_type": "code",
   "execution_count": 76,
   "metadata": {},
   "outputs": [
    {
     "data": {
      "text/plain": [
       "(0, 1200000)"
      ]
     },
     "execution_count": 76,
     "metadata": {},
     "output_type": "execute_result"
    },
    {
     "data": {
      "image/png": "[encoded data removed]",
      "text/plain": [
       "<Figure size 720x360 with 1 Axes>"
      ]
     },
     "metadata": {
      "needs_background": "light"
     },
     "output_type": "display_data"
    }
   ],
   "source": [
    "fig, ax = plt.subplots(figsize=(10, 5))\n",
    "\n",
    "UK_production_df.plot(ax=ax)\n",
    "\n",
    "ax.set_xlabel('Year', fontsize=12)\n",
    "ax.set_ylabel('CO2e', fontsize=12)\n",
    "\n",
    "#ax.set_xticklabels(, fontsize=12)\n",
    "#ax.set_yticklabels(range(-100000, 800000, 100000), fontsize=12)\n",
    "\n",
    "ax.set_ylim([0,1200000])"
   ]
  },
  {
   "cell_type": "code",
   "execution_count": 55,
   "metadata": {},
   "outputs": [],
   "source": [
    "# array\n",
    "\n",
    "CO2e_list = []\n",
    "\n",
    "for i in range(len(UK_production_a)):\n",
    "    ghg = UK_production_a[i][0]\n",
    "    CO2e_list.append(ghg)\n",
    "\n",
    "UK_production_df = pd.DataFrame(data=[years, CO2e_list]).T\n",
    "UK_production_df.columns = ['Year', 'CO2e']"
   ]
  },
  {
   "cell_type": "code",
   "execution_count": 75,
   "metadata": {},
   "outputs": [
    {
     "data": {
      "text/plain": [
       "(0, 1200000)"
      ]
     },
     "execution_count": 75,
     "metadata": {},
     "output_type": "execute_result"
    },
    {
     "data": {
      "image/png": "[encoded data removed]",
      "text/plain": [
       "<Figure size 720x360 with 1 Axes>"
      ]
     },
     "metadata": {
      "needs_background": "light"
     },
     "output_type": "display_data"
    }
   ],
   "source": [
    "fig, ax = plt.subplots(figsize=(10, 5))\n",
    "\n",
    "UK_production_df.plot(ax=ax, x='Year', y='CO2e')\n",
    "\n",
    "ax.set_xlabel('Year', fontsize=12)\n",
    "ax.set_ylabel('CO2e', fontsize=12)\n",
    "\n",
    "ax.set_ylim([0,1200000])"
   ]
  },
  {
   "cell_type": "markdown",
   "metadata": {},
   "source": [
    "UK Consumption"
   ]
  },
  {
   "cell_type": "code",
   "execution_count": 254,
   "metadata": {},
   "outputs": [],
   "source": [
    "# calculate x for each year (column sum of Z plus V)\n",
    "\n",
    "x_list = []\n",
    "for i in range(len(Z_a)):\n",
    "    x_temp = Z_a[i].sum(axis=0) + V_a[i]\n",
    "    x_list.append(x_temp)\n",
    "x1 = np.array(x_list).reshape(17, 1435, 1)"
   ]
  },
  {
   "cell_type": "code",
   "execution_count": 309,
   "metadata": {},
   "outputs": [],
   "source": [
    "# calculate x for each year (row sum of Z plus Y)\n",
    "\n",
    "x_list = []\n",
    "for i in range(len(Z_a)):\n",
    "    x_temp = Z_a[i].sum(axis=1) + Y_a[i].sum(axis=1)\n",
    "    x_list.append(x_temp.reshape(1435,1))\n",
    "x = np.array(x_list)"
   ]
  },
  {
   "cell_type": "code",
   "execution_count": 314,
   "metadata": {},
   "outputs": [],
   "source": [
    "# calculate A by dot dividing Z by big_x, element-wise division in python is done by using '/', floor division by using '//'\n",
    "\n",
    "big_x = []\n",
    "for i in range(len(x)):\n",
    "    new_x = x[i].repeat(len(x[i]), axis=1)\n",
    "    big_x.append(new_x)\n",
    "\n",
    "big_x_a = np.array(big_x) + 0.0000000000000000000000000000000000000000000000000000000000000000000000000000000000000000000000001 # add this to avoid trying to divide by zero\n",
    "\n",
    "A_a = Z_a/big_x_a"
   ]
  },
  {
   "cell_type": "code",
   "execution_count": 326,
   "metadata": {},
   "outputs": [
    {
     "name": "stdout",
     "output_type": "stream",
     "text": [
      "Min: 0.0 \t Max: 0.8405476361287894\n"
     ]
    }
   ],
   "source": [
    "# check that all are below 1\n",
    "\n",
    "print('Min: ' + str(A_a.min()), '\\t', 'Max: ' + str(A_a.max()))"
   ]
  },
  {
   "cell_type": "code",
   "execution_count": 338,
   "metadata": {},
   "outputs": [],
   "source": [
    "# Get the Leontief inverse\n",
    "\n",
    "# get I\n",
    "I = np.identity(Z_a.shape[1])\n",
    "\n",
    "# Lenotief inverse for all years\n",
    "L_list = []\n",
    "for i in range(len(A_a)):\n",
    "    L = np.linalg.inv(I-A_a[i])\n",
    "    L_list.append(L)\n",
    "L_a = np.array(L_list)"
   ]
  },
  {
   "cell_type": "code",
   "execution_count": 341,
   "metadata": {},
   "outputs": [
    {
     "data": {
      "text/plain": [
       "(17, 1435, 1)"
      ]
     },
     "execution_count": 341,
     "metadata": {},
     "output_type": "execute_result"
    }
   ],
   "source": [
    "# calculate emissions intensity factor e = inv()\n",
    "\n",
    "x.shape"
   ]
  },
  {
   "cell_type": "code",
   "execution_count": 347,
   "metadata": {},
   "outputs": [
    {
     "data": {
      "text/plain": [
       "(15, 1, 36)"
      ]
     },
     "execution_count": 347,
     "metadata": {},
     "output_type": "execute_result"
    }
   ],
   "source": [
    "F_GHG_a[UK].shape"
   ]
  },
  {
   "cell_type": "code",
   "execution_count": 348,
   "metadata": {},
   "outputs": [
    {
     "data": {
      "text/plain": [
       "[array([756969.24041]),\n",
       " array([781313.06623]),\n",
       " array([753734.29658]),\n",
       " array([753453.1097]),\n",
       " array([726871.04324]),\n",
       " array([731285.18858]),\n",
       " array([736704.72499]),\n",
       " array([715108.09397]),\n",
       " array([720686.46812]),\n",
       " array([724320.62645]),\n",
       " array([722077.42889]),\n",
       " array([708839.52615]),\n",
       " array([699205.92478]),\n",
       " array([686594.87012]),\n",
       " array([649032.11909901])]"
      ]
     },
     "execution_count": 348,
     "metadata": {},
     "output_type": "execute_result"
    }
   ],
   "source": [
    "UK_production_a"
   ]
  },
  {
   "cell_type": "code",
   "execution_count": 349,
   "metadata": {},
   "outputs": [
    {
     "data": {
      "text/plain": [
       "array([[6.37207092e+04, 4.68722938e+04, 1.06957267e+04, 2.43191185e+03,\n",
       "        1.47854510e+02, 1.20783704e+03, 5.69000139e+03, 2.38622860e+04,\n",
       "        2.86542279e+04, 5.01738897e+03, 1.73800434e+04, 3.70412287e+04,\n",
       "        2.15927909e+03, 1.87143911e+03, 3.05135424e+03, 2.72413147e+03,\n",
       "        1.77413585e+05, 9.13654938e+03, 2.65842779e+03, 6.97693180e+03,\n",
       "        3.70113870e+03, 2.90555216e+03, 2.75738547e+04, 2.00888447e+04,\n",
       "        2.63524767e+04, 1.05134466e+03, 1.87454142e+03, 1.66572528e+03,\n",
       "        1.25126587e+03, 4.64377794e+03, 9.92141983e+03, 4.75606150e+03,\n",
       "        5.98335733e+03, 6.47317172e+04, 2.02019580e+02, 0.00000000e+00]])"
      ]
     },
     "execution_count": 349,
     "metadata": {},
     "output_type": "execute_result"
    }
   ],
   "source": [
    "F_GHG_a[UK][1]"
   ]
  },
  {
   "cell_type": "code",
   "execution_count": null,
   "metadata": {},
   "outputs": [],
   "source": [
    " "
   ]
  }
 ],
 "metadata": {
  "kernelspec": {
   "display_name": "Python 3",
   "language": "python",
   "name": "python3"
  },
  "language_info": {
   "codemirror_mode": {
    "name": "ipython",
    "version": 3
   },
   "file_extension": ".py",
   "mimetype": "text/x-python",
   "name": "python",
   "nbconvert_exporter": "python",
   "pygments_lexer": "ipython3",
   "version": "3.6.6"
  }
 },
 "nbformat": 4,
 "nbformat_minor": 2
}
