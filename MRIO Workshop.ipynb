{
 "cells": [
  {
   "cell_type": "markdown",
   "metadata": {},
   "source": [
    "# MRIO Workshop"
   ]
  },
  {
   "cell_type": "code",
   "execution_count": 89,
   "metadata": {},
   "outputs": [],
   "source": [
    "import pandas as pd\n",
    "import numpy as np\n",
    "import matplotlib.pyplot as plt"
   ]
  },
  {
   "cell_type": "markdown",
   "metadata": {},
   "source": [
    "## 1.4 & 2 Load and clean data"
   ]
  },
  {
   "cell_type": "markdown",
   "metadata": {},
   "source": [
    "### WIOT Data"
   ]
  },
  {
   "cell_type": "code",
   "execution_count": 2,
   "metadata": {},
   "outputs": [],
   "source": [
    "lookup = pd.read_excel('Data/WIOT/wiot95_row_apr12.xlsx', index_col=None, header=None).iloc[6:,:4].set_index(1)\n",
    "lookup[2].fillna('TOT', inplace=True)\n",
    "lookup.columns = ['sector_code', 'country', 'sector']"
   ]
  },
  {
   "cell_type": "code",
   "execution_count": 3,
   "metadata": {},
   "outputs": [
    {
     "data": {
      "text/html": [
       "<div>\n",
       "<style scoped>\n",
       "    .dataframe tbody tr th:only-of-type {\n",
       "        vertical-align: middle;\n",
       "    }\n",
       "\n",
       "    .dataframe tbody tr th {\n",
       "        vertical-align: top;\n",
       "    }\n",
       "\n",
       "    .dataframe thead th {\n",
       "        text-align: right;\n",
       "    }\n",
       "</style>\n",
       "<table border=\"1\" class=\"dataframe\">\n",
       "  <thead>\n",
       "    <tr style=\"text-align: right;\">\n",
       "      <th></th>\n",
       "      <th>sector_code</th>\n",
       "      <th>country</th>\n",
       "      <th>sector</th>\n",
       "    </tr>\n",
       "    <tr>\n",
       "      <th>1</th>\n",
       "      <th></th>\n",
       "      <th></th>\n",
       "      <th></th>\n",
       "    </tr>\n",
       "  </thead>\n",
       "  <tbody>\n",
       "    <tr>\n",
       "      <th>Agriculture, Hunting, Forestry and Fishing</th>\n",
       "      <td>AtB</td>\n",
       "      <td>AUS</td>\n",
       "      <td>c1</td>\n",
       "    </tr>\n",
       "    <tr>\n",
       "      <th>Mining and Quarrying</th>\n",
       "      <td>C</td>\n",
       "      <td>AUS</td>\n",
       "      <td>c2</td>\n",
       "    </tr>\n",
       "    <tr>\n",
       "      <th>Food, Beverages and Tobacco</th>\n",
       "      <td>15t16</td>\n",
       "      <td>AUS</td>\n",
       "      <td>c3</td>\n",
       "    </tr>\n",
       "    <tr>\n",
       "      <th>Textiles and Textile Products</th>\n",
       "      <td>17t18</td>\n",
       "      <td>AUS</td>\n",
       "      <td>c4</td>\n",
       "    </tr>\n",
       "    <tr>\n",
       "      <th>Leather, Leather and Footwear</th>\n",
       "      <td>19</td>\n",
       "      <td>AUS</td>\n",
       "      <td>c5</td>\n",
       "    </tr>\n",
       "  </tbody>\n",
       "</table>\n",
       "</div>"
      ],
      "text/plain": [
       "                                           sector_code country sector\n",
       "1                                                                    \n",
       "Agriculture, Hunting, Forestry and Fishing         AtB     AUS     c1\n",
       "Mining and Quarrying                                 C     AUS     c2\n",
       "Food, Beverages and Tobacco                      15t16     AUS     c3\n",
       "Textiles and Textile Products                    17t18     AUS     c4\n",
       "Leather, Leather and Footwear                       19     AUS     c5"
      ]
     },
     "execution_count": 3,
     "metadata": {},
     "output_type": "execute_result"
    }
   ],
   "source": [
    "lookup.head()"
   ]
  },
  {
   "cell_type": "code",
   "execution_count": 4,
   "metadata": {},
   "outputs": [],
   "source": [
    "# function for WIOT Data\n",
    "\n",
    "def import_wiot(year):\n",
    "    file_loc = 'Data/WIOT/wiot' + str(year)[2:] + '_row_apr12.xlsx'\n",
    "    \n",
    "    # import data\n",
    "    df = pd.read_excel(file_loc, index_col=None, header=None).iloc[4:,2:]\n",
    "    df[1644].fillna('Total', inplace=True)\n",
    "    df[2].fillna('TOT', inplace=True)\n",
    "\n",
    "    #set columns\n",
    "    c1 = df.iloc[0].tolist()\n",
    "    c1[0] = 'country'\n",
    "    c2 = df.iloc[1].tolist()\n",
    "    c2[1] = 'sector'\n",
    "    df.columns = [c1, c2]\n",
    "\n",
    "    # set index\n",
    "    df = df.drop([4, 5], axis=0).set_index([('country', 'TOT'), (np.nan, 'sector')]).fillna(0)\n",
    "    \n",
    "    return(df)"
   ]
  },
  {
   "cell_type": "code",
   "execution_count": 5,
   "metadata": {},
   "outputs": [],
   "source": [
    "year_list = []\n",
    "for i in range(1995, 2012):\n",
    "    year = i\n",
    "    year_list.append(year)"
   ]
  },
  {
   "cell_type": "code",
   "execution_count": 6,
   "metadata": {},
   "outputs": [],
   "source": [
    "wiot_list = []\n",
    "for i in year_list:\n",
    "    df = import_wiot(i)\n",
    "    wiot_list.append(df)"
   ]
  },
  {
   "cell_type": "code",
   "execution_count": 8,
   "metadata": {},
   "outputs": [
    {
     "name": "stderr",
     "output_type": "stream",
     "text": [
      "c:\\Program Files\\Anaconda3\\lib\\site-packages\\pandas\\core\\generic.py:3111: PerformanceWarning: dropping on a non-lexsorted multi-index without a level parameter may impact performance.\n",
      "  obj = obj._drop_axis(labels, axis, level=level, errors=errors)\n"
     ]
    }
   ],
   "source": [
    "# Z, V and Y matrices\n",
    "z_list_a = []\n",
    "v_list_a = []\n",
    "y_list_a = []\n",
    "\n",
    "Z_df = []\n",
    "V_df = []\n",
    "Y_df = []\n",
    "\n",
    "col_list = []\n",
    "for i in range(1, 36):\n",
    "    c = 'c' + str(i)\n",
    "    col_list.append(c)\n",
    "    \n",
    "for i in range(len(wiot_list)):\n",
    "    z=wiot_list[i].drop('TOT', axis=0).swaplevel(axis=1).loc[:, col_list].swaplevel(axis=1)\n",
    "    z_list_a.append(np.array(z))\n",
    "    Z_df.append(z)\n",
    "    \n",
    "    v=wiot_list[i].swaplevel(axis=0).loc['r64'].swaplevel(axis=1).loc[:, col_list].swaplevel(axis=1)\n",
    "    v_list_a.append(np.array(v))\n",
    "    V_df.append(v)\n",
    "    \n",
    "    y=wiot_list[i].drop('TOT', axis=0).swaplevel(axis=1).loc[:,'c37']\n",
    "    y_list_a.append(np.array(y))\n",
    "    Y_df.append(y)"
   ]
  },
  {
   "cell_type": "code",
   "execution_count": 9,
   "metadata": {},
   "outputs": [],
   "source": [
    "# Change into matrices and save as Z, V, Y\n",
    "\n",
    "Z_a = np.array(z_list_a)\n",
    "V_a = np.array(v_list_a)\n",
    "Y_a = np.array(y_list_a)"
   ]
  },
  {
   "cell_type": "code",
   "execution_count": 10,
   "metadata": {},
   "outputs": [
    {
     "name": "stdout",
     "output_type": "stream",
     "text": [
      "<class 'numpy.ndarray'> <class 'numpy.ndarray'> <class 'numpy.ndarray'>\n"
     ]
    }
   ],
   "source": [
    "print(type(Z_a), type(V_a), type(Y_a))"
   ]
  },
  {
   "cell_type": "code",
   "execution_count": 11,
   "metadata": {},
   "outputs": [
    {
     "name": "stdout",
     "output_type": "stream",
     "text": [
      "(17, 1435, 1435) (17, 1, 1435) (17, 1435, 41)\n"
     ]
    }
   ],
   "source": [
    "print(Z_a.shape, V_a.shape, Y_a.shape)"
   ]
  },
  {
   "cell_type": "markdown",
   "metadata": {},
   "source": [
    "## 3. Load the extension data"
   ]
  },
  {
   "cell_type": "code",
   "execution_count": 12,
   "metadata": {},
   "outputs": [],
   "source": [
    "# country list \n",
    "\n",
    "country_list = ['AUS','AUT','BEL','BGR','BRA','CAN','CHN','CYP','CZE','DEU','DNK','ESP','EST','FIN','FRA','GBR','GRC','HUN','IDN','IND','IRL','ITA','JPN','KOR','LTU','LUX','LVA','MEX','MLT',\n",
    "                'NLD','POL','PRT','ROU','RUS','SVK','SVN','SWE','TUR','TWN','USA','ROW']\n",
    "\n",
    "country = np.array(country_list)"
   ]
  },
  {
   "cell_type": "markdown",
   "metadata": {},
   "source": [
    "### Energy\n",
    "\n",
    "F_NRG"
   ]
  },
  {
   "cell_type": "code",
   "execution_count": 13,
   "metadata": {},
   "outputs": [],
   "source": [
    "# function for Energy Data --> make array of vecotrs containing total energy use per year per sector\n",
    "\n",
    "def import_energy(country):\n",
    "    array_list = []\n",
    "    df_list = []\n",
    "    file_loc = 'Data/EAS-EU/' + str(country) + '_EU_May12.xls'\n",
    "    for year in range(1995, 2010):\n",
    "        sheet = str(year)\n",
    "        # import data\n",
    "        df = pd.read_excel(file_loc, sheet_name=sheet, index_col=None).drop([(np.nan, np.nan)], axis=0).iloc[:36]\n",
    "        df['Y'+str(year)] = df['TOTAL']\n",
    "        df = df[['Y'+str(year)]].T.fillna(0)\n",
    "        \n",
    "        df_list.append(df)\n",
    "        array_list.append(np.array(df))\n",
    "        \n",
    "    return(df_list, array_list)"
   ]
  },
  {
   "cell_type": "code",
   "execution_count": 15,
   "metadata": {},
   "outputs": [],
   "source": [
    "array_list = []\n",
    "df_list = []\n",
    "\n",
    "for country in country_list:\n",
    "    df_energy, a_energy = import_energy(country)\n",
    "    array_list.append(a_energy)\n",
    "    df_list.append(df_energy)\n",
    "    \n",
    "F_NRG_a = np.array(array_list)\n",
    "F_NRG_df = df_list"
   ]
  },
  {
   "cell_type": "code",
   "execution_count": 16,
   "metadata": {},
   "outputs": [
    {
     "data": {
      "text/plain": [
       "numpy.ndarray"
      ]
     },
     "execution_count": 16,
     "metadata": {},
     "output_type": "execute_result"
    }
   ],
   "source": [
    "type(F_NRG_a)"
   ]
  },
  {
   "cell_type": "code",
   "execution_count": 17,
   "metadata": {},
   "outputs": [
    {
     "data": {
      "text/plain": [
       "(41, 15, 1, 36)"
      ]
     },
     "execution_count": 17,
     "metadata": {},
     "output_type": "execute_result"
    }
   ],
   "source": [
    "F_NRG_a.shape"
   ]
  },
  {
   "cell_type": "markdown",
   "metadata": {},
   "source": [
    "F_NRG_hh"
   ]
  },
  {
   "cell_type": "code",
   "execution_count": 18,
   "metadata": {},
   "outputs": [],
   "source": [
    "def import_energy_hh(country):\n",
    "    array_list = []\n",
    "    df_list = []\n",
    "    file_loc = 'Data/EAS-EU/' + str(country) + '_EU_May12.xls'\n",
    "    for year in range(1995, 2010):\n",
    "        sheet = str(year)\n",
    "        # import data\n",
    "        df = pd.read_excel(file_loc, sheet_name=sheet, index_col=None).drop([(np.nan, np.nan)], axis=0).iloc[-2:-1] # select only household category\n",
    "        df['Y'+str(year)] = df['TOTAL']\n",
    "        df = df[['Y'+str(year)]].T.fillna(0)\n",
    "        \n",
    "        df_list.append(df)\n",
    "        array_list.append(np.array(df))\n",
    "        \n",
    "    return(df_list, array_list)"
   ]
  },
  {
   "cell_type": "code",
   "execution_count": 19,
   "metadata": {},
   "outputs": [],
   "source": [
    "array_list = []\n",
    "df_list = []\n",
    "\n",
    "for country in country_list:\n",
    "    df_energy_hh, a_energy_hh = import_energy_hh(country)\n",
    "    array_list.append(a_energy_hh)\n",
    "    df_list.append(df_energy_hh)\n",
    "    \n",
    "F_NRG_hh_a = np.array(array_list)\n",
    "F_NRG_hh_df = df_list"
   ]
  },
  {
   "cell_type": "code",
   "execution_count": 20,
   "metadata": {},
   "outputs": [
    {
     "data": {
      "text/plain": [
       "(41, 15, 1, 1)"
      ]
     },
     "execution_count": 20,
     "metadata": {},
     "output_type": "execute_result"
    }
   ],
   "source": [
    "F_NRG_hh_a.shape"
   ]
  },
  {
   "cell_type": "markdown",
   "metadata": {},
   "source": [
    "### Air Quality\n",
    "\n",
    "F_GHG"
   ]
  },
  {
   "cell_type": "code",
   "execution_count": 36,
   "metadata": {},
   "outputs": [],
   "source": [
    "# function for Energy Data --> make array of vecotrs containing total energy use per year per sector\n",
    "\n",
    "def import_air(country):\n",
    "    array_list = []\n",
    "    df_list = []\n",
    "    file_loc = 'Data/EAS-AIR/' + str(country) + '_AIR_May12.xls'\n",
    "    for year in range(1995, 2010):\n",
    "        sheet = str(year)\n",
    "        # import data (only from 35 sectors, remove totals)\n",
    "        df = pd.read_excel(file_loc, sheet_name=sheet, index_col=None).drop([(np.nan, np.nan)], axis=0).iloc[:36]\n",
    "        df = df[['CO2', 'CH4', 'N2O']]\n",
    "        # convert to kilotonnes and then construct CO2e (using 100 year GWP, AR5; https://www.ghgprotocol.org/sites/default/files/ghgp/Global-Warming-Potential-Values%20%28Feb%2016%202016%29_1.pdf)\n",
    "        df['CH4'] = (df['CH4'] / 1000) * 28\n",
    "        df['N2O'] = (df['N2O'] / 1000) * 265\n",
    "        df['CO2e_' + str(year)] = df['CO2'] + df['CH4'] + df['N2O']\n",
    "        df = df[['CO2e_' + str(year)]].T.fillna(0)\n",
    "        \n",
    "        df_list.append(df)\n",
    "        array_list.append(np.array(df))\n",
    "        \n",
    "    return(df_list, array_list)"
   ]
  },
  {
   "cell_type": "code",
   "execution_count": 37,
   "metadata": {},
   "outputs": [],
   "source": [
    "array_list = []\n",
    "df_list = []\n",
    "\n",
    "for country in country_list:\n",
    "    df_air, a_air = import_air(country)\n",
    "    array_list.append(a_air)\n",
    "    df_list.append(df_air)\n",
    "    \n",
    "F_GHG_a = np.array(array_list)\n",
    "F_GHG_df = df_list"
   ]
  },
  {
   "cell_type": "code",
   "execution_count": 24,
   "metadata": {},
   "outputs": [
    {
     "data": {
      "text/plain": [
       "numpy.ndarray"
      ]
     },
     "execution_count": 24,
     "metadata": {},
     "output_type": "execute_result"
    }
   ],
   "source": [
    "type(F_GHG_a)"
   ]
  },
  {
   "cell_type": "code",
   "execution_count": 25,
   "metadata": {},
   "outputs": [
    {
     "data": {
      "text/plain": [
       "(41, 15, 1, 36)"
      ]
     },
     "execution_count": 25,
     "metadata": {},
     "output_type": "execute_result"
    }
   ],
   "source": [
    "F_GHG_a.shape"
   ]
  },
  {
   "cell_type": "markdown",
   "metadata": {},
   "source": [
    "F_GHG_hh"
   ]
  },
  {
   "cell_type": "code",
   "execution_count": 26,
   "metadata": {},
   "outputs": [],
   "source": [
    "# function for Energy Data --> make array of vecotrs containing total energy use per year per sector\n",
    "\n",
    "def import_air_hh(country):\n",
    "    array_list = []\n",
    "    df_list = []\n",
    "    file_loc = 'Data/EAS-AIR/' + str(country) + '_AIR_May12.xls'\n",
    "    for year in range(1995, 2010):\n",
    "        sheet = str(year)\n",
    "        # import data (only from 35 sectors, remove totals)\n",
    "        df = pd.read_excel(file_loc, sheet_name=sheet, index_col=None).drop([(np.nan, np.nan)], axis=0).iloc[-2:-1] # select only household category\n",
    "        df = df[['CO2', 'CH4', 'N2O']]\n",
    "        # convert to kilotonnes and then construct CO2e (using 100 year GWP, AR5; https://www.ghgprotocol.org/sites/default/files/ghgp/Global-Warming-Potential-Values%20%28Feb%2016%202016%29_1.pdf)\n",
    "        df['CH4'] = (df['CH4'] / 1000) * 28\n",
    "        df['N2O'] = (df['N2O'] / 1000) * 265\n",
    "        df['CO2e_' + str(year)] = df['CO2'] + df['CH4'] + df['N2O']\n",
    "        df = df[['CO2e_' + str(year)]].T.fillna(0)\n",
    "        \n",
    "        df_list.append(df)\n",
    "        array_list.append(np.array(df))\n",
    "        \n",
    "    return(df_list, array_list)"
   ]
  },
  {
   "cell_type": "code",
   "execution_count": 27,
   "metadata": {},
   "outputs": [],
   "source": [
    "array_list = []\n",
    "df_list = []\n",
    "\n",
    "for country in country_list:\n",
    "    df_air_hh, a_air_hh = import_air_hh(country)\n",
    "    array_list.append(a_air_hh)\n",
    "    df_list.append(df_air_hh)\n",
    "    \n",
    "F_GHG_hh_a = np.array(array_list)\n",
    "F_GHG_hh_df = df_list"
   ]
  },
  {
   "cell_type": "code",
   "execution_count": 28,
   "metadata": {},
   "outputs": [
    {
     "data": {
      "text/plain": [
       "(41, 15, 1, 1)"
      ]
     },
     "execution_count": 28,
     "metadata": {},
     "output_type": "execute_result"
    }
   ],
   "source": [
    "F_GHG_hh_a.shape"
   ]
  },
  {
   "cell_type": "markdown",
   "metadata": {},
   "source": [
    "# 4. Save matrices as files"
   ]
  },
  {
   "cell_type": "code",
   "execution_count": 29,
   "metadata": {},
   "outputs": [],
   "source": [
    "mat_list = ['Z_a', 'V_a','Y_a', 'F_NRG_a', 'F_NRG_hh_a', 'F_GHG_a', 'F_GHG_hh_a', 'country']\n",
    "\n",
    "for mat in mat_list:\n",
    "    np.save('Data/Matrices/' + str(mat) + '_mat.npy', eval(mat))"
   ]
  },
  {
   "cell_type": "markdown",
   "metadata": {},
   "source": [
    "# 5. Calculating energy and emissions consumption-based accounts\n",
    "\n",
    "use http://www.see.leeds.ac.uk/teaching-resources/exercise-pages/l4-input-output-tutorial-201617/ for reference"
   ]
  },
  {
   "cell_type": "markdown",
   "metadata": {},
   "source": [
    "### 5.1. The UK's production and conumption based GHG emissions from 1995-2009"
   ]
  },
  {
   "cell_type": "code",
   "execution_count": 57,
   "metadata": {},
   "outputs": [],
   "source": [
    "# fnd index position for UK\n",
    "UK = country_list.index('GBR')"
   ]
  },
  {
   "cell_type": "code",
   "execution_count": 62,
   "metadata": {},
   "outputs": [],
   "source": [
    "UK_production = []\n",
    "prod_year = []\n",
    "\n",
    "for i in range(len(F_GHG_hh_df[UK])):\n",
    "    ghg = F_GHG_hh_df[UK][i].sum(axis=1) + F_GHG_df[UK][i].sum(axis=1)\n",
    "    UK_production.append(ghg)"
   ]
  },
  {
   "cell_type": "code",
   "execution_count": 104,
   "metadata": {},
   "outputs": [],
   "source": [
    "UK_production_df = pd.DataFrame(UK_production).T.fillna(0)\n",
    "years = []\n",
    "for i in UK_production_df.index.tolist():\n",
    "    year = i[-4:]\n",
    "    years.append(year)\n",
    "UK_production_df.index = years\n",
    "\n",
    "UK_production_df['Production CO2e'] = UK_production_df.sum(axis=1)\n",
    "UK_production_df = UK_production_df[['Production CO2e']]"
   ]
  },
  {
   "cell_type": "code",
   "execution_count": 105,
   "metadata": {},
   "outputs": [
    {
     "data": {
      "text/plain": [
       "<matplotlib.axes._subplots.AxesSubplot at 0x13d4697fac8>"
      ]
     },
     "execution_count": 105,
     "metadata": {},
     "output_type": "execute_result"
    },
    {
     "data": {
      "image/png": "[encoded data removed]",
      "text/plain": [
       "<Figure size 1440x720 with 1 Axes>"
      ]
     },
     "metadata": {
      "needs_background": "light"
     },
     "output_type": "display_data"
    }
   ],
   "source": [
    "UK_production_df.plot(figsize=(20,10), legend=False)"
   ]
  },
  {
   "cell_type": "code",
   "execution_count": 107,
   "metadata": {},
   "outputs": [
    {
     "data": {
      "text/plain": [
       "(0, 1200000)"
      ]
     },
     "execution_count": 107,
     "metadata": {},
     "output_type": "execute_result"
    },
    {
     "data": {
      "image/png": "[encoded data removed]",
      "text/plain": [
       "<Figure size 1440x720 with 1 Axes>"
      ]
     },
     "metadata": {
      "needs_background": "light"
     },
     "output_type": "display_data"
    }
   ],
   "source": [
    "fig, ax = plt.subplots(figsize=(20, 10))\n",
    "\n",
    "UK_production_df.plot(ax=ax)\n",
    "\n",
    "ax.set_xlabel('Year', fontsize=12)\n",
    "ax.set_ylabel('CO2e', fontsize=12)\n",
    "\n",
    "#ax.set_xticklabels(, fontsize=12)\n",
    "#ax.set_yticklabels(range(-100000, 800000, 100000), fontsize=12)\n",
    "\n",
    "ax.set_ylim([0,1200000])"
   ]
  },
  {
   "cell_type": "code",
   "execution_count": null,
   "metadata": {},
   "outputs": [],
   "source": []
  }
 ],
 "metadata": {
  "kernelspec": {
   "display_name": "Python 3",
   "language": "python",
   "name": "python3"
  },
  "language_info": {
   "codemirror_mode": {
    "name": "ipython",
    "version": 3
   },
   "file_extension": ".py",
   "mimetype": "text/x-python",
   "name": "python",
   "nbconvert_exporter": "python",
   "pygments_lexer": "ipython3",
   "version": "3.6.6"
  }
 },
 "nbformat": 4,
 "nbformat_minor": 2
}
