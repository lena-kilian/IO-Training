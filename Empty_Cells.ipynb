{
 "cells": [
  {
   "cell_type": "code",
   "execution_count": 23,
   "metadata": {},
   "outputs": [],
   "source": [
    "import pandas as pd\n",
    "import xlwt\n",
    "from openpyxl import load_workbook"
   ]
  },
  {
   "cell_type": "code",
   "execution_count": 3,
   "metadata": {},
   "outputs": [],
   "source": [
    "def replace_na(year, country, folder):   \n",
    "\n",
    "    suffix = folder.split('-')[1]\n",
    "    file_loc = 'Data/' + str(folder) + '/' + str(country) + '_' + str(suffix) + '_May12.xls'\n",
    "    \n",
    "    # import data (only from 35 sectors, remove totals)\n",
    "    df = pd.read_excel(file_loc, sheet_name=str(year), index_col=None).fillna(0)\n",
    "           \n",
    "    return(df)"
   ]
  },
  {
   "cell_type": "code",
   "execution_count": 36,
   "metadata": {},
   "outputs": [],
   "source": [
    "country_list = ['AUS','AUT','BEL','BGR','BRA','CAN','CHN','CYP','CZE','DEU','DNK','ESP','EST','FIN','FRA','GBR','GRC','HUN','IDN','IND','IRL','ITA','JPN','KOR','LTU','LUX','LVA','MEX','MLT',\n",
    "                'NLD','POL','PRT','ROU','RUS','SVK','SVN','SWE','TUR','TWN','USA','ROW']\n",
    "\n",
    "for folder in ['EAS-EU', 'EAS-AIR']:\n",
    "    for country in country_list:\n",
    "        path = 'Data/Matlab-Files/' + folder + '/' + country + '.xlsx'\n",
    "        df = replace_na(1995, country, folder)\n",
    "        df.to_excel(path, sheet_name = '1995')\n",
    "        for i in range(1996, 2010):\n",
    "            book = load_workbook(path)\n",
    "            writer = pd.ExcelWriter(path, engine = 'openpyxl')\n",
    "            writer.book = book\n",
    "            df = replace_na(i, country, folder)            \n",
    "            df.to_excel(writer, sheet_name = str(i))\n",
    "            writer.save()\n",
    "        writer.close()"
   ]
  },
  {
   "cell_type": "code",
   "execution_count": 48,
   "metadata": {},
   "outputs": [],
   "source": [
    "def replace_na_z(year):   \n",
    "\n",
    "    file_loc = 'Data/WIOT/wiot' + str(year)[2:] + '_row_apr12.xlsx'\n",
    "    \n",
    "    # import data (only from 35 sectors, remove totals)\n",
    "    df = pd.read_excel(file_loc, index_col=None).fillna(0)\n",
    "           \n",
    "    return(df)"
   ]
  },
  {
   "cell_type": "code",
   "execution_count": 49,
   "metadata": {},
   "outputs": [],
   "source": [
    "for year in range(1995, 2010):\n",
    "    path = 'Data/Matlab-Files/WIOT/wiot' + str(year)[2:] + '_row_apr12.xlsx'\n",
    "    df = replace_na_z(year)\n",
    "    df.to_excel(path, sheet_name = 'WIOT_' + str(year))"
   ]
  },
  {
   "cell_type": "code",
   "execution_count": null,
   "metadata": {},
   "outputs": [],
   "source": []
  }
 ],
 "metadata": {
  "kernelspec": {
   "display_name": "Python 3",
   "language": "python",
   "name": "python3"
  },
  "language_info": {
   "codemirror_mode": {
    "name": "ipython",
    "version": 3
   },
   "file_extension": ".py",
   "mimetype": "text/x-python",
   "name": "python",
   "nbconvert_exporter": "python",
   "pygments_lexer": "ipython3",
   "version": "3.6.6"
  }
 },
 "nbformat": 4,
 "nbformat_minor": 2
}
